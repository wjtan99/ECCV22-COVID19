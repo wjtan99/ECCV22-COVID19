{
 "cells": [
  {
   "cell_type": "code",
   "execution_count": 1,
   "metadata": {},
   "outputs": [],
   "source": [
    "import os\n",
    "import cv2\n",
    "import numpy as np\n",
    "import matplotlib.pyplot as plt\n",
    "import shutil\n",
    "import tqdm "
   ]
  },
  {
   "cell_type": "code",
   "execution_count": 2,
   "metadata": {},
   "outputs": [],
   "source": [
    "import skimage, os\n",
    "from skimage.morphology import ball, disk, dilation,binary_dilation, binary_erosion, remove_small_objects, erosion, closing, reconstruction, binary_closing, binary_opening \n",
    "from skimage.measure import label,regionprops, perimeter\n",
    "from skimage.morphology import binary_dilation, binary_opening\n",
    "from skimage.filters import roberts, sobel\n",
    "from skimage import measure, feature\n",
    "from skimage.segmentation import clear_border, mark_boundaries\n",
    "from skimage import data\n",
    "from scipy import ndimage as ndi\n",
    "import matplotlib.pyplot as plt\n",
    "from mpl_toolkits.mplot3d.art3d import Poly3DCollection\n",
    "import scipy.misc\n",
    "from glob import glob\n",
    "from skimage.io import imread\n"
   ]
  },
  {
   "cell_type": "code",
   "execution_count": 8,
   "metadata": {},
   "outputs": [
    {
     "name": "stdout",
     "output_type": "stream",
     "text": [
      "/media/ubuntu/MyHDataStor3/datasets/COV19D/\n",
      "/media/ubuntu/MyHDataStor3/datasets/COV19D/\n",
      "/media/ubuntu/MyHDataStor3/datasets/COV19D/mask/\n",
      "/media/ubuntu/MyHDataStor2/products/COVID-19/ICCV-MAI/3D-CNN-BERT/BERT/datasets/settings/covid/\n"
     ]
    }
   ],
   "source": [
    "covidx_dir = '/media/ubuntu/MyHDataStor3/datasets/COV19D/'\n",
    "covidx_img_dir= covidx_dir \n",
    "covidx_mask_dir= covidx_dir + 'mask/' \n",
    "data_list_dir = '/media/ubuntu/MyHDataStor2/products/COVID-19/ICCV-MAI/3D-CNN-BERT/BERT/datasets/settings/covid/'\n",
    "\n",
    "print(covidx_dir)\n",
    "print(covidx_img_dir)\n",
    "print(covidx_mask_dir)\n",
    "print(data_list_dir)"
   ]
  },
  {
   "cell_type": "code",
   "execution_count": 4,
   "metadata": {},
   "outputs": [],
   "source": [
    "def seedfill(img):\n",
    "\n",
    "  rows,cols = img.shape \n",
    "\n",
    "  img_floodfill = img.copy()\n",
    "  mask = np.zeros((rows+2,cols+2), np.uint8)\n",
    "\n",
    "  '''\n",
    "  # Floodfill from point (0, 0)\n",
    "  found  = False \n",
    "  for x in range(cols): \n",
    "    for y in range(rows):\n",
    "      if img_floodfill[y,x] == 0:\n",
    "        found = True \n",
    "        break  \n",
    "    if found:\n",
    "      break \n",
    "\n",
    "  #cv2.floodFill(img_floodfill, mask, (x,y), 255);\n",
    "  ''' \n",
    "  \n",
    "\n",
    "  cv2.floodFill(img_floodfill, mask, (0,0), 255);\n",
    "  cv2.floodFill(img_floodfill, mask, (0,rows-1), 255);\n",
    "  cv2.floodFill(img_floodfill, mask, (cols-1,0), 255);\n",
    "  cv2.floodFill(img_floodfill, mask, (cols-1,rows-1), 255);\n",
    "\n",
    "  return img_floodfill \n"
   ]
  },
  {
   "cell_type": "code",
   "execution_count": 5,
   "metadata": {},
   "outputs": [],
   "source": [
    "def body_contour(binary_image):\n",
    "    \"\"\"Helper function to get body contour\"\"\"\n",
    "    contours, hier = cv2.findContours(binary_image, cv2.RETR_CCOMP, cv2.CHAIN_APPROX_SIMPLE)\n",
    "    areas = [cv2.contourArea(cnt) for cnt in contours]\n",
    "    body_idx = np.argmax(areas)\n",
    "    return contours[body_idx]\n",
    "\n",
    "\n",
    "def auto_body_crop(image, plot=False):\n",
    "    \"\"\"Roughly crop an image to the body region\"\"\"\n",
    "    # Create initial binary image\n",
    "    filt_image = cv2.GaussianBlur(image, (5, 5), 0)\n",
    "    \n",
    "    if plot == True:\n",
    "        f, plots = plt.subplots(3, 1, figsize=(5, 40))        \n",
    "        plots[0].axis('off')\n",
    "        plots[0].imshow(filt_image, cmap=plt.cm.bone)     \n",
    "    \n",
    "    \n",
    "    thresh = cv2.threshold(filt_image[filt_image > 0], 0, 255, cv2.THRESH_BINARY + cv2.THRESH_OTSU)[0]\n",
    "    #print(thresh) \n",
    "    \n",
    "    bin_image = np.uint8(filt_image > thresh)  \n",
    "    #bin_image2 = np.uint8(filt_image > 240)         \n",
    "    \n",
    "    \n",
    "    if plot == True:\n",
    "        plots[1].axis('off')\n",
    "        plots[1].imshow(bin_image, cmap=plt.cm.bone)     \n",
    "    \n",
    "    \n",
    "    erode_kernel = np.ones((7, 7), dtype=np.uint8)\n",
    "    bin_image = cv2.erode(bin_image, erode_kernel)\n",
    "    \n",
    "    #print(np.unique(bin_image))\n",
    "    if plot == True:\n",
    "        plots[2].axis('off')\n",
    "        plots[2].imshow(bin_image, cmap=plt.cm.bone)     \n",
    "        \n",
    "    # Find body contour\n",
    "    body_cont = body_contour(bin_image).squeeze()\n",
    "    \n",
    "    '''\n",
    "    #find the lung rectangle        \n",
    "    binary2 = ((1-bin_image)*255).astype(np.uint8) \n",
    "    kernel = np.ones((5,5), np.uint8) \n",
    "    binary2 = cv2.dilate(binary2, kernel, iterations=2) \n",
    "    binary2 = cv2.erode(binary2, kernel, iterations=2) \n",
    "    binary2 = seedfill(binary2) \n",
    "    binary2 = cv2.bitwise_not(binary2)    \n",
    "    if plot == True:\n",
    "        plots[3].axis('off')\n",
    "        plots[3].imshow(binary2, cmap=plt.cm.bone) \n",
    "    '''    \n",
    "    \n",
    "    #print(body_cont)\n",
    "\n",
    "    # Get bbox\n",
    "    xmin = body_cont[:, 0].min()\n",
    "    xmax = body_cont[:, 0].max() + 1\n",
    "    ymin = body_cont[:, 1].min()\n",
    "    ymax = body_cont[:, 1].max() + 1\n",
    "       \n",
    "    return bin_image, (xmin, ymin, xmax, ymax)\n",
    "\n",
    "\n",
    "def auto_segment(image, plot=False):\n",
    "    \"\"\"Roughly crop an image to the body region\"\"\"\n",
    "    # Create initial binary image\n",
    "    filt_image = cv2.GaussianBlur(image, (5, 5), 0)\n",
    "    \n",
    "    if plot == True:\n",
    "        f, plots = plt.subplots(9, 1, figsize=(5, 40))        \n",
    "        plots[0].axis('off')\n",
    "        plots[0].imshow(filt_image, cmap=plt.cm.bone)     \n",
    "    \n",
    "    \n",
    "    thresh = cv2.threshold(filt_image[filt_image > 0], 0, 255, cv2.THRESH_BINARY + cv2.THRESH_OTSU)[0]\n",
    "    print(thresh) \n",
    "    \n",
    "    bin_image = np.uint8(filt_image > thresh)  \n",
    "    #bin_image2 = np.uint8(filt_image > 240)             \n",
    "    \n",
    "    if plot == True:\n",
    "        plots[1].axis('off')\n",
    "        plots[1].imshow(bin_image, cmap=plt.cm.bone)     \n",
    "        \n",
    "    erode_kernel = np.ones((7, 7), dtype=np.uint8)\n",
    "    bin_image = cv2.erode(bin_image, erode_kernel)\n",
    "    #print(np.unique(bin_image))\n",
    "    if plot == True:\n",
    "        plots[2].axis('off')\n",
    "        plots[2].imshow(bin_image, cmap=plt.cm.bone)     \n",
    "        \n",
    " \n",
    "        \n",
    "    # Find body contour\n",
    "    body_cont = body_contour(bin_image).squeeze()\n",
    "    \n",
    "    #print(body_cont)\n",
    "\n",
    "    # Get bbox\n",
    "    xmin = body_cont[:, 0].min()\n",
    "    xmax = body_cont[:, 0].max() + 1\n",
    "    ymin = body_cont[:, 1].min()\n",
    "    ymax = body_cont[:, 1].max() + 1\n",
    "       \n",
    "        \n",
    "    bin_image_inv = (1 - bin_image)*255 \n",
    "    bin_image_inv = seedfill(bin_image_inv)/255 \n",
    "    cleared = clear_border(bin_image_inv)\n",
    "    if plot == True:\n",
    "        plots[3].axis('off')\n",
    "        plots[3].imshow(cleared, cmap=plt.cm.bone)     \n",
    "    \n",
    "    label_image = label(cleared)\n",
    "    if plot == True:\n",
    "        plots[4].axis('off')\n",
    "        plots[4].imshow(label_image, cmap=plt.cm.bone) \n",
    "        \n",
    "    '''\n",
    "    Step 4: Keep the labels with 2 largest areas.\n",
    "    '''\n",
    "    areas = [r.area for r in regionprops(label_image)]\n",
    "    areas.sort()\n",
    "    if len(areas) > 2:\n",
    "        for region in regionprops(label_image):\n",
    "            if region.area < areas[-2]:\n",
    "                for coordinates in region.coords:                \n",
    "                       label_image[coordinates[0], coordinates[1]] = 0\n",
    "\n",
    "    binary = label_image > 0\n",
    "    if plot == True:\n",
    "        plots[5].axis('off')\n",
    "        plots[5].imshow(binary, cmap=plt.cm.bone) \n",
    "    '''\n",
    "    Step 5: Erosion operation with a disk of radius 2. This operation is \n",
    "    seperate the lung nodules attached to the blood vessels.\n",
    "    '''\n",
    "    selem = disk(7)\n",
    "    binary = binary_erosion(binary, selem)\n",
    "    if plot == True:\n",
    "        plots[6].axis('off')\n",
    "        plots[6].imshow(binary, cmap=plt.cm.bone) \n",
    "    '''\n",
    "    Step 6: Closure operation with a disk of radius 10. This operation is \n",
    "    to keep nodules attached to the lung wall.\n",
    "    '''\n",
    "    selem = disk(10)\n",
    "    binary = binary_closing(binary, selem)\n",
    "    if plot == True:\n",
    "        plots[7].axis('off')\n",
    "        plots[7].imshow(binary, cmap=plt.cm.bone) \n",
    "    '''\n",
    "    Step 7: Fill in the small holes inside the binary mask of lungs.\n",
    "    '''\n",
    "\n",
    "    binary1 = binary.copy() \n",
    "\n",
    "    edges = roberts(binary)\n",
    "    binary = ndi.binary_fill_holes(edges)\n",
    "    if plot == True:\n",
    "        plots[8].axis('off')\n",
    "        plots[8].imshow(binary, cmap=plt.cm.bone) \n",
    "    \n",
    "    \n",
    "    return binary, binary1, (xmin, ymin, xmax, ymax)\n"
   ]
  },
  {
   "cell_type": "code",
   "execution_count": 6,
   "metadata": {},
   "outputs": [],
   "source": [
    "def refine_mask(m_full):\n",
    "    \n",
    "    mask2 = cv2.imread(m_full, cv2.IMREAD_UNCHANGED)\n",
    "    mask2 = (mask2/255).astype(np.uint8) \n",
    "    \n",
    "    selem = disk(10)\n",
    "    mask2_2  = binary_closing(mask2, selem)                \n",
    "    label_image = label(mask2_2)\n",
    "    \n",
    "    '''\n",
    "    Step 4: Keep the labels with 2 largest areas.\n",
    "    '''\n",
    "    areas = [r.area for r in regionprops(label_image)]\n",
    "    areas.sort()\n",
    "    if len(areas) > 2:\n",
    "        for region in regionprops(label_image):\n",
    "            if region.area < areas[-2]:\n",
    "                for coordinates in region.coords:                \n",
    "                    label_image[coordinates[0], coordinates[1]] = 0\n",
    "    mask2_3 = label_image > 0               \n",
    "    \n",
    "    edges = roberts(mask2_3) \n",
    "    mask2_4 = ndi.binary_fill_holes(edges)\n",
    "                \n",
    "    return mask2,mask2_4"
   ]
  },
  {
   "cell_type": "code",
   "execution_count": null,
   "metadata": {},
   "outputs": [
    {
     "name": "stderr",
     "output_type": "stream",
     "text": [
      "\n",
      "\n",
      "\n",
      "  0%|          | 0/484 [00:00<?, ?it/s]\u001b[A\u001b[A\u001b[A"
     ]
    },
    {
     "name": "stdout",
     "output_type": "stream",
     "text": [
      "validation/non-covid/non-covid/ct_scan_21 non-covid 111 308 0 23 512 442\n",
      "\n"
     ]
    },
    {
     "name": "stderr",
     "output_type": "stream",
     "text": [
      "\n",
      "\n",
      "\n",
      "  0%|          | 2/484 [00:12<48:48,  6.08s/it]\u001b[A\u001b[A\u001b[A"
     ]
    },
    {
     "name": "stdout",
     "output_type": "stream",
     "text": [
      "validation/non-covid/val_non_covid/ct_scan214 non-covid 154 313 0 84 512 512\n",
      "\n"
     ]
    },
    {
     "name": "stderr",
     "output_type": "stream",
     "text": [
      "\n",
      "\n",
      "\n",
      "  1%|          | 3/484 [00:25<1:07:03,  8.36s/it]\u001b[A\u001b[A\u001b[A"
     ]
    },
    {
     "name": "stdout",
     "output_type": "stream",
     "text": [
      "validation/non-covid/non-covid/ct_scan_161 non-covid 26 68 7 104 507 443\n",
      "\n"
     ]
    },
    {
     "name": "stderr",
     "output_type": "stream",
     "text": [
      "\n",
      "\n",
      "\n",
      "  1%|          | 4/484 [00:29<55:54,  6.99s/it]  \u001b[A\u001b[A\u001b[A"
     ]
    },
    {
     "name": "stdout",
     "output_type": "stream",
     "text": [
      "validation/non-covid/non-covid/ct_scan_134 non-covid 31 73 32 89 508 417\n",
      "\n"
     ]
    },
    {
     "name": "stderr",
     "output_type": "stream",
     "text": [
      "\n",
      "\n",
      "\n",
      "  1%|          | 5/484 [00:33<48:04,  6.02s/it]\u001b[A\u001b[A\u001b[A"
     ]
    },
    {
     "name": "stdout",
     "output_type": "stream",
     "text": [
      "validation/non-covid/non-covid/ct_scan_100 non-covid 60 73 52 95 492 407\n",
      "\n"
     ]
    },
    {
     "name": "stderr",
     "output_type": "stream",
     "text": [
      "\n",
      "\n",
      "\n",
      "  1%|          | 6/484 [00:34<36:28,  4.58s/it]\u001b[A\u001b[A\u001b[A"
     ]
    },
    {
     "name": "stdout",
     "output_type": "stream",
     "text": [
      "validation/non-covid/non-covid/ct_scan_55 non-covid 30 36 0 87 463 438\n",
      "\n"
     ]
    },
    {
     "name": "stderr",
     "output_type": "stream",
     "text": [
      "\n",
      "\n",
      "\n",
      "  1%|▏         | 7/484 [00:35<26:54,  3.38s/it]\u001b[A\u001b[A\u001b[A"
     ]
    },
    {
     "name": "stdout",
     "output_type": "stream",
     "text": [
      "validation/non-covid/non-covid/ct_scan_180 non-covid 93 206 0 107 512 424\n",
      "\n"
     ]
    },
    {
     "name": "stderr",
     "output_type": "stream",
     "text": [
      "\n",
      "\n",
      "\n",
      "  2%|▏         | 8/484 [00:44<41:48,  5.27s/it]\u001b[A\u001b[A\u001b[A"
     ]
    },
    {
     "name": "stdout",
     "output_type": "stream",
     "text": [
      "validation/non-covid/non-covid/ct_scan_3 non-covid 114 264 0 123 507 483\n",
      "\n"
     ]
    },
    {
     "name": "stderr",
     "output_type": "stream",
     "text": [
      "\n",
      "\n",
      "\n",
      "  2%|▏         | 9/484 [00:57<59:33,  7.52s/it]\u001b[A\u001b[A\u001b[A"
     ]
    },
    {
     "name": "stdout",
     "output_type": "stream",
     "text": [
      "validation/non-covid/non-covid/ct_scan_183 non-covid 22 61 0 93 512 488\n",
      "\n"
     ]
    },
    {
     "name": "stderr",
     "output_type": "stream",
     "text": [
      "\n",
      "\n",
      "\n",
      "  2%|▏         | 10/484 [01:01<49:41,  6.29s/it]\u001b[A\u001b[A\u001b[A"
     ]
    },
    {
     "name": "stdout",
     "output_type": "stream",
     "text": [
      "validation/non-covid/non-covid/ct_scan_105 non-covid 28 67 50 81 480 427\n",
      "\n"
     ]
    },
    {
     "name": "stderr",
     "output_type": "stream",
     "text": [
      "\n",
      "\n",
      "\n",
      "  2%|▏         | 11/484 [01:04<42:47,  5.43s/it]\u001b[A\u001b[A\u001b[A"
     ]
    },
    {
     "name": "stdout",
     "output_type": "stream",
     "text": [
      "validation/non-covid/non-covid/ct_scan_15 non-covid 46 221 0 37 512 477\n",
      "\n"
     ]
    },
    {
     "name": "stderr",
     "output_type": "stream",
     "text": [
      "\n",
      "\n",
      "\n",
      "  2%|▏         | 12/484 [01:19<1:05:47,  8.36s/it]\u001b[A\u001b[A\u001b[A"
     ]
    },
    {
     "name": "stdout",
     "output_type": "stream",
     "text": [
      "validation/non-covid/non-covid/ct_scan_58 non-covid 20 49 7 67 512 469\n",
      "\n"
     ]
    },
    {
     "name": "stderr",
     "output_type": "stream",
     "text": [
      "\n",
      "\n",
      "\n",
      "  3%|▎         | 13/484 [01:22<52:15,  6.66s/it]  \u001b[A\u001b[A\u001b[A"
     ]
    },
    {
     "name": "stdout",
     "output_type": "stream",
     "text": [
      "validation/non-covid/non-covid/ct_scan_122 non-covid 109 266 12 115 502 422\n",
      "\n"
     ]
    },
    {
     "name": "stderr",
     "output_type": "stream",
     "text": [
      "\n",
      "\n",
      "\n",
      "  3%|▎         | 14/484 [01:36<1:08:30,  8.75s/it]\u001b[A\u001b[A\u001b[A"
     ]
    },
    {
     "name": "stdout",
     "output_type": "stream",
     "text": [
      "validation/non-covid/non-covid/ct_scan_66 non-covid 13 34 0 72 512 461\n",
      "\n"
     ]
    },
    {
     "name": "stderr",
     "output_type": "stream",
     "text": [
      "\n",
      "\n",
      "\n",
      "  3%|▎         | 15/484 [01:37<52:15,  6.69s/it]  \u001b[A\u001b[A\u001b[A"
     ]
    },
    {
     "name": "stdout",
     "output_type": "stream",
     "text": [
      "validation/non-covid/val_non_covid/ct_scan230 non-covid 174 341 13 127 488 479\n",
      "\n"
     ]
    },
    {
     "name": "stderr",
     "output_type": "stream",
     "text": [
      "\n",
      "\n",
      "\n",
      "  3%|▎         | 16/484 [01:52<1:09:58,  8.97s/it]\u001b[A\u001b[A\u001b[A"
     ]
    },
    {
     "name": "stdout",
     "output_type": "stream",
     "text": [
      "validation/non-covid/non-covid/ct_scan_114 non-covid 29 46 0 56 505 414\n",
      "\n"
     ]
    },
    {
     "name": "stderr",
     "output_type": "stream",
     "text": [
      "\n",
      "\n",
      "\n",
      "  4%|▎         | 17/484 [01:53<52:26,  6.74s/it]  \u001b[A\u001b[A\u001b[A"
     ]
    },
    {
     "name": "stdout",
     "output_type": "stream",
     "text": [
      "validation/non-covid/val_non_covid/ct_scan257 non-covid 108 284 20 85 494 406\n",
      "\n"
     ]
    },
    {
     "name": "stderr",
     "output_type": "stream",
     "text": [
      "\n",
      "\n",
      "\n",
      "  4%|▎         | 18/484 [02:08<1:11:28,  9.20s/it]\u001b[A\u001b[A\u001b[A"
     ]
    },
    {
     "name": "stdout",
     "output_type": "stream",
     "text": [
      "validation/non-covid/val_non_covid/ct_scan254 non-covid 60 133 0 126 512 434\n",
      "\n"
     ]
    },
    {
     "name": "stderr",
     "output_type": "stream",
     "text": [
      "\n",
      "\n",
      "\n",
      "  4%|▍         | 19/484 [02:14<1:04:29,  8.32s/it]\u001b[A\u001b[A\u001b[A"
     ]
    },
    {
     "name": "stdout",
     "output_type": "stream",
     "text": [
      "validation/non-covid/non-covid/ct_scan_117 non-covid 17 40 6 173 512 475\n",
      "\n"
     ]
    },
    {
     "name": "stderr",
     "output_type": "stream",
     "text": [
      "\n",
      "\n",
      "\n",
      "  4%|▍         | 20/484 [02:16<49:47,  6.44s/it]  \u001b[A\u001b[A\u001b[A"
     ]
    },
    {
     "name": "stdout",
     "output_type": "stream",
     "text": [
      "validation/non-covid/non-covid/ct_scan_197 non-covid 65 234 0 109 462 447\n",
      "\n"
     ]
    },
    {
     "name": "stderr",
     "output_type": "stream",
     "text": [
      "\n",
      "\n",
      "\n",
      "  4%|▍         | 21/484 [02:31<1:08:11,  8.84s/it]\u001b[A\u001b[A\u001b[A"
     ]
    },
    {
     "name": "stdout",
     "output_type": "stream",
     "text": [
      "validation/non-covid/val_non_covid/ct_scan261 non-covid 99 226 6 87 500 434\n",
      "\n"
     ]
    },
    {
     "name": "stderr",
     "output_type": "stream",
     "text": [
      "\n",
      "\n",
      "\n",
      "  5%|▍         | 22/484 [02:42<1:12:42,  9.44s/it]\u001b[A\u001b[A\u001b[A"
     ]
    },
    {
     "name": "stdout",
     "output_type": "stream",
     "text": [
      "validation/non-covid/non-covid/ct_scan_39 non-covid 23 51 12 128 493 431\n",
      "\n"
     ]
    },
    {
     "name": "stderr",
     "output_type": "stream",
     "text": [
      "\n",
      "\n",
      "\n",
      "  5%|▍         | 23/484 [02:44<56:26,  7.35s/it]  \u001b[A\u001b[A\u001b[A"
     ]
    },
    {
     "name": "stdout",
     "output_type": "stream",
     "text": [
      "validation/non-covid/non-covid/ct_scan_49 non-covid 144 252 0 111 512 489\n",
      "\n"
     ]
    },
    {
     "name": "stderr",
     "output_type": "stream",
     "text": [
      "\n",
      "\n",
      "\n",
      "  5%|▍         | 24/484 [02:53<1:00:37,  7.91s/it]\u001b[A\u001b[A\u001b[A"
     ]
    },
    {
     "name": "stdout",
     "output_type": "stream",
     "text": [
      "validation/non-covid/non-covid/ct_scan_94 non-covid 29 85 0 117 508 455\n",
      "\n"
     ]
    },
    {
     "name": "stderr",
     "output_type": "stream",
     "text": [
      "\n",
      "\n",
      "\n",
      "  5%|▌         | 25/484 [02:58<53:22,  6.98s/it]  \u001b[A\u001b[A\u001b[A"
     ]
    },
    {
     "name": "stdout",
     "output_type": "stream",
     "text": [
      "validation/non-covid/non-covid/ct_scan_146 non-covid 31 59 23 123 512 396\n",
      "\n"
     ]
    },
    {
     "name": "stderr",
     "output_type": "stream",
     "text": [
      "\n",
      "\n",
      "\n",
      "  5%|▌         | 26/484 [03:01<42:56,  5.63s/it]\u001b[A\u001b[A\u001b[A"
     ]
    },
    {
     "name": "stdout",
     "output_type": "stream",
     "text": [
      "validation/non-covid/non-covid/ct_scan_57 non-covid 154 372 29 160 474 446\n",
      "\n"
     ]
    },
    {
     "name": "stderr",
     "output_type": "stream",
     "text": [
      "\n",
      "\n",
      "\n",
      "  6%|▌         | 27/484 [03:19<1:12:24,  9.51s/it]\u001b[A\u001b[A\u001b[A"
     ]
    },
    {
     "name": "stdout",
     "output_type": "stream",
     "text": [
      "validation/non-covid/non-covid/ct_scan_178 non-covid 28 49 6 137 463 414\n",
      "\n"
     ]
    },
    {
     "name": "stderr",
     "output_type": "stream",
     "text": [
      "\n",
      "\n",
      "\n",
      "  6%|▌         | 28/484 [03:21<54:48,  7.21s/it]  \u001b[A\u001b[A\u001b[A"
     ]
    },
    {
     "name": "stdout",
     "output_type": "stream",
     "text": [
      "validation/non-covid/non-covid/ct_scan_201 non-covid 19 40 0 82 492 440\n",
      "\n"
     ]
    },
    {
     "name": "stderr",
     "output_type": "stream",
     "text": [
      "\n",
      "\n",
      "\n",
      "  6%|▌         | 29/484 [03:23<42:31,  5.61s/it]\u001b[A\u001b[A\u001b[A"
     ]
    },
    {
     "name": "stdout",
     "output_type": "stream",
     "text": [
      "validation/non-covid/non-covid/ct_scan_88 non-covid 275 426 29 57 512 374\n",
      "\n"
     ]
    },
    {
     "name": "stderr",
     "output_type": "stream",
     "text": [
      "\n",
      "\n",
      "\n",
      "  6%|▌         | 30/484 [03:36<59:14,  7.83s/it]\u001b[A\u001b[A\u001b[A"
     ]
    },
    {
     "name": "stdout",
     "output_type": "stream",
     "text": [
      "validation/non-covid/non-covid/ct_scan_1 non-covid 99 182 0 61 512 386\n",
      "\n"
     ]
    },
    {
     "name": "stderr",
     "output_type": "stream",
     "text": [
      "\n",
      "\n",
      "\n",
      "  6%|▋         | 31/484 [03:43<57:49,  7.66s/it]\u001b[A\u001b[A\u001b[A"
     ]
    },
    {
     "name": "stdout",
     "output_type": "stream",
     "text": [
      "validation/non-covid/non-covid/ct_scan_0 non-covid 111 285 0 73 512 452\n",
      "\n"
     ]
    },
    {
     "name": "stderr",
     "output_type": "stream",
     "text": [
      "\n",
      "\n",
      "\n",
      "  7%|▋         | 32/484 [03:58<1:14:03,  9.83s/it]\u001b[A\u001b[A\u001b[A"
     ]
    },
    {
     "name": "stdout",
     "output_type": "stream",
     "text": [
      "validation/non-covid/non-covid/ct_scan_43 non-covid 11 27 0 97 512 385\n",
      "\n"
     ]
    },
    {
     "name": "stderr",
     "output_type": "stream",
     "text": [
      "\n",
      "\n",
      "\n",
      "  7%|▋         | 33/484 [04:00<55:01,  7.32s/it]  \u001b[A\u001b[A\u001b[A"
     ]
    },
    {
     "name": "stdout",
     "output_type": "stream",
     "text": [
      "validation/non-covid/non-covid/ct_scan_204 non-covid 19 41 0 79 512 458\n",
      "\n"
     ]
    },
    {
     "name": "stderr",
     "output_type": "stream",
     "text": [
      "\n",
      "\n",
      "\n",
      "  7%|▋         | 34/484 [04:02<42:48,  5.71s/it]\u001b[A\u001b[A\u001b[A"
     ]
    },
    {
     "name": "stdout",
     "output_type": "stream",
     "text": [
      "validation/non-covid/non-covid/ct_scan_102 non-covid 64 210 45 129 464 442\n",
      "\n"
     ]
    },
    {
     "name": "stderr",
     "output_type": "stream",
     "text": [
      "\n",
      "\n",
      "\n",
      "  7%|▋         | 35/484 [04:14<57:31,  7.69s/it]\u001b[A\u001b[A\u001b[A"
     ]
    },
    {
     "name": "stdout",
     "output_type": "stream",
     "text": [
      "validation/non-covid/non-covid/ct_scan_130 non-covid 81 220 50 110 458 415\n",
      "\n"
     ]
    },
    {
     "name": "stderr",
     "output_type": "stream",
     "text": [
      "\n",
      "\n",
      "\n",
      "  7%|▋         | 36/484 [04:26<1:06:37,  8.92s/it]\u001b[A\u001b[A\u001b[A"
     ]
    },
    {
     "name": "stdout",
     "output_type": "stream",
     "text": [
      "validation/non-covid/non-covid/ct_scan_196 non-covid 19 43 0 55 498 416\n",
      "\n"
     ]
    },
    {
     "name": "stderr",
     "output_type": "stream",
     "text": [
      "\n",
      "\n",
      "\n",
      "  8%|▊         | 37/484 [04:28<51:43,  6.94s/it]  \u001b[A\u001b[A\u001b[A"
     ]
    },
    {
     "name": "stdout",
     "output_type": "stream",
     "text": [
      "validation/non-covid/non-covid/ct_scan_123 non-covid 109 235 29 86 502 380\n",
      "\n"
     ]
    },
    {
     "name": "stderr",
     "output_type": "stream",
     "text": [
      "\n",
      "\n",
      "\n",
      "  8%|▊         | 38/484 [04:39<1:00:12,  8.10s/it]\u001b[A\u001b[A\u001b[A"
     ]
    },
    {
     "name": "stdout",
     "output_type": "stream",
     "text": [
      "validation/non-covid/non-covid/ct_scan_111 non-covid 26 52 16 113 506 428\n",
      "\n"
     ]
    },
    {
     "name": "stderr",
     "output_type": "stream",
     "text": [
      "\n",
      "\n",
      "\n",
      "  8%|▊         | 39/484 [04:41<47:07,  6.35s/it]  \u001b[A\u001b[A\u001b[A"
     ]
    },
    {
     "name": "stdout",
     "output_type": "stream",
     "text": [
      "validation/non-covid/val_non_covid/ct_scan241 non-covid 88 166 12 58 506 435\n",
      "\n"
     ]
    },
    {
     "name": "stderr",
     "output_type": "stream",
     "text": [
      "\n",
      "\n",
      "\n",
      "  8%|▊         | 40/484 [04:48<47:55,  6.48s/it]\u001b[A\u001b[A\u001b[A"
     ]
    },
    {
     "name": "stdout",
     "output_type": "stream",
     "text": [
      "validation/non-covid/non-covid/ct_scan_25 non-covid 74 194 0 97 512 385\n",
      "\n"
     ]
    },
    {
     "name": "stderr",
     "output_type": "stream",
     "text": [
      "\n",
      "\n",
      "\n",
      "  8%|▊         | 41/484 [04:58<56:17,  7.62s/it]\u001b[A\u001b[A\u001b[A"
     ]
    },
    {
     "name": "stdout",
     "output_type": "stream",
     "text": [
      "validation/non-covid/non-covid/ct_scan_30 non-covid 83 215 30 107 478 417\n",
      "\n"
     ]
    },
    {
     "name": "stderr",
     "output_type": "stream",
     "text": [
      "\n",
      "\n",
      "\n",
      "  9%|▊         | 42/484 [05:09<1:04:11,  8.71s/it]\u001b[A\u001b[A\u001b[A"
     ]
    },
    {
     "name": "stdout",
     "output_type": "stream",
     "text": [
      "validation/non-covid/non-covid/ct_scan_144 non-covid 19 52 0 144 512 475\n",
      "\n"
     ]
    },
    {
     "name": "stderr",
     "output_type": "stream",
     "text": [
      "\n",
      "\n",
      "\n",
      "  9%|▉         | 43/484 [05:12<51:07,  6.96s/it]  \u001b[A\u001b[A\u001b[A"
     ]
    },
    {
     "name": "stdout",
     "output_type": "stream",
     "text": [
      "validation/non-covid/non-covid/ct_scan_140 non-covid 34 76 8 97 500 403\n",
      "\n"
     ]
    },
    {
     "name": "stderr",
     "output_type": "stream",
     "text": [
      "\n",
      "\n",
      "\n",
      "  9%|▉         | 44/484 [05:16<43:40,  5.95s/it]\u001b[A\u001b[A\u001b[A"
     ]
    },
    {
     "name": "stdout",
     "output_type": "stream",
     "text": [
      "validation/non-covid/val_non_covid/ct_scan234 non-covid 143 213 10 51 512 421\n",
      "\n"
     ]
    },
    {
     "name": "stderr",
     "output_type": "stream",
     "text": [
      "\n",
      "\n",
      "\n",
      "  9%|▉         | 45/484 [05:22<44:12,  6.04s/it]\u001b[A\u001b[A\u001b[A"
     ]
    },
    {
     "name": "stdout",
     "output_type": "stream",
     "text": [
      "validation/non-covid/non-covid/ct_scan_90 non-covid 80 211 14 40 498 420\n",
      "\n"
     ]
    },
    {
     "name": "stderr",
     "output_type": "stream",
     "text": [
      "\n",
      "\n",
      "\n",
      " 10%|▉         | 46/484 [05:34<55:53,  7.66s/it]\u001b[A\u001b[A\u001b[A"
     ]
    },
    {
     "name": "stdout",
     "output_type": "stream",
     "text": [
      "validation/non-covid/non-covid/ct_scan_103 non-covid 82 151 17 134 478 434\n",
      "\n"
     ]
    },
    {
     "name": "stderr",
     "output_type": "stream",
     "text": [
      "\n",
      "\n",
      "\n",
      " 10%|▉         | 47/484 [05:39<51:53,  7.13s/it]\u001b[A\u001b[A\u001b[A"
     ]
    },
    {
     "name": "stdout",
     "output_type": "stream",
     "text": [
      "validation/non-covid/non-covid/ct_scan_86 non-covid 22 41 7 71 500 448\n",
      "\n"
     ]
    },
    {
     "name": "stderr",
     "output_type": "stream",
     "text": [
      "\n",
      "\n",
      "\n",
      " 10%|▉         | 48/484 [05:41<39:55,  5.50s/it]\u001b[A\u001b[A\u001b[A"
     ]
    },
    {
     "name": "stdout",
     "output_type": "stream",
     "text": [
      "validation/non-covid/non-covid/ct_scan_27 non-covid 93 296 13 107 466 442\n",
      "\n"
     ]
    },
    {
     "name": "stderr",
     "output_type": "stream",
     "text": [
      "\n",
      "\n",
      "\n",
      " 10%|█         | 49/484 [05:58<1:05:06,  8.98s/it]\u001b[A\u001b[A\u001b[A"
     ]
    },
    {
     "name": "stdout",
     "output_type": "stream",
     "text": [
      "validation/non-covid/val_non_covid/ct_scan212 non-covid 153 315 0 52 512 415\n",
      "\n"
     ]
    },
    {
     "name": "stderr",
     "output_type": "stream",
     "text": [
      "\n",
      "\n",
      "\n",
      " 10%|█         | 50/484 [06:12<1:15:23, 10.42s/it]\u001b[A\u001b[A\u001b[A"
     ]
    },
    {
     "name": "stdout",
     "output_type": "stream",
     "text": [
      "validation/non-covid/non-covid/ct_scan_153 non-covid 9 24 0 68 512 420\n",
      "\n"
     ]
    },
    {
     "name": "stderr",
     "output_type": "stream",
     "text": [
      "\n",
      "\n",
      "\n",
      " 11%|█         | 51/484 [06:13<55:35,  7.70s/it]  \u001b[A\u001b[A\u001b[A"
     ]
    },
    {
     "name": "stdout",
     "output_type": "stream",
     "text": [
      "validation/non-covid/non-covid/ct_scan_44 non-covid 64 112 18 13 504 407\n",
      "\n"
     ]
    },
    {
     "name": "stderr",
     "output_type": "stream",
     "text": [
      "\n",
      "\n",
      "\n",
      " 11%|█         | 52/484 [06:18<47:48,  6.64s/it]\u001b[A\u001b[A\u001b[A"
     ]
    },
    {
     "name": "stdout",
     "output_type": "stream",
     "text": [
      "validation/non-covid/non-covid/ct_scan_108 non-covid 60 162 17 55 502 420\n",
      "\n"
     ]
    },
    {
     "name": "stderr",
     "output_type": "stream",
     "text": [
      "\n",
      "\n",
      "\n",
      " 11%|█         | 53/484 [06:26<52:02,  7.24s/it]\u001b[A\u001b[A\u001b[A"
     ]
    },
    {
     "name": "stdout",
     "output_type": "stream",
     "text": [
      "validation/non-covid/non-covid/ct_scan_109 non-covid 24 76 4 65 512 411\n",
      "\n"
     ]
    },
    {
     "name": "stderr",
     "output_type": "stream",
     "text": [
      "\n",
      "\n",
      "\n",
      " 11%|█         | 54/484 [06:31<46:10,  6.44s/it]\u001b[A\u001b[A\u001b[A"
     ]
    },
    {
     "name": "stdout",
     "output_type": "stream",
     "text": [
      "validation/non-covid/non-covid/ct_scan_132 non-covid 101 233 0 104 512 447\n",
      "\n"
     ]
    },
    {
     "name": "stderr",
     "output_type": "stream",
     "text": [
      "\n",
      "\n",
      "\n",
      " 11%|█▏        | 55/484 [06:42<56:53,  7.96s/it]\u001b[A\u001b[A\u001b[A"
     ]
    },
    {
     "name": "stdout",
     "output_type": "stream",
     "text": [
      "validation/non-covid/non-covid/ct_scan_24 non-covid 120 242 32 71 475 414\n",
      "\n"
     ]
    },
    {
     "name": "stderr",
     "output_type": "stream",
     "text": [
      "\n",
      "\n",
      "\n",
      " 12%|█▏        | 56/484 [06:53<1:01:48,  8.66s/it]\u001b[A\u001b[A\u001b[A"
     ]
    },
    {
     "name": "stdout",
     "output_type": "stream",
     "text": [
      "validation/non-covid/non-covid/ct_scan_37 non-covid 133 316 0 73 512 461\n",
      "\n"
     ]
    },
    {
     "name": "stderr",
     "output_type": "stream",
     "text": [
      "\n",
      "\n",
      "\n",
      " 12%|█▏        | 57/484 [07:08<1:16:14, 10.71s/it]\u001b[A\u001b[A\u001b[A"
     ]
    },
    {
     "name": "stdout",
     "output_type": "stream",
     "text": [
      "validation/non-covid/non-covid/ct_scan_175 non-covid 25 53 0 106 506 483\n",
      "\n"
     ]
    },
    {
     "name": "stderr",
     "output_type": "stream",
     "text": [
      "\n",
      "\n",
      "\n",
      " 12%|█▏        | 58/484 [07:11<58:29,  8.24s/it]  \u001b[A\u001b[A\u001b[A"
     ]
    },
    {
     "name": "stdout",
     "output_type": "stream",
     "text": [
      "validation/non-covid/non-covid/ct_scan_54 non-covid 9 25 0 144 492 448\n",
      "\n"
     ]
    },
    {
     "name": "stderr",
     "output_type": "stream",
     "text": [
      "\n",
      "\n",
      "\n",
      " 12%|█▏        | 59/484 [07:12<43:53,  6.20s/it]\u001b[A\u001b[A\u001b[A"
     ]
    },
    {
     "name": "stdout",
     "output_type": "stream",
     "text": [
      "validation/non-covid/non-covid/ct_scan_135 non-covid 143 202 48 146 436 404\n",
      "\n"
     ]
    },
    {
     "name": "stderr",
     "output_type": "stream",
     "text": [
      "\n",
      "\n",
      "\n",
      " 12%|█▏        | 60/484 [07:17<41:22,  5.85s/it]\u001b[A\u001b[A\u001b[A"
     ]
    },
    {
     "name": "stdout",
     "output_type": "stream",
     "text": [
      "validation/non-covid/val_non_covid/ct_scan258 non-covid 62 95 0 134 512 414\n",
      "\n"
     ]
    },
    {
     "name": "stderr",
     "output_type": "stream",
     "text": [
      "\n",
      "\n",
      "\n",
      " 13%|█▎        | 61/484 [07:20<34:59,  4.96s/it]\u001b[A\u001b[A\u001b[A"
     ]
    },
    {
     "name": "stdout",
     "output_type": "stream",
     "text": [
      "validation/non-covid/non-covid/ct_scan_85 non-covid 16 37 0 85 512 405\n",
      "\n"
     ]
    },
    {
     "name": "stderr",
     "output_type": "stream",
     "text": [
      "\n",
      "\n",
      "\n",
      " 13%|█▎        | 62/484 [07:22<28:22,  4.04s/it]\u001b[A\u001b[A\u001b[A"
     ]
    },
    {
     "name": "stdout",
     "output_type": "stream",
     "text": [
      "validation/non-covid/non-covid/ct_scan_16 non-covid 47 62 0 108 512 490\n",
      "\n"
     ]
    },
    {
     "name": "stderr",
     "output_type": "stream",
     "text": [
      "\n",
      "\n",
      "\n",
      " 13%|█▎        | 63/484 [07:23<22:40,  3.23s/it]\u001b[A\u001b[A\u001b[A"
     ]
    },
    {
     "name": "stdout",
     "output_type": "stream",
     "text": [
      "validation/non-covid/val_non_covid/ct_scan248 non-covid 75 176 0 152 512 464\n",
      "\n"
     ]
    },
    {
     "name": "stderr",
     "output_type": "stream",
     "text": [
      "\n",
      "\n",
      "\n",
      " 13%|█▎        | 64/484 [07:32<33:50,  4.83s/it]\u001b[A\u001b[A\u001b[A"
     ]
    },
    {
     "name": "stdout",
     "output_type": "stream",
     "text": [
      "validation/non-covid/non-covid/ct_scan_173 non-covid 59 235 6 73 502 436\n",
      "\n"
     ]
    },
    {
     "name": "stderr",
     "output_type": "stream",
     "text": [
      "\n",
      "\n",
      "\n",
      " 13%|█▎        | 65/484 [07:47<55:05,  7.89s/it]\u001b[A\u001b[A\u001b[A"
     ]
    },
    {
     "name": "stdout",
     "output_type": "stream",
     "text": [
      "validation/non-covid/non-covid/ct_scan_121 non-covid 13 27 8 98 487 422\n",
      "\n"
     ]
    },
    {
     "name": "stderr",
     "output_type": "stream",
     "text": [
      "\n",
      "\n",
      "\n",
      " 14%|█▎        | 66/484 [07:48<41:06,  5.90s/it]\u001b[A\u001b[A\u001b[A"
     ]
    },
    {
     "name": "stdout",
     "output_type": "stream",
     "text": [
      "validation/non-covid/non-covid/ct_scan_92 non-covid 82 278 37 119 483 438\n",
      "\n"
     ]
    },
    {
     "name": "stderr",
     "output_type": "stream",
     "text": [
      "\n",
      "\n",
      "\n",
      " 14%|█▍        | 67/484 [08:05<1:03:21,  9.12s/it]\u001b[A\u001b[A\u001b[A"
     ]
    },
    {
     "name": "stdout",
     "output_type": "stream",
     "text": [
      "validation/non-covid/non-covid/ct_scan_207 non-covid 23 46 0 27 507 388\n",
      "\n"
     ]
    },
    {
     "name": "stderr",
     "output_type": "stream",
     "text": [
      "\n",
      "\n",
      "\n",
      " 14%|█▍        | 68/484 [08:07<48:29,  6.99s/it]  \u001b[A\u001b[A\u001b[A"
     ]
    },
    {
     "name": "stdout",
     "output_type": "stream",
     "text": [
      "validation/non-covid/non-covid/ct_scan_99 non-covid 21 45 0 72 512 461\n",
      "\n"
     ]
    },
    {
     "name": "stderr",
     "output_type": "stream",
     "text": [
      "\n",
      "\n",
      "\n",
      " 14%|█▍        | 69/484 [08:09<38:16,  5.53s/it]\u001b[A\u001b[A\u001b[A"
     ]
    },
    {
     "name": "stdout",
     "output_type": "stream",
     "text": [
      "validation/non-covid/non-covid/ct_scan_168 non-covid 22 52 10 63 484 381\n",
      "\n"
     ]
    },
    {
     "name": "stderr",
     "output_type": "stream",
     "text": [
      "\n",
      "\n",
      "\n",
      " 14%|█▍        | 70/484 [08:12<32:32,  4.72s/it]\u001b[A\u001b[A\u001b[A"
     ]
    },
    {
     "name": "stdout",
     "output_type": "stream",
     "text": [
      "validation/non-covid/val_non_covid/ct_scan250 non-covid 15 93 0 69 512 443\n",
      "\n"
     ]
    },
    {
     "name": "stderr",
     "output_type": "stream",
     "text": [
      "\n",
      "\n",
      "\n",
      " 15%|█▍        | 71/484 [08:18<36:48,  5.35s/it]\u001b[A\u001b[A\u001b[A"
     ]
    },
    {
     "name": "stdout",
     "output_type": "stream",
     "text": [
      "validation/non-covid/non-covid/ct_scan_149 non-covid 93 190 0 81 502 438\n",
      "\n"
     ]
    },
    {
     "name": "stderr",
     "output_type": "stream",
     "text": [
      "\n",
      "\n",
      "\n",
      " 15%|█▍        | 72/484 [08:27<42:52,  6.24s/it]\u001b[A\u001b[A\u001b[A"
     ]
    },
    {
     "name": "stdout",
     "output_type": "stream",
     "text": [
      "validation/non-covid/non-covid/ct_scan_10 non-covid 99 264 58 135 456 416\n",
      "\n"
     ]
    },
    {
     "name": "stderr",
     "output_type": "stream",
     "text": [
      "\n",
      "\n",
      "\n",
      " 15%|█▌        | 73/484 [08:41<58:59,  8.61s/it]\u001b[A\u001b[A\u001b[A"
     ]
    },
    {
     "name": "stdout",
     "output_type": "stream",
     "text": [
      "validation/non-covid/non-covid/ct_scan_40 non-covid 19 40 0 134 512 484\n",
      "\n"
     ]
    },
    {
     "name": "stderr",
     "output_type": "stream",
     "text": [
      "\n",
      "\n",
      "\n",
      " 15%|█▌        | 74/484 [08:43<45:12,  6.62s/it]\u001b[A\u001b[A\u001b[A"
     ]
    },
    {
     "name": "stdout",
     "output_type": "stream",
     "text": [
      "validation/non-covid/val_non_covid/ct_scan236 non-covid 75 177 0 152 512 463\n",
      "\n"
     ]
    },
    {
     "name": "stderr",
     "output_type": "stream",
     "text": [
      "\n",
      "\n",
      "\n",
      " 15%|█▌        | 75/484 [08:51<49:11,  7.22s/it]\u001b[A\u001b[A\u001b[A"
     ]
    },
    {
     "name": "stdout",
     "output_type": "stream",
     "text": [
      "validation/non-covid/val_non_covid/ct_scan229 non-covid 120 280 0 87 512 412\n",
      "\n"
     ]
    },
    {
     "name": "stderr",
     "output_type": "stream",
     "text": [
      "\n",
      "\n",
      "\n",
      " 16%|█▌        | 76/484 [09:05<1:02:02,  9.12s/it]\u001b[A\u001b[A\u001b[A"
     ]
    },
    {
     "name": "stdout",
     "output_type": "stream",
     "text": [
      "validation/non-covid/val_non_covid/ct_scan219 non-covid 92 271 0 77 512 436\n",
      "\n"
     ]
    },
    {
     "name": "stderr",
     "output_type": "stream",
     "text": [
      "\n",
      "\n",
      "\n",
      " 16%|█▌        | 77/484 [09:20<1:14:42, 11.01s/it]\u001b[A\u001b[A\u001b[A"
     ]
    },
    {
     "name": "stdout",
     "output_type": "stream",
     "text": [
      "validation/non-covid/non-covid/ct_scan_9 non-covid 124 205 0 80 512 455\n",
      "\n"
     ]
    },
    {
     "name": "stderr",
     "output_type": "stream",
     "text": [
      "\n",
      "\n",
      "\n",
      " 16%|█▌        | 78/484 [09:28<1:06:35,  9.84s/it]\u001b[A\u001b[A\u001b[A"
     ]
    },
    {
     "name": "stdout",
     "output_type": "stream",
     "text": [
      "validation/non-covid/non-covid/ct_scan_13 non-covid 11 23 0 66 512 443\n",
      "\n"
     ]
    },
    {
     "name": "stderr",
     "output_type": "stream",
     "text": [
      "\n",
      "\n",
      "\n",
      " 16%|█▋        | 79/484 [09:29<48:51,  7.24s/it]  \u001b[A\u001b[A\u001b[A"
     ]
    },
    {
     "name": "stdout",
     "output_type": "stream",
     "text": [
      "validation/non-covid/val_non_covid/ct_scan251 non-covid 106 320 0 72 512 444\n",
      "\n"
     ]
    },
    {
     "name": "stderr",
     "output_type": "stream",
     "text": [
      "\n",
      "\n",
      "\n",
      " 17%|█▋        | 80/484 [09:47<1:10:56, 10.54s/it]\u001b[A\u001b[A\u001b[A"
     ]
    },
    {
     "name": "stdout",
     "output_type": "stream",
     "text": [
      "validation/non-covid/non-covid/ct_scan_142 non-covid 1 497 0 65 472 447\n",
      "\n"
     ]
    },
    {
     "name": "stderr",
     "output_type": "stream",
     "text": [
      "\n",
      "\n",
      "\n",
      " 17%|█▋        | 81/484 [10:29<2:14:21, 20.00s/it]\u001b[A\u001b[A\u001b[A"
     ]
    },
    {
     "name": "stdout",
     "output_type": "stream",
     "text": [
      "validation/non-covid/non-covid/ct_scan_18 non-covid 16 33 0 63 512 447\n",
      "\n"
     ]
    },
    {
     "name": "stderr",
     "output_type": "stream",
     "text": [
      "\n",
      "\n",
      "\n",
      " 17%|█▋        | 82/484 [10:31<1:36:51, 14.46s/it]\u001b[A\u001b[A\u001b[A"
     ]
    },
    {
     "name": "stdout",
     "output_type": "stream",
     "text": [
      "validation/non-covid/non-covid/ct_scan_193 non-covid 37 72 40 94 497 431\n",
      "\n"
     ]
    },
    {
     "name": "stderr",
     "output_type": "stream",
     "text": [
      "\n",
      "\n",
      "\n",
      " 17%|█▋        | 83/484 [10:34<1:13:41, 11.03s/it]\u001b[A\u001b[A\u001b[A"
     ]
    },
    {
     "name": "stdout",
     "output_type": "stream",
     "text": [
      "validation/non-covid/val_non_covid/ct_scan228 non-covid 208 318 15 90 501 468\n",
      "\n"
     ]
    },
    {
     "name": "stderr",
     "output_type": "stream",
     "text": [
      "\n",
      "\n",
      "\n",
      " 17%|█▋        | 84/484 [10:43<1:10:07, 10.52s/it]\u001b[A\u001b[A\u001b[A"
     ]
    },
    {
     "name": "stdout",
     "output_type": "stream",
     "text": [
      "validation/non-covid/val_non_covid/ct_scan238 non-covid 116 236 0 118 512 462\n",
      "\n"
     ]
    },
    {
     "name": "stderr",
     "output_type": "stream",
     "text": [
      "\n",
      "\n",
      "\n",
      " 18%|█▊        | 85/484 [10:53<1:09:06, 10.39s/it]\u001b[A\u001b[A\u001b[A"
     ]
    },
    {
     "name": "stdout",
     "output_type": "stream",
     "text": [
      "validation/non-covid/non-covid/ct_scan_116 non-covid 11 31 0 76 512 420\n",
      "\n"
     ]
    },
    {
     "name": "stderr",
     "output_type": "stream",
     "text": [
      "\n",
      "\n",
      "\n",
      " 18%|█▊        | 86/484 [10:55<51:58,  7.83s/it]  \u001b[A\u001b[A\u001b[A"
     ]
    },
    {
     "name": "stdout",
     "output_type": "stream",
     "text": [
      "validation/non-covid/non-covid/ct_scan_138 non-covid 24 55 43 169 486 441\n",
      "\n"
     ]
    },
    {
     "name": "stderr",
     "output_type": "stream",
     "text": [
      "\n",
      "\n",
      "\n",
      " 18%|█▊        | 87/484 [10:58<41:53,  6.33s/it]\u001b[A\u001b[A\u001b[A"
     ]
    },
    {
     "name": "stdout",
     "output_type": "stream",
     "text": [
      "validation/non-covid/non-covid/ct_scan_50 non-covid 195 435 25 109 500 442\n",
      "\n"
     ]
    },
    {
     "name": "stderr",
     "output_type": "stream",
     "text": [
      "\n",
      "\n",
      "\n",
      " 18%|█▊        | 88/484 [11:18<1:09:26, 10.52s/it]\u001b[A\u001b[A\u001b[A"
     ]
    },
    {
     "name": "stdout",
     "output_type": "stream",
     "text": [
      "validation/non-covid/non-covid/ct_scan_11 non-covid 9 15 19 14 504 407\n",
      "\n"
     ]
    },
    {
     "name": "stderr",
     "output_type": "stream",
     "text": [
      "\n",
      "\n",
      "\n",
      " 18%|█▊        | 89/484 [11:19<49:51,  7.57s/it]  \u001b[A\u001b[A\u001b[A"
     ]
    },
    {
     "name": "stdout",
     "output_type": "stream",
     "text": [
      "validation/non-covid/non-covid/ct_scan_64 non-covid 126 270 0 104 512 400\n",
      "\n"
     ]
    },
    {
     "name": "stderr",
     "output_type": "stream",
     "text": [
      "\n",
      "\n",
      "\n",
      " 19%|█▊        | 90/484 [11:31<59:12,  9.02s/it]\u001b[A\u001b[A\u001b[A"
     ]
    },
    {
     "name": "stdout",
     "output_type": "stream",
     "text": [
      "validation/non-covid/non-covid/ct_scan_93 non-covid 53 154 0 105 512 447\n",
      "\n"
     ]
    },
    {
     "name": "stderr",
     "output_type": "stream",
     "text": [
      "\n",
      "\n",
      "\n",
      " 19%|█▉        | 91/484 [11:40<58:12,  8.89s/it]\u001b[A\u001b[A\u001b[A"
     ]
    },
    {
     "name": "stdout",
     "output_type": "stream",
     "text": [
      "validation/non-covid/non-covid/ct_scan_28 non-covid 87 208 12 80 499 445\n",
      "\n"
     ]
    },
    {
     "name": "stderr",
     "output_type": "stream",
     "text": [
      "\n",
      "\n",
      "\n",
      " 19%|█▉        | 92/484 [11:50<1:00:51,  9.31s/it]\u001b[A\u001b[A\u001b[A"
     ]
    },
    {
     "name": "stdout",
     "output_type": "stream",
     "text": [
      "validation/non-covid/val_non_covid/ct_scan210 non-covid 116 242 18 70 498 399\n",
      "\n"
     ]
    },
    {
     "name": "stderr",
     "output_type": "stream",
     "text": [
      "\n",
      "\n",
      "\n",
      " 19%|█▉        | 93/484 [12:01<1:03:17,  9.71s/it]\u001b[A\u001b[A\u001b[A"
     ]
    },
    {
     "name": "stdout",
     "output_type": "stream",
     "text": [
      "validation/non-covid/val_non_covid/ct_scan246 non-covid 70 205 0 81 512 436\n",
      "\n"
     ]
    },
    {
     "name": "stderr",
     "output_type": "stream",
     "text": [
      "\n",
      "\n",
      "\n",
      " 19%|█▉        | 94/484 [12:12<1:06:28, 10.23s/it]\u001b[A\u001b[A\u001b[A"
     ]
    },
    {
     "name": "stdout",
     "output_type": "stream",
     "text": [
      "validation/non-covid/non-covid/ct_scan_188 non-covid 20 69 0 19 512 414\n",
      "\n"
     ]
    },
    {
     "name": "stderr",
     "output_type": "stream",
     "text": [
      "\n",
      "\n",
      "\n",
      " 20%|█▉        | 95/484 [12:16<54:59,  8.48s/it]  \u001b[A\u001b[A\u001b[A"
     ]
    },
    {
     "name": "stdout",
     "output_type": "stream",
     "text": [
      "validation/non-covid/non-covid/ct_scan_78 non-covid 14 32 5 53 512 407\n",
      "\n"
     ]
    },
    {
     "name": "stderr",
     "output_type": "stream",
     "text": [
      "\n",
      "\n",
      "\n",
      " 20%|█▉        | 96/484 [12:18<41:28,  6.41s/it]\u001b[A\u001b[A\u001b[A"
     ]
    },
    {
     "name": "stdout",
     "output_type": "stream",
     "text": [
      "validation/non-covid/val_non_covid/ct_scan255 non-covid 77 157 0 52 512 415\n",
      "\n"
     ]
    },
    {
     "name": "stderr",
     "output_type": "stream",
     "text": [
      "\n",
      "\n",
      "\n",
      " 20%|██        | 97/484 [12:25<42:10,  6.54s/it]\u001b[A\u001b[A\u001b[A"
     ]
    },
    {
     "name": "stdout",
     "output_type": "stream",
     "text": [
      "validation/non-covid/non-covid/ct_scan_172 non-covid 30 60 51 134 498 371\n",
      "\n"
     ]
    },
    {
     "name": "stderr",
     "output_type": "stream",
     "text": [
      "\n",
      "\n",
      "\n",
      " 20%|██        | 98/484 [12:28<34:41,  5.39s/it]\u001b[A\u001b[A\u001b[A"
     ]
    },
    {
     "name": "stdout",
     "output_type": "stream",
     "text": [
      "validation/non-covid/non-covid/ct_scan_82 non-covid 16 42 0 23 512 442\n",
      "\n"
     ]
    },
    {
     "name": "stderr",
     "output_type": "stream",
     "text": [
      "\n",
      "\n",
      "\n",
      " 20%|██        | 99/484 [12:30<28:48,  4.49s/it]\u001b[A\u001b[A\u001b[A"
     ]
    },
    {
     "name": "stdout",
     "output_type": "stream",
     "text": [
      "validation/non-covid/non-covid/ct_scan_147 non-covid 10 20 0 99 512 440\n",
      "\n"
     ]
    },
    {
     "name": "stderr",
     "output_type": "stream",
     "text": [
      "\n",
      "\n",
      "\n",
      " 21%|██        | 100/484 [12:31<21:52,  3.42s/it]\u001b[A\u001b[A\u001b[A"
     ]
    },
    {
     "name": "stdout",
     "output_type": "stream",
     "text": [
      "validation/non-covid/val_non_covid/ct_scan256 non-covid 96 217 0 91 512 442\n",
      "\n"
     ]
    },
    {
     "name": "stderr",
     "output_type": "stream",
     "text": [
      "\n",
      "\n",
      "\n",
      " 21%|██        | 101/484 [12:41<35:13,  5.52s/it]\u001b[A\u001b[A\u001b[A"
     ]
    },
    {
     "name": "stdout",
     "output_type": "stream",
     "text": [
      "validation/non-covid/non-covid/ct_scan_91 non-covid 55 87 0 113 455 381\n",
      "\n"
     ]
    },
    {
     "name": "stderr",
     "output_type": "stream",
     "text": [
      "\n",
      "\n",
      "\n",
      " 21%|██        | 102/484 [12:44<29:54,  4.70s/it]\u001b[A\u001b[A\u001b[A"
     ]
    },
    {
     "name": "stdout",
     "output_type": "stream",
     "text": [
      "validation/non-covid/non-covid/ct_scan_154 non-covid 17 38 0 71 512 488\n",
      "\n"
     ]
    },
    {
     "name": "stderr",
     "output_type": "stream",
     "text": [
      "\n",
      "\n",
      "\n",
      " 21%|██▏       | 103/484 [12:46<24:25,  3.85s/it]\u001b[A\u001b[A\u001b[A"
     ]
    },
    {
     "name": "stdout",
     "output_type": "stream",
     "text": [
      "validation/non-covid/non-covid/ct_scan_33 non-covid 102 288 0 52 512 408\n",
      "\n"
     ]
    },
    {
     "name": "stderr",
     "output_type": "stream",
     "text": [
      "\n",
      "\n",
      "\n",
      " 21%|██▏       | 104/484 [13:02<46:58,  7.42s/it]\u001b[A\u001b[A\u001b[A"
     ]
    },
    {
     "name": "stdout",
     "output_type": "stream",
     "text": [
      "validation/non-covid/non-covid/ct_scan_52 non-covid 16 41 29 110 479 417\n",
      "\n"
     ]
    },
    {
     "name": "stderr",
     "output_type": "stream",
     "text": [
      "\n",
      "\n",
      "\n",
      " 22%|██▏       | 105/484 [13:04<36:56,  5.85s/it]\u001b[A\u001b[A\u001b[A"
     ]
    },
    {
     "name": "stdout",
     "output_type": "stream",
     "text": [
      "validation/non-covid/non-covid/ct_scan_62 non-covid 150 301 0 77 504 423\n",
      "\n"
     ]
    },
    {
     "name": "stderr",
     "output_type": "stream",
     "text": [
      "\n",
      "\n",
      "\n",
      " 22%|██▏       | 106/484 [13:17<50:06,  7.95s/it]\u001b[A\u001b[A\u001b[A"
     ]
    },
    {
     "name": "stdout",
     "output_type": "stream",
     "text": [
      "validation/non-covid/non-covid/ct_scan_77 non-covid 82 285 34 103 481 437\n",
      "\n"
     ]
    },
    {
     "name": "stderr",
     "output_type": "stream",
     "text": [
      "\n",
      "\n",
      "\n",
      " 22%|██▏       | 107/484 [13:34<1:07:18, 10.71s/it]\u001b[A\u001b[A\u001b[A"
     ]
    },
    {
     "name": "stdout",
     "output_type": "stream",
     "text": [
      "validation/non-covid/val_non_covid/ct_scan237 non-covid 85 141 0 125 512 434\n",
      "\n"
     ]
    },
    {
     "name": "stderr",
     "output_type": "stream",
     "text": [
      "\n",
      "\n",
      "\n",
      " 22%|██▏       | 108/484 [13:39<56:15,  8.98s/it]  \u001b[A\u001b[A\u001b[A"
     ]
    },
    {
     "name": "stdout",
     "output_type": "stream",
     "text": [
      "validation/non-covid/non-covid/ct_scan_139 non-covid 43 74 50 128 489 410\n",
      "\n"
     ]
    },
    {
     "name": "stderr",
     "output_type": "stream",
     "text": [
      "\n",
      "\n",
      "\n",
      " 23%|██▎       | 109/484 [13:42<44:21,  7.10s/it]\u001b[A\u001b[A\u001b[A"
     ]
    },
    {
     "name": "stdout",
     "output_type": "stream",
     "text": [
      "validation/non-covid/non-covid/ct_scan_14 non-covid 131 325 21 120 497 431\n",
      "\n"
     ]
    },
    {
     "name": "stderr",
     "output_type": "stream",
     "text": [
      "\n",
      "\n",
      "\n",
      " 23%|██▎       | 110/484 [13:58<1:01:40,  9.89s/it]\u001b[A\u001b[A\u001b[A"
     ]
    },
    {
     "name": "stdout",
     "output_type": "stream",
     "text": [
      "validation/non-covid/val_non_covid/ct_scan231 non-covid 106 222 0 78 512 452\n",
      "\n"
     ]
    },
    {
     "name": "stderr",
     "output_type": "stream",
     "text": [
      "\n",
      "\n",
      "\n",
      " 23%|██▎       | 111/484 [14:08<1:01:33,  9.90s/it]\u001b[A\u001b[A\u001b[A"
     ]
    },
    {
     "name": "stdout",
     "output_type": "stream",
     "text": [
      "validation/non-covid/val_non_covid/ct_scan235 non-covid 113 271 0 18 512 450\n",
      "\n"
     ]
    },
    {
     "name": "stderr",
     "output_type": "stream",
     "text": [
      "\n",
      "\n",
      "\n",
      " 23%|██▎       | 112/484 [14:21<1:08:12, 11.00s/it]\u001b[A\u001b[A\u001b[A"
     ]
    },
    {
     "name": "stdout",
     "output_type": "stream",
     "text": [
      "validation/non-covid/non-covid/ct_scan_199 non-covid 100 212 0 75 492 401\n",
      "\n"
     ]
    },
    {
     "name": "stderr",
     "output_type": "stream",
     "text": [
      "\n",
      "\n",
      "\n",
      " 23%|██▎       | 113/484 [14:31<1:06:05, 10.69s/it]\u001b[A\u001b[A\u001b[A"
     ]
    },
    {
     "name": "stdout",
     "output_type": "stream",
     "text": [
      "validation/non-covid/non-covid/ct_scan_205 non-covid 12 29 0 86 512 411\n",
      "\n"
     ]
    },
    {
     "name": "stderr",
     "output_type": "stream",
     "text": [
      "\n",
      "\n",
      "\n",
      " 24%|██▎       | 114/484 [14:33<48:59,  7.94s/it]  \u001b[A\u001b[A\u001b[A"
     ]
    },
    {
     "name": "stdout",
     "output_type": "stream",
     "text": [
      "validation/non-covid/val_non_covid/ct_scan225 non-covid 63 182 26 140 480 454\n",
      "\n"
     ]
    },
    {
     "name": "stderr",
     "output_type": "stream",
     "text": [
      "\n",
      "\n",
      "\n",
      " 24%|██▍       | 115/484 [14:43<52:56,  8.61s/it]\u001b[A\u001b[A\u001b[A"
     ]
    },
    {
     "name": "stdout",
     "output_type": "stream",
     "text": [
      "validation/non-covid/val_non_covid/ct_scan266 non-covid 38 82 31 138 465 417\n",
      "\n"
     ]
    },
    {
     "name": "stderr",
     "output_type": "stream",
     "text": [
      "\n",
      "\n",
      "\n",
      " 24%|██▍       | 116/484 [14:47<43:54,  7.16s/it]\u001b[A\u001b[A\u001b[A"
     ]
    },
    {
     "name": "stdout",
     "output_type": "stream",
     "text": [
      "validation/non-covid/non-covid/ct_scan_115 non-covid 10 21 0 98 505 433\n",
      "\n"
     ]
    },
    {
     "name": "stderr",
     "output_type": "stream",
     "text": [
      "\n",
      "\n",
      "\n",
      " 24%|██▍       | 117/484 [14:48<32:30,  5.32s/it]\u001b[A\u001b[A\u001b[A"
     ]
    },
    {
     "name": "stdout",
     "output_type": "stream",
     "text": [
      "validation/non-covid/non-covid/ct_scan_177 non-covid 88 169 0 106 508 422\n",
      "\n"
     ]
    },
    {
     "name": "stderr",
     "output_type": "stream",
     "text": [
      "\n",
      "\n",
      "\n",
      " 24%|██▍       | 118/484 [14:55<35:21,  5.80s/it]\u001b[A\u001b[A\u001b[A"
     ]
    },
    {
     "name": "stdout",
     "output_type": "stream",
     "text": [
      "validation/non-covid/non-covid/ct_scan_127 non-covid 17 63 37 98 476 403\n",
      "\n"
     ]
    },
    {
     "name": "stderr",
     "output_type": "stream",
     "text": [
      "\n",
      "\n",
      "\n",
      " 25%|██▍       | 119/484 [14:59<31:54,  5.24s/it]\u001b[A\u001b[A\u001b[A"
     ]
    },
    {
     "name": "stdout",
     "output_type": "stream",
     "text": [
      "validation/non-covid/val_non_covid/ct_scan260 non-covid 23 57 0 19 512 476\n",
      "\n"
     ]
    },
    {
     "name": "stderr",
     "output_type": "stream",
     "text": [
      "\n",
      "\n",
      "\n",
      " 25%|██▍       | 120/484 [15:02<27:39,  4.56s/it]\u001b[A\u001b[A\u001b[A"
     ]
    },
    {
     "name": "stdout",
     "output_type": "stream",
     "text": [
      "validation/non-covid/non-covid/ct_scan_7 non-covid 132 221 0 105 512 448\n",
      "\n"
     ]
    },
    {
     "name": "stderr",
     "output_type": "stream",
     "text": [
      "\n",
      "\n",
      "\n",
      " 25%|██▌       | 121/484 [15:09<33:01,  5.46s/it]\u001b[A\u001b[A\u001b[A"
     ]
    },
    {
     "name": "stdout",
     "output_type": "stream",
     "text": [
      "validation/non-covid/non-covid/ct_scan_198 non-covid 28 49 60 146 458 387\n",
      "\n"
     ]
    },
    {
     "name": "stderr",
     "output_type": "stream",
     "text": [
      "\n",
      "\n",
      "\n",
      " 25%|██▌       | 122/484 [15:11<26:24,  4.38s/it]\u001b[A\u001b[A\u001b[A"
     ]
    },
    {
     "name": "stdout",
     "output_type": "stream",
     "text": [
      "validation/non-covid/non-covid/ct_scan_152 non-covid 23 51 0 69 512 398\n",
      "\n"
     ]
    },
    {
     "name": "stderr",
     "output_type": "stream",
     "text": [
      "\n",
      "\n",
      "\n",
      " 25%|██▌       | 123/484 [15:14<22:59,  3.82s/it]\u001b[A\u001b[A\u001b[A"
     ]
    },
    {
     "name": "stdout",
     "output_type": "stream",
     "text": [
      "validation/non-covid/non-covid/ct_scan_151 non-covid 85 164 0 61 512 431\n",
      "\n"
     ]
    },
    {
     "name": "stderr",
     "output_type": "stream",
     "text": [
      "\n",
      "\n",
      "\n",
      " 26%|██▌       | 124/484 [15:21<28:22,  4.73s/it]\u001b[A\u001b[A\u001b[A"
     ]
    },
    {
     "name": "stdout",
     "output_type": "stream",
     "text": [
      "validation/non-covid/non-covid/ct_scan_63 non-covid 15 41 0 78 512 401\n",
      "\n"
     ]
    },
    {
     "name": "stderr",
     "output_type": "stream",
     "text": [
      "\n",
      "\n",
      "\n",
      " 26%|██▌       | 125/484 [15:23<23:58,  4.01s/it]\u001b[A\u001b[A\u001b[A"
     ]
    },
    {
     "name": "stdout",
     "output_type": "stream",
     "text": [
      "validation/non-covid/non-covid/ct_scan_104 non-covid 55 87 0 113 455 381\n",
      "\n"
     ]
    },
    {
     "name": "stderr",
     "output_type": "stream",
     "text": [
      "\n",
      "\n",
      "\n",
      " 26%|██▌       | 126/484 [15:26<22:18,  3.74s/it]\u001b[A\u001b[A\u001b[A"
     ]
    },
    {
     "name": "stdout",
     "output_type": "stream",
     "text": [
      "validation/non-covid/non-covid/ct_scan_72 non-covid 60 183 0 101 512 512\n",
      "\n"
     ]
    },
    {
     "name": "stderr",
     "output_type": "stream",
     "text": [
      "\n",
      "\n",
      "\n",
      " 26%|██▌       | 127/484 [15:37<34:28,  5.79s/it]\u001b[A\u001b[A\u001b[A"
     ]
    },
    {
     "name": "stdout",
     "output_type": "stream",
     "text": [
      "validation/non-covid/non-covid/ct_scan_141 non-covid 16 31 0 61 512 392\n",
      "\n"
     ]
    },
    {
     "name": "stderr",
     "output_type": "stream",
     "text": [
      "\n",
      "\n",
      "\n",
      " 26%|██▋       | 128/484 [15:38<26:29,  4.46s/it]\u001b[A\u001b[A\u001b[A"
     ]
    },
    {
     "name": "stdout",
     "output_type": "stream",
     "text": [
      "validation/non-covid/non-covid/ct_scan_156 non-covid 31 82 0 103 508 475\n",
      "\n"
     ]
    },
    {
     "name": "stderr",
     "output_type": "stream",
     "text": [
      "\n",
      "\n",
      "\n",
      " 27%|██▋       | 129/484 [15:42<26:30,  4.48s/it]\u001b[A\u001b[A\u001b[A"
     ]
    },
    {
     "name": "stdout",
     "output_type": "stream",
     "text": [
      "validation/non-covid/non-covid/ct_scan_23 non-covid 85 255 7 144 512 482\n",
      "\n"
     ]
    },
    {
     "name": "stderr",
     "output_type": "stream",
     "text": [
      "\n",
      "\n",
      "\n",
      " 27%|██▋       | 130/484 [15:57<44:55,  7.61s/it]\u001b[A\u001b[A\u001b[A"
     ]
    },
    {
     "name": "stdout",
     "output_type": "stream",
     "text": [
      "validation/non-covid/non-covid/ct_scan_189 non-covid 172 299 0 108 476 386\n",
      "\n"
     ]
    },
    {
     "name": "stderr",
     "output_type": "stream",
     "text": [
      "\n",
      "\n",
      "\n",
      " 27%|██▋       | 131/484 [16:08<50:30,  8.58s/it]\u001b[A\u001b[A\u001b[A"
     ]
    },
    {
     "name": "stdout",
     "output_type": "stream",
     "text": [
      "validation/non-covid/non-covid/ct_scan_45 non-covid 155 299 64 126 433 427\n",
      "\n"
     ]
    },
    {
     "name": "stderr",
     "output_type": "stream",
     "text": [
      "\n",
      "\n",
      "\n",
      " 27%|██▋       | 132/484 [16:21<57:01,  9.72s/it]\u001b[A\u001b[A\u001b[A"
     ]
    },
    {
     "name": "stdout",
     "output_type": "stream",
     "text": [
      "validation/non-covid/non-covid/ct_scan_125 non-covid 69 147 16 151 501 465\n",
      "\n"
     ]
    },
    {
     "name": "stderr",
     "output_type": "stream",
     "text": [
      "\n",
      "\n",
      "\n",
      " 27%|██▋       | 133/484 [16:27<51:30,  8.80s/it]\u001b[A\u001b[A\u001b[A"
     ]
    },
    {
     "name": "stdout",
     "output_type": "stream",
     "text": [
      "validation/non-covid/non-covid/ct_scan_87 non-covid 11 21 0 90 512 512\n",
      "\n"
     ]
    },
    {
     "name": "stderr",
     "output_type": "stream",
     "text": [
      "\n",
      "\n",
      "\n",
      " 28%|██▊       | 134/484 [16:28<37:34,  6.44s/it]\u001b[A\u001b[A\u001b[A"
     ]
    },
    {
     "name": "stdout",
     "output_type": "stream",
     "text": [
      "validation/non-covid/non-covid/ct_scan_98 non-covid 20 49 0 30 512 469\n",
      "\n"
     ]
    },
    {
     "name": "stderr",
     "output_type": "stream",
     "text": [
      "\n",
      "\n",
      "\n",
      " 28%|██▊       | 135/484 [16:31<30:52,  5.31s/it]\u001b[A\u001b[A\u001b[A"
     ]
    },
    {
     "name": "stdout",
     "output_type": "stream",
     "text": [
      "validation/non-covid/non-covid/ct_scan_60 non-covid 28 53 8 94 489 435\n",
      "\n"
     ]
    },
    {
     "name": "stderr",
     "output_type": "stream",
     "text": [
      "\n",
      "\n",
      "\n",
      " 28%|██▊       | 136/484 [16:33<25:21,  4.37s/it]\u001b[A\u001b[A\u001b[A"
     ]
    },
    {
     "name": "stdout",
     "output_type": "stream",
     "text": [
      "validation/non-covid/non-covid/ct_scan_69 non-covid 16 39 34 104 479 437\n",
      "\n"
     ]
    },
    {
     "name": "stderr",
     "output_type": "stream",
     "text": [
      "\n",
      "\n",
      "\n",
      " 28%|██▊       | 137/484 [16:35<21:23,  3.70s/it]\u001b[A\u001b[A\u001b[A"
     ]
    },
    {
     "name": "stdout",
     "output_type": "stream",
     "text": [
      "validation/non-covid/non-covid/ct_scan_187 non-covid 26 58 6 143 512 441\n",
      "\n"
     ]
    },
    {
     "name": "stderr",
     "output_type": "stream",
     "text": [
      "\n",
      "\n",
      "\n",
      " 29%|██▊       | 138/484 [16:38<19:44,  3.42s/it]\u001b[A\u001b[A\u001b[A"
     ]
    },
    {
     "name": "stdout",
     "output_type": "stream",
     "text": [
      "validation/non-covid/non-covid/ct_scan_65 non-covid 17 37 0 174 512 485\n",
      "\n"
     ]
    },
    {
     "name": "stderr",
     "output_type": "stream",
     "text": [
      "\n",
      "\n",
      "\n",
      " 29%|██▊       | 139/484 [16:40<16:51,  2.93s/it]\u001b[A\u001b[A\u001b[A"
     ]
    },
    {
     "name": "stdout",
     "output_type": "stream",
     "text": [
      "validation/non-covid/non-covid/ct_scan_184 non-covid 26 69 28 89 508 418\n",
      "\n"
     ]
    },
    {
     "name": "stderr",
     "output_type": "stream",
     "text": [
      "\n",
      "\n",
      "\n",
      " 29%|██▉       | 140/484 [16:43<18:12,  3.18s/it]\u001b[A\u001b[A\u001b[A"
     ]
    },
    {
     "name": "stdout",
     "output_type": "stream",
     "text": [
      "validation/non-covid/val_non_covid/ct_scan253 non-covid 84 232 0 128 512 428\n",
      "\n"
     ]
    },
    {
     "name": "stderr",
     "output_type": "stream",
     "text": [
      "\n",
      "\n",
      "\n",
      " 29%|██▉       | 141/484 [16:56<34:31,  6.04s/it]\u001b[A\u001b[A\u001b[A"
     ]
    },
    {
     "name": "stdout",
     "output_type": "stream",
     "text": [
      "validation/non-covid/non-covid/ct_scan_73 non-covid 97 166 0 90 512 453\n",
      "\n"
     ]
    },
    {
     "name": "stderr",
     "output_type": "stream",
     "text": [
      "\n",
      "\n",
      "\n",
      " 29%|██▉       | 142/484 [17:02<34:23,  6.03s/it]\u001b[A\u001b[A\u001b[A"
     ]
    },
    {
     "name": "stdout",
     "output_type": "stream",
     "text": [
      "validation/non-covid/non-covid/ct_scan_206 non-covid 24 48 16 98 500 412\n",
      "\n"
     ]
    },
    {
     "name": "stderr",
     "output_type": "stream",
     "text": [
      "\n",
      "\n",
      "\n",
      " 30%|██▉       | 143/484 [17:04<27:35,  4.85s/it]\u001b[A\u001b[A\u001b[A"
     ]
    },
    {
     "name": "stdout",
     "output_type": "stream",
     "text": [
      "validation/non-covid/val_non_covid/ct_scan262 non-covid 28 57 0 79 512 353\n",
      "\n"
     ]
    },
    {
     "name": "stderr",
     "output_type": "stream",
     "text": [
      "\n",
      "\n",
      "\n",
      " 30%|██▉       | 144/484 [17:07<23:38,  4.17s/it]\u001b[A\u001b[A\u001b[A"
     ]
    },
    {
     "name": "stdout",
     "output_type": "stream",
     "text": [
      "validation/non-covid/non-covid/ct_scan_163 non-covid 13 35 0 53 512 470\n",
      "\n"
     ]
    },
    {
     "name": "stderr",
     "output_type": "stream",
     "text": [
      "\n",
      "\n",
      "\n",
      " 30%|██▉       | 145/484 [17:09<19:48,  3.51s/it]\u001b[A\u001b[A\u001b[A"
     ]
    },
    {
     "name": "stdout",
     "output_type": "stream",
     "text": [
      "validation/non-covid/non-covid/ct_scan_167 non-covid 35 65 6 79 512 438\n",
      "\n"
     ]
    },
    {
     "name": "stderr",
     "output_type": "stream",
     "text": [
      "\n",
      "\n",
      "\n",
      " 30%|███       | 146/484 [17:11<18:14,  3.24s/it]\u001b[A\u001b[A\u001b[A"
     ]
    },
    {
     "name": "stdout",
     "output_type": "stream",
     "text": [
      "validation/non-covid/val_non_covid/ct_scan264 non-covid 101 245 0 104 480 432\n",
      "\n"
     ]
    },
    {
     "name": "stderr",
     "output_type": "stream",
     "text": [
      "\n",
      "\n",
      "\n",
      " 30%|███       | 147/484 [17:24<33:35,  5.98s/it]\u001b[A\u001b[A\u001b[A"
     ]
    },
    {
     "name": "stdout",
     "output_type": "stream",
     "text": [
      "validation/non-covid/non-covid/ct_scan_200 non-covid 25 55 20 134 497 446\n",
      "\n"
     ]
    },
    {
     "name": "stderr",
     "output_type": "stream",
     "text": [
      "\n",
      "\n",
      "\n",
      " 31%|███       | 148/484 [17:27<28:02,  5.01s/it]\u001b[A\u001b[A\u001b[A"
     ]
    },
    {
     "name": "stdout",
     "output_type": "stream",
     "text": [
      "validation/non-covid/non-covid/ct_scan_166 non-covid 84 151 0 85 512 421\n",
      "\n"
     ]
    },
    {
     "name": "stderr",
     "output_type": "stream",
     "text": [
      "\n",
      "\n",
      "\n",
      " 31%|███       | 149/484 [17:33<29:37,  5.31s/it]\u001b[A\u001b[A\u001b[A"
     ]
    },
    {
     "name": "stdout",
     "output_type": "stream",
     "text": [
      "validation/non-covid/non-covid/ct_scan_22 non-covid 113 194 0 90 497 429\n",
      "\n"
     ]
    },
    {
     "name": "stderr",
     "output_type": "stream",
     "text": [
      "\n",
      "\n",
      "\n",
      " 31%|███       | 150/484 [17:40<32:35,  5.86s/it]\u001b[A\u001b[A\u001b[A"
     ]
    },
    {
     "name": "stdout",
     "output_type": "stream",
     "text": [
      "validation/non-covid/non-covid/ct_scan_128 non-covid 39 64 7 106 478 392\n",
      "\n"
     ]
    },
    {
     "name": "stderr",
     "output_type": "stream",
     "text": [
      "\n",
      "\n",
      "\n",
      " 31%|███       | 151/484 [17:42<26:24,  4.76s/it]\u001b[A\u001b[A\u001b[A"
     ]
    },
    {
     "name": "stdout",
     "output_type": "stream",
     "text": [
      "validation/non-covid/non-covid/ct_scan_5 non-covid 74 210 41 126 481 455\n",
      "\n"
     ]
    },
    {
     "name": "stderr",
     "output_type": "stream",
     "text": [
      "\n",
      "\n",
      "\n",
      " 31%|███▏      | 152/484 [17:54<38:09,  6.90s/it]\u001b[A\u001b[A\u001b[A"
     ]
    },
    {
     "name": "stdout",
     "output_type": "stream",
     "text": [
      "validation/non-covid/val_non_covid/ct_scan223 non-covid 88 157 0 105 512 452\n",
      "\n"
     ]
    },
    {
     "name": "stderr",
     "output_type": "stream",
     "text": [
      "\n",
      "\n",
      "\n",
      " 32%|███▏      | 153/484 [18:00<36:30,  6.62s/it]\u001b[A\u001b[A\u001b[A"
     ]
    },
    {
     "name": "stdout",
     "output_type": "stream",
     "text": [
      "validation/non-covid/non-covid/ct_scan_169 non-covid 110 184 21 90 480 390\n",
      "\n"
     ]
    },
    {
     "name": "stderr",
     "output_type": "stream",
     "text": [
      "\n",
      "\n",
      "\n",
      " 32%|███▏      | 154/484 [18:06<36:14,  6.59s/it]\u001b[A\u001b[A\u001b[A"
     ]
    },
    {
     "name": "stdout",
     "output_type": "stream",
     "text": [
      "validation/non-covid/val_non_covid/ct_scan221 non-covid 22 31 33 56 445 456\n",
      "\n"
     ]
    },
    {
     "name": "stderr",
     "output_type": "stream",
     "text": [
      "\n",
      "\n",
      "\n",
      " 32%|███▏      | 155/484 [18:07<26:50,  4.90s/it]\u001b[A\u001b[A\u001b[A"
     ]
    },
    {
     "name": "stdout",
     "output_type": "stream",
     "text": [
      "validation/non-covid/non-covid/ct_scan_185 non-covid 94 253 59 116 459 367\n",
      "\n"
     ]
    },
    {
     "name": "stderr",
     "output_type": "stream",
     "text": [
      "\n",
      "\n",
      "\n",
      " 32%|███▏      | 156/484 [18:21<41:03,  7.51s/it]\u001b[A\u001b[A\u001b[A"
     ]
    },
    {
     "name": "stdout",
     "output_type": "stream",
     "text": [
      "validation/non-covid/non-covid/ct_scan_129 non-covid 50 63 0 121 458 399\n",
      "\n"
     ]
    },
    {
     "name": "stderr",
     "output_type": "stream",
     "text": [
      "\n",
      "\n",
      "\n",
      " 32%|███▏      | 157/484 [18:22<30:35,  5.61s/it]\u001b[A\u001b[A\u001b[A"
     ]
    },
    {
     "name": "stdout",
     "output_type": "stream",
     "text": [
      "validation/non-covid/non-covid/ct_scan_6 non-covid 19 39 0 103 512 442\n",
      "\n"
     ]
    },
    {
     "name": "stderr",
     "output_type": "stream",
     "text": [
      "\n",
      "\n",
      "\n",
      " 33%|███▎      | 158/484 [18:24<24:13,  4.46s/it]\u001b[A\u001b[A\u001b[A"
     ]
    },
    {
     "name": "stdout",
     "output_type": "stream",
     "text": [
      "validation/non-covid/non-covid/ct_scan_75 non-covid 108 320 0 130 512 512\n",
      "\n"
     ]
    },
    {
     "name": "stderr",
     "output_type": "stream",
     "text": [
      "\n",
      "\n",
      "\n",
      " 33%|███▎      | 159/484 [18:42<46:25,  8.57s/it]\u001b[A\u001b[A\u001b[A"
     ]
    },
    {
     "name": "stdout",
     "output_type": "stream",
     "text": [
      "validation/non-covid/non-covid/ct_scan_159 non-covid 75 221 44 117 476 419\n",
      "\n"
     ]
    },
    {
     "name": "stderr",
     "output_type": "stream",
     "text": [
      "\n",
      "\n",
      "\n",
      " 33%|███▎      | 160/484 [18:54<52:30,  9.72s/it]\u001b[A\u001b[A\u001b[A"
     ]
    },
    {
     "name": "stdout",
     "output_type": "stream",
     "text": [
      "validation/non-covid/non-covid/ct_scan_68 non-covid 17 33 0 30 512 437\n",
      "\n"
     ]
    },
    {
     "name": "stderr",
     "output_type": "stream",
     "text": [
      "\n",
      "\n",
      "\n",
      " 33%|███▎      | 161/484 [18:56<39:03,  7.26s/it]\u001b[A\u001b[A\u001b[A"
     ]
    },
    {
     "name": "stdout",
     "output_type": "stream",
     "text": [
      "validation/non-covid/non-covid/ct_scan_70 non-covid 101 217 0 146 512 496\n",
      "\n"
     ]
    },
    {
     "name": "stderr",
     "output_type": "stream",
     "text": [
      "\n",
      "\n",
      "\n",
      " 33%|███▎      | 162/484 [19:06<43:26,  8.10s/it]\u001b[A\u001b[A\u001b[A"
     ]
    },
    {
     "name": "stdout",
     "output_type": "stream",
     "text": [
      "validation/non-covid/non-covid/ct_scan_150 non-covid 11 32 4 113 499 446\n",
      "\n"
     ]
    },
    {
     "name": "stderr",
     "output_type": "stream",
     "text": [
      "\n",
      "\n",
      "\n",
      " 34%|███▎      | 163/484 [19:08<33:24,  6.25s/it]\u001b[A\u001b[A\u001b[A"
     ]
    },
    {
     "name": "stdout",
     "output_type": "stream",
     "text": [
      "validation/non-covid/non-covid/ct_scan_160 non-covid 21 58 0 116 512 470\n",
      "\n"
     ]
    },
    {
     "name": "stderr",
     "output_type": "stream",
     "text": [
      "\n",
      "\n",
      "\n",
      " 34%|███▍      | 164/484 [19:11<28:25,  5.33s/it]\u001b[A\u001b[A\u001b[A"
     ]
    },
    {
     "name": "stdout",
     "output_type": "stream",
     "text": [
      "validation/non-covid/non-covid/ct_scan_53 non-covid 72 171 0 86 512 490\n",
      "\n"
     ]
    },
    {
     "name": "stderr",
     "output_type": "stream",
     "text": [
      "\n",
      "\n",
      "\n",
      " 34%|███▍      | 165/484 [19:19<33:20,  6.27s/it]\u001b[A\u001b[A\u001b[A"
     ]
    },
    {
     "name": "stdout",
     "output_type": "stream",
     "text": [
      "validation/non-covid/non-covid/ct_scan_35 non-covid 133 300 0 49 512 466\n",
      "\n"
     ]
    },
    {
     "name": "stderr",
     "output_type": "stream",
     "text": [
      "\n",
      "\n",
      "\n",
      " 34%|███▍      | 166/484 [19:34<45:51,  8.65s/it]\u001b[A\u001b[A\u001b[A"
     ]
    },
    {
     "name": "stdout",
     "output_type": "stream",
     "text": [
      "validation/non-covid/val_non_covid/ct_scan213 non-covid 161 285 0 90 512 494\n",
      "\n"
     ]
    },
    {
     "name": "stderr",
     "output_type": "stream",
     "text": [
      "\n",
      "\n",
      "\n",
      " 35%|███▍      | 167/484 [19:44<48:53,  9.26s/it]\u001b[A\u001b[A\u001b[A"
     ]
    },
    {
     "name": "stdout",
     "output_type": "stream",
     "text": [
      "validation/non-covid/val_non_covid/ct_scan220 non-covid 98 185 0 101 512 479\n",
      "\n"
     ]
    },
    {
     "name": "stderr",
     "output_type": "stream",
     "text": [
      "\n",
      "\n",
      "\n",
      " 35%|███▍      | 168/484 [19:52<45:51,  8.71s/it]\u001b[A\u001b[A\u001b[A"
     ]
    },
    {
     "name": "stdout",
     "output_type": "stream",
     "text": [
      "validation/non-covid/non-covid/ct_scan_20 non-covid 122 293 0 81 512 481\n",
      "\n"
     ]
    },
    {
     "name": "stderr",
     "output_type": "stream",
     "text": [
      "\n",
      "\n",
      "\n",
      " 35%|███▍      | 169/484 [20:06<54:37, 10.41s/it]\u001b[A\u001b[A\u001b[A"
     ]
    },
    {
     "name": "stdout",
     "output_type": "stream",
     "text": [
      "validation/non-covid/non-covid/ct_scan_19 non-covid 100 248 7 66 512 469\n",
      "\n"
     ]
    },
    {
     "name": "stderr",
     "output_type": "stream",
     "text": [
      "\n",
      "\n",
      "\n",
      " 35%|███▌      | 170/484 [20:19<57:42, 11.03s/it]\u001b[A\u001b[A\u001b[A"
     ]
    },
    {
     "name": "stdout",
     "output_type": "stream",
     "text": [
      "validation/non-covid/non-covid/ct_scan_192 non-covid 23 70 0 20 512 414\n",
      "\n"
     ]
    },
    {
     "name": "stderr",
     "output_type": "stream",
     "text": [
      "\n",
      "\n",
      "\n",
      " 35%|███▌      | 171/484 [20:23<46:33,  8.93s/it]\u001b[A\u001b[A\u001b[A"
     ]
    },
    {
     "name": "stdout",
     "output_type": "stream",
     "text": [
      "validation/non-covid/non-covid/ct_scan_174 non-covid 27 52 0 89 508 435\n",
      "\n"
     ]
    },
    {
     "name": "stderr",
     "output_type": "stream",
     "text": [
      "\n",
      "\n",
      "\n",
      " 36%|███▌      | 172/484 [20:25<35:55,  6.91s/it]\u001b[A\u001b[A\u001b[A"
     ]
    },
    {
     "name": "stdout",
     "output_type": "stream",
     "text": [
      "validation/non-covid/non-covid/ct_scan_171 non-covid 22 48 0 167 512 460\n",
      "\n"
     ]
    },
    {
     "name": "stderr",
     "output_type": "stream",
     "text": [
      "\n",
      "\n",
      "\n",
      " 36%|███▌      | 173/484 [20:27<28:44,  5.54s/it]\u001b[A\u001b[A\u001b[A"
     ]
    },
    {
     "name": "stdout",
     "output_type": "stream",
     "text": [
      "validation/non-covid/non-covid/ct_scan_12 non-covid 13 27 0 81 512 490\n",
      "\n"
     ]
    },
    {
     "name": "stderr",
     "output_type": "stream",
     "text": [
      "\n",
      "\n",
      "\n",
      " 36%|███▌      | 174/484 [20:28<22:01,  4.26s/it]\u001b[A\u001b[A\u001b[A"
     ]
    },
    {
     "name": "stdout",
     "output_type": "stream",
     "text": [
      "validation/non-covid/non-covid/ct_scan_59 non-covid 10 23 0 130 512 432\n",
      "\n"
     ]
    },
    {
     "name": "stderr",
     "output_type": "stream",
     "text": [
      "\n",
      "\n",
      "\n",
      " 36%|███▌      | 175/484 [20:30<17:11,  3.34s/it]\u001b[A\u001b[A\u001b[A"
     ]
    },
    {
     "name": "stdout",
     "output_type": "stream",
     "text": [
      "validation/non-covid/non-covid/ct_scan_4 non-covid 14 47 0 85 512 476\n",
      "\n"
     ]
    },
    {
     "name": "stderr",
     "output_type": "stream",
     "text": [
      "\n",
      "\n",
      "\n",
      " 36%|███▋      | 176/484 [20:33<16:23,  3.19s/it]\u001b[A\u001b[A\u001b[A"
     ]
    },
    {
     "name": "stdout",
     "output_type": "stream",
     "text": [
      "validation/non-covid/non-covid/ct_scan_165 non-covid 10 21 0 76 512 438\n",
      "\n"
     ]
    },
    {
     "name": "stderr",
     "output_type": "stream",
     "text": [
      "\n",
      "\n",
      "\n",
      " 37%|███▋      | 177/484 [20:34<12:59,  2.54s/it]\u001b[A\u001b[A\u001b[A"
     ]
    },
    {
     "name": "stdout",
     "output_type": "stream",
     "text": [
      "validation/non-covid/val_non_covid/ct_scan247 non-covid 121 276 17 128 500 452\n",
      "\n"
     ]
    },
    {
     "name": "stderr",
     "output_type": "stream",
     "text": [
      "\n",
      "\n",
      "\n",
      " 37%|███▋      | 178/484 [20:47<29:05,  5.71s/it]\u001b[A\u001b[A\u001b[A"
     ]
    },
    {
     "name": "stdout",
     "output_type": "stream",
     "text": [
      "validation/non-covid/non-covid/ct_scan_96 non-covid 23 49 11 153 482 480\n",
      "\n"
     ]
    },
    {
     "name": "stderr",
     "output_type": "stream",
     "text": [
      "\n",
      "\n",
      "\n",
      " 37%|███▋      | 179/484 [20:49<23:46,  4.68s/it]\u001b[A\u001b[A\u001b[A"
     ]
    },
    {
     "name": "stdout",
     "output_type": "stream",
     "text": [
      "validation/non-covid/val_non_covid/ct_scan267 non-covid 76 214 42 64 448 417\n",
      "\n"
     ]
    },
    {
     "name": "stderr",
     "output_type": "stream",
     "text": [
      "\n",
      "\n",
      "\n",
      " 37%|███▋      | 180/484 [21:01<34:16,  6.77s/it]\u001b[A\u001b[A\u001b[A"
     ]
    },
    {
     "name": "stdout",
     "output_type": "stream",
     "text": [
      "validation/non-covid/non-covid/ct_scan_162 non-covid 38 64 6 95 507 416\n",
      "\n"
     ]
    },
    {
     "name": "stderr",
     "output_type": "stream",
     "text": [
      "\n",
      "\n",
      "\n",
      " 37%|███▋      | 181/484 [21:03<27:31,  5.45s/it]\u001b[A\u001b[A\u001b[A"
     ]
    },
    {
     "name": "stdout",
     "output_type": "stream",
     "text": [
      "validation/non-covid/non-covid/ct_scan_81 non-covid 99 330 27 91 488 434\n",
      "\n"
     ]
    },
    {
     "name": "stderr",
     "output_type": "stream",
     "text": [
      "\n",
      "\n",
      "\n",
      " 38%|███▊      | 182/484 [21:23<48:57,  9.73s/it]\u001b[A\u001b[A\u001b[A"
     ]
    },
    {
     "name": "stdout",
     "output_type": "stream",
     "text": [
      "validation/non-covid/non-covid/ct_scan_119 non-covid 23 51 0 69 512 398\n",
      "\n"
     ]
    },
    {
     "name": "stderr",
     "output_type": "stream",
     "text": [
      "\n",
      "\n",
      "\n",
      " 38%|███▊      | 183/484 [21:25<38:01,  7.58s/it]\u001b[A\u001b[A\u001b[A"
     ]
    },
    {
     "name": "stdout",
     "output_type": "stream",
     "text": [
      "validation/non-covid/non-covid/ct_scan_202 non-covid 100 229 0 93 512 430\n",
      "\n"
     ]
    },
    {
     "name": "stderr",
     "output_type": "stream",
     "text": [
      "\n",
      "\n",
      "\n",
      " 38%|███▊      | 184/484 [21:36<42:50,  8.57s/it]\u001b[A\u001b[A\u001b[A"
     ]
    },
    {
     "name": "stdout",
     "output_type": "stream",
     "text": [
      "validation/non-covid/non-covid/ct_scan_34 non-covid 132 294 0 83 512 482\n",
      "\n"
     ]
    },
    {
     "name": "stderr",
     "output_type": "stream",
     "text": [
      "\n",
      "\n",
      "\n",
      " 38%|███▊      | 185/484 [21:50<50:34, 10.15s/it]\u001b[A\u001b[A\u001b[A"
     ]
    },
    {
     "name": "stdout",
     "output_type": "stream",
     "text": [
      "validation/non-covid/non-covid/ct_scan_186 non-covid 32 77 7 100 507 441\n",
      "\n"
     ]
    },
    {
     "name": "stderr",
     "output_type": "stream",
     "text": [
      "\n",
      "\n",
      "\n",
      " 38%|███▊      | 186/484 [21:54<41:04,  8.27s/it]\u001b[A\u001b[A\u001b[A"
     ]
    },
    {
     "name": "stdout",
     "output_type": "stream",
     "text": [
      "validation/non-covid/non-covid/ct_scan_80 non-covid 16 33 0 63 512 447\n",
      "\n"
     ]
    },
    {
     "name": "stderr",
     "output_type": "stream",
     "text": [
      "\n",
      "\n",
      "\n",
      " 39%|███▊      | 187/484 [21:55<30:55,  6.25s/it]\u001b[A\u001b[A\u001b[A"
     ]
    },
    {
     "name": "stdout",
     "output_type": "stream",
     "text": [
      "validation/non-covid/non-covid/ct_scan_2 non-covid 239 419 5 105 478 426\n",
      "\n"
     ]
    },
    {
     "name": "stderr",
     "output_type": "stream",
     "text": [
      "\n",
      "\n",
      "\n",
      " 39%|███▉      | 188/484 [22:11<44:07,  8.94s/it]\u001b[A\u001b[A\u001b[A"
     ]
    },
    {
     "name": "stdout",
     "output_type": "stream",
     "text": [
      "validation/non-covid/non-covid/ct_scan_79 non-covid 135 320 17 107 499 448\n",
      "\n"
     ]
    }
   ],
   "source": [
    "#subsets = ['val','train']  #for test dataset, UNet segmentation and refinement are combined. \n",
    "subsets = ['validation']\n",
    "\n",
    "from tqdm import tqdm\n",
    "\n",
    "debug = False\n",
    "split = 1 \n",
    "\n",
    "for subset in subsets:     \n",
    "\n",
    "    list_file = data_list_dir + '{}_rgb_split{}.txt'.format(subset,split) \n",
    "    lines = open(list_file,\"r\").readlines() \n",
    "\n",
    "    pbar = tqdm(total = len(lines))\n",
    "    \n",
    "    for l in lines:\n",
    "        \n",
    "        print(l)\n",
    "        \n",
    "        pbar.update()\n",
    "        \n",
    "        l_splits = l.split()  \n",
    "                \n",
    "        l_path = l_splits[0]        \n",
    "        c = l_splits[1]\n",
    "        first_slice = int(l_splits[2])\n",
    "        last_slice = int(l_splits[3])\n",
    "\n",
    "        count = 0 \n",
    "        for f in range(first_slice,last_slice+1):\n",
    "            \n",
    "            count +=1 \n",
    "            \n",
    "            #if count>10:\n",
    "            #    break \n",
    "            \n",
    "            fn = \"{}/{}.jpg\".format(l_path,f)\n",
    "            f_full = covidx_img_dir + fn\n",
    "            m_full = covidx_img_dir + 'mask/' + fn\n",
    "            m_full_new = m_full+'_refined.jpg'            \n",
    "            #print(f_full,m_full,m_full_new)\n",
    "            \n",
    "            if not os.path.exists(m_full_new) :\n",
    "                mask0,mask = refine_mask(m_full)                \n",
    "                cv2.imwrite(m_full_new, (mask*255).astype(np.uint8) )\n",
    "\n",
    "                if False: \n",
    "                    fig, (ax1,ax2) = plt.subplots(1,2)\n",
    "                    ax1.imshow(mask0*255,cmap='gray')\n",
    "                    ax2.imshow(mask*255,cmap='gray')                \n",
    "                \n"
   ]
  },
  {
   "cell_type": "code",
   "execution_count": null,
   "metadata": {},
   "outputs": [],
   "source": []
  }
 ],
 "metadata": {
  "kernelspec": {
   "display_name": "Python 3",
   "language": "python",
   "name": "python3"
  },
  "language_info": {
   "codemirror_mode": {
    "name": "ipython",
    "version": 3
   },
   "file_extension": ".py",
   "mimetype": "text/x-python",
   "name": "python",
   "nbconvert_exporter": "python",
   "pygments_lexer": "ipython3",
   "version": "3.7.6"
  }
 },
 "nbformat": 4,
 "nbformat_minor": 5
}
