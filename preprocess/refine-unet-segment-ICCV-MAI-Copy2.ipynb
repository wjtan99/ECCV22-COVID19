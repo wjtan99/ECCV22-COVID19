{
 "cells": [
  {
   "cell_type": "code",
   "execution_count": 1,
   "metadata": {},
   "outputs": [],
   "source": [
    "import os\n",
    "import cv2\n",
    "import numpy as np\n",
    "import matplotlib.pyplot as plt\n",
    "import shutil\n",
    "import tqdm "
   ]
  },
  {
   "cell_type": "code",
   "execution_count": 2,
   "metadata": {},
   "outputs": [],
   "source": [
    "import skimage, os\n",
    "from skimage.morphology import ball, disk, dilation,binary_dilation, binary_erosion, remove_small_objects, erosion, closing, reconstruction, binary_closing, binary_opening \n",
    "from skimage.measure import label,regionprops, perimeter\n",
    "from skimage.morphology import binary_dilation, binary_opening\n",
    "from skimage.filters import roberts, sobel\n",
    "from skimage import measure, feature\n",
    "from skimage.segmentation import clear_border, mark_boundaries\n",
    "from skimage import data\n",
    "from scipy import ndimage as ndi\n",
    "import matplotlib.pyplot as plt\n",
    "from mpl_toolkits.mplot3d.art3d import Poly3DCollection\n",
    "import scipy.misc\n",
    "from glob import glob\n",
    "from skimage.io import imread\n"
   ]
  },
  {
   "cell_type": "code",
   "execution_count": 3,
   "metadata": {},
   "outputs": [
    {
     "name": "stdout",
     "output_type": "stream",
     "text": [
      "/media/ubuntu/MyHDataStor3/datasets/COV19D/\n",
      "/media/ubuntu/MyHDataStor3/datasets/COV19D/\n",
      "/media/ubuntu/MyHDataStor3/datasets/COV19D/mask/\n",
      "/media/ubuntu/MyHDataStor2/products/COVID-19/ICCV-MAI/3D-CNN-BERT/BERT/datasets/settings/covid/\n"
     ]
    }
   ],
   "source": [
    "covidx_dir = '/media/ubuntu/MyHDataStor3/datasets/COV19D/'\n",
    "covidx_img_dir= covidx_dir \n",
    "covidx_mask_dir= covidx_dir + 'mask/' \n",
    "data_list_dir = '/media/ubuntu/MyHDataStor2/products/COVID-19/ICCV-MAI/3D-CNN-BERT/BERT/datasets/settings/covid/'\n",
    "\n",
    "print(covidx_dir)\n",
    "print(covidx_img_dir)\n",
    "print(covidx_mask_dir)\n",
    "print(data_list_dir)"
   ]
  },
  {
   "cell_type": "code",
   "execution_count": 4,
   "metadata": {},
   "outputs": [],
   "source": [
    "def seedfill(img):\n",
    "\n",
    "  rows,cols = img.shape \n",
    "\n",
    "  img_floodfill = img.copy()\n",
    "  mask = np.zeros((rows+2,cols+2), np.uint8)\n",
    "\n",
    "  '''\n",
    "  # Floodfill from point (0, 0)\n",
    "  found  = False \n",
    "  for x in range(cols): \n",
    "    for y in range(rows):\n",
    "      if img_floodfill[y,x] == 0:\n",
    "        found = True \n",
    "        break  \n",
    "    if found:\n",
    "      break \n",
    "\n",
    "  #cv2.floodFill(img_floodfill, mask, (x,y), 255);\n",
    "  ''' \n",
    "  \n",
    "\n",
    "  cv2.floodFill(img_floodfill, mask, (0,0), 255);\n",
    "  cv2.floodFill(img_floodfill, mask, (0,rows-1), 255);\n",
    "  cv2.floodFill(img_floodfill, mask, (cols-1,0), 255);\n",
    "  cv2.floodFill(img_floodfill, mask, (cols-1,rows-1), 255);\n",
    "\n",
    "  return img_floodfill \n"
   ]
  },
  {
   "cell_type": "code",
   "execution_count": 5,
   "metadata": {},
   "outputs": [],
   "source": [
    "def body_contour(binary_image):\n",
    "    \"\"\"Helper function to get body contour\"\"\"\n",
    "    contours, hier = cv2.findContours(binary_image, cv2.RETR_CCOMP, cv2.CHAIN_APPROX_SIMPLE)\n",
    "    areas = [cv2.contourArea(cnt) for cnt in contours]\n",
    "    body_idx = np.argmax(areas)\n",
    "    return contours[body_idx]\n",
    "\n",
    "\n",
    "def auto_body_crop(image, plot=False):\n",
    "    \"\"\"Roughly crop an image to the body region\"\"\"\n",
    "    # Create initial binary image\n",
    "    filt_image = cv2.GaussianBlur(image, (5, 5), 0)\n",
    "    \n",
    "    if plot == True:\n",
    "        f, plots = plt.subplots(3, 1, figsize=(5, 40))        \n",
    "        plots[0].axis('off')\n",
    "        plots[0].imshow(filt_image, cmap=plt.cm.bone)     \n",
    "    \n",
    "    \n",
    "    thresh = cv2.threshold(filt_image[filt_image > 0], 0, 255, cv2.THRESH_BINARY + cv2.THRESH_OTSU)[0]\n",
    "    #print(thresh) \n",
    "    \n",
    "    bin_image = np.uint8(filt_image > thresh)  \n",
    "    #bin_image2 = np.uint8(filt_image > 240)         \n",
    "    \n",
    "    \n",
    "    if plot == True:\n",
    "        plots[1].axis('off')\n",
    "        plots[1].imshow(bin_image, cmap=plt.cm.bone)     \n",
    "    \n",
    "    \n",
    "    erode_kernel = np.ones((7, 7), dtype=np.uint8)\n",
    "    bin_image = cv2.erode(bin_image, erode_kernel)\n",
    "    \n",
    "    #print(np.unique(bin_image))\n",
    "    if plot == True:\n",
    "        plots[2].axis('off')\n",
    "        plots[2].imshow(bin_image, cmap=plt.cm.bone)     \n",
    "        \n",
    "    # Find body contour\n",
    "    body_cont = body_contour(bin_image).squeeze()\n",
    "    \n",
    "    '''\n",
    "    #find the lung rectangle        \n",
    "    binary2 = ((1-bin_image)*255).astype(np.uint8) \n",
    "    kernel = np.ones((5,5), np.uint8) \n",
    "    binary2 = cv2.dilate(binary2, kernel, iterations=2) \n",
    "    binary2 = cv2.erode(binary2, kernel, iterations=2) \n",
    "    binary2 = seedfill(binary2) \n",
    "    binary2 = cv2.bitwise_not(binary2)    \n",
    "    if plot == True:\n",
    "        plots[3].axis('off')\n",
    "        plots[3].imshow(binary2, cmap=plt.cm.bone) \n",
    "    '''    \n",
    "    \n",
    "    #print(body_cont)\n",
    "\n",
    "    # Get bbox\n",
    "    xmin = body_cont[:, 0].min()\n",
    "    xmax = body_cont[:, 0].max() + 1\n",
    "    ymin = body_cont[:, 1].min()\n",
    "    ymax = body_cont[:, 1].max() + 1\n",
    "       \n",
    "    return bin_image, (xmin, ymin, xmax, ymax)\n",
    "\n",
    "\n",
    "def auto_segment(image, plot=False):\n",
    "    \"\"\"Roughly crop an image to the body region\"\"\"\n",
    "    # Create initial binary image\n",
    "    filt_image = cv2.GaussianBlur(image, (5, 5), 0)\n",
    "    \n",
    "    if plot == True:\n",
    "        f, plots = plt.subplots(9, 1, figsize=(5, 40))        \n",
    "        plots[0].axis('off')\n",
    "        plots[0].imshow(filt_image, cmap=plt.cm.bone)     \n",
    "    \n",
    "    \n",
    "    thresh = cv2.threshold(filt_image[filt_image > 0], 0, 255, cv2.THRESH_BINARY + cv2.THRESH_OTSU)[0]\n",
    "    print(thresh) \n",
    "    \n",
    "    bin_image = np.uint8(filt_image > thresh)  \n",
    "    #bin_image2 = np.uint8(filt_image > 240)             \n",
    "    \n",
    "    if plot == True:\n",
    "        plots[1].axis('off')\n",
    "        plots[1].imshow(bin_image, cmap=plt.cm.bone)     \n",
    "        \n",
    "    erode_kernel = np.ones((7, 7), dtype=np.uint8)\n",
    "    bin_image = cv2.erode(bin_image, erode_kernel)\n",
    "    #print(np.unique(bin_image))\n",
    "    if plot == True:\n",
    "        plots[2].axis('off')\n",
    "        plots[2].imshow(bin_image, cmap=plt.cm.bone)     \n",
    "        \n",
    " \n",
    "        \n",
    "    # Find body contour\n",
    "    body_cont = body_contour(bin_image).squeeze()\n",
    "    \n",
    "    #print(body_cont)\n",
    "\n",
    "    # Get bbox\n",
    "    xmin = body_cont[:, 0].min()\n",
    "    xmax = body_cont[:, 0].max() + 1\n",
    "    ymin = body_cont[:, 1].min()\n",
    "    ymax = body_cont[:, 1].max() + 1\n",
    "       \n",
    "        \n",
    "    bin_image_inv = (1 - bin_image)*255 \n",
    "    bin_image_inv = seedfill(bin_image_inv)/255 \n",
    "    cleared = clear_border(bin_image_inv)\n",
    "    if plot == True:\n",
    "        plots[3].axis('off')\n",
    "        plots[3].imshow(cleared, cmap=plt.cm.bone)     \n",
    "    \n",
    "    label_image = label(cleared)\n",
    "    if plot == True:\n",
    "        plots[4].axis('off')\n",
    "        plots[4].imshow(label_image, cmap=plt.cm.bone) \n",
    "        \n",
    "    '''\n",
    "    Step 4: Keep the labels with 2 largest areas.\n",
    "    '''\n",
    "    areas = [r.area for r in regionprops(label_image)]\n",
    "    areas.sort()\n",
    "    if len(areas) > 2:\n",
    "        for region in regionprops(label_image):\n",
    "            if region.area < areas[-2]:\n",
    "                for coordinates in region.coords:                \n",
    "                       label_image[coordinates[0], coordinates[1]] = 0\n",
    "\n",
    "    binary = label_image > 0\n",
    "    if plot == True:\n",
    "        plots[5].axis('off')\n",
    "        plots[5].imshow(binary, cmap=plt.cm.bone) \n",
    "    '''\n",
    "    Step 5: Erosion operation with a disk of radius 2. This operation is \n",
    "    seperate the lung nodules attached to the blood vessels.\n",
    "    '''\n",
    "    selem = disk(7)\n",
    "    binary = binary_erosion(binary, selem)\n",
    "    if plot == True:\n",
    "        plots[6].axis('off')\n",
    "        plots[6].imshow(binary, cmap=plt.cm.bone) \n",
    "    '''\n",
    "    Step 6: Closure operation with a disk of radius 10. This operation is \n",
    "    to keep nodules attached to the lung wall.\n",
    "    '''\n",
    "    selem = disk(10)\n",
    "    binary = binary_closing(binary, selem)\n",
    "    if plot == True:\n",
    "        plots[7].axis('off')\n",
    "        plots[7].imshow(binary, cmap=plt.cm.bone) \n",
    "    '''\n",
    "    Step 7: Fill in the small holes inside the binary mask of lungs.\n",
    "    '''\n",
    "\n",
    "    binary1 = binary.copy() \n",
    "\n",
    "    edges = roberts(binary)\n",
    "    binary = ndi.binary_fill_holes(edges)\n",
    "    if plot == True:\n",
    "        plots[8].axis('off')\n",
    "        plots[8].imshow(binary, cmap=plt.cm.bone) \n",
    "    \n",
    "    \n",
    "    return binary, binary1, (xmin, ymin, xmax, ymax)\n"
   ]
  },
  {
   "cell_type": "code",
   "execution_count": 6,
   "metadata": {},
   "outputs": [],
   "source": [
    "def refine_mask(m_full):\n",
    "    \n",
    "    mask2 = cv2.imread(m_full, cv2.IMREAD_UNCHANGED)\n",
    "    mask2 = (mask2/255).astype(np.uint8) \n",
    "    \n",
    "    selem = disk(10)\n",
    "    mask2_2  = binary_closing(mask2, selem)                \n",
    "    label_image = label(mask2_2)\n",
    "    \n",
    "    '''\n",
    "    Step 4: Keep the labels with 2 largest areas.\n",
    "    '''\n",
    "    areas = [r.area for r in regionprops(label_image)]\n",
    "    areas.sort()\n",
    "    if len(areas) > 2:\n",
    "        for region in regionprops(label_image):\n",
    "            if region.area < areas[-2]:\n",
    "                for coordinates in region.coords:                \n",
    "                    label_image[coordinates[0], coordinates[1]] = 0\n",
    "    mask2_3 = label_image > 0               \n",
    "    \n",
    "    edges = roberts(mask2_3) \n",
    "    mask2_4 = ndi.binary_fill_holes(edges)\n",
    "                \n",
    "    return mask2,mask2_4"
   ]
  },
  {
   "cell_type": "code",
   "execution_count": 7,
   "metadata": {},
   "outputs": [
    {
     "name": "stderr",
     "output_type": "stream",
     "text": [
      "\r",
      "  0%|          | 0/1992 [00:00<?, ?it/s]"
     ]
    },
    {
     "name": "stdout",
     "output_type": "stream",
     "text": [
      "train/covid/subset3/ct_scan_498 covid 22 69 0 73 512 419\n",
      "\n"
     ]
    },
    {
     "name": "stderr",
     "output_type": "stream",
     "text": [
      "\r",
      "  0%|          | 2/1992 [00:04<1:07:24,  2.03s/it]"
     ]
    },
    {
     "name": "stdout",
     "output_type": "stream",
     "text": [
      "train/covid/subset4/ct_scan832 covid 6 24 0 129 512 422\n",
      "\n"
     ]
    },
    {
     "name": "stderr",
     "output_type": "stream",
     "text": [
      "\r",
      "  0%|          | 3/1992 [00:05<1:03:18,  1.91s/it]"
     ]
    },
    {
     "name": "stdout",
     "output_type": "stream",
     "text": [
      "train/covid/subset2/ct_scan_332 covid 19 35 0 117 497 436\n",
      "\n"
     ]
    },
    {
     "name": "stderr",
     "output_type": "stream",
     "text": [
      "\r",
      "  0%|          | 4/1992 [00:07<58:31,  1.77s/it]  "
     ]
    },
    {
     "name": "stdout",
     "output_type": "stream",
     "text": [
      "train/covid/subset1/ct_scan_110 covid 73 257 0 171 512 512\n",
      "\n"
     ]
    },
    {
     "name": "stderr",
     "output_type": "stream",
     "text": [
      "\r",
      "  0%|          | 5/1992 [00:23<3:18:48,  6.00s/it]"
     ]
    },
    {
     "name": "stdout",
     "output_type": "stream",
     "text": [
      "train/covid/subset4/ct_scan842 covid 12 26 15 112 506 440\n",
      "\n"
     ]
    },
    {
     "name": "stderr",
     "output_type": "stream",
     "text": [
      "\r",
      "  0%|          | 6/1992 [00:24<2:31:46,  4.59s/it]"
     ]
    },
    {
     "name": "stdout",
     "output_type": "stream",
     "text": [
      "train/covid/subset2/ct_scan_408 covid 151 342 13 85 512 396\n",
      "\n"
     ]
    },
    {
     "name": "stderr",
     "output_type": "stream",
     "text": [
      "\r",
      "  0%|          | 7/1992 [00:40<4:26:43,  8.06s/it]"
     ]
    },
    {
     "name": "stdout",
     "output_type": "stream",
     "text": [
      "train/covid/subset3/ct_scan_490 covid 100 187 0 28 497 410\n",
      "\n"
     ]
    },
    {
     "name": "stderr",
     "output_type": "stream",
     "text": [
      "\r",
      "  0%|          | 8/1992 [00:47<4:20:25,  7.88s/it]"
     ]
    },
    {
     "name": "stdout",
     "output_type": "stream",
     "text": [
      "train/covid/subset1/ct_scan_84 covid 83 201 0 24 512 470\n",
      "\n"
     ]
    },
    {
     "name": "stderr",
     "output_type": "stream",
     "text": [
      "\r",
      "  0%|          | 9/1992 [00:57<4:41:00,  8.50s/it]"
     ]
    },
    {
     "name": "stdout",
     "output_type": "stream",
     "text": [
      "train/covid/subset4/ct_scan850 covid 12 29 10 67 500 429\n",
      "\n"
     ]
    },
    {
     "name": "stderr",
     "output_type": "stream",
     "text": [
      "\r",
      "  1%|          | 10/1992 [00:59<3:31:39,  6.41s/it]"
     ]
    },
    {
     "name": "stdout",
     "output_type": "stream",
     "text": [
      "train/covid/subset2/ct_scan_234 covid 103 211 0 98 512 456\n",
      "\n"
     ]
    },
    {
     "name": "stderr",
     "output_type": "stream",
     "text": [
      "\r",
      "  1%|          | 11/1992 [01:08<3:59:01,  7.24s/it]"
     ]
    },
    {
     "name": "stdout",
     "output_type": "stream",
     "text": [
      "train/covid/subset1/ct_scan_38 covid 120 327 0 100 512 470\n",
      "\n"
     ]
    },
    {
     "name": "stderr",
     "output_type": "stream",
     "text": [
      "\r",
      "  1%|          | 12/1992 [01:25<5:39:46, 10.30s/it]"
     ]
    },
    {
     "name": "stdout",
     "output_type": "stream",
     "text": [
      "train/covid/subset1/ct_scan_47 covid 42 55 0 71 491 441\n",
      "\n"
     ]
    },
    {
     "name": "stderr",
     "output_type": "stream",
     "text": [
      "\r",
      "  1%|          | 13/1992 [01:27<4:09:32,  7.57s/it]"
     ]
    },
    {
     "name": "stdout",
     "output_type": "stream",
     "text": [
      "train/covid/subset1/ct_scan_223 covid 21 36 25 112 480 414\n",
      "\n"
     ]
    },
    {
     "name": "stderr",
     "output_type": "stream",
     "text": [
      "\r",
      "  1%|          | 14/1992 [01:28<3:07:52,  5.70s/it]"
     ]
    },
    {
     "name": "stdout",
     "output_type": "stream",
     "text": [
      "train/covid/subset4/ct_scan874 covid 20 48 25 119 481 405\n",
      "\n"
     ]
    },
    {
     "name": "stderr",
     "output_type": "stream",
     "text": [
      "\r",
      "  1%|          | 15/1992 [01:30<2:35:28,  4.72s/it]"
     ]
    },
    {
     "name": "stdout",
     "output_type": "stream",
     "text": [
      "train/covid/subset3/ct_scan_584 covid 34 70 4 88 505 432\n",
      "\n"
     ]
    },
    {
     "name": "stderr",
     "output_type": "stream",
     "text": [
      "\r",
      "  1%|          | 16/1992 [01:34<2:19:40,  4.24s/it]"
     ]
    },
    {
     "name": "stdout",
     "output_type": "stream",
     "text": [
      "train/covid/subset3/ct_scan_514 covid 25 56 0 89 512 505\n",
      "\n"
     ]
    },
    {
     "name": "stderr",
     "output_type": "stream",
     "text": [
      "\r",
      "  1%|          | 17/1992 [01:36<2:04:16,  3.78s/it]"
     ]
    },
    {
     "name": "stdout",
     "output_type": "stream",
     "text": [
      "train/covid/subset4/ct_scan741 covid 63 235 0 107 512 415\n",
      "\n"
     ]
    },
    {
     "name": "stderr",
     "output_type": "stream",
     "text": [
      "\r",
      "  1%|          | 18/1992 [01:51<3:50:28,  7.01s/it]"
     ]
    },
    {
     "name": "stdout",
     "output_type": "stream",
     "text": [
      "train/covid/subset4/ct_scan707 covid 114 293 0 206 512 512\n",
      "\n"
     ]
    },
    {
     "name": "stderr",
     "output_type": "stream",
     "text": [
      "\r",
      "  1%|          | 19/1992 [02:06<5:14:17,  9.56s/it]"
     ]
    },
    {
     "name": "stdout",
     "output_type": "stream",
     "text": [
      "train/covid/subset1/ct_scan_29 covid 12 34 0 110 512 458\n",
      "\n"
     ]
    },
    {
     "name": "stderr",
     "output_type": "stream",
     "text": [
      "\r",
      "  1%|          | 20/1992 [02:08<3:58:52,  7.27s/it]"
     ]
    },
    {
     "name": "stdout",
     "output_type": "stream",
     "text": [
      "train/covid/subset4/ct_scan878 covid 49 153 0 112 512 382\n",
      "\n"
     ]
    },
    {
     "name": "stderr",
     "output_type": "stream",
     "text": [
      "\r",
      "  1%|          | 21/1992 [02:18<4:22:17,  7.98s/it]"
     ]
    },
    {
     "name": "stdout",
     "output_type": "stream",
     "text": [
      "train/covid/subset1/ct_scan_164 covid 20 39 0 107 512 435\n",
      "\n"
     ]
    },
    {
     "name": "stderr",
     "output_type": "stream",
     "text": [
      "\r",
      "  1%|          | 22/1992 [02:20<3:20:07,  6.10s/it]"
     ]
    },
    {
     "name": "stdout",
     "output_type": "stream",
     "text": [
      "train/covid/subset1/ct_scan_61 covid 119 238 0 78 512 483\n",
      "\n"
     ]
    },
    {
     "name": "stderr",
     "output_type": "stream",
     "text": [
      "\r",
      "  1%|          | 23/1992 [02:30<3:58:59,  7.28s/it]"
     ]
    },
    {
     "name": "stdout",
     "output_type": "stream",
     "text": [
      "train/covid/subset1/ct_scan_131 covid 14 27 0 110 512 460\n",
      "\n"
     ]
    },
    {
     "name": "stderr",
     "output_type": "stream",
     "text": [
      "\r",
      "  1%|          | 24/1992 [02:31<2:58:48,  5.45s/it]"
     ]
    },
    {
     "name": "stdout",
     "output_type": "stream",
     "text": [
      "train/covid/subset3/ct_scan_658 covid 14 29 0 92 512 434\n",
      "\n"
     ]
    },
    {
     "name": "stderr",
     "output_type": "stream",
     "text": [
      "\r",
      "  1%|▏         | 25/1992 [02:32<2:18:19,  4.22s/it]"
     ]
    },
    {
     "name": "stdout",
     "output_type": "stream",
     "text": [
      "train/covid/subset3/ct_scan_475 covid 93 179 25 152 487 434\n",
      "\n"
     ]
    },
    {
     "name": "stderr",
     "output_type": "stream",
     "text": [
      "\r",
      "  1%|▏         | 26/1992 [02:40<2:48:49,  5.15s/it]"
     ]
    },
    {
     "name": "stdout",
     "output_type": "stream",
     "text": [
      "train/covid/subset1/ct_scan_71 covid 94 261 0 52 500 433\n",
      "\n"
     ]
    },
    {
     "name": "stderr",
     "output_type": "stream",
     "text": [
      "\r",
      "  1%|▏         | 27/1992 [02:54<4:18:22,  7.89s/it]"
     ]
    },
    {
     "name": "stdout",
     "output_type": "stream",
     "text": [
      "train/covid/subset2/ct_scan_436 covid 102 189 0 133 512 470\n",
      "\n"
     ]
    },
    {
     "name": "stderr",
     "output_type": "stream",
     "text": [
      "\r",
      "  1%|▏         | 28/1992 [03:01<4:13:40,  7.75s/it]"
     ]
    },
    {
     "name": "stdout",
     "output_type": "stream",
     "text": [
      "train/covid/subset1/ct_scan_191 covid 93 214 0 47 512 476\n",
      "\n"
     ]
    },
    {
     "name": "stderr",
     "output_type": "stream",
     "text": [
      "\r",
      "  1%|▏         | 29/1992 [03:12<4:38:55,  8.53s/it]"
     ]
    },
    {
     "name": "stdout",
     "output_type": "stream",
     "text": [
      "train/covid/subset3/ct_scan_561 covid 28 75 38 97 499 444\n",
      "\n"
     ]
    },
    {
     "name": "stderr",
     "output_type": "stream",
     "text": [
      "\r",
      "  2%|▏         | 30/1992 [03:16<3:54:57,  7.19s/it]"
     ]
    },
    {
     "name": "stdout",
     "output_type": "stream",
     "text": [
      "train/covid/subset4/ct_scan794 covid 146 297 8 65 503 394\n",
      "\n"
     ]
    },
    {
     "name": "stderr",
     "output_type": "stream",
     "text": [
      "\r",
      "  2%|▏         | 31/1992 [03:28<4:49:35,  8.86s/it]"
     ]
    },
    {
     "name": "stdout",
     "output_type": "stream",
     "text": [
      "train/covid/subset3/ct_scan_614 covid 88 282 5 104 502 412\n",
      "\n"
     ]
    },
    {
     "name": "stderr",
     "output_type": "stream",
     "text": [
      "\r",
      "  2%|▏         | 32/1992 [03:45<6:04:40, 11.16s/it]"
     ]
    },
    {
     "name": "stdout",
     "output_type": "stream",
     "text": [
      "train/covid/subset1/ct_scan_8 covid 132 251 0 58 512 449\n",
      "\n"
     ]
    },
    {
     "name": "stderr",
     "output_type": "stream",
     "text": [
      "\r",
      "  2%|▏         | 33/1992 [03:55<5:55:48, 10.90s/it]"
     ]
    },
    {
     "name": "stdout",
     "output_type": "stream",
     "text": [
      "train/covid/subset4/ct_scan751 covid 113 244 0 107 512 445\n",
      "\n"
     ]
    },
    {
     "name": "stderr",
     "output_type": "stream",
     "text": [
      "\r",
      "  2%|▏         | 34/1992 [04:06<5:59:28, 11.02s/it]"
     ]
    },
    {
     "name": "stdout",
     "output_type": "stream",
     "text": [
      "train/covid/subset1/ct_scan_83 covid 243 288 0 102 512 512\n",
      "\n"
     ]
    },
    {
     "name": "stderr",
     "output_type": "stream",
     "text": [
      "\r",
      "  2%|▏         | 35/1992 [04:10<4:49:40,  8.88s/it]"
     ]
    },
    {
     "name": "stdout",
     "output_type": "stream",
     "text": [
      "train/covid/subset3/ct_scan_563 covid 68 161 0 74 512 415\n",
      "\n"
     ]
    },
    {
     "name": "stderr",
     "output_type": "stream",
     "text": [
      "\r",
      "  2%|▏         | 36/1992 [04:18<4:41:01,  8.62s/it]"
     ]
    },
    {
     "name": "stdout",
     "output_type": "stream",
     "text": [
      "train/covid/subset4/ct_scan742 covid 77 225 0 102 512 435\n",
      "\n"
     ]
    },
    {
     "name": "stderr",
     "output_type": "stream",
     "text": [
      "\r",
      "  2%|▏         | 37/1992 [04:31<5:20:49,  9.85s/it]"
     ]
    },
    {
     "name": "stdout",
     "output_type": "stream",
     "text": [
      "train/covid/subset1/ct_scan_182 covid 124 245 0 99 512 443\n",
      "\n"
     ]
    },
    {
     "name": "stderr",
     "output_type": "stream",
     "text": [
      "\r",
      "  2%|▏         | 38/1992 [04:42<5:26:14, 10.02s/it]"
     ]
    },
    {
     "name": "stdout",
     "output_type": "stream",
     "text": [
      "train/covid/subset3/ct_scan_474 covid 20 78 6 73 502 436\n",
      "\n"
     ]
    },
    {
     "name": "stderr",
     "output_type": "stream",
     "text": [
      "\r",
      "  2%|▏         | 39/1992 [04:47<4:37:37,  8.53s/it]"
     ]
    },
    {
     "name": "stdout",
     "output_type": "stream",
     "text": [
      "train/covid/subset1/ct_scan_48 covid 17 43 0 106 512 444\n",
      "\n"
     ]
    },
    {
     "name": "stderr",
     "output_type": "stream",
     "text": [
      "\r",
      "  2%|▏         | 40/1992 [04:49<3:36:40,  6.66s/it]"
     ]
    },
    {
     "name": "stdout",
     "output_type": "stream",
     "text": [
      "train/covid/subset4/ct_scan752 covid 103 240 0 111 512 448\n",
      "\n"
     ]
    },
    {
     "name": "stderr",
     "output_type": "stream",
     "text": [
      "\r",
      "  2%|▏         | 41/1992 [05:01<4:25:29,  8.16s/it]"
     ]
    },
    {
     "name": "stdout",
     "output_type": "stream",
     "text": [
      "train/covid/subset4/ct_scan710 covid 115 220 0 151 506 463\n",
      "\n"
     ]
    },
    {
     "name": "stderr",
     "output_type": "stream",
     "text": [
      "\r",
      "  2%|▏         | 42/1992 [05:10<4:33:10,  8.41s/it]"
     ]
    },
    {
     "name": "stdout",
     "output_type": "stream",
     "text": [
      "train/covid/subset4/ct_scan800 covid 127 234 0 78 512 418\n",
      "\n"
     ]
    },
    {
     "name": "stderr",
     "output_type": "stream",
     "text": [
      "\r",
      "  2%|▏         | 43/1992 [05:19<4:40:11,  8.63s/it]"
     ]
    },
    {
     "name": "stdout",
     "output_type": "stream",
     "text": [
      "train/covid/subset1/ct_scan_97 covid 132 347 0 93 501 448\n",
      "\n"
     ]
    },
    {
     "name": "stderr",
     "output_type": "stream",
     "text": [
      "\r",
      "  2%|▏         | 44/1992 [05:37<6:15:12, 11.56s/it]"
     ]
    },
    {
     "name": "stdout",
     "output_type": "stream",
     "text": [
      "train/covid/subset3/ct_scan_519 covid 17 29 0 97 512 434\n",
      "\n"
     ]
    },
    {
     "name": "stderr",
     "output_type": "stream",
     "text": [
      "\r",
      "  2%|▏         | 45/1992 [05:38<4:33:10,  8.42s/it]"
     ]
    },
    {
     "name": "stdout",
     "output_type": "stream",
     "text": [
      "train/covid/subset1/ct_scan_195 covid 116 240 0 42 512 477\n",
      "\n"
     ]
    },
    {
     "name": "stderr",
     "output_type": "stream",
     "text": [
      "\r",
      "  2%|▏         | 46/1992 [05:49<4:55:09,  9.10s/it]"
     ]
    },
    {
     "name": "stdout",
     "output_type": "stream",
     "text": [
      "train/covid/subset1/ct_scan_148 covid 125 244 0 99 512 443\n",
      "\n"
     ]
    },
    {
     "name": "stderr",
     "output_type": "stream",
     "text": [
      "\r",
      "  2%|▏         | 47/1992 [05:59<5:08:52,  9.53s/it]"
     ]
    },
    {
     "name": "stdout",
     "output_type": "stream",
     "text": [
      "train/covid/subset1/ct_scan_79 covid 179 409 0 96 512 466\n",
      "\n"
     ]
    },
    {
     "name": "stderr",
     "output_type": "stream",
     "text": [
      "\r",
      "  2%|▏         | 48/1992 [06:20<7:00:31, 12.98s/it]"
     ]
    },
    {
     "name": "stdout",
     "output_type": "stream",
     "text": [
      "train/covid/subset1/ct_scan_80 covid 138 241 0 50 512 493\n",
      "\n"
     ]
    },
    {
     "name": "stderr",
     "output_type": "stream",
     "text": [
      "\r",
      "  2%|▏         | 49/1992 [06:29<6:20:40, 11.76s/it]"
     ]
    },
    {
     "name": "stdout",
     "output_type": "stream",
     "text": [
      "train/covid/subset1/ct_scan_34 covid 16 28 0 160 505 449\n",
      "\n"
     ]
    },
    {
     "name": "stderr",
     "output_type": "stream",
     "text": [
      "\r",
      "  3%|▎         | 50/1992 [06:30<4:36:58,  8.56s/it]"
     ]
    },
    {
     "name": "stdout",
     "output_type": "stream",
     "text": [
      "train/covid/subset4/ct_scan714 covid 74 153 14 60 489 400\n",
      "\n"
     ]
    },
    {
     "name": "stderr",
     "output_type": "stream",
     "text": [
      "\r",
      "  3%|▎         | 51/1992 [06:37<4:19:14,  8.01s/it]"
     ]
    },
    {
     "name": "stdout",
     "output_type": "stream",
     "text": [
      "train/covid/subset2/ct_scan_438 covid 21 33 6 95 471 435\n",
      "\n"
     ]
    },
    {
     "name": "stderr",
     "output_type": "stream",
     "text": [
      "\r",
      "  3%|▎         | 52/1992 [06:38<3:12:02,  5.94s/it]"
     ]
    },
    {
     "name": "stdout",
     "output_type": "stream",
     "text": [
      "train/covid/subset3/ct_scan_665 covid 43 140 0 62 489 434\n",
      "\n"
     ]
    },
    {
     "name": "stderr",
     "output_type": "stream",
     "text": [
      "\r",
      "  3%|▎         | 53/1992 [06:47<3:35:24,  6.67s/it]"
     ]
    },
    {
     "name": "stdout",
     "output_type": "stream",
     "text": [
      "train/covid/subset4/ct_scan763 covid 97 181 24 72 500 398\n",
      "\n"
     ]
    },
    {
     "name": "stderr",
     "output_type": "stream",
     "text": [
      "\r",
      "  3%|▎         | 54/1992 [06:54<3:40:43,  6.83s/it]"
     ]
    },
    {
     "name": "stdout",
     "output_type": "stream",
     "text": [
      "train/covid/subset2/ct_scan_344 covid 45 131 0 0 512 512\n",
      "\n"
     ]
    },
    {
     "name": "stderr",
     "output_type": "stream",
     "text": [
      "\r",
      "  3%|▎         | 55/1992 [07:02<3:56:38,  7.33s/it]"
     ]
    },
    {
     "name": "stdout",
     "output_type": "stream",
     "text": [
      "train/covid/subset4/ct_scan753 covid 83 120 0 85 512 460\n",
      "\n"
     ]
    },
    {
     "name": "stderr",
     "output_type": "stream",
     "text": [
      "\r",
      "  3%|▎         | 56/1992 [07:06<3:16:52,  6.10s/it]"
     ]
    },
    {
     "name": "stdout",
     "output_type": "stream",
     "text": [
      "train/covid/subset2/ct_scan_381 covid 99 142 7 117 512 451\n",
      "\n"
     ]
    },
    {
     "name": "stderr",
     "output_type": "stream",
     "text": [
      "\r",
      "  3%|▎         | 57/1992 [07:09<2:54:22,  5.41s/it]"
     ]
    },
    {
     "name": "stdout",
     "output_type": "stream",
     "text": [
      "train/covid/subset3/ct_scan_641 covid 23 29 82 148 433 396\n",
      "\n"
     ]
    },
    {
     "name": "stderr",
     "output_type": "stream",
     "text": [
      "\r",
      "  3%|▎         | 58/1992 [07:10<2:07:48,  3.97s/it]"
     ]
    },
    {
     "name": "stdout",
     "output_type": "stream",
     "text": [
      "train/covid/subset1/ct_scan_165 covid 51 62 56 120 462 436\n",
      "\n"
     ]
    },
    {
     "name": "stderr",
     "output_type": "stream",
     "text": [
      "\r",
      "  3%|▎         | 59/1992 [07:11<1:39:19,  3.08s/it]"
     ]
    },
    {
     "name": "stdout",
     "output_type": "stream",
     "text": [
      "train/covid/subset4/ct_scan739 covid 162 320 0 106 494 470\n",
      "\n"
     ]
    },
    {
     "name": "stderr",
     "output_type": "stream",
     "text": [
      "\r",
      "  3%|▎         | 60/1992 [07:25<3:22:50,  6.30s/it]"
     ]
    },
    {
     "name": "stdout",
     "output_type": "stream",
     "text": [
      "train/covid/subset3/ct_scan_522 covid 69 191 4 55 512 439\n",
      "\n"
     ]
    },
    {
     "name": "stderr",
     "output_type": "stream",
     "text": [
      "\r",
      "  3%|▎         | 61/1992 [07:35<4:03:22,  7.56s/it]"
     ]
    },
    {
     "name": "stdout",
     "output_type": "stream",
     "text": [
      "train/covid/subset2/ct_scan_235 covid 142 310 11 91 512 442\n",
      "\n"
     ]
    },
    {
     "name": "stderr",
     "output_type": "stream",
     "text": [
      "\r",
      "  3%|▎         | 62/1992 [07:50<5:07:52,  9.57s/it]"
     ]
    },
    {
     "name": "stdout",
     "output_type": "stream",
     "text": [
      "train/covid/subset3/ct_scan_585 covid 26 58 0 92 512 505\n",
      "\n"
     ]
    },
    {
     "name": "stderr",
     "output_type": "stream",
     "text": [
      "\r",
      "  3%|▎         | 63/1992 [07:52<4:02:20,  7.54s/it]"
     ]
    },
    {
     "name": "stdout",
     "output_type": "stream",
     "text": [
      "train/covid/subset3/ct_scan_661 covid 34 69 39 70 491 400\n",
      "\n"
     ]
    },
    {
     "name": "stderr",
     "output_type": "stream",
     "text": [
      "\r",
      "  3%|▎         | 64/1992 [07:55<3:18:46,  6.19s/it]"
     ]
    },
    {
     "name": "stdout",
     "output_type": "stream",
     "text": [
      "train/covid/subset2/ct_scan_413 covid 103 324 0 81 512 461\n",
      "\n"
     ]
    },
    {
     "name": "stderr",
     "output_type": "stream",
     "text": [
      "\r",
      "  3%|▎         | 65/1992 [08:16<5:33:42, 10.39s/it]"
     ]
    },
    {
     "name": "stdout",
     "output_type": "stream",
     "text": [
      "train/covid/subset4/ct_scan871 covid 39 66 23 54 507 335\n",
      "\n"
     ]
    },
    {
     "name": "stderr",
     "output_type": "stream",
     "text": [
      "\r",
      "  3%|▎         | 66/1992 [08:18<4:16:18,  7.98s/it]"
     ]
    },
    {
     "name": "stdout",
     "output_type": "stream",
     "text": [
      "train/covid/subset3/ct_scan_534 covid 15 32 0 58 498 409\n",
      "\n"
     ]
    },
    {
     "name": "stderr",
     "output_type": "stream",
     "text": [
      "\r",
      "  3%|▎         | 67/1992 [08:19<3:13:58,  6.05s/it]"
     ]
    },
    {
     "name": "stdout",
     "output_type": "stream",
     "text": [
      "train/covid/subset2/ct_scan_393 covid 134 277 17 84 488 428\n",
      "\n"
     ]
    },
    {
     "name": "stderr",
     "output_type": "stream",
     "text": [
      "\r",
      "  3%|▎         | 68/1992 [08:32<4:13:03,  7.89s/it]"
     ]
    },
    {
     "name": "stdout",
     "output_type": "stream",
     "text": [
      "train/covid/subset2/ct_scan_431 covid 16 30 0 105 512 451\n",
      "\n"
     ]
    },
    {
     "name": "stderr",
     "output_type": "stream",
     "text": [
      "\r",
      "  3%|▎         | 69/1992 [08:33<3:09:10,  5.90s/it]"
     ]
    },
    {
     "name": "stdout",
     "output_type": "stream",
     "text": [
      "train/covid/subset2/ct_scan_311 covid 88 266 0 30 512 494\n",
      "\n"
     ]
    },
    {
     "name": "stderr",
     "output_type": "stream",
     "text": [
      "\r",
      "  4%|▎         | 70/1992 [08:48<4:37:25,  8.66s/it]"
     ]
    },
    {
     "name": "stdout",
     "output_type": "stream",
     "text": [
      "train/covid/subset3/ct_scan_517 covid 10 31 0 90 512 440\n",
      "\n"
     ]
    },
    {
     "name": "stderr",
     "output_type": "stream",
     "text": [
      "\r",
      "  4%|▎         | 71/1992 [08:50<3:32:00,  6.62s/it]"
     ]
    },
    {
     "name": "stdout",
     "output_type": "stream",
     "text": [
      "train/covid/subset3/ct_scan_555 covid 16 23 0 153 505 424\n",
      "\n"
     ]
    },
    {
     "name": "stderr",
     "output_type": "stream",
     "text": [
      "\r",
      "  4%|▎         | 72/1992 [08:51<2:34:48,  4.84s/it]"
     ]
    },
    {
     "name": "stdout",
     "output_type": "stream",
     "text": [
      "train/covid/subset3/ct_scan_570 covid 11 28 0 116 512 415\n",
      "\n"
     ]
    },
    {
     "name": "stderr",
     "output_type": "stream",
     "text": [
      "\r",
      "  4%|▎         | 73/1992 [08:52<2:03:02,  3.85s/it]"
     ]
    },
    {
     "name": "stdout",
     "output_type": "stream",
     "text": [
      "train/covid/subset3/ct_scan_670 covid 12 21 0 138 512 486\n",
      "\n"
     ]
    },
    {
     "name": "stderr",
     "output_type": "stream",
     "text": [
      "\r",
      "  4%|▎         | 74/1992 [08:53<1:34:15,  2.95s/it]"
     ]
    },
    {
     "name": "stdout",
     "output_type": "stream",
     "text": [
      "train/covid/subset3/ct_scan_637 covid 80 229 13 62 491 409\n",
      "\n"
     ]
    },
    {
     "name": "stderr",
     "output_type": "stream",
     "text": [
      "\r",
      "  4%|▍         | 75/1992 [09:06<3:08:19,  5.89s/it]"
     ]
    },
    {
     "name": "stdout",
     "output_type": "stream",
     "text": [
      "train/covid/subset1/ct_scan_68 covid 16 29 0 90 512 451\n",
      "\n"
     ]
    },
    {
     "name": "stderr",
     "output_type": "stream",
     "text": [
      "\r",
      "  4%|▍         | 76/1992 [09:07<2:23:03,  4.48s/it]"
     ]
    },
    {
     "name": "stdout",
     "output_type": "stream",
     "text": [
      "train/covid/subset2/ct_scan_410 covid 91 229 0 53 502 403\n",
      "\n"
     ]
    },
    {
     "name": "stderr",
     "output_type": "stream",
     "text": [
      "\r",
      "  4%|▍         | 77/1992 [09:19<3:32:58,  6.67s/it]"
     ]
    },
    {
     "name": "stdout",
     "output_type": "stream",
     "text": [
      "train/covid/subset2/ct_scan_375 covid 123 333 0 103 512 479\n",
      "\n"
     ]
    },
    {
     "name": "stderr",
     "output_type": "stream",
     "text": [
      "\r",
      "  4%|▍         | 78/1992 [09:37<5:22:16, 10.10s/it]"
     ]
    },
    {
     "name": "stdout",
     "output_type": "stream",
     "text": [
      "train/covid/subset1/ct_scan_75 covid 68 186 0 124 512 465\n",
      "\n"
     ]
    },
    {
     "name": "stderr",
     "output_type": "stream",
     "text": [
      "\r",
      "  4%|▍         | 79/1992 [09:47<5:22:32, 10.12s/it]"
     ]
    },
    {
     "name": "stdout",
     "output_type": "stream",
     "text": [
      "train/covid/subset3/ct_scan_569 covid 686 827 0 46 506 384\n",
      "\n"
     ]
    },
    {
     "name": "stderr",
     "output_type": "stream",
     "text": [
      "\r",
      "  4%|▍         | 80/1992 [09:59<5:43:17, 10.77s/it]"
     ]
    },
    {
     "name": "stdout",
     "output_type": "stream",
     "text": [
      "train/covid/subset1/ct_scan_185 covid 53 179 0 170 512 512\n",
      "\n"
     ]
    },
    {
     "name": "stderr",
     "output_type": "stream",
     "text": [
      "\r",
      "  4%|▍         | 81/1992 [10:10<5:43:13, 10.78s/it]"
     ]
    },
    {
     "name": "stdout",
     "output_type": "stream",
     "text": [
      "train/covid/subset3/ct_scan_473 covid 59 150 4 86 512 459\n",
      "\n"
     ]
    },
    {
     "name": "stderr",
     "output_type": "stream",
     "text": [
      "\r",
      "  4%|▍         | 82/1992 [10:18<5:14:28,  9.88s/it]"
     ]
    },
    {
     "name": "stdout",
     "output_type": "stream",
     "text": [
      "train/covid/subset3/ct_scan_459 covid 86 127 14 120 500 400\n",
      "\n"
     ]
    },
    {
     "name": "stderr",
     "output_type": "stream",
     "text": [
      "\r",
      "  4%|▍         | 83/1992 [10:21<4:14:00,  7.98s/it]"
     ]
    },
    {
     "name": "stdout",
     "output_type": "stream",
     "text": [
      "train/covid/subset3/ct_scan_494 covid 77 253 34 92 483 351\n",
      "\n"
     ]
    },
    {
     "name": "stderr",
     "output_type": "stream",
     "text": [
      "\r",
      "  4%|▍         | 84/1992 [10:36<5:21:22, 10.11s/it]"
     ]
    },
    {
     "name": "stdout",
     "output_type": "stream",
     "text": [
      "train/covid/subset2/ct_scan_269 covid 96 187 0 93 512 457\n",
      "\n"
     ]
    },
    {
     "name": "stderr",
     "output_type": "stream",
     "text": [
      "\r",
      "  4%|▍         | 85/1992 [10:44<4:58:59,  9.41s/it]"
     ]
    },
    {
     "name": "stdout",
     "output_type": "stream",
     "text": [
      "train/covid/subset3/ct_scan_672 covid 26 50 0 80 512 407\n",
      "\n"
     ]
    },
    {
     "name": "stderr",
     "output_type": "stream",
     "text": [
      "\r",
      "  4%|▍         | 86/1992 [10:46<3:49:10,  7.21s/it]"
     ]
    },
    {
     "name": "stdout",
     "output_type": "stream",
     "text": [
      "train/covid/subset4/ct_scan697 covid 107 204 0 32 512 396\n",
      "\n"
     ]
    },
    {
     "name": "stderr",
     "output_type": "stream",
     "text": [
      "\r",
      "  4%|▍         | 87/1992 [10:55<3:59:28,  7.54s/it]"
     ]
    },
    {
     "name": "stdout",
     "output_type": "stream",
     "text": [
      "train/covid/subset2/ct_scan_232 covid 75 257 31 118 494 426\n",
      "\n"
     ]
    },
    {
     "name": "stderr",
     "output_type": "stream",
     "text": [
      "\r",
      "  4%|▍         | 88/1992 [11:10<5:13:53,  9.89s/it]"
     ]
    },
    {
     "name": "stdout",
     "output_type": "stream",
     "text": [
      "train/covid/subset2/ct_scan_354 covid 17 33 0 129 512 488\n",
      "\n"
     ]
    },
    {
     "name": "stderr",
     "output_type": "stream",
     "text": [
      "\r",
      "  4%|▍         | 89/1992 [11:11<3:53:16,  7.36s/it]"
     ]
    },
    {
     "name": "stdout",
     "output_type": "stream",
     "text": [
      "train/covid/subset3/ct_scan_502 covid 63 150 0 88 512 388\n",
      "\n"
     ]
    },
    {
     "name": "stderr",
     "output_type": "stream",
     "text": [
      "\r",
      "  5%|▍         | 90/1992 [11:19<3:53:44,  7.37s/it]"
     ]
    },
    {
     "name": "stdout",
     "output_type": "stream",
     "text": [
      "train/covid/subset1/ct_scan_163 covid 88 225 0 101 512 465\n",
      "\n"
     ]
    },
    {
     "name": "stderr",
     "output_type": "stream",
     "text": [
      "\r",
      "  5%|▍         | 91/1992 [11:30<4:33:51,  8.64s/it]"
     ]
    },
    {
     "name": "stdout",
     "output_type": "stream",
     "text": [
      "train/covid/subset2/ct_scan_320 covid 79 231 0 175 512 490\n",
      "\n"
     ]
    },
    {
     "name": "stderr",
     "output_type": "stream",
     "text": [
      "\r",
      "  5%|▍         | 92/1992 [11:43<5:15:28,  9.96s/it]"
     ]
    },
    {
     "name": "stdout",
     "output_type": "stream",
     "text": [
      "train/covid/subset4/ct_scan863 covid 20 42 25 124 481 405\n",
      "\n"
     ]
    },
    {
     "name": "stderr",
     "output_type": "stream",
     "text": [
      "\r",
      "  5%|▍         | 93/1992 [11:45<3:59:05,  7.55s/it]"
     ]
    },
    {
     "name": "stdout",
     "output_type": "stream",
     "text": [
      "train/covid/subset1/ct_scan_221 covid 264 370 8 50 505 442\n",
      "\n"
     ]
    },
    {
     "name": "stderr",
     "output_type": "stream",
     "text": [
      "\r",
      "  5%|▍         | 94/1992 [11:55<4:13:40,  8.02s/it]"
     ]
    },
    {
     "name": "stdout",
     "output_type": "stream",
     "text": [
      "train/covid/subset1/ct_scan_206 covid 78 142 0 159 505 449\n",
      "\n"
     ]
    },
    {
     "name": "stderr",
     "output_type": "stream",
     "text": [
      "\r",
      "  5%|▍         | 95/1992 [12:00<3:49:11,  7.25s/it]"
     ]
    },
    {
     "name": "stdout",
     "output_type": "stream",
     "text": [
      "train/covid/subset3/ct_scan_632 covid 34 45 0 106 512 477\n",
      "\n"
     ]
    },
    {
     "name": "stderr",
     "output_type": "stream",
     "text": [
      "\r",
      "  5%|▍         | 96/1992 [12:01<2:52:57,  5.47s/it]"
     ]
    },
    {
     "name": "stdout",
     "output_type": "stream",
     "text": [
      "train/covid/subset3/ct_scan_479 covid 27 82 0 66 512 430\n",
      "\n"
     ]
    },
    {
     "name": "stderr",
     "output_type": "stream",
     "text": [
      "\r",
      "  5%|▍         | 97/1992 [12:06<2:46:37,  5.28s/it]"
     ]
    },
    {
     "name": "stdout",
     "output_type": "stream",
     "text": [
      "train/covid/subset2/ct_scan_419 covid 75 202 5 150 500 459\n",
      "\n"
     ]
    },
    {
     "name": "stderr",
     "output_type": "stream",
     "text": [
      "\r",
      "  5%|▍         | 98/1992 [12:17<3:41:44,  7.02s/it]"
     ]
    },
    {
     "name": "stdout",
     "output_type": "stream",
     "text": [
      "train/covid/subset1/ct_scan_69 covid 19 38 17 84 487 428\n",
      "\n"
     ]
    },
    {
     "name": "stderr",
     "output_type": "stream",
     "text": [
      "\r",
      "  5%|▍         | 99/1992 [12:19<2:51:04,  5.42s/it]"
     ]
    },
    {
     "name": "stdout",
     "output_type": "stream",
     "text": [
      "train/covid/subset4/ct_scan861 covid 15 18 64 184 452 410\n",
      "\n"
     ]
    },
    {
     "name": "stderr",
     "output_type": "stream",
     "text": [
      "\r",
      "  5%|▌         | 100/1992 [12:19<2:02:55,  3.90s/it]"
     ]
    },
    {
     "name": "stdout",
     "output_type": "stream",
     "text": [
      "train/covid/subset3/ct_scan_684 covid 28 68 0 84 504 405\n",
      "\n"
     ]
    },
    {
     "name": "stderr",
     "output_type": "stream",
     "text": [
      "\r",
      "  5%|▌         | 101/1992 [12:23<1:59:05,  3.78s/it]"
     ]
    },
    {
     "name": "stdout",
     "output_type": "stream",
     "text": [
      "train/covid/subset4/ct_scan785 covid 137 167 0 145 512 512\n",
      "\n"
     ]
    },
    {
     "name": "stderr",
     "output_type": "stream",
     "text": [
      "\r",
      "  5%|▌         | 102/1992 [12:25<1:48:12,  3.43s/it]"
     ]
    },
    {
     "name": "stdout",
     "output_type": "stream",
     "text": [
      "train/covid/subset2/ct_scan_246 covid 129 249 0 115 512 492\n",
      "\n"
     ]
    },
    {
     "name": "stderr",
     "output_type": "stream",
     "text": [
      "\r",
      "  5%|▌         | 103/1992 [12:36<2:53:46,  5.52s/it]"
     ]
    },
    {
     "name": "stdout",
     "output_type": "stream",
     "text": [
      "train/covid/subset3/ct_scan_460 covid 35 69 28 116 485 402\n",
      "\n"
     ]
    },
    {
     "name": "stderr",
     "output_type": "stream",
     "text": [
      "\r",
      "  5%|▌         | 104/1992 [12:39<2:29:37,  4.76s/it]"
     ]
    },
    {
     "name": "stdout",
     "output_type": "stream",
     "text": [
      "train/covid/subset1/ct_scan_210 covid 11 27 0 39 512 455\n",
      "\n"
     ]
    },
    {
     "name": "stderr",
     "output_type": "stream",
     "text": [
      "\r",
      "  5%|▌         | 105/1992 [12:40<1:58:22,  3.76s/it]"
     ]
    },
    {
     "name": "stdout",
     "output_type": "stream",
     "text": [
      "train/covid/subset2/ct_scan_362 covid 87 259 18 139 459 434\n",
      "\n"
     ]
    },
    {
     "name": "stderr",
     "output_type": "stream",
     "text": [
      "\r",
      "  5%|▌         | 106/1992 [12:55<3:42:40,  7.08s/it]"
     ]
    },
    {
     "name": "stdout",
     "output_type": "stream",
     "text": [
      "train/covid/subset1/ct_scan_141 covid 101 185 0 73 512 449\n",
      "\n"
     ]
    },
    {
     "name": "stderr",
     "output_type": "stream",
     "text": [
      "\r",
      "  5%|▌         | 107/1992 [13:03<3:46:49,  7.22s/it]"
     ]
    },
    {
     "name": "stdout",
     "output_type": "stream",
     "text": [
      "train/covid/subset3/ct_scan_456 covid 72 180 0 75 512 397\n",
      "\n"
     ]
    },
    {
     "name": "stderr",
     "output_type": "stream",
     "text": [
      "\r",
      "  5%|▌         | 108/1992 [13:12<4:08:34,  7.92s/it]"
     ]
    },
    {
     "name": "stdout",
     "output_type": "stream",
     "text": [
      "train/covid/subset3/ct_scan_462 covid 93 218 13 70 512 411\n",
      "\n"
     ]
    },
    {
     "name": "stderr",
     "output_type": "stream",
     "text": [
      "\r",
      "  5%|▌         | 109/1992 [13:23<4:36:43,  8.82s/it]"
     ]
    },
    {
     "name": "stdout",
     "output_type": "stream",
     "text": [
      "train/covid/subset1/ct_scan_219 covid 20 39 0 107 512 435\n",
      "\n"
     ]
    },
    {
     "name": "stderr",
     "output_type": "stream",
     "text": [
      "\r",
      "  6%|▌         | 110/1992 [13:25<3:29:32,  6.68s/it]"
     ]
    },
    {
     "name": "stdout",
     "output_type": "stream",
     "text": [
      "train/covid/subset3/ct_scan_618 covid 96 207 12 93 489 412\n",
      "\n"
     ]
    },
    {
     "name": "stderr",
     "output_type": "stream",
     "text": [
      "\r",
      "  6%|▌         | 111/1992 [13:34<3:56:39,  7.55s/it]"
     ]
    },
    {
     "name": "stdout",
     "output_type": "stream",
     "text": [
      "train/covid/subset3/ct_scan_631 covid 17 53 0 117 512 373\n",
      "\n"
     ]
    },
    {
     "name": "stderr",
     "output_type": "stream",
     "text": [
      "\r",
      "  6%|▌         | 112/1992 [13:37<3:15:17,  6.23s/it]"
     ]
    },
    {
     "name": "stdout",
     "output_type": "stream",
     "text": [
      "train/covid/subset3/ct_scan_649 covid 36 72 10 101 502 454\n",
      "\n"
     ]
    },
    {
     "name": "stderr",
     "output_type": "stream",
     "text": [
      "\r",
      "  6%|▌         | 113/1992 [13:41<2:45:59,  5.30s/it]"
     ]
    },
    {
     "name": "stdout",
     "output_type": "stream",
     "text": [
      "train/covid/subset2/ct_scan_253 covid 22 39 0 93 512 469\n",
      "\n"
     ]
    },
    {
     "name": "stderr",
     "output_type": "stream",
     "text": [
      "\r",
      "  6%|▌         | 114/1992 [13:42<2:10:24,  4.17s/it]"
     ]
    },
    {
     "name": "stdout",
     "output_type": "stream",
     "text": [
      "train/covid/subset3/ct_scan_634 covid 28 67 4 58 512 449\n",
      "\n"
     ]
    },
    {
     "name": "stderr",
     "output_type": "stream",
     "text": [
      "\r",
      "  6%|▌         | 115/1992 [13:45<2:03:13,  3.94s/it]"
     ]
    },
    {
     "name": "stdout",
     "output_type": "stream",
     "text": [
      "train/covid/subset3/ct_scan_594 covid 11 24 0 120 512 387\n",
      "\n"
     ]
    },
    {
     "name": "stderr",
     "output_type": "stream",
     "text": [
      "\r",
      "  6%|▌         | 116/1992 [13:47<1:37:19,  3.11s/it]"
     ]
    },
    {
     "name": "stdout",
     "output_type": "stream",
     "text": [
      "train/covid/subset4/ct_scan728 covid 62 135 0 95 512 434\n",
      "\n"
     ]
    },
    {
     "name": "stderr",
     "output_type": "stream",
     "text": [
      "\r",
      "  6%|▌         | 117/1992 [13:53<2:06:30,  4.05s/it]"
     ]
    },
    {
     "name": "stdout",
     "output_type": "stream",
     "text": [
      "train/covid/subset3/ct_scan_681 covid 67 82 25 56 491 398\n",
      "\n"
     ]
    },
    {
     "name": "stderr",
     "output_type": "stream",
     "text": [
      "\r",
      "  6%|▌         | 118/1992 [13:54<1:41:28,  3.25s/it]"
     ]
    },
    {
     "name": "stdout",
     "output_type": "stream",
     "text": [
      "train/covid/subset4/ct_scan756 covid 141 315 7 41 489 404\n",
      "\n"
     ]
    },
    {
     "name": "stderr",
     "output_type": "stream",
     "text": [
      "\r",
      "  6%|▌         | 119/1992 [14:09<3:29:25,  6.71s/it]"
     ]
    },
    {
     "name": "stdout",
     "output_type": "stream",
     "text": [
      "train/covid/subset3/ct_scan_521 covid 13 25 5 106 488 372\n",
      "\n"
     ]
    },
    {
     "name": "stderr",
     "output_type": "stream",
     "text": [
      "\r",
      "  6%|▌         | 120/1992 [14:10<2:36:41,  5.02s/it]"
     ]
    },
    {
     "name": "stdout",
     "output_type": "stream",
     "text": [
      "train/covid/subset4/ct_scan771 covid 82 186 0 11 512 429\n",
      "\n"
     ]
    },
    {
     "name": "stderr",
     "output_type": "stream",
     "text": [
      "\r",
      "  6%|▌         | 121/1992 [14:19<3:12:41,  6.18s/it]"
     ]
    },
    {
     "name": "stdout",
     "output_type": "stream",
     "text": [
      "train/covid/subset4/ct_scan791 covid 88 190 13 114 512 412\n",
      "\n"
     ]
    },
    {
     "name": "stderr",
     "output_type": "stream",
     "text": [
      "\r",
      "  6%|▌         | 122/1992 [14:28<3:37:59,  6.99s/it]"
     ]
    },
    {
     "name": "stdout",
     "output_type": "stream",
     "text": [
      "train/covid/subset2/ct_scan_331 covid 26 39 25 160 475 470\n",
      "\n"
     ]
    },
    {
     "name": "stderr",
     "output_type": "stream",
     "text": [
      "\r",
      "  6%|▌         | 123/1992 [14:29<2:43:32,  5.25s/it]"
     ]
    },
    {
     "name": "stdout",
     "output_type": "stream",
     "text": [
      "train/covid/subset3/ct_scan_505 covid 112 233 38 107 467 435\n",
      "\n"
     ]
    },
    {
     "name": "stderr",
     "output_type": "stream",
     "text": [
      "\r",
      "  6%|▌         | 124/1992 [14:39<3:30:48,  6.77s/it]"
     ]
    },
    {
     "name": "stdout",
     "output_type": "stream",
     "text": [
      "train/covid/subset4/ct_scan746 covid 72 131 0 97 502 424\n",
      "\n"
     ]
    },
    {
     "name": "stderr",
     "output_type": "stream",
     "text": [
      "\r",
      "  6%|▋         | 125/1992 [14:45<3:14:48,  6.26s/it]"
     ]
    },
    {
     "name": "stdout",
     "output_type": "stream",
     "text": [
      "train/covid/subset1/ct_scan_52 covid 23 31 0 141 512 409\n",
      "\n"
     ]
    },
    {
     "name": "stderr",
     "output_type": "stream",
     "text": [
      "\r",
      "  6%|▋         | 126/1992 [14:45<2:23:23,  4.61s/it]"
     ]
    },
    {
     "name": "stdout",
     "output_type": "stream",
     "text": [
      "train/covid/subset1/ct_scan_33 covid 151 261 25 112 481 414\n",
      "\n"
     ]
    },
    {
     "name": "stderr",
     "output_type": "stream",
     "text": [
      "\r",
      "  6%|▋         | 127/1992 [14:55<3:06:53,  6.01s/it]"
     ]
    },
    {
     "name": "stdout",
     "output_type": "stream",
     "text": [
      "train/covid/subset1/ct_scan_154 covid 114 381 0 59 512 501\n",
      "\n"
     ]
    },
    {
     "name": "stderr",
     "output_type": "stream",
     "text": [
      "\r",
      "  6%|▋         | 128/1992 [15:18<5:47:26, 11.18s/it]"
     ]
    },
    {
     "name": "stdout",
     "output_type": "stream",
     "text": [
      "train/covid/subset3/ct_scan_622 covid 27 50 15 106 476 374\n",
      "\n"
     ]
    },
    {
     "name": "stderr",
     "output_type": "stream",
     "text": [
      "\r",
      "  6%|▋         | 129/1992 [15:20<4:22:32,  8.46s/it]"
     ]
    },
    {
     "name": "stdout",
     "output_type": "stream",
     "text": [
      "train/covid/subset3/ct_scan_463 covid 28 50 17 164 468 412\n",
      "\n"
     ]
    },
    {
     "name": "stderr",
     "output_type": "stream",
     "text": [
      "\r",
      "  7%|▋         | 130/1992 [15:22<3:21:47,  6.50s/it]"
     ]
    },
    {
     "name": "stdout",
     "output_type": "stream",
     "text": [
      "train/covid/subset1/ct_scan_147 covid 116 263 0 107 512 440\n",
      "\n"
     ]
    },
    {
     "name": "stderr",
     "output_type": "stream",
     "text": [
      "\r",
      "  7%|▋         | 131/1992 [15:34<4:17:12,  8.29s/it]"
     ]
    },
    {
     "name": "stdout",
     "output_type": "stream",
     "text": [
      "train/covid/subset2/ct_scan_244 covid 86 226 0 45 512 441\n",
      "\n"
     ]
    },
    {
     "name": "stderr",
     "output_type": "stream",
     "text": [
      "\r",
      "  7%|▋         | 132/1992 [15:46<4:50:18,  9.36s/it]"
     ]
    },
    {
     "name": "stdout",
     "output_type": "stream",
     "text": [
      "train/covid/subset4/ct_scan809 covid 20 34 34 87 479 413\n",
      "\n"
     ]
    },
    {
     "name": "stderr",
     "output_type": "stream",
     "text": [
      "\r",
      "  7%|▋         | 133/1992 [15:47<3:35:01,  6.94s/it]"
     ]
    },
    {
     "name": "stdout",
     "output_type": "stream",
     "text": [
      "train/covid/subset3/ct_scan_577 covid 77 138 0 172 512 439\n",
      "\n"
     ]
    },
    {
     "name": "stderr",
     "output_type": "stream",
     "text": [
      "\r",
      "  7%|▋         | 134/1992 [15:53<3:19:10,  6.43s/it]"
     ]
    },
    {
     "name": "stdout",
     "output_type": "stream",
     "text": [
      "train/covid/subset2/ct_scan_444 covid 12 29 0 109 512 409\n",
      "\n"
     ]
    },
    {
     "name": "stderr",
     "output_type": "stream",
     "text": [
      "\r",
      "  7%|▋         | 135/1992 [15:54<2:33:34,  4.96s/it]"
     ]
    },
    {
     "name": "stdout",
     "output_type": "stream",
     "text": [
      "train/covid/subset3/ct_scan_655 covid 38 83 15 58 492 447\n",
      "\n"
     ]
    },
    {
     "name": "stderr",
     "output_type": "stream",
     "text": [
      "\r",
      "  7%|▋         | 136/1992 [15:58<2:23:29,  4.64s/it]"
     ]
    },
    {
     "name": "stdout",
     "output_type": "stream",
     "text": [
      "train/covid/subset3/ct_scan_636 covid 32 82 7 115 483 411\n",
      "\n"
     ]
    },
    {
     "name": "stderr",
     "output_type": "stream",
     "text": [
      "\r",
      "  7%|▋         | 137/1992 [16:02<2:20:11,  4.53s/it]"
     ]
    },
    {
     "name": "stdout",
     "output_type": "stream",
     "text": [
      "train/covid/subset2/ct_scan_328 covid 106 215 0 88 512 481\n",
      "\n"
     ]
    },
    {
     "name": "stderr",
     "output_type": "stream",
     "text": [
      "\r",
      "  7%|▋         | 138/1992 [16:12<3:04:36,  5.97s/it]"
     ]
    },
    {
     "name": "stdout",
     "output_type": "stream",
     "text": [
      "train/covid/subset1/ct_scan_28 covid 70 187 0 89 512 460\n",
      "\n"
     ]
    },
    {
     "name": "stderr",
     "output_type": "stream",
     "text": [
      "\r",
      "  7%|▋         | 139/1992 [16:22<3:41:37,  7.18s/it]"
     ]
    },
    {
     "name": "stdout",
     "output_type": "stream",
     "text": [
      "train/covid/subset4/ct_scan724 covid 14 31 14 152 471 407\n",
      "\n"
     ]
    },
    {
     "name": "stderr",
     "output_type": "stream",
     "text": [
      "\r",
      "  7%|▋         | 140/1992 [16:23<2:49:05,  5.48s/it]"
     ]
    },
    {
     "name": "stdout",
     "output_type": "stream",
     "text": [
      "train/covid/subset4/ct_scan836 covid 9 26 0 72 512 448\n",
      "\n"
     ]
    },
    {
     "name": "stderr",
     "output_type": "stream",
     "text": [
      "\r",
      "  7%|▋         | 141/1992 [16:25<2:12:27,  4.29s/it]"
     ]
    },
    {
     "name": "stdout",
     "output_type": "stream",
     "text": [
      "train/covid/subset2/ct_scan_302 covid 110 201 0 122 454 400\n",
      "\n"
     ]
    },
    {
     "name": "stderr",
     "output_type": "stream",
     "text": [
      "\r",
      "  7%|▋         | 142/1992 [16:33<2:44:33,  5.34s/it]"
     ]
    },
    {
     "name": "stdout",
     "output_type": "stream",
     "text": [
      "train/covid/subset2/ct_scan_303 covid 123 253 0 125 512 489\n",
      "\n"
     ]
    },
    {
     "name": "stderr",
     "output_type": "stream",
     "text": [
      "\r",
      "  7%|▋         | 143/1992 [16:44<3:36:43,  7.03s/it]"
     ]
    },
    {
     "name": "stdout",
     "output_type": "stream",
     "text": [
      "train/covid/subset2/ct_scan_355 covid 136 286 0 82 512 410\n",
      "\n"
     ]
    },
    {
     "name": "stderr",
     "output_type": "stream",
     "text": [
      "\r",
      "  7%|▋         | 144/1992 [16:56<4:29:45,  8.76s/it]"
     ]
    },
    {
     "name": "stdout",
     "output_type": "stream",
     "text": [
      "train/covid/subset1/ct_scan_11 covid 121 168 0 90 512 466\n",
      "\n"
     ]
    },
    {
     "name": "stderr",
     "output_type": "stream",
     "text": [
      "\r",
      "  7%|▋         | 145/1992 [17:00<3:45:52,  7.34s/it]"
     ]
    },
    {
     "name": "stdout",
     "output_type": "stream",
     "text": [
      "train/covid/subset4/ct_scan700 covid 93 205 25 103 504 438\n",
      "\n"
     ]
    },
    {
     "name": "stderr",
     "output_type": "stream",
     "text": [
      "\r",
      "  7%|▋         | 146/1992 [17:10<4:06:10,  8.00s/it]"
     ]
    },
    {
     "name": "stdout",
     "output_type": "stream",
     "text": [
      "train/covid/subset3/ct_scan_572 covid 95 202 21 114 456 434\n",
      "\n"
     ]
    },
    {
     "name": "stderr",
     "output_type": "stream",
     "text": [
      "\r",
      "  7%|▋         | 147/1992 [17:19<4:16:54,  8.35s/it]"
     ]
    },
    {
     "name": "stdout",
     "output_type": "stream",
     "text": [
      "train/covid/subset1/ct_scan_214 covid 23 39 7 113 494 438\n",
      "\n"
     ]
    },
    {
     "name": "stderr",
     "output_type": "stream",
     "text": [
      "\r",
      "  7%|▋         | 148/1992 [17:20<3:12:59,  6.28s/it]"
     ]
    },
    {
     "name": "stdout",
     "output_type": "stream",
     "text": [
      "train/covid/subset3/ct_scan_642 covid 36 69 0 122 512 490\n",
      "\n"
     ]
    },
    {
     "name": "stderr",
     "output_type": "stream",
     "text": [
      "\r",
      "  7%|▋         | 149/1992 [17:23<2:41:49,  5.27s/it]"
     ]
    },
    {
     "name": "stdout",
     "output_type": "stream",
     "text": [
      "train/covid/subset3/ct_scan_571 covid 31 73 5 55 508 390\n",
      "\n"
     ]
    },
    {
     "name": "stderr",
     "output_type": "stream",
     "text": [
      "\r",
      "  8%|▊         | 150/1992 [17:27<2:26:38,  4.78s/it]"
     ]
    },
    {
     "name": "stdout",
     "output_type": "stream",
     "text": [
      "train/covid/subset1/ct_scan_193 covid 86 230 0 96 512 479\n",
      "\n"
     ]
    },
    {
     "name": "stderr",
     "output_type": "stream",
     "text": [
      "\r",
      "  8%|▊         | 151/1992 [17:39<3:34:21,  6.99s/it]"
     ]
    },
    {
     "name": "stdout",
     "output_type": "stream",
     "text": [
      "train/covid/subset3/ct_scan_541 covid 110 216 11 87 504 400\n",
      "\n"
     ]
    },
    {
     "name": "stderr",
     "output_type": "stream",
     "text": [
      "\r",
      "  8%|▊         | 152/1992 [17:48<3:52:54,  7.59s/it]"
     ]
    },
    {
     "name": "stdout",
     "output_type": "stream",
     "text": [
      "train/covid/subset4/ct_scan718 covid 111 216 0 181 512 502\n",
      "\n"
     ]
    },
    {
     "name": "stderr",
     "output_type": "stream",
     "text": [
      "\r",
      "  8%|▊         | 153/1992 [17:57<4:04:58,  7.99s/it]"
     ]
    },
    {
     "name": "stdout",
     "output_type": "stream",
     "text": [
      "train/covid/subset2/ct_scan_448 covid 20 53 0 91 512 461\n",
      "\n"
     ]
    },
    {
     "name": "stderr",
     "output_type": "stream",
     "text": [
      "\r",
      "  8%|▊         | 154/1992 [18:00<3:17:59,  6.46s/it]"
     ]
    },
    {
     "name": "stdout",
     "output_type": "stream",
     "text": [
      "train/covid/subset4/ct_scan869 covid 60 153 25 118 481 405\n",
      "\n"
     ]
    },
    {
     "name": "stderr",
     "output_type": "stream",
     "text": [
      "\r",
      "  8%|▊         | 155/1992 [18:08<3:32:53,  6.95s/it]"
     ]
    },
    {
     "name": "stdout",
     "output_type": "stream",
     "text": [
      "train/covid/subset1/ct_scan_9 covid 123 185 0 124 512 489\n",
      "\n"
     ]
    },
    {
     "name": "stderr",
     "output_type": "stream",
     "text": [
      "\r",
      "  8%|▊         | 156/1992 [18:13<3:17:50,  6.47s/it]"
     ]
    },
    {
     "name": "stdout",
     "output_type": "stream",
     "text": [
      "train/covid/subset2/ct_scan_366 covid 19 40 0 82 512 409\n",
      "\n"
     ]
    },
    {
     "name": "stderr",
     "output_type": "stream",
     "text": [
      "\r",
      "  8%|▊         | 157/1992 [18:15<2:35:27,  5.08s/it]"
     ]
    },
    {
     "name": "stdout",
     "output_type": "stream",
     "text": [
      "train/covid/subset4/ct_scan877 covid 16 28 0 162 512 399\n",
      "\n"
     ]
    },
    {
     "name": "stderr",
     "output_type": "stream",
     "text": [
      "\r",
      "  8%|▊         | 158/1992 [18:17<1:59:56,  3.92s/it]"
     ]
    },
    {
     "name": "stdout",
     "output_type": "stream",
     "text": [
      "train/covid/subset2/ct_scan_372 covid 18 34 0 58 512 448\n",
      "\n"
     ]
    },
    {
     "name": "stderr",
     "output_type": "stream",
     "text": [
      "\r",
      "  8%|▊         | 159/1992 [18:18<1:37:07,  3.18s/it]"
     ]
    },
    {
     "name": "stdout",
     "output_type": "stream",
     "text": [
      "train/covid/subset3/ct_scan_666 covid 40 82 16 58 489 447\n",
      "\n"
     ]
    },
    {
     "name": "stderr",
     "output_type": "stream",
     "text": [
      "\r",
      "  8%|▊         | 160/1992 [18:22<1:45:21,  3.45s/it]"
     ]
    },
    {
     "name": "stdout",
     "output_type": "stream",
     "text": [
      "train/covid/subset4/ct_scan848 covid 15 24 24 139 512 403\n",
      "\n"
     ]
    },
    {
     "name": "stderr",
     "output_type": "stream",
     "text": [
      "\r",
      "  8%|▊         | 161/1992 [18:23<1:21:26,  2.67s/it]"
     ]
    },
    {
     "name": "stdout",
     "output_type": "stream",
     "text": [
      "train/covid/subset3/ct_scan_674 covid 33 81 8 114 483 411\n",
      "\n"
     ]
    },
    {
     "name": "stderr",
     "output_type": "stream",
     "text": [
      "\r",
      "  8%|▊         | 162/1992 [18:27<1:35:02,  3.12s/it]"
     ]
    },
    {
     "name": "stdout",
     "output_type": "stream",
     "text": [
      "train/covid/subset3/ct_scan_513 covid 27 75 38 97 499 444\n",
      "\n"
     ]
    },
    {
     "name": "stderr",
     "output_type": "stream",
     "text": [
      "\r",
      "  8%|▊         | 163/1992 [18:31<1:45:25,  3.46s/it]"
     ]
    },
    {
     "name": "stdout",
     "output_type": "stream",
     "text": [
      "train/covid/subset3/ct_scan_457 covid 32 72 14 70 512 411\n",
      "\n"
     ]
    },
    {
     "name": "stderr",
     "output_type": "stream",
     "text": [
      "\r",
      "  8%|▊         | 164/1992 [18:35<1:51:51,  3.67s/it]"
     ]
    },
    {
     "name": "stdout",
     "output_type": "stream",
     "text": [
      "train/covid/subset1/ct_scan_149 covid 16 42 0 56 512 442\n",
      "\n"
     ]
    },
    {
     "name": "stderr",
     "output_type": "stream",
     "text": [
      "\r",
      "  8%|▊         | 165/1992 [18:38<1:38:59,  3.25s/it]"
     ]
    },
    {
     "name": "stdout",
     "output_type": "stream",
     "text": [
      "train/covid/subset4/ct_scan872 covid 80 132 6 154 512 413\n",
      "\n"
     ]
    },
    {
     "name": "stderr",
     "output_type": "stream",
     "text": [
      "\r",
      "  8%|▊         | 166/1992 [18:42<1:49:58,  3.61s/it]"
     ]
    },
    {
     "name": "stdout",
     "output_type": "stream",
     "text": [
      "train/covid/subset2/ct_scan_434 covid 108 296 0 113 497 451\n",
      "\n"
     ]
    },
    {
     "name": "stderr",
     "output_type": "stream",
     "text": [
      "\r",
      "  8%|▊         | 167/1992 [18:58<3:42:54,  7.33s/it]"
     ]
    },
    {
     "name": "stdout",
     "output_type": "stream",
     "text": [
      "train/covid/subset1/ct_scan_222 covid 20 39 0 109 512 482\n",
      "\n"
     ]
    },
    {
     "name": "stderr",
     "output_type": "stream",
     "text": [
      "\r",
      "  8%|▊         | 168/1992 [19:00<2:51:20,  5.64s/it]"
     ]
    },
    {
     "name": "stdout",
     "output_type": "stream",
     "text": [
      "train/covid/subset4/ct_scan810 covid 10 21 0 96 512 435\n",
      "\n"
     ]
    },
    {
     "name": "stderr",
     "output_type": "stream",
     "text": [
      "\r",
      "  8%|▊         | 169/1992 [19:01<2:09:15,  4.25s/it]"
     ]
    },
    {
     "name": "stdout",
     "output_type": "stream",
     "text": [
      "train/covid/subset4/ct_scan781 covid 122 194 0 0 512 358\n",
      "\n"
     ]
    },
    {
     "name": "stderr",
     "output_type": "stream",
     "text": [
      "\r",
      "  9%|▊         | 170/1992 [19:07<2:26:43,  4.83s/it]"
     ]
    },
    {
     "name": "stdout",
     "output_type": "stream",
     "text": [
      "train/covid/subset2/ct_scan_275 covid 19 44 11 52 488 420\n",
      "\n"
     ]
    },
    {
     "name": "stderr",
     "output_type": "stream",
     "text": [
      "\r",
      "  9%|▊         | 171/1992 [19:09<2:02:30,  4.04s/it]"
     ]
    },
    {
     "name": "stdout",
     "output_type": "stream",
     "text": [
      "train/covid/subset2/ct_scan_416 covid 97 200 0 111 512 463\n",
      "\n"
     ]
    },
    {
     "name": "stderr",
     "output_type": "stream",
     "text": [
      "\r",
      "  9%|▊         | 172/1992 [19:18<2:45:55,  5.47s/it]"
     ]
    },
    {
     "name": "stdout",
     "output_type": "stream",
     "text": [
      "train/covid/subset4/ct_scan749 covid 74 185 19 121 499 468\n",
      "\n"
     ]
    },
    {
     "name": "stderr",
     "output_type": "stream",
     "text": [
      "\r",
      "  9%|▊         | 173/1992 [19:28<3:22:15,  6.67s/it]"
     ]
    },
    {
     "name": "stdout",
     "output_type": "stream",
     "text": [
      "train/covid/subset3/ct_scan_467 covid 92 264 71 135 445 388\n",
      "\n"
     ]
    },
    {
     "name": "stderr",
     "output_type": "stream",
     "text": [
      "\r",
      "  9%|▊         | 174/1992 [19:42<4:33:51,  9.04s/it]"
     ]
    },
    {
     "name": "stdout",
     "output_type": "stream",
     "text": [
      "train/covid/subset2/ct_scan_278 covid 158 305 0 0 512 444\n",
      "\n"
     ]
    },
    {
     "name": "stderr",
     "output_type": "stream",
     "text": [
      "\r",
      "  9%|▉         | 175/1992 [19:55<5:05:10, 10.08s/it]"
     ]
    },
    {
     "name": "stdout",
     "output_type": "stream",
     "text": [
      "train/covid/subset2/ct_scan_304 covid 21 45 0 131 484 476\n",
      "\n"
     ]
    },
    {
     "name": "stderr",
     "output_type": "stream",
     "text": [
      "\r",
      "  9%|▉         | 176/1992 [19:57<3:52:37,  7.69s/it]"
     ]
    },
    {
     "name": "stdout",
     "output_type": "stream",
     "text": [
      "train/covid/subset4/ct_scan812 covid 22 25 32 83 504 428\n",
      "\n"
     ]
    },
    {
     "name": "stderr",
     "output_type": "stream",
     "text": [
      "\r",
      "  9%|▉         | 177/1992 [19:57<2:45:47,  5.48s/it]"
     ]
    },
    {
     "name": "stdout",
     "output_type": "stream",
     "text": [
      "train/covid/subset2/ct_scan_396 covid 17 46 0 103 512 481\n",
      "\n"
     ]
    },
    {
     "name": "stderr",
     "output_type": "stream",
     "text": [
      "\r",
      "  9%|▉         | 178/1992 [20:00<2:18:52,  4.59s/it]"
     ]
    },
    {
     "name": "stdout",
     "output_type": "stream",
     "text": [
      "train/covid/subset4/ct_scan695 covid 83 141 0 130 512 414\n",
      "\n"
     ]
    },
    {
     "name": "stderr",
     "output_type": "stream",
     "text": [
      "\r",
      "  9%|▉         | 179/1992 [20:05<2:22:28,  4.71s/it]"
     ]
    },
    {
     "name": "stdout",
     "output_type": "stream",
     "text": [
      "train/covid/subset2/ct_scan_285 covid 77 262 0 42 512 464\n",
      "\n"
     ]
    },
    {
     "name": "stderr",
     "output_type": "stream",
     "text": [
      "\r",
      "  9%|▉         | 180/1992 [20:20<4:01:14,  7.99s/it]"
     ]
    },
    {
     "name": "stdout",
     "output_type": "stream",
     "text": [
      "train/covid/subset4/ct_scan736 covid 130 281 0 72 512 442\n",
      "\n"
     ]
    },
    {
     "name": "stderr",
     "output_type": "stream",
     "text": [
      "\r",
      "  9%|▉         | 181/1992 [20:33<4:45:10,  9.45s/it]"
     ]
    },
    {
     "name": "stdout",
     "output_type": "stream",
     "text": [
      "train/covid/subset1/ct_scan_153 covid 15 47 0 102 512 492\n",
      "\n"
     ]
    },
    {
     "name": "stderr",
     "output_type": "stream",
     "text": [
      "\r",
      "  9%|▉         | 182/1992 [20:36<3:44:34,  7.44s/it]"
     ]
    },
    {
     "name": "stdout",
     "output_type": "stream",
     "text": [
      "train/covid/subset4/ct_scan855 covid 13 28 0 57 507 452\n",
      "\n"
     ]
    },
    {
     "name": "stderr",
     "output_type": "stream",
     "text": [
      "\r",
      "  9%|▉         | 183/1992 [20:37<2:49:30,  5.62s/it]"
     ]
    },
    {
     "name": "stdout",
     "output_type": "stream",
     "text": [
      "train/covid/subset2/ct_scan_283 covid 81 230 0 175 512 490\n",
      "\n"
     ]
    },
    {
     "name": "stderr",
     "output_type": "stream",
     "text": [
      "\r",
      "  9%|▉         | 184/1992 [20:50<3:53:02,  7.73s/it]"
     ]
    },
    {
     "name": "stdout",
     "output_type": "stream",
     "text": [
      "train/covid/subset1/ct_scan_27 covid 20 48 5 92 512 465\n",
      "\n"
     ]
    },
    {
     "name": "stderr",
     "output_type": "stream",
     "text": [
      "\r",
      "  9%|▉         | 185/1992 [20:52<3:04:58,  6.14s/it]"
     ]
    },
    {
     "name": "stdout",
     "output_type": "stream",
     "text": [
      "train/covid/subset3/ct_scan_567 covid 44 56 44 114 512 374\n",
      "\n"
     ]
    },
    {
     "name": "stderr",
     "output_type": "stream",
     "text": [
      "\r",
      "  9%|▉         | 186/1992 [20:53<2:19:24,  4.63s/it]"
     ]
    },
    {
     "name": "stdout",
     "output_type": "stream",
     "text": [
      "train/covid/subset2/ct_scan_449 covid 67 81 26 56 490 398\n",
      "\n"
     ]
    },
    {
     "name": "stderr",
     "output_type": "stream",
     "text": [
      "\r",
      "  9%|▉         | 187/1992 [20:55<1:49:14,  3.63s/it]"
     ]
    },
    {
     "name": "stdout",
     "output_type": "stream",
     "text": [
      "train/covid/subset1/ct_scan_123 covid 87 181 0 134 512 437\n",
      "\n"
     ]
    },
    {
     "name": "stderr",
     "output_type": "stream",
     "text": [
      "\r",
      "  9%|▉         | 188/1992 [21:03<2:28:37,  4.94s/it]"
     ]
    },
    {
     "name": "stdout",
     "output_type": "stream",
     "text": [
      "train/covid/subset1/ct_scan_111 covid 141 234 0 92 512 480\n",
      "\n"
     ]
    },
    {
     "name": "stderr",
     "output_type": "stream",
     "text": [
      "\r",
      "  9%|▉         | 189/1992 [21:11<2:56:05,  5.86s/it]"
     ]
    },
    {
     "name": "stdout",
     "output_type": "stream",
     "text": [
      "train/covid/subset4/ct_scan692 covid 84 188 0 130 507 425\n",
      "\n"
     ]
    },
    {
     "name": "stderr",
     "output_type": "stream",
     "text": [
      "\r",
      " 10%|▉         | 190/1992 [21:20<3:23:11,  6.77s/it]"
     ]
    },
    {
     "name": "stdout",
     "output_type": "stream",
     "text": [
      "train/covid/subset2/ct_scan_360 covid 11 36 0 172 512 512\n",
      "\n"
     ]
    },
    {
     "name": "stderr",
     "output_type": "stream",
     "text": [
      "\r",
      " 10%|▉         | 191/1992 [21:22<2:41:59,  5.40s/it]"
     ]
    },
    {
     "name": "stdout",
     "output_type": "stream",
     "text": [
      "train/covid/subset3/ct_scan_520 covid 16 41 0 46 507 383\n",
      "\n"
     ]
    },
    {
     "name": "stderr",
     "output_type": "stream",
     "text": [
      "\r",
      " 10%|▉         | 192/1992 [21:24<2:13:06,  4.44s/it]"
     ]
    },
    {
     "name": "stdout",
     "output_type": "stream",
     "text": [
      "train/covid/subset3/ct_scan_660 covid 15 30 0 94 512 412\n",
      "\n"
     ]
    },
    {
     "name": "stderr",
     "output_type": "stream",
     "text": [
      "\r",
      " 10%|▉         | 193/1992 [21:25<1:45:19,  3.51s/it]"
     ]
    },
    {
     "name": "stdout",
     "output_type": "stream",
     "text": [
      "train/covid/subset4/ct_scan827 covid 12 29 0 86 512 432\n",
      "\n"
     ]
    },
    {
     "name": "stderr",
     "output_type": "stream",
     "text": [
      "\r",
      " 10%|▉         | 194/1992 [21:27<1:27:29,  2.92s/it]"
     ]
    },
    {
     "name": "stdout",
     "output_type": "stream",
     "text": [
      "train/covid/subset1/ct_scan_43 covid 124 304 0 102 512 428\n",
      "\n"
     ]
    },
    {
     "name": "stderr",
     "output_type": "stream",
     "text": [
      "\r",
      " 10%|▉         | 195/1992 [21:42<3:18:21,  6.62s/it]"
     ]
    },
    {
     "name": "stdout",
     "output_type": "stream",
     "text": [
      "train/covid/subset2/ct_scan_267 covid 117 185 8 76 497 393\n",
      "\n"
     ]
    },
    {
     "name": "stderr",
     "output_type": "stream",
     "text": [
      "\r",
      " 10%|▉         | 196/1992 [21:48<3:11:16,  6.39s/it]"
     ]
    },
    {
     "name": "stdout",
     "output_type": "stream",
     "text": [
      "train/covid/subset4/ct_scan805 covid 48 108 0 111 512 453\n",
      "\n"
     ]
    },
    {
     "name": "stderr",
     "output_type": "stream",
     "text": [
      "\r",
      " 10%|▉         | 197/1992 [21:53<2:59:57,  6.02s/it]"
     ]
    },
    {
     "name": "stdout",
     "output_type": "stream",
     "text": [
      "train/covid/subset3/ct_scan_553 covid 67 82 25 56 491 398\n",
      "\n"
     ]
    },
    {
     "name": "stderr",
     "output_type": "stream",
     "text": [
      "\r",
      " 10%|▉         | 198/1992 [21:54<2:18:14,  4.62s/it]"
     ]
    },
    {
     "name": "stdout",
     "output_type": "stream",
     "text": [
      "train/covid/subset3/ct_scan_664 covid 82 255 0 79 512 424\n",
      "\n"
     ]
    },
    {
     "name": "stderr",
     "output_type": "stream",
     "text": [
      "\r",
      " 10%|▉         | 199/1992 [22:09<3:47:55,  7.63s/it]"
     ]
    },
    {
     "name": "stdout",
     "output_type": "stream",
     "text": [
      "train/covid/subset1/ct_scan_117 covid 0 22 16 108 502 475\n",
      "\n"
     ]
    },
    {
     "name": "stderr",
     "output_type": "stream",
     "text": [
      "\r",
      " 10%|█         | 200/1992 [22:11<2:56:39,  5.91s/it]"
     ]
    },
    {
     "name": "stdout",
     "output_type": "stream",
     "text": [
      "train/covid/subset4/ct_scan720 covid 118 242 0 34 512 435\n",
      "\n"
     ]
    },
    {
     "name": "stderr",
     "output_type": "stream",
     "text": [
      "\r",
      " 10%|█         | 201/1992 [22:22<3:37:31,  7.29s/it]"
     ]
    },
    {
     "name": "stdout",
     "output_type": "stream",
     "text": [
      "train/covid/subset2/ct_scan_249 covid 106 274 33 63 512 462\n",
      "\n"
     ]
    },
    {
     "name": "stderr",
     "output_type": "stream",
     "text": [
      "\r",
      " 10%|█         | 202/1992 [22:36<4:39:12,  9.36s/it]"
     ]
    },
    {
     "name": "stdout",
     "output_type": "stream",
     "text": [
      "train/covid/subset2/ct_scan_422 covid 21 30 14 96 477 419\n",
      "\n"
     ]
    },
    {
     "name": "stderr",
     "output_type": "stream",
     "text": [
      "\r",
      " 10%|█         | 203/1992 [22:37<3:22:49,  6.80s/it]"
     ]
    },
    {
     "name": "stdout",
     "output_type": "stream",
     "text": [
      "train/covid/subset3/ct_scan_486 covid 92 264 71 135 445 388\n",
      "\n"
     ]
    },
    {
     "name": "stderr",
     "output_type": "stream",
     "text": [
      "\r",
      " 10%|█         | 204/1992 [22:51<4:32:21,  9.14s/it]"
     ]
    },
    {
     "name": "stdout",
     "output_type": "stream",
     "text": [
      "train/covid/subset4/ct_scan705 covid 105 257 0 79 512 401\n",
      "\n"
     ]
    },
    {
     "name": "stderr",
     "output_type": "stream",
     "text": [
      "\r",
      " 10%|█         | 205/1992 [23:04<5:06:28, 10.29s/it]"
     ]
    },
    {
     "name": "stdout",
     "output_type": "stream",
     "text": [
      "train/covid/subset4/ct_scan837 covid 18 23 0 123 488 402\n",
      "\n"
     ]
    },
    {
     "name": "stderr",
     "output_type": "stream",
     "text": [
      "\r",
      " 10%|█         | 206/1992 [23:05<3:38:58,  7.36s/it]"
     ]
    },
    {
     "name": "stdout",
     "output_type": "stream",
     "text": [
      "train/covid/subset4/ct_scan726 covid 92 182 0 58 512 449\n",
      "\n"
     ]
    },
    {
     "name": "stderr",
     "output_type": "stream",
     "text": [
      "\r",
      " 10%|█         | 207/1992 [23:12<3:41:47,  7.46s/it]"
     ]
    },
    {
     "name": "stdout",
     "output_type": "stream",
     "text": [
      "train/covid/subset4/ct_scan734 covid 103 209 0 25 512 413\n",
      "\n"
     ]
    },
    {
     "name": "stderr",
     "output_type": "stream",
     "text": [
      "\r",
      " 10%|█         | 208/1992 [23:21<3:55:52,  7.93s/it]"
     ]
    },
    {
     "name": "stdout",
     "output_type": "stream",
     "text": [
      "train/covid/subset2/ct_scan_389 covid 114 193 37 93 512 416\n",
      "\n"
     ]
    },
    {
     "name": "stderr",
     "output_type": "stream",
     "text": [
      "\r",
      " 10%|█         | 209/1992 [23:28<3:44:45,  7.56s/it]"
     ]
    },
    {
     "name": "stdout",
     "output_type": "stream",
     "text": [
      "train/covid/subset2/ct_scan_289 covid 78 212 0 112 512 451\n",
      "\n"
     ]
    },
    {
     "name": "stderr",
     "output_type": "stream",
     "text": [
      "\r",
      " 11%|█         | 210/1992 [23:39<4:18:06,  8.69s/it]"
     ]
    },
    {
     "name": "stdout",
     "output_type": "stream",
     "text": [
      "train/covid/subset3/ct_scan_653 covid 74 183 0 80 503 379\n",
      "\n"
     ]
    },
    {
     "name": "stderr",
     "output_type": "stream",
     "text": [
      "\r",
      " 11%|█         | 211/1992 [23:49<4:23:18,  8.87s/it]"
     ]
    },
    {
     "name": "stdout",
     "output_type": "stream",
     "text": [
      "train/covid/subset1/ct_scan_55 covid 16 40 13 124 479 437\n",
      "\n"
     ]
    },
    {
     "name": "stderr",
     "output_type": "stream",
     "text": [
      "\r",
      " 11%|█         | 212/1992 [23:51<3:22:50,  6.84s/it]"
     ]
    },
    {
     "name": "stdout",
     "output_type": "stream",
     "text": [
      "train/covid/subset3/ct_scan_683 covid 18 44 11 93 458 403\n",
      "\n"
     ]
    },
    {
     "name": "stderr",
     "output_type": "stream",
     "text": [
      "\r",
      " 11%|█         | 213/1992 [23:53<2:42:14,  5.47s/it]"
     ]
    },
    {
     "name": "stdout",
     "output_type": "stream",
     "text": [
      "train/covid/subset2/ct_scan_339 covid 97 267 20 135 512 477\n",
      "\n"
     ]
    },
    {
     "name": "stderr",
     "output_type": "stream",
     "text": [
      "\r",
      " 11%|█         | 214/1992 [24:08<4:02:22,  8.18s/it]"
     ]
    },
    {
     "name": "stdout",
     "output_type": "stream",
     "text": [
      "train/covid/subset1/ct_scan_161 covid 26 54 0 72 493 413\n",
      "\n"
     ]
    },
    {
     "name": "stderr",
     "output_type": "stream",
     "text": [
      "\r",
      " 11%|█         | 215/1992 [24:10<3:12:38,  6.50s/it]"
     ]
    },
    {
     "name": "stdout",
     "output_type": "stream",
     "text": [
      "train/covid/subset4/ct_scan761 covid 63 136 25 103 503 438\n",
      "\n"
     ]
    },
    {
     "name": "stderr",
     "output_type": "stream",
     "text": [
      "\r",
      " 11%|█         | 216/1992 [24:16<3:10:28,  6.43s/it]"
     ]
    },
    {
     "name": "stdout",
     "output_type": "stream",
     "text": [
      "train/covid/subset4/ct_scan866 covid 59 122 0 161 512 404\n",
      "\n"
     ]
    },
    {
     "name": "stderr",
     "output_type": "stream",
     "text": [
      "\r",
      " 11%|█         | 217/1992 [24:22<3:01:10,  6.12s/it]"
     ]
    },
    {
     "name": "stdout",
     "output_type": "stream",
     "text": [
      "train/covid/subset4/ct_scan803 covid 110 223 0 70 512 412\n",
      "\n"
     ]
    },
    {
     "name": "stderr",
     "output_type": "stream",
     "text": [
      "\r",
      " 11%|█         | 218/1992 [24:31<3:31:43,  7.16s/it]"
     ]
    },
    {
     "name": "stdout",
     "output_type": "stream",
     "text": [
      "train/covid/subset1/ct_scan_89 covid 23 34 0 123 512 462\n",
      "\n"
     ]
    },
    {
     "name": "stderr",
     "output_type": "stream",
     "text": [
      "\r",
      " 11%|█         | 219/1992 [24:32<2:37:07,  5.32s/it]"
     ]
    },
    {
     "name": "stdout",
     "output_type": "stream",
     "text": [
      "train/covid/subset3/ct_scan_657 covid 88 227 9 68 487 407\n",
      "\n"
     ]
    },
    {
     "name": "stderr",
     "output_type": "stream",
     "text": [
      "\r",
      " 11%|█         | 220/1992 [24:44<3:34:27,  7.26s/it]"
     ]
    },
    {
     "name": "stdout",
     "output_type": "stream",
     "text": [
      "train/covid/subset2/ct_scan_251 covid 15 39 0 115 512 430\n",
      "\n"
     ]
    },
    {
     "name": "stderr",
     "output_type": "stream",
     "text": [
      "\r",
      " 11%|█         | 221/1992 [24:46<2:49:21,  5.74s/it]"
     ]
    },
    {
     "name": "stdout",
     "output_type": "stream",
     "text": [
      "train/covid/subset2/ct_scan_243 covid 129 220 0 75 512 453\n",
      "\n"
     ]
    },
    {
     "name": "stderr",
     "output_type": "stream",
     "text": [
      "\r",
      " 11%|█         | 222/1992 [24:54<3:07:51,  6.37s/it]"
     ]
    },
    {
     "name": "stdout",
     "output_type": "stream",
     "text": [
      "train/covid/subset4/ct_scan880 covid 17 47 0 118 512 381\n",
      "\n"
     ]
    },
    {
     "name": "stderr",
     "output_type": "stream",
     "text": [
      "\r",
      " 11%|█         | 223/1992 [24:57<2:34:33,  5.24s/it]"
     ]
    },
    {
     "name": "stdout",
     "output_type": "stream",
     "text": [
      "train/covid/subset2/ct_scan_258 covid 35 38 0 149 512 473\n",
      "\n"
     ]
    },
    {
     "name": "stderr",
     "output_type": "stream",
     "text": [
      "\r",
      " 11%|█         | 224/1992 [24:57<1:51:09,  3.77s/it]"
     ]
    },
    {
     "name": "stdout",
     "output_type": "stream",
     "text": [
      "train/covid/subset3/ct_scan_503 covid 20 51 0 77 512 418\n",
      "\n"
     ]
    },
    {
     "name": "stderr",
     "output_type": "stream",
     "text": [
      "\r",
      " 11%|█▏        | 225/1992 [25:00<1:41:50,  3.46s/it]"
     ]
    },
    {
     "name": "stdout",
     "output_type": "stream",
     "text": [
      "train/covid/subset3/ct_scan_545 covid 134 256 0 42 512 405\n",
      "\n"
     ]
    },
    {
     "name": "stderr",
     "output_type": "stream",
     "text": [
      "\r",
      " 11%|█▏        | 226/1992 [25:10<2:43:05,  5.54s/it]"
     ]
    },
    {
     "name": "stdout",
     "output_type": "stream",
     "text": [
      "train/covid/subset4/ct_scan820 covid 21 31 12 109 504 418\n",
      "\n"
     ]
    },
    {
     "name": "stderr",
     "output_type": "stream",
     "text": [
      "\r",
      " 11%|█▏        | 227/1992 [25:11<2:02:21,  4.16s/it]"
     ]
    },
    {
     "name": "stdout",
     "output_type": "stream",
     "text": [
      "train/covid/subset4/ct_scan795 covid 105 234 0 148 512 512\n",
      "\n"
     ]
    },
    {
     "name": "stderr",
     "output_type": "stream",
     "text": [
      "\r",
      " 11%|█▏        | 228/1992 [25:22<3:02:34,  6.21s/it]"
     ]
    },
    {
     "name": "stdout",
     "output_type": "stream",
     "text": [
      "train/covid/subset3/ct_scan_679 covid 27 122 0 53 512 438\n",
      "\n"
     ]
    },
    {
     "name": "stderr",
     "output_type": "stream",
     "text": [
      "\r",
      " 11%|█▏        | 229/1992 [25:30<3:19:16,  6.78s/it]"
     ]
    },
    {
     "name": "stdout",
     "output_type": "stream",
     "text": [
      "train/covid/subset2/ct_scan_357 covid 183 333 62 127 463 421\n",
      "\n"
     ]
    },
    {
     "name": "stderr",
     "output_type": "stream",
     "text": [
      "\r",
      " 12%|█▏        | 230/1992 [25:43<4:12:30,  8.60s/it]"
     ]
    },
    {
     "name": "stdout",
     "output_type": "stream",
     "text": [
      "train/covid/subset3/ct_scan_595 covid 30 54 10 82 494 400\n",
      "\n"
     ]
    },
    {
     "name": "stderr",
     "output_type": "stream",
     "text": [
      "\r",
      " 12%|█▏        | 231/1992 [25:45<3:15:18,  6.65s/it]"
     ]
    },
    {
     "name": "stdout",
     "output_type": "stream",
     "text": [
      "train/covid/subset4/ct_scan798 covid 103 228 0 19 512 413\n",
      "\n"
     ]
    },
    {
     "name": "stderr",
     "output_type": "stream",
     "text": [
      "\r",
      " 12%|█▏        | 232/1992 [25:56<3:50:20,  7.85s/it]"
     ]
    },
    {
     "name": "stdout",
     "output_type": "stream",
     "text": [
      "train/covid/subset2/ct_scan_324 covid 96 252 14 101 497 435\n",
      "\n"
     ]
    },
    {
     "name": "stderr",
     "output_type": "stream",
     "text": [
      "\r",
      " 12%|█▏        | 233/1992 [26:09<4:37:31,  9.47s/it]"
     ]
    },
    {
     "name": "stdout",
     "output_type": "stream",
     "text": [
      "train/covid/subset2/ct_scan_334 covid 103 201 0 109 512 484\n",
      "\n"
     ]
    },
    {
     "name": "stderr",
     "output_type": "stream",
     "text": [
      "\r",
      " 12%|█▏        | 234/1992 [26:18<4:27:25,  9.13s/it]"
     ]
    },
    {
     "name": "stdout",
     "output_type": "stream",
     "text": [
      "train/covid/subset4/ct_scan769 covid 92 202 0 96 512 434\n",
      "\n"
     ]
    },
    {
     "name": "stderr",
     "output_type": "stream",
     "text": [
      "\r",
      " 12%|█▏        | 235/1992 [26:27<4:29:08,  9.19s/it]"
     ]
    },
    {
     "name": "stdout",
     "output_type": "stream",
     "text": [
      "train/covid/subset2/ct_scan_402 covid 15 38 28 76 491 399\n",
      "\n"
     ]
    },
    {
     "name": "stderr",
     "output_type": "stream",
     "text": [
      "\r",
      " 12%|█▏        | 236/1992 [26:29<3:26:03,  7.04s/it]"
     ]
    },
    {
     "name": "stdout",
     "output_type": "stream",
     "text": [
      "train/covid/subset1/ct_scan_56 covid 101 239 34 86 452 415\n",
      "\n"
     ]
    },
    {
     "name": "stderr",
     "output_type": "stream",
     "text": [
      "\r",
      " 12%|█▏        | 237/1992 [26:41<4:07:29,  8.46s/it]"
     ]
    },
    {
     "name": "stdout",
     "output_type": "stream",
     "text": [
      "train/covid/subset1/ct_scan_17 covid 121 209 0 114 491 439\n",
      "\n"
     ]
    },
    {
     "name": "stderr",
     "output_type": "stream",
     "text": [
      "\r",
      " 12%|█▏        | 238/1992 [26:48<3:59:13,  8.18s/it]"
     ]
    },
    {
     "name": "stdout",
     "output_type": "stream",
     "text": [
      "train/covid/subset3/ct_scan_549 covid 16 41 0 123 512 422\n",
      "\n"
     ]
    },
    {
     "name": "stderr",
     "output_type": "stream",
     "text": [
      "\r",
      " 12%|█▏        | 239/1992 [26:50<3:06:31,  6.38s/it]"
     ]
    },
    {
     "name": "stdout",
     "output_type": "stream",
     "text": [
      "train/covid/subset4/ct_scan786 covid 159 262 0 39 512 432\n",
      "\n"
     ]
    },
    {
     "name": "stderr",
     "output_type": "stream",
     "text": [
      "\r",
      " 12%|█▏        | 240/1992 [26:59<3:26:44,  7.08s/it]"
     ]
    },
    {
     "name": "stdout",
     "output_type": "stream",
     "text": [
      "train/covid/subset4/ct_scan689 covid 100 135 0 85 512 512\n",
      "\n"
     ]
    },
    {
     "name": "stderr",
     "output_type": "stream",
     "text": [
      "\r",
      " 12%|█▏        | 241/1992 [27:02<2:51:15,  5.87s/it]"
     ]
    },
    {
     "name": "stdout",
     "output_type": "stream",
     "text": [
      "train/covid/subset2/ct_scan_423 covid 78 140 0 160 505 449\n",
      "\n"
     ]
    },
    {
     "name": "stderr",
     "output_type": "stream",
     "text": [
      "\r",
      " 12%|█▏        | 242/1992 [27:07<2:46:11,  5.70s/it]"
     ]
    },
    {
     "name": "stdout",
     "output_type": "stream",
     "text": [
      "train/covid/subset2/ct_scan_264 covid 23 46 0 130 484 476\n",
      "\n"
     ]
    },
    {
     "name": "stderr",
     "output_type": "stream",
     "text": [
      "\r",
      " 12%|█▏        | 243/1992 [27:09<2:13:59,  4.60s/it]"
     ]
    },
    {
     "name": "stdout",
     "output_type": "stream",
     "text": [
      "train/covid/subset3/ct_scan_638 covid 17 39 0 112 512 395\n",
      "\n"
     ]
    },
    {
     "name": "stderr",
     "output_type": "stream",
     "text": [
      "\r",
      " 12%|█▏        | 244/1992 [27:11<1:50:43,  3.80s/it]"
     ]
    },
    {
     "name": "stdout",
     "output_type": "stream",
     "text": [
      "train/covid/subset1/ct_scan_74 covid 15 29 8 100 512 461\n",
      "\n"
     ]
    },
    {
     "name": "stderr",
     "output_type": "stream",
     "text": [
      "\r",
      " 12%|█▏        | 245/1992 [27:13<1:28:29,  3.04s/it]"
     ]
    },
    {
     "name": "stdout",
     "output_type": "stream",
     "text": [
      "train/covid/subset4/ct_scan860 covid 11 21 0 96 512 451\n",
      "\n"
     ]
    },
    {
     "name": "stderr",
     "output_type": "stream",
     "text": [
      "\r",
      " 12%|█▏        | 246/1992 [27:14<1:10:04,  2.41s/it]"
     ]
    },
    {
     "name": "stdout",
     "output_type": "stream",
     "text": [
      "train/covid/subset2/ct_scan_370 covid 91 202 0 74 512 469\n",
      "\n"
     ]
    },
    {
     "name": "stderr",
     "output_type": "stream",
     "text": [
      "\r",
      " 12%|█▏        | 247/1992 [27:23<2:11:00,  4.50s/it]"
     ]
    },
    {
     "name": "stdout",
     "output_type": "stream",
     "text": [
      "train/covid/subset4/ct_scan881 covid 81 130 0 110 512 450\n",
      "\n"
     ]
    },
    {
     "name": "stderr",
     "output_type": "stream",
     "text": [
      "\r",
      " 12%|█▏        | 248/1992 [27:27<2:09:06,  4.44s/it]"
     ]
    },
    {
     "name": "stdout",
     "output_type": "stream",
     "text": [
      "train/covid/subset4/ct_scan796 covid 87 190 13 114 512 413\n",
      "\n"
     ]
    },
    {
     "name": "stderr",
     "output_type": "stream",
     "text": [
      "\r",
      " 12%|█▎        | 249/1992 [27:36<2:46:04,  5.72s/it]"
     ]
    },
    {
     "name": "stdout",
     "output_type": "stream",
     "text": [
      "train/covid/subset2/ct_scan_279 covid 17 38 0 88 512 471\n",
      "\n"
     ]
    },
    {
     "name": "stderr",
     "output_type": "stream",
     "text": [
      "\r",
      " 13%|█▎        | 250/1992 [27:38<2:12:14,  4.55s/it]"
     ]
    },
    {
     "name": "stdout",
     "output_type": "stream",
     "text": [
      "train/covid/subset4/ct_scan777 covid 76 121 0 84 512 459\n",
      "\n"
     ]
    },
    {
     "name": "stderr",
     "output_type": "stream",
     "text": [
      "\r",
      " 13%|█▎        | 251/1992 [27:42<2:06:08,  4.35s/it]"
     ]
    },
    {
     "name": "stdout",
     "output_type": "stream",
     "text": [
      "train/covid/subset3/ct_scan_685 covid 69 82 0 46 506 384\n",
      "\n"
     ]
    },
    {
     "name": "stderr",
     "output_type": "stream",
     "text": [
      "\r",
      " 13%|█▎        | 252/1992 [27:43<1:38:37,  3.40s/it]"
     ]
    },
    {
     "name": "stdout",
     "output_type": "stream",
     "text": [
      "train/covid/subset3/ct_scan_495 covid 35 73 0 103 499 445\n",
      "\n"
     ]
    },
    {
     "name": "stderr",
     "output_type": "stream",
     "text": [
      "\r",
      " 13%|█▎        | 253/1992 [27:46<1:37:28,  3.36s/it]"
     ]
    },
    {
     "name": "stdout",
     "output_type": "stream",
     "text": [
      "train/covid/subset3/ct_scan_455 covid 20 71 0 76 512 426\n",
      "\n"
     ]
    },
    {
     "name": "stderr",
     "output_type": "stream",
     "text": [
      "\r",
      " 13%|█▎        | 254/1992 [27:51<1:46:15,  3.67s/it]"
     ]
    },
    {
     "name": "stdout",
     "output_type": "stream",
     "text": [
      "train/covid/subset1/ct_scan_120 covid 98 198 0 121 512 471\n",
      "\n"
     ]
    },
    {
     "name": "stderr",
     "output_type": "stream",
     "text": [
      "\r",
      " 13%|█▎        | 255/1992 [27:59<2:28:11,  5.12s/it]"
     ]
    },
    {
     "name": "stdout",
     "output_type": "stream",
     "text": [
      "train/covid/subset2/ct_scan_406 covid 117 244 0 140 512 464\n",
      "\n"
     ]
    },
    {
     "name": "stderr",
     "output_type": "stream",
     "text": [
      "\r",
      " 13%|█▎        | 256/1992 [28:10<3:17:01,  6.81s/it]"
     ]
    },
    {
     "name": "stdout",
     "output_type": "stream",
     "text": [
      "train/covid/subset2/ct_scan_284 covid 12 39 24 121 498 431\n",
      "\n"
     ]
    },
    {
     "name": "stderr",
     "output_type": "stream",
     "text": [
      "\r",
      " 13%|█▎        | 257/1992 [28:12<2:38:19,  5.48s/it]"
     ]
    },
    {
     "name": "stdout",
     "output_type": "stream",
     "text": [
      "train/covid/subset2/ct_scan_257 covid 118 244 0 70 502 449\n",
      "\n"
     ]
    },
    {
     "name": "stderr",
     "output_type": "stream",
     "text": [
      "\r",
      " 13%|█▎        | 258/1992 [28:23<3:23:47,  7.05s/it]"
     ]
    },
    {
     "name": "stdout",
     "output_type": "stream",
     "text": [
      "train/covid/subset1/ct_scan_31 covid 59 69 97 71 507 441\n",
      "\n"
     ]
    },
    {
     "name": "stderr",
     "output_type": "stream",
     "text": [
      "\r",
      " 13%|█▎        | 259/1992 [28:24<2:30:52,  5.22s/it]"
     ]
    },
    {
     "name": "stdout",
     "output_type": "stream",
     "text": [
      "train/covid/subset4/ct_scan733 covid 61 159 17 135 505 422\n",
      "\n"
     ]
    },
    {
     "name": "stderr",
     "output_type": "stream",
     "text": [
      "\r",
      " 13%|█▎        | 260/1992 [28:32<2:57:59,  6.17s/it]"
     ]
    },
    {
     "name": "stdout",
     "output_type": "stream",
     "text": [
      "train/covid/subset2/ct_scan_252 covid 18 26 0 123 487 403\n",
      "\n"
     ]
    },
    {
     "name": "stderr",
     "output_type": "stream",
     "text": [
      "\r",
      " 13%|█▎        | 261/1992 [28:33<2:11:07,  4.55s/it]"
     ]
    },
    {
     "name": "stdout",
     "output_type": "stream",
     "text": [
      "train/covid/subset1/ct_scan_42 covid 25 37 33 88 503 417\n",
      "\n"
     ]
    },
    {
     "name": "stderr",
     "output_type": "stream",
     "text": [
      "\r",
      " 13%|█▎        | 262/1992 [28:34<1:41:14,  3.51s/it]"
     ]
    },
    {
     "name": "stdout",
     "output_type": "stream",
     "text": [
      "train/covid/subset1/ct_scan_208 covid 175 269 31 148 474 426\n",
      "\n"
     ]
    },
    {
     "name": "stderr",
     "output_type": "stream",
     "text": [
      "\r",
      " 13%|█▎        | 263/1992 [28:42<2:19:55,  4.86s/it]"
     ]
    },
    {
     "name": "stdout",
     "output_type": "stream",
     "text": [
      "train/covid/subset1/ct_scan_32 covid 86 154 10 179 512 432\n",
      "\n"
     ]
    },
    {
     "name": "stderr",
     "output_type": "stream",
     "text": [
      "\r",
      " 13%|█▎        | 264/1992 [28:48<2:30:44,  5.23s/it]"
     ]
    },
    {
     "name": "stdout",
     "output_type": "stream",
     "text": [
      "train/covid/subset2/ct_scan_437 covid 202 242 31 116 512 389\n",
      "\n"
     ]
    },
    {
     "name": "stderr",
     "output_type": "stream",
     "text": [
      "\r",
      " 13%|█▎        | 265/1992 [28:52<2:15:39,  4.71s/it]"
     ]
    },
    {
     "name": "stdout",
     "output_type": "stream",
     "text": [
      "train/covid/subset1/ct_scan_2 covid 29 36 0 121 501 470\n",
      "\n"
     ]
    },
    {
     "name": "stderr",
     "output_type": "stream",
     "text": [
      "\r",
      " 13%|█▎        | 266/1992 [28:52<1:40:45,  3.50s/it]"
     ]
    },
    {
     "name": "stdout",
     "output_type": "stream",
     "text": [
      "train/covid/subset3/ct_scan_476 covid 9 123 0 66 512 437\n",
      "\n"
     ]
    },
    {
     "name": "stderr",
     "output_type": "stream",
     "text": [
      "\r",
      " 13%|█▎        | 267/1992 [29:02<2:34:27,  5.37s/it]"
     ]
    },
    {
     "name": "stdout",
     "output_type": "stream",
     "text": [
      "train/covid/subset1/ct_scan_202 covid 23 34 0 123 512 462\n",
      "\n"
     ]
    },
    {
     "name": "stderr",
     "output_type": "stream",
     "text": [
      "\r",
      " 13%|█▎        | 268/1992 [29:03<1:56:53,  4.07s/it]"
     ]
    },
    {
     "name": "stdout",
     "output_type": "stream",
     "text": [
      "train/covid/subset4/ct_scan826 covid 8 15 0 128 512 387\n",
      "\n"
     ]
    },
    {
     "name": "stderr",
     "output_type": "stream",
     "text": [
      "\r",
      " 14%|█▎        | 269/1992 [29:04<1:27:36,  3.05s/it]"
     ]
    },
    {
     "name": "stdout",
     "output_type": "stream",
     "text": [
      "train/covid/subset2/ct_scan_394 covid 98 189 0 93 512 448\n",
      "\n"
     ]
    },
    {
     "name": "stderr",
     "output_type": "stream",
     "text": [
      "\r",
      " 14%|█▎        | 270/1992 [29:12<2:07:31,  4.44s/it]"
     ]
    },
    {
     "name": "stdout",
     "output_type": "stream",
     "text": [
      "train/covid/subset2/ct_scan_300 covid 0 4 34 95 512 459\n",
      "\n"
     ]
    },
    {
     "name": "stderr",
     "output_type": "stream",
     "text": [
      "\r",
      " 14%|█▎        | 271/1992 [29:12<1:32:48,  3.24s/it]"
     ]
    },
    {
     "name": "stdout",
     "output_type": "stream",
     "text": [
      "train/covid/subset1/ct_scan_12 covid 116 236 0 82 512 476\n",
      "\n"
     ]
    },
    {
     "name": "stderr",
     "output_type": "stream",
     "text": [
      "\r",
      " 14%|█▎        | 272/1992 [29:22<2:32:44,  5.33s/it]"
     ]
    },
    {
     "name": "stdout",
     "output_type": "stream",
     "text": [
      "train/covid/subset4/ct_scan829 covid 21 23 0 104 512 427\n",
      "\n"
     ]
    },
    {
     "name": "stderr",
     "output_type": "stream",
     "text": [
      "\r",
      " 14%|█▎        | 273/1992 [29:22<1:49:01,  3.81s/it]"
     ]
    },
    {
     "name": "stdout",
     "output_type": "stream",
     "text": [
      "train/covid/subset2/ct_scan_236 covid 14 39 0 104 512 472\n",
      "\n"
     ]
    },
    {
     "name": "stderr",
     "output_type": "stream",
     "text": [
      "\r",
      " 14%|█▍        | 274/1992 [29:25<1:34:57,  3.32s/it]"
     ]
    },
    {
     "name": "stdout",
     "output_type": "stream",
     "text": [
      "train/covid/subset3/ct_scan_601 covid 81 191 0 105 512 442\n",
      "\n"
     ]
    },
    {
     "name": "stderr",
     "output_type": "stream",
     "text": [
      "\r",
      " 14%|█▍        | 275/1992 [29:34<2:27:52,  5.17s/it]"
     ]
    },
    {
     "name": "stdout",
     "output_type": "stream",
     "text": [
      "train/covid/subset4/ct_scan870 covid 21 34 7 155 512 412\n",
      "\n"
     ]
    },
    {
     "name": "stderr",
     "output_type": "stream",
     "text": [
      "\r",
      " 14%|█▍        | 276/1992 [29:35<1:53:41,  3.98s/it]"
     ]
    },
    {
     "name": "stdout",
     "output_type": "stream",
     "text": [
      "train/covid/subset3/ct_scan_493 covid 106 197 0 109 488 399\n",
      "\n"
     ]
    },
    {
     "name": "stderr",
     "output_type": "stream",
     "text": [
      "\r",
      " 14%|█▍        | 277/1992 [29:43<2:26:58,  5.14s/it]"
     ]
    },
    {
     "name": "stdout",
     "output_type": "stream",
     "text": [
      "train/covid/subset3/ct_scan_586 covid 84 183 0 84 508 451\n",
      "\n"
     ]
    },
    {
     "name": "stderr",
     "output_type": "stream",
     "text": [
      "\r",
      " 14%|█▍        | 278/1992 [29:52<2:55:20,  6.14s/it]"
     ]
    },
    {
     "name": "stdout",
     "output_type": "stream",
     "text": [
      "train/covid/subset2/ct_scan_241 covid 25 37 33 88 503 417\n",
      "\n"
     ]
    },
    {
     "name": "stderr",
     "output_type": "stream",
     "text": [
      "\r",
      " 14%|█▍        | 279/1992 [29:53<2:12:03,  4.63s/it]"
     ]
    },
    {
     "name": "stdout",
     "output_type": "stream",
     "text": [
      "train/covid/subset4/ct_scan852 covid 9 18 0 127 512 402\n",
      "\n"
     ]
    },
    {
     "name": "stderr",
     "output_type": "stream",
     "text": [
      "\r",
      " 14%|█▍        | 280/1992 [29:54<1:39:37,  3.49s/it]"
     ]
    },
    {
     "name": "stdout",
     "output_type": "stream",
     "text": [
      "train/covid/subset1/ct_scan_53 covid 99 212 0 8 500 422\n",
      "\n"
     ]
    },
    {
     "name": "stderr",
     "output_type": "stream",
     "text": [
      "\r",
      " 14%|█▍        | 281/1992 [30:03<2:32:05,  5.33s/it]"
     ]
    },
    {
     "name": "stdout",
     "output_type": "stream",
     "text": [
      "train/covid/subset2/ct_scan_240 covid 18 33 0 209 503 512\n",
      "\n"
     ]
    },
    {
     "name": "stderr",
     "output_type": "stream",
     "text": [
      "\r",
      " 14%|█▍        | 282/1992 [30:05<1:57:58,  4.14s/it]"
     ]
    },
    {
     "name": "stdout",
     "output_type": "stream",
     "text": [
      "train/covid/subset3/ct_scan_466 covid 80 222 0 51 512 497\n",
      "\n"
     ]
    },
    {
     "name": "stderr",
     "output_type": "stream",
     "text": [
      "\r",
      " 14%|█▍        | 283/1992 [30:17<3:06:13,  6.54s/it]"
     ]
    },
    {
     "name": "stdout",
     "output_type": "stream",
     "text": [
      "train/covid/subset2/ct_scan_343 covid 15 33 0 107 512 451\n",
      "\n"
     ]
    },
    {
     "name": "stderr",
     "output_type": "stream",
     "text": [
      "\r",
      " 14%|█▍        | 284/1992 [30:18<2:23:52,  5.05s/it]"
     ]
    },
    {
     "name": "stdout",
     "output_type": "stream",
     "text": [
      "train/covid/subset1/ct_scan_6 covid 17 42 21 149 461 425\n",
      "\n"
     ]
    },
    {
     "name": "stderr",
     "output_type": "stream",
     "text": [
      "\r",
      " 14%|█▍        | 285/1992 [30:20<1:59:20,  4.20s/it]"
     ]
    },
    {
     "name": "stdout",
     "output_type": "stream",
     "text": [
      "train/covid/subset4/ct_scan876 covid 33 75 51 88 464 376\n",
      "\n"
     ]
    },
    {
     "name": "stderr",
     "output_type": "stream",
     "text": [
      "\r",
      " 14%|█▍        | 286/1992 [30:24<1:54:22,  4.02s/it]"
     ]
    },
    {
     "name": "stdout",
     "output_type": "stream",
     "text": [
      "train/covid/subset2/ct_scan_255 covid 99 253 0 111 512 487\n",
      "\n"
     ]
    },
    {
     "name": "stderr",
     "output_type": "stream",
     "text": [
      "\r",
      " 14%|█▍        | 287/1992 [30:37<3:12:04,  6.76s/it]"
     ]
    },
    {
     "name": "stdout",
     "output_type": "stream",
     "text": [
      "train/covid/subset2/ct_scan_391 covid 123 295 0 63 512 452\n",
      "\n"
     ]
    },
    {
     "name": "stderr",
     "output_type": "stream",
     "text": [
      "\r",
      " 14%|█▍        | 288/1992 [30:52<4:18:12,  9.09s/it]"
     ]
    },
    {
     "name": "stdout",
     "output_type": "stream",
     "text": [
      "train/covid/subset1/ct_scan_212 covid 243 327 0 80 512 438\n",
      "\n"
     ]
    },
    {
     "name": "stderr",
     "output_type": "stream",
     "text": [
      "\r",
      " 15%|█▍        | 289/1992 [30:59<4:01:28,  8.51s/it]"
     ]
    },
    {
     "name": "stdout",
     "output_type": "stream",
     "text": [
      "train/covid/subset3/ct_scan_599 covid 11 68 30 93 508 426\n",
      "\n"
     ]
    },
    {
     "name": "stderr",
     "output_type": "stream",
     "text": [
      "\r",
      " 15%|█▍        | 290/1992 [31:04<3:30:37,  7.43s/it]"
     ]
    },
    {
     "name": "stdout",
     "output_type": "stream",
     "text": [
      "train/covid/subset1/ct_scan_169 covid 141 234 0 92 512 479\n",
      "\n"
     ]
    },
    {
     "name": "stderr",
     "output_type": "stream",
     "text": [
      "\r",
      " 15%|█▍        | 291/1992 [31:12<3:34:25,  7.56s/it]"
     ]
    },
    {
     "name": "stdout",
     "output_type": "stream",
     "text": [
      "train/covid/subset4/ct_scan784 covid 110 189 0 90 512 472\n",
      "\n"
     ]
    },
    {
     "name": "stderr",
     "output_type": "stream",
     "text": [
      "\r",
      " 15%|█▍        | 292/1992 [31:18<3:27:47,  7.33s/it]"
     ]
    },
    {
     "name": "stdout",
     "output_type": "stream",
     "text": [
      "train/covid/subset1/ct_scan_5 covid 113 308 0 55 512 442\n",
      "\n"
     ]
    },
    {
     "name": "stderr",
     "output_type": "stream",
     "text": [
      "\r",
      " 15%|█▍        | 293/1992 [31:36<4:52:43, 10.34s/it]"
     ]
    },
    {
     "name": "stdout",
     "output_type": "stream",
     "text": [
      "train/covid/subset3/ct_scan_654 covid 20 45 0 10 512 433\n",
      "\n"
     ]
    },
    {
     "name": "stderr",
     "output_type": "stream",
     "text": [
      "\r",
      " 15%|█▍        | 294/1992 [31:38<3:43:55,  7.91s/it]"
     ]
    },
    {
     "name": "stdout",
     "output_type": "stream",
     "text": [
      "train/covid/subset1/ct_scan_200 covid 119 236 0 78 512 482\n",
      "\n"
     ]
    },
    {
     "name": "stderr",
     "output_type": "stream",
     "text": [
      "\r",
      " 15%|█▍        | 295/1992 [31:48<4:02:17,  8.57s/it]"
     ]
    },
    {
     "name": "stdout",
     "output_type": "stream",
     "text": [
      "train/covid/subset3/ct_scan_477 covid 32 82 7 115 483 411\n",
      "\n"
     ]
    },
    {
     "name": "stderr",
     "output_type": "stream",
     "text": [
      "\r",
      " 15%|█▍        | 296/1992 [31:52<3:26:07,  7.29s/it]"
     ]
    },
    {
     "name": "stdout",
     "output_type": "stream",
     "text": [
      "train/covid/subset4/ct_scan717 covid 127 237 0 78 512 417\n",
      "\n"
     ]
    },
    {
     "name": "stderr",
     "output_type": "stream",
     "text": [
      "\r",
      " 15%|█▍        | 297/1992 [32:02<3:43:26,  7.91s/it]"
     ]
    },
    {
     "name": "stdout",
     "output_type": "stream",
     "text": [
      "train/covid/subset2/ct_scan_424 covid 23 38 7 113 494 439\n",
      "\n"
     ]
    },
    {
     "name": "stderr",
     "output_type": "stream",
     "text": [
      "\r",
      " 15%|█▍        | 298/1992 [32:03<2:47:43,  5.94s/it]"
     ]
    },
    {
     "name": "stdout",
     "output_type": "stream",
     "text": [
      "train/covid/subset3/ct_scan_576 covid 10 28 0 112 512 446\n",
      "\n"
     ]
    },
    {
     "name": "stderr",
     "output_type": "stream",
     "text": [
      "\r",
      " 15%|█▌        | 299/1992 [32:05<2:10:56,  4.64s/it]"
     ]
    },
    {
     "name": "stdout",
     "output_type": "stream",
     "text": [
      "train/covid/subset2/ct_scan_337 covid 150 244 6 94 472 435\n",
      "\n"
     ]
    },
    {
     "name": "stderr",
     "output_type": "stream",
     "text": [
      "\r",
      " 15%|█▌        | 300/1992 [32:13<2:40:06,  5.68s/it]"
     ]
    },
    {
     "name": "stdout",
     "output_type": "stream",
     "text": [
      "train/covid/subset3/ct_scan_464 covid 18 45 6 64 512 425\n",
      "\n"
     ]
    },
    {
     "name": "stderr",
     "output_type": "stream",
     "text": [
      "\r",
      " 15%|█▌        | 301/1992 [32:15<2:11:59,  4.68s/it]"
     ]
    },
    {
     "name": "stdout",
     "output_type": "stream",
     "text": [
      "train/covid/subset2/ct_scan_247 covid 19 25 10 155 484 423\n",
      "\n"
     ]
    },
    {
     "name": "stderr",
     "output_type": "stream",
     "text": [
      "\r",
      " 15%|█▌        | 302/1992 [32:16<1:37:18,  3.45s/it]"
     ]
    },
    {
     "name": "stdout",
     "output_type": "stream",
     "text": [
      "train/covid/subset1/ct_scan_73 covid 85 312 0 45 512 405\n",
      "\n"
     ]
    },
    {
     "name": "stderr",
     "output_type": "stream",
     "text": [
      "\r",
      " 15%|█▌        | 303/1992 [32:35<3:50:26,  8.19s/it]"
     ]
    },
    {
     "name": "stdout",
     "output_type": "stream",
     "text": [
      "train/covid/subset3/ct_scan_535 covid 100 212 6 95 498 391\n",
      "\n"
     ]
    },
    {
     "name": "stderr",
     "output_type": "stream",
     "text": [
      "\r",
      " 15%|█▌        | 304/1992 [32:45<4:02:28,  8.62s/it]"
     ]
    },
    {
     "name": "stdout",
     "output_type": "stream",
     "text": [
      "train/covid/subset1/ct_scan_65 covid 11 35 0 171 512 512\n",
      "\n"
     ]
    },
    {
     "name": "stderr",
     "output_type": "stream",
     "text": [
      "\r",
      " 15%|█▌        | 305/1992 [32:47<3:07:38,  6.67s/it]"
     ]
    },
    {
     "name": "stdout",
     "output_type": "stream",
     "text": [
      "train/covid/subset2/ct_scan_250 covid 131 229 0 74 512 484\n",
      "\n"
     ]
    },
    {
     "name": "stderr",
     "output_type": "stream",
     "text": [
      "\r",
      " 15%|█▌        | 306/1992 [32:55<3:21:19,  7.16s/it]"
     ]
    },
    {
     "name": "stdout",
     "output_type": "stream",
     "text": [
      "train/covid/subset4/ct_scan730 covid 110 218 0 114 512 476\n",
      "\n"
     ]
    },
    {
     "name": "stderr",
     "output_type": "stream",
     "text": [
      "\r",
      " 15%|█▌        | 307/1992 [33:04<3:38:32,  7.78s/it]"
     ]
    },
    {
     "name": "stdout",
     "output_type": "stream",
     "text": [
      "train/covid/subset1/ct_scan_187 covid 113 173 0 88 512 499\n",
      "\n"
     ]
    },
    {
     "name": "stderr",
     "output_type": "stream",
     "text": [
      "\r",
      " 15%|█▌        | 308/1992 [33:10<3:16:51,  7.01s/it]"
     ]
    },
    {
     "name": "stdout",
     "output_type": "stream",
     "text": [
      "train/covid/subset2/ct_scan_439 covid 18 28 0 104 512 460\n",
      "\n"
     ]
    },
    {
     "name": "stderr",
     "output_type": "stream",
     "text": [
      "\r",
      " 16%|█▌        | 309/1992 [33:10<2:25:31,  5.19s/it]"
     ]
    },
    {
     "name": "stdout",
     "output_type": "stream",
     "text": [
      "train/covid/subset3/ct_scan_606 covid 28 68 40 83 507 416\n",
      "\n"
     ]
    },
    {
     "name": "stderr",
     "output_type": "stream",
     "text": [
      "\r",
      " 16%|█▌        | 310/1992 [33:14<2:10:49,  4.67s/it]"
     ]
    },
    {
     "name": "stdout",
     "output_type": "stream",
     "text": [
      "train/covid/subset3/ct_scan_678 covid 60 162 19 131 461 391\n",
      "\n"
     ]
    },
    {
     "name": "stderr",
     "output_type": "stream",
     "text": [
      "\r",
      " 16%|█▌        | 311/1992 [33:23<2:43:53,  5.85s/it]"
     ]
    },
    {
     "name": "stdout",
     "output_type": "stream",
     "text": [
      "train/covid/subset2/ct_scan_263 covid 139 253 0 117 497 436\n",
      "\n"
     ]
    },
    {
     "name": "stderr",
     "output_type": "stream",
     "text": [
      "\r",
      " 16%|█▌        | 312/1992 [33:32<3:15:59,  7.00s/it]"
     ]
    },
    {
     "name": "stdout",
     "output_type": "stream",
     "text": [
      "train/covid/subset1/ct_scan_189 covid 11 29 0 19 512 428\n",
      "\n"
     ]
    },
    {
     "name": "stderr",
     "output_type": "stream",
     "text": [
      "\r",
      " 16%|█▌        | 313/1992 [33:34<2:30:28,  5.38s/it]"
     ]
    },
    {
     "name": "stdout",
     "output_type": "stream",
     "text": [
      "train/covid/subset3/ct_scan_656 covid 70 204 0 117 512 423\n",
      "\n"
     ]
    },
    {
     "name": "stderr",
     "output_type": "stream",
     "text": [
      "\r",
      " 16%|█▌        | 314/1992 [33:45<3:19:52,  7.15s/it]"
     ]
    },
    {
     "name": "stdout",
     "output_type": "stream",
     "text": [
      "train/covid/subset4/ct_scan811 covid 18 34 0 35 512 476\n",
      "\n"
     ]
    },
    {
     "name": "stderr",
     "output_type": "stream",
     "text": [
      "\r",
      " 16%|█▌        | 315/1992 [33:47<2:31:47,  5.43s/it]"
     ]
    },
    {
     "name": "stdout",
     "output_type": "stream",
     "text": [
      "train/covid/subset1/ct_scan_72 covid 14 42 0 120 512 465\n",
      "\n"
     ]
    },
    {
     "name": "stderr",
     "output_type": "stream",
     "text": [
      "\r",
      " 16%|█▌        | 316/1992 [33:49<2:06:40,  4.53s/it]"
     ]
    },
    {
     "name": "stdout",
     "output_type": "stream",
     "text": [
      "train/covid/subset4/ct_scan818 covid 12 24 0 121 512 435\n",
      "\n"
     ]
    },
    {
     "name": "stderr",
     "output_type": "stream",
     "text": [
      "\r",
      " 16%|█▌        | 317/1992 [33:50<1:37:48,  3.50s/it]"
     ]
    },
    {
     "name": "stdout",
     "output_type": "stream",
     "text": [
      "train/covid/subset4/ct_scan760 covid 82 260 0 100 512 403\n",
      "\n"
     ]
    },
    {
     "name": "stderr",
     "output_type": "stream",
     "text": [
      "\r",
      " 16%|█▌        | 318/1992 [34:05<3:13:30,  6.94s/it]"
     ]
    },
    {
     "name": "stdout",
     "output_type": "stream",
     "text": [
      "train/covid/subset3/ct_scan_471 covid 34 70 4 88 505 432\n",
      "\n"
     ]
    },
    {
     "name": "stderr",
     "output_type": "stream",
     "text": [
      "\r",
      " 16%|█▌        | 319/1992 [34:08<2:41:21,  5.79s/it]"
     ]
    },
    {
     "name": "stdout",
     "output_type": "stream",
     "text": [
      "train/covid/subset1/ct_scan_63 covid 139 353 12 84 512 396\n",
      "\n"
     ]
    },
    {
     "name": "stderr",
     "output_type": "stream",
     "text": [
      "\r",
      " 16%|█▌        | 320/1992 [34:26<4:25:03,  9.51s/it]"
     ]
    },
    {
     "name": "stdout",
     "output_type": "stream",
     "text": [
      "train/covid/subset1/ct_scan_151 covid 143 286 0 140 512 444\n",
      "\n"
     ]
    },
    {
     "name": "stderr",
     "output_type": "stream",
     "text": [
      "\r",
      " 16%|█▌        | 321/1992 [34:39<4:47:48, 10.33s/it]"
     ]
    },
    {
     "name": "stdout",
     "output_type": "stream",
     "text": [
      "train/covid/subset2/ct_scan_407 covid 83 201 0 24 512 471\n",
      "\n"
     ]
    },
    {
     "name": "stderr",
     "output_type": "stream",
     "text": [
      "\r",
      " 16%|█▌        | 322/1992 [34:49<4:45:20, 10.25s/it]"
     ]
    },
    {
     "name": "stdout",
     "output_type": "stream",
     "text": [
      "train/covid/subset2/ct_scan_446 covid 2 72 8 87 491 389\n",
      "\n"
     ]
    },
    {
     "name": "stderr",
     "output_type": "stream",
     "text": [
      "\r",
      " 16%|█▌        | 323/1992 [34:55<4:10:16,  9.00s/it]"
     ]
    },
    {
     "name": "stdout",
     "output_type": "stream",
     "text": [
      "train/covid/subset1/ct_scan_225 covid 144 346 5 92 512 466\n",
      "\n"
     ]
    },
    {
     "name": "stderr",
     "output_type": "stream",
     "text": [
      "\r",
      " 16%|█▋        | 324/1992 [35:12<5:17:18, 11.41s/it]"
     ]
    },
    {
     "name": "stdout",
     "output_type": "stream",
     "text": [
      "train/covid/subset1/ct_scan_177 covid 122 333 0 103 512 482\n",
      "\n"
     ]
    },
    {
     "name": "stderr",
     "output_type": "stream",
     "text": [
      "\r",
      " 16%|█▋        | 325/1992 [35:30<6:10:16, 13.33s/it]"
     ]
    },
    {
     "name": "stdout",
     "output_type": "stream",
     "text": [
      "train/covid/subset4/ct_scan775 covid 141 256 0 35 512 427\n",
      "\n"
     ]
    },
    {
     "name": "stderr",
     "output_type": "stream",
     "text": [
      "\r",
      " 16%|█▋        | 326/1992 [35:39<5:40:48, 12.27s/it]"
     ]
    },
    {
     "name": "stdout",
     "output_type": "stream",
     "text": [
      "train/covid/subset3/ct_scan_452 covid 13 34 37 160 458 383\n",
      "\n"
     ]
    },
    {
     "name": "stderr",
     "output_type": "stream",
     "text": [
      "\r",
      " 16%|█▋        | 327/1992 [35:41<4:13:57,  9.15s/it]"
     ]
    },
    {
     "name": "stdout",
     "output_type": "stream",
     "text": [
      "train/covid/subset1/ct_scan_205 covid 87 182 0 134 512 438\n",
      "\n"
     ]
    },
    {
     "name": "stderr",
     "output_type": "stream",
     "text": [
      "\r",
      " 16%|█▋        | 328/1992 [35:49<4:04:43,  8.82s/it]"
     ]
    },
    {
     "name": "stdout",
     "output_type": "stream",
     "text": [
      "train/covid/subset3/ct_scan_598 covid 15 34 30 87 507 470\n",
      "\n"
     ]
    },
    {
     "name": "stderr",
     "output_type": "stream",
     "text": [
      "\r",
      " 17%|█▋        | 329/1992 [35:51<3:05:16,  6.68s/it]"
     ]
    },
    {
     "name": "stdout",
     "output_type": "stream",
     "text": [
      "train/covid/subset4/ct_scan799 covid 91 168 0 41 512 428\n",
      "\n"
     ]
    },
    {
     "name": "stderr",
     "output_type": "stream",
     "text": [
      "\r",
      " 17%|█▋        | 330/1992 [35:58<3:04:24,  6.66s/it]"
     ]
    },
    {
     "name": "stdout",
     "output_type": "stream",
     "text": [
      "train/covid/subset1/ct_scan_199 covid 86 230 0 96 512 478\n",
      "\n"
     ]
    },
    {
     "name": "stderr",
     "output_type": "stream",
     "text": [
      "\r",
      " 17%|█▋        | 331/1992 [36:10<3:50:18,  8.32s/it]"
     ]
    },
    {
     "name": "stdout",
     "output_type": "stream",
     "text": [
      "train/covid/subset1/ct_scan_14 covid 13 34 0 113 512 488\n",
      "\n"
     ]
    },
    {
     "name": "stderr",
     "output_type": "stream",
     "text": [
      "\r",
      " 17%|█▋        | 332/1992 [36:12<2:56:32,  6.38s/it]"
     ]
    },
    {
     "name": "stdout",
     "output_type": "stream",
     "text": [
      "train/covid/subset3/ct_scan_557 covid 32 82 0 103 512 475\n",
      "\n"
     ]
    },
    {
     "name": "stderr",
     "output_type": "stream",
     "text": [
      "\r",
      " 17%|█▋        | 333/1992 [36:16<2:39:13,  5.76s/it]"
     ]
    },
    {
     "name": "stdout",
     "output_type": "stream",
     "text": [
      "train/covid/subset3/ct_scan_592 covid 22 55 0 98 512 447\n",
      "\n"
     ]
    },
    {
     "name": "stderr",
     "output_type": "stream",
     "text": [
      "\r",
      " 17%|█▋        | 334/1992 [36:19<2:15:40,  4.91s/it]"
     ]
    },
    {
     "name": "stdout",
     "output_type": "stream",
     "text": [
      "train/covid/subset4/ct_scan716 covid 67 117 0 81 512 460\n",
      "\n"
     ]
    },
    {
     "name": "stderr",
     "output_type": "stream",
     "text": [
      "\r",
      " 17%|█▋        | 335/1992 [36:23<2:11:39,  4.77s/it]"
     ]
    },
    {
     "name": "stdout",
     "output_type": "stream",
     "text": [
      "train/covid/subset1/ct_scan_82 covid 0 61 48 102 457 414\n",
      "\n"
     ]
    },
    {
     "name": "stderr",
     "output_type": "stream",
     "text": [
      "\r",
      " 17%|█▋        | 336/1992 [36:28<2:14:53,  4.89s/it]"
     ]
    },
    {
     "name": "stdout",
     "output_type": "stream",
     "text": [
      "train/covid/subset2/ct_scan_399 covid 14 33 0 94 512 495\n",
      "\n"
     ]
    },
    {
     "name": "stderr",
     "output_type": "stream",
     "text": [
      "\r",
      " 17%|█▋        | 337/1992 [36:30<1:48:12,  3.92s/it]"
     ]
    },
    {
     "name": "stdout",
     "output_type": "stream",
     "text": [
      "train/covid/subset3/ct_scan_677 covid 9 25 0 168 512 460\n",
      "\n"
     ]
    },
    {
     "name": "stderr",
     "output_type": "stream",
     "text": [
      "\r",
      " 17%|█▋        | 338/1992 [36:32<1:27:32,  3.18s/it]"
     ]
    },
    {
     "name": "stdout",
     "output_type": "stream",
     "text": [
      "train/covid/subset1/ct_scan_227 covid 148 221 14 95 478 419\n",
      "\n"
     ]
    },
    {
     "name": "stderr",
     "output_type": "stream",
     "text": [
      "\r",
      " 17%|█▋        | 339/1992 [36:38<1:52:14,  4.07s/it]"
     ]
    },
    {
     "name": "stdout",
     "output_type": "stream",
     "text": [
      "train/covid/subset4/ct_scan851 covid 11 27 5 83 512 454\n",
      "\n"
     ]
    },
    {
     "name": "stderr",
     "output_type": "stream",
     "text": [
      "\r",
      " 17%|█▋        | 340/1992 [36:39<1:30:22,  3.28s/it]"
     ]
    },
    {
     "name": "stdout",
     "output_type": "stream",
     "text": [
      "train/covid/subset1/ct_scan_116 covid 123 260 0 95 512 449\n",
      "\n"
     ]
    },
    {
     "name": "stderr",
     "output_type": "stream",
     "text": [
      "\r",
      " 17%|█▋        | 341/1992 [36:51<2:38:32,  5.76s/it]"
     ]
    },
    {
     "name": "stdout",
     "output_type": "stream",
     "text": [
      "train/covid/subset4/ct_scan691 covid 78 259 0 100 512 404\n",
      "\n"
     ]
    },
    {
     "name": "stderr",
     "output_type": "stream",
     "text": [
      "\r",
      " 17%|█▋        | 342/1992 [37:06<3:57:02,  8.62s/it]"
     ]
    },
    {
     "name": "stdout",
     "output_type": "stream",
     "text": [
      "train/covid/subset2/ct_scan_272 covid 10 17 0 66 512 402\n",
      "\n"
     ]
    },
    {
     "name": "stderr",
     "output_type": "stream",
     "text": [
      "\r",
      " 17%|█▋        | 343/1992 [37:07<2:51:21,  6.23s/it]"
     ]
    },
    {
     "name": "stdout",
     "output_type": "stream",
     "text": [
      "train/covid/subset3/ct_scan_524 covid 48 210 30 93 485 351\n",
      "\n"
     ]
    },
    {
     "name": "stderr",
     "output_type": "stream",
     "text": [
      "\r",
      " 17%|█▋        | 344/1992 [37:20<3:52:02,  8.45s/it]"
     ]
    },
    {
     "name": "stdout",
     "output_type": "stream",
     "text": [
      "train/covid/subset4/ct_scan875 covid 18 58 0 50 512 432\n",
      "\n"
     ]
    },
    {
     "name": "stderr",
     "output_type": "stream",
     "text": [
      "\r",
      " 17%|█▋        | 345/1992 [37:24<3:10:53,  6.95s/it]"
     ]
    },
    {
     "name": "stdout",
     "output_type": "stream",
     "text": [
      "train/covid/subset4/ct_scan833 covid 14 17 0 120 512 436\n",
      "\n"
     ]
    },
    {
     "name": "stderr",
     "output_type": "stream",
     "text": [
      "\r",
      " 17%|█▋        | 346/1992 [37:24<2:16:21,  4.97s/it]"
     ]
    },
    {
     "name": "stdout",
     "output_type": "stream",
     "text": [
      "train/covid/subset3/ct_scan_625 covid 27 38 26 123 507 483\n",
      "\n"
     ]
    },
    {
     "name": "stderr",
     "output_type": "stream",
     "text": [
      "\r",
      " 17%|█▋        | 347/1992 [37:25<1:43:40,  3.78s/it]"
     ]
    },
    {
     "name": "stdout",
     "output_type": "stream",
     "text": [
      "train/covid/subset1/ct_scan_13 covid 14 32 0 87 512 452\n",
      "\n"
     ]
    },
    {
     "name": "stderr",
     "output_type": "stream",
     "text": [
      "\r",
      " 17%|█▋        | 348/1992 [37:27<1:25:39,  3.13s/it]"
     ]
    },
    {
     "name": "stdout",
     "output_type": "stream",
     "text": [
      "train/covid/subset4/ct_scan732 covid 61 139 0 91 512 420\n",
      "\n"
     ]
    },
    {
     "name": "stderr",
     "output_type": "stream",
     "text": [
      "\r",
      " 18%|█▊        | 349/1992 [37:34<1:57:19,  4.28s/it]"
     ]
    },
    {
     "name": "stdout",
     "output_type": "stream",
     "text": [
      "train/covid/subset3/ct_scan_556 covid 93 236 0 55 512 465\n",
      "\n"
     ]
    },
    {
     "name": "stderr",
     "output_type": "stream",
     "text": [
      "\r",
      " 18%|█▊        | 350/1992 [37:46<3:02:39,  6.67s/it]"
     ]
    },
    {
     "name": "stdout",
     "output_type": "stream",
     "text": [
      "train/covid/subset4/ct_scan774 covid 73 217 0 74 512 424\n",
      "\n"
     ]
    },
    {
     "name": "stderr",
     "output_type": "stream",
     "text": [
      "\r",
      " 18%|█▊        | 351/1992 [37:58<3:47:58,  8.34s/it]"
     ]
    },
    {
     "name": "stdout",
     "output_type": "stream",
     "text": [
      "train/covid/subset2/ct_scan_335 covid 0 136 0 0 512 440\n",
      "\n"
     ]
    },
    {
     "name": "stderr",
     "output_type": "stream",
     "text": [
      "\r",
      " 18%|█▊        | 352/1992 [38:10<4:15:30,  9.35s/it]"
     ]
    },
    {
     "name": "stdout",
     "output_type": "stream",
     "text": [
      "train/covid/subset3/ct_scan_461 covid 61 263 30 93 485 351\n",
      "\n"
     ]
    },
    {
     "name": "stderr",
     "output_type": "stream",
     "text": [
      "\r",
      " 18%|█▊        | 353/1992 [38:27<5:19:25, 11.69s/it]"
     ]
    },
    {
     "name": "stdout",
     "output_type": "stream",
     "text": [
      "train/covid/subset1/ct_scan_207 covid 82 234 0 75 512 478\n",
      "\n"
     ]
    },
    {
     "name": "stderr",
     "output_type": "stream",
     "text": [
      "\r",
      " 18%|█▊        | 354/1992 [38:40<5:30:30, 12.11s/it]"
     ]
    },
    {
     "name": "stdout",
     "output_type": "stream",
     "text": [
      "train/covid/subset3/ct_scan_593 covid 75 160 0 119 512 456\n",
      "\n"
     ]
    },
    {
     "name": "stderr",
     "output_type": "stream",
     "text": [
      "\r",
      " 18%|█▊        | 355/1992 [38:47<4:50:32, 10.65s/it]"
     ]
    },
    {
     "name": "stdout",
     "output_type": "stream",
     "text": [
      "train/covid/subset2/ct_scan_292 covid 121 254 0 87 512 501\n",
      "\n"
     ]
    },
    {
     "name": "stderr",
     "output_type": "stream",
     "text": [
      "\r",
      " 18%|█▊        | 356/1992 [38:59<4:55:45, 10.85s/it]"
     ]
    },
    {
     "name": "stdout",
     "output_type": "stream",
     "text": [
      "train/covid/subset3/ct_scan_539 covid 35 73 0 103 499 445\n",
      "\n"
     ]
    },
    {
     "name": "stderr",
     "output_type": "stream",
     "text": [
      "\r",
      " 18%|█▊        | 357/1992 [39:02<3:53:37,  8.57s/it]"
     ]
    },
    {
     "name": "stdout",
     "output_type": "stream",
     "text": [
      "train/covid/subset4/ct_scan825 covid 10 22 0 45 512 411\n",
      "\n"
     ]
    },
    {
     "name": "stderr",
     "output_type": "stream",
     "text": [
      "\r",
      " 18%|█▊        | 358/1992 [39:03<2:52:27,  6.33s/it]"
     ]
    },
    {
     "name": "stdout",
     "output_type": "stream",
     "text": [
      "train/covid/subset1/ct_scan_175 covid 96 192 7 76 512 426\n",
      "\n"
     ]
    },
    {
     "name": "stderr",
     "output_type": "stream",
     "text": [
      "\r",
      " 18%|█▊        | 359/1992 [39:11<3:08:12,  6.92s/it]"
     ]
    },
    {
     "name": "stdout",
     "output_type": "stream",
     "text": [
      "train/covid/subset4/ct_scan740 covid 132 263 0 58 512 448\n",
      "\n"
     ]
    },
    {
     "name": "stderr",
     "output_type": "stream",
     "text": [
      "\r",
      " 18%|█▊        | 360/1992 [39:22<3:42:25,  8.18s/it]"
     ]
    },
    {
     "name": "stdout",
     "output_type": "stream",
     "text": [
      "train/covid/subset1/ct_scan_24 covid 19 45 18 125 478 437\n",
      "\n"
     ]
    },
    {
     "name": "stderr",
     "output_type": "stream",
     "text": [
      "\r",
      " 18%|█▊        | 361/1992 [39:25<2:54:07,  6.41s/it]"
     ]
    },
    {
     "name": "stdout",
     "output_type": "stream",
     "text": [
      "train/covid/subset3/ct_scan_508 covid 103 160 0 149 478 417\n",
      "\n"
     ]
    },
    {
     "name": "stderr",
     "output_type": "stream",
     "text": [
      "\r",
      " 18%|█▊        | 362/1992 [39:30<2:41:45,  5.95s/it]"
     ]
    },
    {
     "name": "stdout",
     "output_type": "stream",
     "text": [
      "train/covid/subset4/ct_scan770 covid 68 142 0 77 512 420\n",
      "\n"
     ]
    },
    {
     "name": "stderr",
     "output_type": "stream",
     "text": [
      "\r",
      " 18%|█▊        | 363/1992 [39:36<2:44:46,  6.07s/it]"
     ]
    },
    {
     "name": "stdout",
     "output_type": "stream",
     "text": [
      "train/covid/subset2/ct_scan_294 covid 133 269 0 70 512 485\n",
      "\n"
     ]
    },
    {
     "name": "stderr",
     "output_type": "stream",
     "text": [
      "\r",
      " 18%|█▊        | 364/1992 [39:47<3:29:15,  7.71s/it]"
     ]
    },
    {
     "name": "stdout",
     "output_type": "stream",
     "text": [
      "train/covid/subset4/ct_scan856 covid 10 25 0 128 512 437\n",
      "\n"
     ]
    },
    {
     "name": "stderr",
     "output_type": "stream",
     "text": [
      "\r",
      " 18%|█▊        | 365/1992 [39:49<2:37:24,  5.80s/it]"
     ]
    },
    {
     "name": "stdout",
     "output_type": "stream",
     "text": [
      "train/covid/subset2/ct_scan_248 covid 76 232 17 41 504 457\n",
      "\n"
     ]
    },
    {
     "name": "stderr",
     "output_type": "stream",
     "text": [
      "\r",
      " 18%|█▊        | 366/1992 [40:02<3:37:24,  8.02s/it]"
     ]
    },
    {
     "name": "stdout",
     "output_type": "stream",
     "text": [
      "train/covid/subset1/ct_scan_103 covid 111 235 0 128 512 462\n",
      "\n"
     ]
    },
    {
     "name": "stderr",
     "output_type": "stream",
     "text": [
      "\r",
      " 18%|█▊        | 367/1992 [40:13<3:57:37,  8.77s/it]"
     ]
    },
    {
     "name": "stdout",
     "output_type": "stream",
     "text": [
      "train/covid/subset2/ct_scan_395 covid 104 250 19 99 490 434\n",
      "\n"
     ]
    },
    {
     "name": "stderr",
     "output_type": "stream",
     "text": [
      "\r",
      " 18%|█▊        | 368/1992 [40:25<4:26:53,  9.86s/it]"
     ]
    },
    {
     "name": "stdout",
     "output_type": "stream",
     "text": [
      "train/covid/subset3/ct_scan_482 covid 38 84 15 58 493 447\n",
      "\n"
     ]
    },
    {
     "name": "stderr",
     "output_type": "stream",
     "text": [
      "\r",
      " 19%|█▊        | 369/1992 [40:29<3:38:54,  8.09s/it]"
     ]
    },
    {
     "name": "stdout",
     "output_type": "stream",
     "text": [
      "train/covid/subset2/ct_scan_233 covid 106 197 0 100 512 464\n",
      "\n"
     ]
    },
    {
     "name": "stderr",
     "output_type": "stream",
     "text": [
      "\r",
      " 19%|█▊        | 370/1992 [40:37<3:35:56,  7.99s/it]"
     ]
    },
    {
     "name": "stdout",
     "output_type": "stream",
     "text": [
      "train/covid/subset2/ct_scan_262 covid 143 289 43 140 468 438\n",
      "\n"
     ]
    },
    {
     "name": "stderr",
     "output_type": "stream",
     "text": [
      "\r",
      " 19%|█▊        | 371/1992 [40:49<4:11:22,  9.30s/it]"
     ]
    },
    {
     "name": "stdout",
     "output_type": "stream",
     "text": [
      "train/covid/subset2/ct_scan_286 covid 107 274 33 63 512 462\n",
      "\n"
     ]
    },
    {
     "name": "stderr",
     "output_type": "stream",
     "text": [
      "\r",
      " 19%|█▊        | 372/1992 [41:03<4:50:27, 10.76s/it]"
     ]
    },
    {
     "name": "stdout",
     "output_type": "stream",
     "text": [
      "train/covid/subset3/ct_scan_590 covid 17 29 0 97 512 433\n",
      "\n"
     ]
    },
    {
     "name": "stderr",
     "output_type": "stream",
     "text": [
      "\r",
      " 19%|█▊        | 373/1992 [41:05<3:33:51,  7.93s/it]"
     ]
    },
    {
     "name": "stdout",
     "output_type": "stream",
     "text": [
      "train/covid/subset2/ct_scan_326 covid 107 257 0 157 512 512\n",
      "\n"
     ]
    },
    {
     "name": "stderr",
     "output_type": "stream",
     "text": [
      "\r",
      " 19%|█▉        | 374/1992 [41:17<4:12:53,  9.38s/it]"
     ]
    },
    {
     "name": "stdout",
     "output_type": "stream",
     "text": [
      "train/covid/subset1/ct_scan_130 covid 107 216 7 99 512 461\n",
      "\n"
     ]
    },
    {
     "name": "stderr",
     "output_type": "stream",
     "text": [
      "\r",
      " 19%|█▉        | 375/1992 [41:26<4:11:25,  9.33s/it]"
     ]
    },
    {
     "name": "stdout",
     "output_type": "stream",
     "text": [
      "train/covid/subset1/ct_scan_201 covid 129 205 0 104 512 461\n",
      "\n"
     ]
    },
    {
     "name": "stderr",
     "output_type": "stream",
     "text": [
      "\r",
      " 19%|█▉        | 376/1992 [41:33<3:48:28,  8.48s/it]"
     ]
    },
    {
     "name": "stdout",
     "output_type": "stream",
     "text": [
      "train/covid/subset1/ct_scan_146 covid 14 32 0 85 512 452\n",
      "\n"
     ]
    },
    {
     "name": "stderr",
     "output_type": "stream",
     "text": [
      "\r",
      " 19%|█▉        | 377/1992 [41:35<2:52:38,  6.41s/it]"
     ]
    },
    {
     "name": "stdout",
     "output_type": "stream",
     "text": [
      "train/covid/subset3/ct_scan_579 covid 74 162 38 179 468 435\n",
      "\n"
     ]
    },
    {
     "name": "stderr",
     "output_type": "stream",
     "text": [
      "\r",
      " 19%|█▉        | 378/1992 [41:42<3:01:07,  6.73s/it]"
     ]
    },
    {
     "name": "stdout",
     "output_type": "stream",
     "text": [
      "train/covid/subset1/ct_scan_49 covid 12 51 0 114 503 461\n",
      "\n"
     ]
    },
    {
     "name": "stderr",
     "output_type": "stream",
     "text": [
      "\r",
      " 19%|█▉        | 379/1992 [41:45<2:33:43,  5.72s/it]"
     ]
    },
    {
     "name": "stdout",
     "output_type": "stream",
     "text": [
      "train/covid/subset3/ct_scan_663 covid 23 65 36 88 491 424\n",
      "\n"
     ]
    },
    {
     "name": "stderr",
     "output_type": "stream",
     "text": [
      "\r",
      " 19%|█▉        | 380/1992 [41:49<2:16:33,  5.08s/it]"
     ]
    },
    {
     "name": "stdout",
     "output_type": "stream",
     "text": [
      "train/covid/subset1/ct_scan_39 covid 126 271 4 71 512 483\n",
      "\n"
     ]
    },
    {
     "name": "stderr",
     "output_type": "stream",
     "text": [
      "\r",
      " 19%|█▉        | 381/1992 [42:01<3:14:37,  7.25s/it]"
     ]
    },
    {
     "name": "stdout",
     "output_type": "stream",
     "text": [
      "train/covid/subset2/ct_scan_387 covid 95 261 0 52 500 433\n",
      "\n"
     ]
    },
    {
     "name": "stderr",
     "output_type": "stream",
     "text": [
      "\r",
      " 19%|█▉        | 382/1992 [42:15<4:10:02,  9.32s/it]"
     ]
    },
    {
     "name": "stdout",
     "output_type": "stream",
     "text": [
      "train/covid/subset2/ct_scan_385 covid 0 30 13 107 474 450\n",
      "\n"
     ]
    },
    {
     "name": "stderr",
     "output_type": "stream",
     "text": [
      "\r",
      " 19%|█▉        | 383/1992 [42:18<3:15:52,  7.30s/it]"
     ]
    },
    {
     "name": "stdout",
     "output_type": "stream",
     "text": [
      "train/covid/subset1/ct_scan_197 covid 100 229 13 133 478 420\n",
      "\n"
     ]
    },
    {
     "name": "stderr",
     "output_type": "stream",
     "text": [
      "\r",
      " 19%|█▉        | 384/1992 [42:29<3:44:59,  8.40s/it]"
     ]
    },
    {
     "name": "stdout",
     "output_type": "stream",
     "text": [
      "train/covid/subset3/ct_scan_484 covid 7 22 0 59 512 419\n",
      "\n"
     ]
    },
    {
     "name": "stderr",
     "output_type": "stream",
     "text": [
      "\r",
      " 19%|█▉        | 385/1992 [42:30<2:48:13,  6.28s/it]"
     ]
    },
    {
     "name": "stdout",
     "output_type": "stream",
     "text": [
      "train/covid/subset4/ct_scan708 covid 110 210 0 83 512 437\n",
      "\n"
     ]
    },
    {
     "name": "stderr",
     "output_type": "stream",
     "text": [
      "\r",
      " 19%|█▉        | 386/1992 [42:39<3:05:27,  6.93s/it]"
     ]
    },
    {
     "name": "stdout",
     "output_type": "stream",
     "text": [
      "train/covid/subset2/ct_scan_382 covid 21 44 0 84 512 471\n",
      "\n"
     ]
    },
    {
     "name": "stderr",
     "output_type": "stream",
     "text": [
      "\r",
      " 19%|█▉        | 387/1992 [42:41<2:25:51,  5.45s/it]"
     ]
    },
    {
     "name": "stdout",
     "output_type": "stream",
     "text": [
      "train/covid/subset2/ct_scan_421 covid 142 332 0 96 501 447\n",
      "\n"
     ]
    },
    {
     "name": "stderr",
     "output_type": "stream",
     "text": [
      "\r",
      " 19%|█▉        | 388/1992 [42:57<3:51:18,  8.65s/it]"
     ]
    },
    {
     "name": "stdout",
     "output_type": "stream",
     "text": [
      "train/covid/subset4/ct_scan828 covid 10 22 5 100 486 460\n",
      "\n"
     ]
    },
    {
     "name": "stderr",
     "output_type": "stream",
     "text": [
      "\r",
      " 20%|█▉        | 389/1992 [42:58<2:50:35,  6.38s/it]"
     ]
    },
    {
     "name": "stdout",
     "output_type": "stream",
     "text": [
      "train/covid/subset2/ct_scan_433 covid 100 250 0 112 512 488\n",
      "\n"
     ]
    },
    {
     "name": "stderr",
     "output_type": "stream",
     "text": [
      "\r",
      " 20%|█▉        | 390/1992 [43:11<3:40:58,  8.28s/it]"
     ]
    },
    {
     "name": "stdout",
     "output_type": "stream",
     "text": [
      "train/covid/subset3/ct_scan_470 covid 92 177 25 153 488 433\n",
      "\n"
     ]
    },
    {
     "name": "stderr",
     "output_type": "stream",
     "text": [
      "\r",
      " 20%|█▉        | 391/1992 [43:18<3:32:22,  7.96s/it]"
     ]
    },
    {
     "name": "stdout",
     "output_type": "stream",
     "text": [
      "train/covid/subset1/ct_scan_180 covid 110 204 0 103 512 451\n",
      "\n"
     ]
    },
    {
     "name": "stderr",
     "output_type": "stream",
     "text": [
      "\r",
      " 20%|█▉        | 392/1992 [43:26<3:32:33,  7.97s/it]"
     ]
    },
    {
     "name": "stdout",
     "output_type": "stream",
     "text": [
      "train/covid/subset2/ct_scan_379 covid 101 242 0 93 512 495\n",
      "\n"
     ]
    },
    {
     "name": "stderr",
     "output_type": "stream",
     "text": [
      "\r",
      " 20%|█▉        | 393/1992 [43:38<4:04:26,  9.17s/it]"
     ]
    },
    {
     "name": "stdout",
     "output_type": "stream",
     "text": [
      "train/covid/subset2/ct_scan_364 covid 111 242 0 116 512 466\n",
      "\n"
     ]
    },
    {
     "name": "stderr",
     "output_type": "stream",
     "text": [
      "\r",
      " 20%|█▉        | 394/1992 [43:49<4:19:07,  9.73s/it]"
     ]
    },
    {
     "name": "stdout",
     "output_type": "stream",
     "text": [
      "train/covid/subset2/ct_scan_310 covid 17 35 0 85 505 426\n",
      "\n"
     ]
    },
    {
     "name": "stderr",
     "output_type": "stream",
     "text": [
      "\r",
      " 20%|█▉        | 395/1992 [43:51<3:13:58,  7.29s/it]"
     ]
    },
    {
     "name": "stdout",
     "output_type": "stream",
     "text": [
      "train/covid/subset1/ct_scan_134 covid 12 34 0 110 512 458\n",
      "\n"
     ]
    },
    {
     "name": "stderr",
     "output_type": "stream",
     "text": [
      "\r",
      " 20%|█▉        | 396/1992 [43:53<2:32:00,  5.71s/it]"
     ]
    },
    {
     "name": "stdout",
     "output_type": "stream",
     "text": [
      "train/covid/subset1/ct_scan_21 covid 78 212 0 112 512 451\n",
      "\n"
     ]
    },
    {
     "name": "stderr",
     "output_type": "stream",
     "text": [
      "\r",
      " 20%|█▉        | 397/1992 [44:04<3:16:10,  7.38s/it]"
     ]
    },
    {
     "name": "stdout",
     "output_type": "stream",
     "text": [
      "train/covid/subset1/ct_scan_230 covid 93 197 30 104 512 460\n",
      "\n"
     ]
    },
    {
     "name": "stderr",
     "output_type": "stream",
     "text": [
      "\r",
      " 20%|█▉        | 398/1992 [44:13<3:27:25,  7.81s/it]"
     ]
    },
    {
     "name": "stdout",
     "output_type": "stream",
     "text": [
      "train/covid/subset2/ct_scan_329 covid 43 113 0 86 512 424\n",
      "\n"
     ]
    },
    {
     "name": "stderr",
     "output_type": "stream",
     "text": [
      "\r",
      " 20%|██        | 399/1992 [44:19<3:13:11,  7.28s/it]"
     ]
    },
    {
     "name": "stdout",
     "output_type": "stream",
     "text": [
      "train/covid/subset2/ct_scan_400 covid 19 46 27 76 492 404\n",
      "\n"
     ]
    },
    {
     "name": "stderr",
     "output_type": "stream",
     "text": [
      "\r",
      " 20%|██        | 400/1992 [44:21<2:33:46,  5.80s/it]"
     ]
    },
    {
     "name": "stdout",
     "output_type": "stream",
     "text": [
      "train/covid/subset2/ct_scan_338 covid 83 169 0 109 512 478\n",
      "\n"
     ]
    },
    {
     "name": "stderr",
     "output_type": "stream",
     "text": [
      "\r",
      " 20%|██        | 401/1992 [44:28<2:45:29,  6.24s/it]"
     ]
    },
    {
     "name": "stdout",
     "output_type": "stream",
     "text": [
      "train/covid/subset4/ct_scan814 covid 17 35 0 21 505 359\n",
      "\n"
     ]
    },
    {
     "name": "stderr",
     "output_type": "stream",
     "text": [
      "\r",
      " 20%|██        | 402/1992 [44:30<2:08:34,  4.85s/it]"
     ]
    },
    {
     "name": "stdout",
     "output_type": "stream",
     "text": [
      "train/covid/subset2/ct_scan_345 covid 11 32 0 175 512 490\n",
      "\n"
     ]
    },
    {
     "name": "stderr",
     "output_type": "stream",
     "text": [
      "\r",
      " 20%|██        | 403/1992 [44:32<1:44:36,  3.95s/it]"
     ]
    },
    {
     "name": "stdout",
     "output_type": "stream",
     "text": [
      "train/covid/subset1/ct_scan_64 covid 0 0 0 135 512 512\n",
      "\n",
      "train/covid/subset2/ct_scan_312 covid 91 202 0 74 512 469\n",
      "\n"
     ]
    },
    {
     "name": "stderr",
     "output_type": "stream",
     "text": [
      "\r",
      " 20%|██        | 405/1992 [44:41<1:50:55,  4.19s/it]"
     ]
    },
    {
     "name": "stdout",
     "output_type": "stream",
     "text": [
      "train/covid/subset1/ct_scan_157 covid 105 240 0 113 512 442\n",
      "\n"
     ]
    },
    {
     "name": "stderr",
     "output_type": "stream",
     "text": [
      "\r",
      " 20%|██        | 406/1992 [44:53<2:48:06,  6.36s/it]"
     ]
    },
    {
     "name": "stdout",
     "output_type": "stream",
     "text": [
      "train/covid/subset2/ct_scan_374 covid 93 298 0 90 512 442\n",
      "\n"
     ]
    },
    {
     "name": "stderr",
     "output_type": "stream",
     "text": [
      "\r",
      " 20%|██        | 407/1992 [45:10<4:18:40,  9.79s/it]"
     ]
    },
    {
     "name": "stdout",
     "output_type": "stream",
     "text": [
      "train/covid/subset3/ct_scan_491 covid 75 171 16 83 490 429\n",
      "\n"
     ]
    },
    {
     "name": "stderr",
     "output_type": "stream",
     "text": [
      "\r",
      " 20%|██        | 408/1992 [45:19<4:05:53,  9.31s/it]"
     ]
    },
    {
     "name": "stdout",
     "output_type": "stream",
     "text": [
      "train/covid/subset3/ct_scan_468 covid 21 32 0 80 512 414\n",
      "\n"
     ]
    },
    {
     "name": "stderr",
     "output_type": "stream",
     "text": [
      "\r",
      " 21%|██        | 409/1992 [45:20<3:00:05,  6.83s/it]"
     ]
    },
    {
     "name": "stdout",
     "output_type": "stream",
     "text": [
      "train/covid/subset3/ct_scan_615 covid 36 69 0 122 512 490\n",
      "\n"
     ]
    },
    {
     "name": "stderr",
     "output_type": "stream",
     "text": [
      "\r",
      " 21%|██        | 410/1992 [45:23<2:28:46,  5.64s/it]"
     ]
    },
    {
     "name": "stdout",
     "output_type": "stream",
     "text": [
      "train/covid/subset4/ct_scan766 covid 96 204 0 64 512 422\n",
      "\n"
     ]
    },
    {
     "name": "stderr",
     "output_type": "stream",
     "text": [
      "\r",
      " 21%|██        | 411/1992 [45:32<2:56:44,  6.71s/it]"
     ]
    },
    {
     "name": "stdout",
     "output_type": "stream",
     "text": [
      "train/covid/subset4/ct_scan846 covid 7 23 4 156 512 415\n",
      "\n"
     ]
    },
    {
     "name": "stderr",
     "output_type": "stream",
     "text": [
      "\r",
      " 21%|██        | 412/1992 [45:33<2:14:59,  5.13s/it]"
     ]
    },
    {
     "name": "stdout",
     "output_type": "stream",
     "text": [
      "train/covid/subset1/ct_scan_215 covid 2 23 83 148 315 395\n",
      "\n"
     ]
    },
    {
     "name": "stderr",
     "output_type": "stream",
     "text": [
      "\r",
      " 21%|██        | 413/1992 [45:35<1:49:17,  4.15s/it]"
     ]
    },
    {
     "name": "stdout",
     "output_type": "stream",
     "text": [
      "train/covid/subset2/ct_scan_259 covid 16 35 0 72 512 476\n",
      "\n"
     ]
    },
    {
     "name": "stderr",
     "output_type": "stream",
     "text": [
      "\r",
      " 21%|██        | 414/1992 [45:37<1:29:43,  3.41s/it]"
     ]
    },
    {
     "name": "stdout",
     "output_type": "stream",
     "text": [
      "train/covid/subset2/ct_scan_265 covid 16 26 0 154 512 461\n",
      "\n"
     ]
    },
    {
     "name": "stderr",
     "output_type": "stream",
     "text": [
      "\r",
      " 21%|██        | 415/1992 [45:38<1:10:06,  2.67s/it]"
     ]
    },
    {
     "name": "stdout",
     "output_type": "stream",
     "text": [
      "train/covid/subset4/ct_scan873 covid 48 101 0 160 512 405\n",
      "\n"
     ]
    },
    {
     "name": "stderr",
     "output_type": "stream",
     "text": [
      "\r",
      " 21%|██        | 416/1992 [45:42<1:24:50,  3.23s/it]"
     ]
    },
    {
     "name": "stdout",
     "output_type": "stream",
     "text": [
      "train/covid/subset2/ct_scan_309 covid 53 91 0 0 512 400\n",
      "\n"
     ]
    },
    {
     "name": "stderr",
     "output_type": "stream",
     "text": [
      "\r",
      " 21%|██        | 417/1992 [45:46<1:25:31,  3.26s/it]"
     ]
    },
    {
     "name": "stdout",
     "output_type": "stream",
     "text": [
      "train/covid/subset3/ct_scan_574 covid 31 66 0 73 512 481\n",
      "\n"
     ]
    },
    {
     "name": "stderr",
     "output_type": "stream",
     "text": [
      "\r",
      " 21%|██        | 418/1992 [45:49<1:23:38,  3.19s/it]"
     ]
    },
    {
     "name": "stdout",
     "output_type": "stream",
     "text": [
      "train/covid/subset4/ct_scan808 covid 10 20 14 86 512 428\n",
      "\n"
     ]
    },
    {
     "name": "stderr",
     "output_type": "stream",
     "text": [
      "\r",
      " 21%|██        | 419/1992 [45:50<1:05:48,  2.51s/it]"
     ]
    },
    {
     "name": "stdout",
     "output_type": "stream",
     "text": [
      "train/covid/subset3/ct_scan_489 covid 90 186 38 108 467 435\n",
      "\n"
     ]
    },
    {
     "name": "stderr",
     "output_type": "stream",
     "text": [
      "\r",
      " 21%|██        | 420/1992 [45:58<1:50:54,  4.23s/it]"
     ]
    },
    {
     "name": "stdout",
     "output_type": "stream",
     "text": [
      "train/covid/subset2/ct_scan_420 covid 82 169 0 128 512 488\n",
      "\n"
     ]
    },
    {
     "name": "stderr",
     "output_type": "stream",
     "text": [
      "\r",
      " 21%|██        | 421/1992 [46:05<2:17:41,  5.26s/it]"
     ]
    },
    {
     "name": "stdout",
     "output_type": "stream",
     "text": [
      "train/covid/subset3/ct_scan_591 covid 57 134 7 64 512 424\n",
      "\n"
     ]
    },
    {
     "name": "stderr",
     "output_type": "stream",
     "text": [
      "\r",
      " 21%|██        | 422/1992 [46:12<2:28:08,  5.66s/it]"
     ]
    },
    {
     "name": "stdout",
     "output_type": "stream",
     "text": [
      "train/covid/subset4/ct_scan773 covid 81 179 12 118 512 413\n",
      "\n"
     ]
    },
    {
     "name": "stderr",
     "output_type": "stream",
     "text": [
      "\r",
      " 21%|██        | 423/1992 [46:20<2:48:49,  6.46s/it]"
     ]
    },
    {
     "name": "stdout",
     "output_type": "stream",
     "text": [
      "train/covid/subset2/ct_scan_398 covid 115 257 0 71 512 476\n",
      "\n"
     ]
    },
    {
     "name": "stderr",
     "output_type": "stream",
     "text": [
      "\r",
      " 21%|██▏       | 424/1992 [46:32<3:32:06,  8.12s/it]"
     ]
    },
    {
     "name": "stdout",
     "output_type": "stream",
     "text": [
      "train/covid/subset1/ct_scan_170 covid 115 257 0 71 512 476\n",
      "\n"
     ]
    },
    {
     "name": "stderr",
     "output_type": "stream",
     "text": [
      "\r",
      " 21%|██▏       | 425/1992 [46:44<4:02:02,  9.27s/it]"
     ]
    },
    {
     "name": "stdout",
     "output_type": "stream",
     "text": [
      "train/covid/subset2/ct_scan_428 covid 97 199 0 121 512 470\n",
      "\n"
     ]
    },
    {
     "name": "stderr",
     "output_type": "stream",
     "text": [
      "\r",
      " 21%|██▏       | 426/1992 [46:53<3:56:45,  9.07s/it]"
     ]
    },
    {
     "name": "stdout",
     "output_type": "stream",
     "text": [
      "train/covid/subset3/ct_scan_566 covid 121 197 0 71 512 390\n",
      "\n"
     ]
    },
    {
     "name": "stderr",
     "output_type": "stream",
     "text": [
      "\r",
      " 21%|██▏       | 427/1992 [46:59<3:36:15,  8.29s/it]"
     ]
    },
    {
     "name": "stdout",
     "output_type": "stream",
     "text": [
      "train/covid/subset3/ct_scan_671 covid 16 46 0 95 506 436\n",
      "\n"
     ]
    },
    {
     "name": "stderr",
     "output_type": "stream",
     "text": [
      "\r",
      " 21%|██▏       | 428/1992 [47:02<2:51:34,  6.58s/it]"
     ]
    },
    {
     "name": "stdout",
     "output_type": "stream",
     "text": [
      "train/covid/subset3/ct_scan_581 covid 66 123 0 32 512 457\n",
      "\n"
     ]
    },
    {
     "name": "stderr",
     "output_type": "stream",
     "text": [
      "\r",
      " 22%|██▏       | 429/1992 [47:07<2:38:01,  6.07s/it]"
     ]
    },
    {
     "name": "stdout",
     "output_type": "stream",
     "text": [
      "train/covid/subset1/ct_scan_203 covid 84 248 0 109 512 458\n",
      "\n"
     ]
    },
    {
     "name": "stderr",
     "output_type": "stream",
     "text": [
      "\r",
      " 22%|██▏       | 430/1992 [47:21<3:38:45,  8.40s/it]"
     ]
    },
    {
     "name": "stdout",
     "output_type": "stream",
     "text": [
      "train/covid/subset1/ct_scan_41 covid 92 266 41 128 512 470\n",
      "\n"
     ]
    },
    {
     "name": "stderr",
     "output_type": "stream",
     "text": [
      "\r",
      " 22%|██▏       | 431/1992 [47:35<4:27:25, 10.28s/it]"
     ]
    },
    {
     "name": "stdout",
     "output_type": "stream",
     "text": [
      "train/covid/subset2/ct_scan_322 covid 16 35 0 76 512 458\n",
      "\n"
     ]
    },
    {
     "name": "stderr",
     "output_type": "stream",
     "text": [
      "\r",
      " 22%|██▏       | 432/1992 [47:37<3:20:09,  7.70s/it]"
     ]
    },
    {
     "name": "stdout",
     "output_type": "stream",
     "text": [
      "train/covid/subset1/ct_scan_224 covid 11 31 0 178 512 491\n",
      "\n"
     ]
    },
    {
     "name": "stderr",
     "output_type": "stream",
     "text": [
      "\r",
      " 22%|██▏       | 433/1992 [47:39<2:33:45,  5.92s/it]"
     ]
    },
    {
     "name": "stdout",
     "output_type": "stream",
     "text": [
      "train/covid/subset4/ct_scan702 covid 67 208 0 163 512 425\n",
      "\n"
     ]
    },
    {
     "name": "stderr",
     "output_type": "stream",
     "text": [
      "\r",
      " 22%|██▏       | 434/1992 [47:51<3:21:02,  7.74s/it]"
     ]
    },
    {
     "name": "stdout",
     "output_type": "stream",
     "text": [
      "train/covid/subset1/ct_scan_107 covid 0 3 0 131 512 478\n",
      "\n"
     ]
    },
    {
     "name": "stderr",
     "output_type": "stream",
     "text": [
      "\r",
      " 22%|██▏       | 435/1992 [47:51<2:23:15,  5.52s/it]"
     ]
    },
    {
     "name": "stdout",
     "output_type": "stream",
     "text": [
      "train/covid/subset1/ct_scan_36 covid 14 37 0 124 512 464\n",
      "\n"
     ]
    },
    {
     "name": "stderr",
     "output_type": "stream",
     "text": [
      "\r",
      " 22%|██▏       | 436/1992 [47:53<1:55:48,  4.47s/it]"
     ]
    },
    {
     "name": "stdout",
     "output_type": "stream",
     "text": [
      "train/covid/subset1/ct_scan_101 covid 20 39 0 109 512 484\n",
      "\n"
     ]
    },
    {
     "name": "stderr",
     "output_type": "stream",
     "text": [
      "\r",
      " 22%|██▏       | 437/1992 [47:55<1:34:04,  3.63s/it]"
     ]
    },
    {
     "name": "stdout",
     "output_type": "stream",
     "text": [
      "train/covid/subset1/ct_scan_76 covid 0 84 0 0 512 397\n",
      "\n"
     ]
    },
    {
     "name": "stderr",
     "output_type": "stream",
     "text": [
      "\r",
      " 22%|██▏       | 438/1992 [48:02<2:01:55,  4.71s/it]"
     ]
    },
    {
     "name": "stdout",
     "output_type": "stream",
     "text": [
      "train/covid/subset4/ct_scan857 covid 11 30 15 121 508 444\n",
      "\n"
     ]
    },
    {
     "name": "stderr",
     "output_type": "stream",
     "text": [
      "\r",
      " 22%|██▏       | 439/1992 [48:04<1:38:20,  3.80s/it]"
     ]
    },
    {
     "name": "stdout",
     "output_type": "stream",
     "text": [
      "train/covid/subset3/ct_scan_548 covid 20 39 0 139 512 471\n",
      "\n"
     ]
    },
    {
     "name": "stderr",
     "output_type": "stream",
     "text": [
      "\r",
      " 22%|██▏       | 440/1992 [48:05<1:21:47,  3.16s/it]"
     ]
    },
    {
     "name": "stdout",
     "output_type": "stream",
     "text": [
      "train/covid/subset2/ct_scan_256 covid 23 46 0 128 512 462\n",
      "\n"
     ]
    },
    {
     "name": "stderr",
     "output_type": "stream",
     "text": [
      "\r",
      " 22%|██▏       | 441/1992 [48:07<1:12:49,  2.82s/it]"
     ]
    },
    {
     "name": "stdout",
     "output_type": "stream",
     "text": [
      "train/covid/subset3/ct_scan_575 covid 15 20 55 120 478 384\n",
      "\n"
     ]
    },
    {
     "name": "stderr",
     "output_type": "stream",
     "text": [
      "\r",
      " 22%|██▏       | 442/1992 [48:08<54:51,  2.12s/it]  "
     ]
    },
    {
     "name": "stdout",
     "output_type": "stream",
     "text": [
      "train/covid/subset3/ct_scan_540 covid 107 203 0 65 512 387\n",
      "\n"
     ]
    },
    {
     "name": "stderr",
     "output_type": "stream",
     "text": [
      "\r",
      " 22%|██▏       | 443/1992 [48:16<1:41:34,  3.93s/it]"
     ]
    },
    {
     "name": "stdout",
     "output_type": "stream",
     "text": [
      "train/covid/subset1/ct_scan_176 covid 113 223 0 125 512 475\n",
      "\n"
     ]
    },
    {
     "name": "stderr",
     "output_type": "stream",
     "text": [
      "\r",
      " 22%|██▏       | 444/1992 [48:25<2:23:09,  5.55s/it]"
     ]
    },
    {
     "name": "stdout",
     "output_type": "stream",
     "text": [
      "train/covid/subset4/ct_scan879 covid 16 31 0 162 512 402\n",
      "\n"
     ]
    },
    {
     "name": "stderr",
     "output_type": "stream",
     "text": [
      "\r",
      " 22%|██▏       | 445/1992 [48:27<1:50:33,  4.29s/it]"
     ]
    },
    {
     "name": "stdout",
     "output_type": "stream",
     "text": [
      "train/covid/subset4/ct_scan839 covid 9 21 4 156 512 414\n",
      "\n"
     ]
    },
    {
     "name": "stderr",
     "output_type": "stream",
     "text": [
      "\r",
      " 22%|██▏       | 446/1992 [48:28<1:25:48,  3.33s/it]"
     ]
    },
    {
     "name": "stdout",
     "output_type": "stream",
     "text": [
      "train/covid/subset2/ct_scan_296 covid 137 243 0 49 512 493\n",
      "\n"
     ]
    },
    {
     "name": "stderr",
     "output_type": "stream",
     "text": [
      "\r",
      " 22%|██▏       | 447/1992 [48:37<2:09:27,  5.03s/it]"
     ]
    },
    {
     "name": "stdout",
     "output_type": "stream",
     "text": [
      "train/covid/subset1/ct_scan_133 covid 164 260 41 105 463 412\n",
      "\n"
     ]
    },
    {
     "name": "stderr",
     "output_type": "stream",
     "text": [
      "\r",
      " 22%|██▏       | 448/1992 [48:45<2:33:22,  5.96s/it]"
     ]
    },
    {
     "name": "stdout",
     "output_type": "stream",
     "text": [
      "train/covid/subset2/ct_scan_291 covid 83 168 0 109 512 479\n",
      "\n"
     ]
    },
    {
     "name": "stderr",
     "output_type": "stream",
     "text": [
      "\r",
      " 23%|██▎       | 449/1992 [48:52<2:42:56,  6.34s/it]"
     ]
    },
    {
     "name": "stdout",
     "output_type": "stream",
     "text": [
      "train/covid/subset4/ct_scan719 covid 63 136 25 103 503 438\n",
      "\n"
     ]
    },
    {
     "name": "stderr",
     "output_type": "stream",
     "text": [
      "\r",
      " 23%|██▎       | 450/1992 [48:58<2:42:04,  6.31s/it]"
     ]
    },
    {
     "name": "stdout",
     "output_type": "stream",
     "text": [
      "train/covid/subset3/ct_scan_668 covid 67 95 0 135 512 456\n",
      "\n"
     ]
    },
    {
     "name": "stderr",
     "output_type": "stream",
     "text": [
      "\r",
      " 23%|██▎       | 451/1992 [49:01<2:12:11,  5.15s/it]"
     ]
    },
    {
     "name": "stdout",
     "output_type": "stream",
     "text": [
      "train/covid/subset3/ct_scan_604 covid 83 253 40 83 486 410\n",
      "\n"
     ]
    },
    {
     "name": "stderr",
     "output_type": "stream",
     "text": [
      "\r",
      " 23%|██▎       | 452/1992 [49:16<3:26:17,  8.04s/it]"
     ]
    },
    {
     "name": "stdout",
     "output_type": "stream",
     "text": [
      "train/covid/subset3/ct_scan_485 covid 40 151 0 48 512 457\n",
      "\n"
     ]
    },
    {
     "name": "stderr",
     "output_type": "stream",
     "text": [
      "\r",
      " 23%|██▎       | 453/1992 [49:25<3:36:48,  8.45s/it]"
     ]
    },
    {
     "name": "stdout",
     "output_type": "stream",
     "text": [
      "train/covid/subset1/ct_scan_113 covid 20 37 0 93 512 457\n",
      "\n"
     ]
    },
    {
     "name": "stderr",
     "output_type": "stream",
     "text": [
      "\r",
      " 23%|██▎       | 454/1992 [49:27<2:43:17,  6.37s/it]"
     ]
    },
    {
     "name": "stdout",
     "output_type": "stream",
     "text": [
      "train/covid/subset1/ct_scan_51 covid 24 41 0 114 491 439\n",
      "\n"
     ]
    },
    {
     "name": "stderr",
     "output_type": "stream",
     "text": [
      "\r",
      " 23%|██▎       | 455/1992 [49:28<2:05:50,  4.91s/it]"
     ]
    },
    {
     "name": "stdout",
     "output_type": "stream",
     "text": [
      "train/covid/subset2/ct_scan_432 covid 24 37 0 155 512 469\n",
      "\n"
     ]
    },
    {
     "name": "stderr",
     "output_type": "stream",
     "text": [
      "\r",
      " 23%|██▎       | 456/1992 [49:29<1:37:07,  3.79s/it]"
     ]
    },
    {
     "name": "stdout",
     "output_type": "stream",
     "text": [
      "train/covid/subset3/ct_scan_451 covid 22 49 39 139 495 420\n",
      "\n"
     ]
    },
    {
     "name": "stderr",
     "output_type": "stream",
     "text": [
      "\r",
      " 23%|██▎       | 457/1992 [49:32<1:25:58,  3.36s/it]"
     ]
    },
    {
     "name": "stdout",
     "output_type": "stream",
     "text": [
      "train/covid/subset4/ct_scan712 covid 90 222 0 105 495 501\n",
      "\n"
     ]
    },
    {
     "name": "stderr",
     "output_type": "stream",
     "text": [
      "\r",
      " 23%|██▎       | 458/1992 [49:43<2:26:23,  5.73s/it]"
     ]
    },
    {
     "name": "stdout",
     "output_type": "stream",
     "text": [
      "train/covid/subset1/ct_scan_155 covid 95 220 0 95 512 512\n",
      "\n"
     ]
    },
    {
     "name": "stderr",
     "output_type": "stream",
     "text": [
      "\r",
      " 23%|██▎       | 459/1992 [49:53<3:03:12,  7.17s/it]"
     ]
    },
    {
     "name": "stdout",
     "output_type": "stream",
     "text": [
      "train/covid/subset4/ct_scan824 covid 11 31 0 123 512 450\n",
      "\n"
     ]
    },
    {
     "name": "stderr",
     "output_type": "stream",
     "text": [
      "\r",
      " 23%|██▎       | 460/1992 [49:55<2:21:50,  5.56s/it]"
     ]
    },
    {
     "name": "stdout",
     "output_type": "stream",
     "text": [
      "train/covid/subset2/ct_scan_277 covid 100 220 0 70 512 467\n",
      "\n"
     ]
    },
    {
     "name": "stderr",
     "output_type": "stream",
     "text": [
      "\r",
      " 23%|██▎       | 461/1992 [50:05<2:56:49,  6.93s/it]"
     ]
    },
    {
     "name": "stdout",
     "output_type": "stream",
     "text": [
      "train/covid/subset2/ct_scan_373 covid 170 361 0 56 512 434\n",
      "\n"
     ]
    },
    {
     "name": "stderr",
     "output_type": "stream",
     "text": [
      "\r",
      " 23%|██▎       | 462/1992 [50:21<4:07:26,  9.70s/it]"
     ]
    },
    {
     "name": "stdout",
     "output_type": "stream",
     "text": [
      "train/covid/subset1/ct_scan_126 covid 85 181 0 72 496 418\n",
      "\n"
     ]
    },
    {
     "name": "stderr",
     "output_type": "stream",
     "text": [
      "\r",
      " 23%|██▎       | 463/1992 [50:30<3:56:27,  9.28s/it]"
     ]
    },
    {
     "name": "stdout",
     "output_type": "stream",
     "text": [
      "train/covid/subset3/ct_scan_454 covid 20 30 61 153 507 374\n",
      "\n"
     ]
    },
    {
     "name": "stderr",
     "output_type": "stream",
     "text": [
      "\r",
      " 23%|██▎       | 464/1992 [50:31<2:52:33,  6.78s/it]"
     ]
    },
    {
     "name": "stdout",
     "output_type": "stream",
     "text": [
      "train/covid/subset1/ct_scan_145 covid 25 37 0 151 512 469\n",
      "\n"
     ]
    },
    {
     "name": "stderr",
     "output_type": "stream",
     "text": [
      "\r",
      " 23%|██▎       | 465/1992 [50:32<2:09:10,  5.08s/it]"
     ]
    },
    {
     "name": "stdout",
     "output_type": "stream",
     "text": [
      "train/covid/subset4/ct_scan694 covid 101 227 0 87 512 416\n",
      "\n"
     ]
    },
    {
     "name": "stderr",
     "output_type": "stream",
     "text": [
      "\r",
      " 23%|██▎       | 466/1992 [50:43<2:52:00,  6.76s/it]"
     ]
    },
    {
     "name": "stdout",
     "output_type": "stream",
     "text": [
      "train/covid/subset2/ct_scan_333 covid 114 224 13 104 512 436\n",
      "\n"
     ]
    },
    {
     "name": "stderr",
     "output_type": "stream",
     "text": [
      "\r",
      " 23%|██▎       | 467/1992 [50:52<3:11:56,  7.55s/it]"
     ]
    },
    {
     "name": "stdout",
     "output_type": "stream",
     "text": [
      "train/covid/subset3/ct_scan_613 covid 62 199 25 60 480 379\n",
      "\n"
     ]
    },
    {
     "name": "stderr",
     "output_type": "stream",
     "text": [
      "\r",
      " 23%|██▎       | 468/1992 [51:03<3:42:23,  8.76s/it]"
     ]
    },
    {
     "name": "stdout",
     "output_type": "stream",
     "text": [
      "train/covid/subset1/ct_scan_26 covid 106 202 0 34 512 512\n",
      "\n"
     ]
    },
    {
     "name": "stderr",
     "output_type": "stream",
     "text": [
      "\r",
      " 24%|██▎       | 469/1992 [51:12<3:37:53,  8.58s/it]"
     ]
    },
    {
     "name": "stdout",
     "output_type": "stream",
     "text": [
      "train/covid/subset1/ct_scan_190 covid 32 40 5 92 490 457\n",
      "\n"
     ]
    },
    {
     "name": "stderr",
     "output_type": "stream",
     "text": [
      "\r",
      " 24%|██▎       | 470/1992 [51:12<2:38:19,  6.24s/it]"
     ]
    },
    {
     "name": "stdout",
     "output_type": "stream",
     "text": [
      "train/covid/subset2/ct_scan_299 covid 132 229 0 74 512 484\n",
      "\n"
     ]
    },
    {
     "name": "stderr",
     "output_type": "stream",
     "text": [
      "\r",
      " 24%|██▎       | 471/1992 [51:21<2:54:48,  6.90s/it]"
     ]
    },
    {
     "name": "stdout",
     "output_type": "stream",
     "text": [
      "train/covid/subset1/ct_scan_209 covid 11 17 0 124 512 494\n",
      "\n"
     ]
    },
    {
     "name": "stderr",
     "output_type": "stream",
     "text": [
      "\r",
      " 24%|██▎       | 472/1992 [51:21<2:06:45,  5.00s/it]"
     ]
    },
    {
     "name": "stdout",
     "output_type": "stream",
     "text": [
      "train/covid/subset1/ct_scan_194 covid 82 182 0 159 512 462\n",
      "\n"
     ]
    },
    {
     "name": "stderr",
     "output_type": "stream",
     "text": [
      "\r",
      " 24%|██▎       | 473/1992 [51:30<2:32:56,  6.04s/it]"
     ]
    },
    {
     "name": "stdout",
     "output_type": "stream",
     "text": [
      "train/covid/subset1/ct_scan_137 covid 18 28 0 104 512 460\n",
      "\n"
     ]
    },
    {
     "name": "stderr",
     "output_type": "stream",
     "text": [
      "\r",
      " 24%|██▍       | 474/1992 [51:31<1:54:02,  4.51s/it]"
     ]
    },
    {
     "name": "stdout",
     "output_type": "stream",
     "text": [
      "train/covid/subset4/ct_scan765 covid 97 205 0 79 512 420\n",
      "\n"
     ]
    },
    {
     "name": "stderr",
     "output_type": "stream",
     "text": [
      "\r",
      " 24%|██▍       | 475/1992 [51:40<2:29:41,  5.92s/it]"
     ]
    },
    {
     "name": "stdout",
     "output_type": "stream",
     "text": [
      "train/covid/subset1/ct_scan_186 covid 79 197 0 119 512 458\n",
      "\n"
     ]
    },
    {
     "name": "stderr",
     "output_type": "stream",
     "text": [
      "\r",
      " 24%|██▍       | 476/1992 [51:50<3:00:13,  7.13s/it]"
     ]
    },
    {
     "name": "stdout",
     "output_type": "stream",
     "text": [
      "train/covid/subset4/ct_scan703 covid 174 282 0 92 512 438\n",
      "\n"
     ]
    },
    {
     "name": "stderr",
     "output_type": "stream",
     "text": [
      "\r",
      " 24%|██▍       | 477/1992 [51:59<3:16:22,  7.78s/it]"
     ]
    },
    {
     "name": "stdout",
     "output_type": "stream",
     "text": [
      "train/covid/subset1/ct_scan_162 covid 124 311 0 106 512 444\n",
      "\n"
     ]
    },
    {
     "name": "stderr",
     "output_type": "stream",
     "text": [
      "\r",
      " 24%|██▍       | 478/1992 [52:15<4:16:32, 10.17s/it]"
     ]
    },
    {
     "name": "stdout",
     "output_type": "stream",
     "text": [
      "train/covid/subset4/ct_scan767 covid 135 286 0 65 512 418\n",
      "\n"
     ]
    },
    {
     "name": "stderr",
     "output_type": "stream",
     "text": [
      "\r",
      " 24%|██▍       | 479/1992 [52:28<4:36:18, 10.96s/it]"
     ]
    },
    {
     "name": "stdout",
     "output_type": "stream",
     "text": [
      "train/covid/subset3/ct_scan_630 covid 25 49 0 133 512 448\n",
      "\n"
     ]
    },
    {
     "name": "stderr",
     "output_type": "stream",
     "text": [
      "\r",
      " 24%|██▍       | 480/1992 [52:30<3:29:12,  8.30s/it]"
     ]
    },
    {
     "name": "stdout",
     "output_type": "stream",
     "text": [
      "train/covid/subset4/ct_scan779 covid 119 251 12 50 491 399\n",
      "\n"
     ]
    },
    {
     "name": "stderr",
     "output_type": "stream",
     "text": [
      "\r",
      " 24%|██▍       | 481/1992 [52:41<3:50:14,  9.14s/it]"
     ]
    },
    {
     "name": "stdout",
     "output_type": "stream",
     "text": [
      "train/covid/subset1/ct_scan_4 covid 112 256 0 106 512 490\n",
      "\n"
     ]
    },
    {
     "name": "stderr",
     "output_type": "stream",
     "text": [
      "\r",
      " 24%|██▍       | 482/1992 [52:53<4:12:47, 10.04s/it]"
     ]
    },
    {
     "name": "stdout",
     "output_type": "stream",
     "text": [
      "train/covid/subset2/ct_scan_305 covid 23 50 0 99 512 477\n",
      "\n"
     ]
    },
    {
     "name": "stderr",
     "output_type": "stream",
     "text": [
      "\r",
      " 24%|██▍       | 483/1992 [52:56<3:14:36,  7.74s/it]"
     ]
    },
    {
     "name": "stdout",
     "output_type": "stream",
     "text": [
      "train/covid/subset1/ct_scan_59 covid 108 194 0 101 481 440\n",
      "\n"
     ]
    },
    {
     "name": "stderr",
     "output_type": "stream",
     "text": [
      "\r",
      " 24%|██▍       | 484/1992 [53:03<3:11:08,  7.60s/it]"
     ]
    },
    {
     "name": "stdout",
     "output_type": "stream",
     "text": [
      "train/covid/subset2/ct_scan_307 covid 20 39 44 140 468 438\n",
      "\n"
     ]
    },
    {
     "name": "stderr",
     "output_type": "stream",
     "text": [
      "\r",
      " 24%|██▍       | 485/1992 [53:05<2:26:26,  5.83s/it]"
     ]
    },
    {
     "name": "stdout",
     "output_type": "stream",
     "text": [
      "train/covid/subset1/ct_scan_216 covid 84 213 0 92 512 461\n",
      "\n"
     ]
    },
    {
     "name": "stderr",
     "output_type": "stream",
     "text": [
      "\r",
      " 24%|██▍       | 486/1992 [53:15<3:04:25,  7.35s/it]"
     ]
    },
    {
     "name": "stdout",
     "output_type": "stream",
     "text": [
      "train/covid/subset3/ct_scan_680 covid 18 48 0 112 512 480\n",
      "\n"
     ]
    },
    {
     "name": "stderr",
     "output_type": "stream",
     "text": [
      "\r",
      " 24%|██▍       | 487/1992 [53:18<2:28:37,  5.93s/it]"
     ]
    },
    {
     "name": "stdout",
     "output_type": "stream",
     "text": [
      "train/covid/subset3/ct_scan_565 covid 6 29 0 111 493 446\n",
      "\n"
     ]
    },
    {
     "name": "stderr",
     "output_type": "stream",
     "text": [
      "\r",
      " 24%|██▍       | 488/1992 [53:20<1:59:03,  4.75s/it]"
     ]
    },
    {
     "name": "stdout",
     "output_type": "stream",
     "text": [
      "train/covid/subset2/ct_scan_288 covid 13 34 14 102 497 435\n",
      "\n"
     ]
    },
    {
     "name": "stderr",
     "output_type": "stream",
     "text": [
      "\r",
      " 25%|██▍       | 489/1992 [53:22<1:37:11,  3.88s/it]"
     ]
    },
    {
     "name": "stdout",
     "output_type": "stream",
     "text": [
      "train/covid/subset1/ct_scan_174 covid 64 156 0 52 512 405\n",
      "\n"
     ]
    },
    {
     "name": "stderr",
     "output_type": "stream",
     "text": [
      "\r",
      " 25%|██▍       | 490/1992 [53:30<2:06:35,  5.06s/it]"
     ]
    },
    {
     "name": "stdout",
     "output_type": "stream",
     "text": [
      "train/covid/subset2/ct_scan_293 covid 94 206 0 86 512 440\n",
      "\n"
     ]
    },
    {
     "name": "stderr",
     "output_type": "stream",
     "text": [
      "\r",
      " 25%|██▍       | 491/1992 [53:39<2:39:52,  6.39s/it]"
     ]
    },
    {
     "name": "stdout",
     "output_type": "stream",
     "text": [
      "train/covid/subset4/ct_scan735 covid 78 139 0 16 512 396\n",
      "\n"
     ]
    },
    {
     "name": "stderr",
     "output_type": "stream",
     "text": [
      "\r",
      " 25%|██▍       | 492/1992 [53:44<2:31:09,  6.05s/it]"
     ]
    },
    {
     "name": "stdout",
     "output_type": "stream",
     "text": [
      "train/covid/subset1/ct_scan_19 covid 117 292 13 124 479 437\n",
      "\n"
     ]
    },
    {
     "name": "stderr",
     "output_type": "stream",
     "text": [
      "\r",
      " 25%|██▍       | 493/1992 [53:59<3:36:26,  8.66s/it]"
     ]
    },
    {
     "name": "stdout",
     "output_type": "stream",
     "text": [
      "train/covid/subset1/ct_scan_35 covid 97 216 0 85 512 454\n",
      "\n"
     ]
    },
    {
     "name": "stderr",
     "output_type": "stream",
     "text": [
      "\r",
      " 25%|██▍       | 494/1992 [54:09<3:47:06,  9.10s/it]"
     ]
    },
    {
     "name": "stdout",
     "output_type": "stream",
     "text": [
      "train/covid/subset3/ct_scan_629 covid 0 52 55 65 512 389\n",
      "\n"
     ]
    },
    {
     "name": "stderr",
     "output_type": "stream",
     "text": [
      "\r",
      " 25%|██▍       | 495/1992 [54:14<3:12:16,  7.71s/it]"
     ]
    },
    {
     "name": "stdout",
     "output_type": "stream",
     "text": [
      "train/covid/subset1/ct_scan_160 covid 15 30 0 126 512 475\n",
      "\n"
     ]
    },
    {
     "name": "stderr",
     "output_type": "stream",
     "text": [
      "\r",
      " 25%|██▍       | 496/1992 [54:15<2:25:21,  5.83s/it]"
     ]
    },
    {
     "name": "stdout",
     "output_type": "stream",
     "text": [
      "train/covid/subset2/ct_scan_377 covid 19 37 0 70 512 485\n",
      "\n"
     ]
    },
    {
     "name": "stderr",
     "output_type": "stream",
     "text": [
      "\r",
      " 25%|██▍       | 497/1992 [54:17<1:53:45,  4.57s/it]"
     ]
    },
    {
     "name": "stdout",
     "output_type": "stream",
     "text": [
      "train/covid/subset1/ct_scan_70 covid 17 38 6 74 485 448\n",
      "\n"
     ]
    },
    {
     "name": "stderr",
     "output_type": "stream",
     "text": [
      "\r",
      " 25%|██▌       | 498/1992 [54:19<1:33:26,  3.75s/it]"
     ]
    },
    {
     "name": "stdout",
     "output_type": "stream",
     "text": [
      "train/covid/subset2/ct_scan_363 covid 18 34 0 58 512 448\n",
      "\n"
     ]
    },
    {
     "name": "stderr",
     "output_type": "stream",
     "text": [
      "\r",
      " 25%|██▌       | 499/1992 [54:20<1:16:05,  3.06s/it]"
     ]
    },
    {
     "name": "stdout",
     "output_type": "stream",
     "text": [
      "train/covid/subset4/ct_scan807 covid 13 32 21 118 499 452\n",
      "\n"
     ]
    },
    {
     "name": "stderr",
     "output_type": "stream",
     "text": [
      "\r",
      " 25%|██▌       | 500/1992 [54:22<1:05:45,  2.64s/it]"
     ]
    },
    {
     "name": "stdout",
     "output_type": "stream",
     "text": [
      "train/covid/subset1/ct_scan_159 covid 26 54 0 72 493 408\n",
      "\n"
     ]
    },
    {
     "name": "stderr",
     "output_type": "stream",
     "text": [
      "\r",
      " 25%|██▌       | 501/1992 [54:24<1:04:12,  2.58s/it]"
     ]
    },
    {
     "name": "stdout",
     "output_type": "stream",
     "text": [
      "train/covid/subset2/ct_scan_441 covid 16 48 0 139 512 433\n",
      "\n"
     ]
    },
    {
     "name": "stderr",
     "output_type": "stream",
     "text": [
      "\r",
      " 25%|██▌       | 502/1992 [54:27<1:05:51,  2.65s/it]"
     ]
    },
    {
     "name": "stdout",
     "output_type": "stream",
     "text": [
      "train/covid/subset2/ct_scan_367 covid 99 212 0 85 512 485\n",
      "\n"
     ]
    },
    {
     "name": "stderr",
     "output_type": "stream",
     "text": [
      "\r",
      " 25%|██▌       | 503/1992 [54:37<1:57:31,  4.74s/it]"
     ]
    },
    {
     "name": "stdout",
     "output_type": "stream",
     "text": [
      "train/covid/subset4/ct_scan780 covid 53 88 0 165 512 428\n",
      "\n"
     ]
    },
    {
     "name": "stderr",
     "output_type": "stream",
     "text": [
      "\r",
      " 25%|██▌       | 504/1992 [54:40<1:44:50,  4.23s/it]"
     ]
    },
    {
     "name": "stdout",
     "output_type": "stream",
     "text": [
      "train/covid/subset3/ct_scan_624 covid 13 65 71 112 512 410\n",
      "\n"
     ]
    },
    {
     "name": "stderr",
     "output_type": "stream",
     "text": [
      "\r",
      " 25%|██▌       | 505/1992 [54:44<1:47:12,  4.33s/it]"
     ]
    },
    {
     "name": "stdout",
     "output_type": "stream",
     "text": [
      "train/covid/subset4/ct_scan772 covid 133 274 17 50 512 401\n",
      "\n"
     ]
    },
    {
     "name": "stderr",
     "output_type": "stream",
     "text": [
      "\r",
      " 25%|██▌       | 506/1992 [54:56<2:45:15,  6.67s/it]"
     ]
    },
    {
     "name": "stdout",
     "output_type": "stream",
     "text": [
      "train/covid/subset2/ct_scan_330 covid 106 215 0 88 512 484\n",
      "\n"
     ]
    },
    {
     "name": "stderr",
     "output_type": "stream",
     "text": [
      "\r",
      " 25%|██▌       | 507/1992 [55:06<3:04:45,  7.47s/it]"
     ]
    },
    {
     "name": "stdout",
     "output_type": "stream",
     "text": [
      "train/covid/subset3/ct_scan_492 covid 29 56 0 108 432 384\n",
      "\n"
     ]
    },
    {
     "name": "stderr",
     "output_type": "stream",
     "text": [
      "\r",
      " 26%|██▌       | 508/1992 [55:08<2:26:44,  5.93s/it]"
     ]
    },
    {
     "name": "stdout",
     "output_type": "stream",
     "text": [
      "train/covid/subset3/ct_scan_551 covid 91 148 0 72 512 429\n",
      "\n"
     ]
    },
    {
     "name": "stderr",
     "output_type": "stream",
     "text": [
      "\r",
      " 26%|██▌       | 509/1992 [55:13<2:18:54,  5.62s/it]"
     ]
    },
    {
     "name": "stdout",
     "output_type": "stream",
     "text": [
      "train/covid/subset1/ct_scan_128 covid 14 37 0 124 512 465\n",
      "\n"
     ]
    },
    {
     "name": "stderr",
     "output_type": "stream",
     "text": [
      "\r",
      " 26%|██▌       | 510/1992 [55:15<1:53:04,  4.58s/it]"
     ]
    },
    {
     "name": "stdout",
     "output_type": "stream",
     "text": [
      "train/covid/subset4/ct_scan865 covid 20 51 25 118 481 405\n",
      "\n"
     ]
    },
    {
     "name": "stderr",
     "output_type": "stream",
     "text": [
      "\r",
      " 26%|██▌       | 511/1992 [55:18<1:38:57,  4.01s/it]"
     ]
    },
    {
     "name": "stdout",
     "output_type": "stream",
     "text": [
      "train/covid/subset2/ct_scan_358 covid 84 212 0 92 512 461\n",
      "\n"
     ]
    },
    {
     "name": "stderr",
     "output_type": "stream",
     "text": [
      "\r",
      " 26%|██▌       | 512/1992 [55:29<2:29:19,  6.05s/it]"
     ]
    },
    {
     "name": "stdout",
     "output_type": "stream",
     "text": [
      "train/covid/subset3/ct_scan_532 covid 16 46 18 122 448 426\n",
      "\n"
     ]
    },
    {
     "name": "stderr",
     "output_type": "stream",
     "text": [
      "\r",
      " 26%|██▌       | 513/1992 [55:31<2:03:39,  5.02s/it]"
     ]
    },
    {
     "name": "stdout",
     "output_type": "stream",
     "text": [
      "train/covid/subset1/ct_scan_166 covid 114 218 0 105 512 451\n",
      "\n"
     ]
    },
    {
     "name": "stderr",
     "output_type": "stream",
     "text": [
      "\r",
      " 26%|██▌       | 514/1992 [55:40<2:31:15,  6.14s/it]"
     ]
    },
    {
     "name": "stdout",
     "output_type": "stream",
     "text": [
      "train/covid/subset3/ct_scan_623 covid 26 68 14 129 472 418\n",
      "\n"
     ]
    },
    {
     "name": "stderr",
     "output_type": "stream",
     "text": [
      "\r",
      " 26%|██▌       | 515/1992 [55:44<2:12:19,  5.38s/it]"
     ]
    },
    {
     "name": "stdout",
     "output_type": "stream",
     "text": [
      "train/covid/subset3/ct_scan_506 covid 16 37 11 67 506 454\n",
      "\n"
     ]
    },
    {
     "name": "stderr",
     "output_type": "stream",
     "text": [
      "\r",
      " 26%|██▌       | 516/1992 [55:45<1:46:10,  4.32s/it]"
     ]
    },
    {
     "name": "stdout",
     "output_type": "stream",
     "text": [
      "train/covid/subset2/ct_scan_415 covid 104 137 0 55 512 411\n",
      "\n"
     ]
    },
    {
     "name": "stderr",
     "output_type": "stream",
     "text": [
      "\r",
      " 26%|██▌       | 517/1992 [55:48<1:35:14,  3.87s/it]"
     ]
    },
    {
     "name": "stdout",
     "output_type": "stream",
     "text": [
      "train/covid/subset3/ct_scan_587 covid 72 221 11 44 470 419\n",
      "\n"
     ]
    },
    {
     "name": "stderr",
     "output_type": "stream",
     "text": [
      "\r",
      " 26%|██▌       | 518/1992 [56:01<2:39:21,  6.49s/it]"
     ]
    },
    {
     "name": "stdout",
     "output_type": "stream",
     "text": [
      "train/covid/subset1/ct_scan_167 covid 104 221 0 78 504 494\n",
      "\n"
     ]
    },
    {
     "name": "stderr",
     "output_type": "stream",
     "text": [
      "\r",
      " 26%|██▌       | 519/1992 [56:11<3:05:12,  7.54s/it]"
     ]
    },
    {
     "name": "stdout",
     "output_type": "stream",
     "text": [
      "train/covid/subset4/ct_scan688 covid 40 103 0 115 512 423\n",
      "\n"
     ]
    },
    {
     "name": "stderr",
     "output_type": "stream",
     "text": [
      "\r",
      " 26%|██▌       | 520/1992 [56:16<2:49:05,  6.89s/it]"
     ]
    },
    {
     "name": "stdout",
     "output_type": "stream",
     "text": [
      "train/covid/subset2/ct_scan_231 covid 117 194 0 147 512 462\n",
      "\n"
     ]
    },
    {
     "name": "stderr",
     "output_type": "stream",
     "text": [
      "\r",
      " 26%|██▌       | 521/1992 [56:23<2:46:37,  6.80s/it]"
     ]
    },
    {
     "name": "stdout",
     "output_type": "stream",
     "text": [
      "train/covid/subset3/ct_scan_558 covid 112 259 46 150 492 427\n",
      "\n"
     ]
    },
    {
     "name": "stderr",
     "output_type": "stream",
     "text": [
      "\r",
      " 26%|██▌       | 522/1992 [56:35<3:28:05,  8.49s/it]"
     ]
    },
    {
     "name": "stdout",
     "output_type": "stream",
     "text": [
      "train/covid/subset1/ct_scan_184 covid 114 381 0 59 512 501\n",
      "\n"
     ]
    },
    {
     "name": "stderr",
     "output_type": "stream",
     "text": [
      "\r",
      " 26%|██▋       | 523/1992 [56:59<5:17:19, 12.96s/it]"
     ]
    },
    {
     "name": "stdout",
     "output_type": "stream",
     "text": [
      "train/covid/subset4/ct_scan821 covid 12 26 7 116 487 470\n",
      "\n"
     ]
    },
    {
     "name": "stderr",
     "output_type": "stream",
     "text": [
      "\r",
      " 26%|██▋       | 524/1992 [57:00<3:51:14,  9.45s/it]"
     ]
    },
    {
     "name": "stdout",
     "output_type": "stream",
     "text": [
      "train/covid/subset4/ct_scan723 covid 65 190 0 107 512 437\n",
      "\n"
     ]
    },
    {
     "name": "stderr",
     "output_type": "stream",
     "text": [
      "\r",
      " 26%|██▋       | 525/1992 [57:11<3:59:32,  9.80s/it]"
     ]
    },
    {
     "name": "stdout",
     "output_type": "stream",
     "text": [
      "train/covid/subset4/ct_scan822 covid 13 25 0 126 512 451\n",
      "\n"
     ]
    },
    {
     "name": "stderr",
     "output_type": "stream",
     "text": [
      "\r",
      " 26%|██▋       | 526/1992 [57:12<2:55:33,  7.19s/it]"
     ]
    },
    {
     "name": "stdout",
     "output_type": "stream",
     "text": [
      "train/covid/subset4/ct_scan854 covid 15 32 15 88 500 424\n",
      "\n"
     ]
    },
    {
     "name": "stderr",
     "output_type": "stream",
     "text": [
      "\r",
      " 26%|██▋       | 527/1992 [57:13<2:13:47,  5.48s/it]"
     ]
    },
    {
     "name": "stdout",
     "output_type": "stream",
     "text": [
      "train/covid/subset1/ct_scan_125 covid 94 206 0 86 512 440\n",
      "\n"
     ]
    },
    {
     "name": "stderr",
     "output_type": "stream",
     "text": [
      "\r",
      " 27%|██▋       | 528/1992 [57:23<2:42:57,  6.68s/it]"
     ]
    },
    {
     "name": "stdout",
     "output_type": "stream",
     "text": [
      "train/covid/subset2/ct_scan_271 covid 124 304 0 102 512 428\n",
      "\n"
     ]
    },
    {
     "name": "stderr",
     "output_type": "stream",
     "text": [
      "\r",
      " 27%|██▋       | 529/1992 [57:38<3:45:34,  9.25s/it]"
     ]
    },
    {
     "name": "stdout",
     "output_type": "stream",
     "text": [
      "train/covid/subset3/ct_scan_528 covid 57 189 5 96 512 460\n",
      "\n"
     ]
    },
    {
     "name": "stderr",
     "output_type": "stream",
     "text": [
      "\r",
      " 27%|██▋       | 530/1992 [57:49<3:59:09,  9.81s/it]"
     ]
    },
    {
     "name": "stdout",
     "output_type": "stream",
     "text": [
      "train/covid/subset3/ct_scan_543 covid 56 129 0 74 512 415\n",
      "\n"
     ]
    },
    {
     "name": "stderr",
     "output_type": "stream",
     "text": [
      "\r",
      " 27%|██▋       | 531/1992 [57:55<3:32:19,  8.72s/it]"
     ]
    },
    {
     "name": "stdout",
     "output_type": "stream",
     "text": [
      "train/covid/subset3/ct_scan_603 covid 20 143 0 37 512 496\n",
      "\n"
     ]
    },
    {
     "name": "stderr",
     "output_type": "stream",
     "text": [
      "\r",
      " 27%|██▋       | 532/1992 [58:06<3:45:42,  9.28s/it]"
     ]
    },
    {
     "name": "stdout",
     "output_type": "stream",
     "text": [
      "train/covid/subset3/ct_scan_536 covid 36 67 0 86 500 437\n",
      "\n"
     ]
    },
    {
     "name": "stderr",
     "output_type": "stream",
     "text": [
      "\r",
      " 27%|██▋       | 533/1992 [58:08<2:57:19,  7.29s/it]"
     ]
    },
    {
     "name": "stdout",
     "output_type": "stream",
     "text": [
      "train/covid/subset1/ct_scan_127 covid 107 304 0 0 512 474\n",
      "\n"
     ]
    },
    {
     "name": "stderr",
     "output_type": "stream",
     "text": [
      "\r",
      " 27%|██▋       | 534/1992 [58:25<4:06:07, 10.13s/it]"
     ]
    },
    {
     "name": "stdout",
     "output_type": "stream",
     "text": [
      "train/covid/subset4/ct_scan806 covid 136 274 5 50 504 411\n",
      "\n"
     ]
    },
    {
     "name": "stderr",
     "output_type": "stream",
     "text": [
      "\r",
      " 27%|██▋       | 535/1992 [58:37<4:16:32, 10.56s/it]"
     ]
    },
    {
     "name": "stdout",
     "output_type": "stream",
     "text": [
      "train/covid/subset2/ct_scan_426 covid 122 259 0 95 512 451\n",
      "\n"
     ]
    },
    {
     "name": "stderr",
     "output_type": "stream",
     "text": [
      "\r",
      " 27%|██▋       | 536/1992 [58:48<4:23:57, 10.88s/it]"
     ]
    },
    {
     "name": "stdout",
     "output_type": "stream",
     "text": [
      "train/covid/subset4/ct_scan867 covid 17 47 0 117 512 381\n",
      "\n"
     ]
    },
    {
     "name": "stderr",
     "output_type": "stream",
     "text": [
      "\r",
      " 27%|██▋       | 537/1992 [58:51<3:23:31,  8.39s/it]"
     ]
    },
    {
     "name": "stdout",
     "output_type": "stream",
     "text": [
      "train/covid/subset4/ct_scan709 covid 79 151 0 83 512 417\n",
      "\n"
     ]
    },
    {
     "name": "stderr",
     "output_type": "stream",
     "text": [
      "\r",
      " 27%|██▋       | 538/1992 [58:57<3:06:59,  7.72s/it]"
     ]
    },
    {
     "name": "stdout",
     "output_type": "stream",
     "text": [
      "train/covid/subset3/ct_scan_559 covid 121 237 0 52 512 447\n",
      "\n"
     ]
    },
    {
     "name": "stderr",
     "output_type": "stream",
     "text": [
      "\r",
      " 27%|██▋       | 539/1992 [59:07<3:22:23,  8.36s/it]"
     ]
    },
    {
     "name": "stdout",
     "output_type": "stream",
     "text": [
      "train/covid/subset3/ct_scan_562 covid 27 76 0 138 512 401\n",
      "\n"
     ]
    },
    {
     "name": "stderr",
     "output_type": "stream",
     "text": [
      "\r",
      " 27%|██▋       | 540/1992 [59:11<2:52:10,  7.11s/it]"
     ]
    },
    {
     "name": "stdout",
     "output_type": "stream",
     "text": [
      "train/covid/subset1/ct_scan_115 covid 139 188 10 154 484 425\n",
      "\n"
     ]
    },
    {
     "name": "stderr",
     "output_type": "stream",
     "text": [
      "\r",
      " 27%|██▋       | 541/1992 [59:15<2:30:55,  6.24s/it]"
     ]
    },
    {
     "name": "stdout",
     "output_type": "stream",
     "text": [
      "train/covid/subset3/ct_scan_647 covid 66 157 0 78 512 415\n",
      "\n"
     ]
    },
    {
     "name": "stderr",
     "output_type": "stream",
     "text": [
      "\r",
      " 27%|██▋       | 542/1992 [59:23<2:41:30,  6.68s/it]"
     ]
    },
    {
     "name": "stdout",
     "output_type": "stream",
     "text": [
      "train/covid/subset3/ct_scan_605 covid 26 72 4 84 506 435\n",
      "\n"
     ]
    },
    {
     "name": "stderr",
     "output_type": "stream",
     "text": [
      "\r",
      " 27%|██▋       | 543/1992 [59:27<2:21:22,  5.85s/it]"
     ]
    },
    {
     "name": "stdout",
     "output_type": "stream",
     "text": [
      "train/covid/subset4/ct_scan731 covid 129 251 0 153 512 475\n",
      "\n"
     ]
    },
    {
     "name": "stderr",
     "output_type": "stream",
     "text": [
      "\r",
      " 27%|██▋       | 544/1992 [59:38<2:56:04,  7.30s/it]"
     ]
    },
    {
     "name": "stdout",
     "output_type": "stream",
     "text": [
      "train/covid/subset1/ct_scan_139 covid 134 230 0 87 512 449\n",
      "\n"
     ]
    },
    {
     "name": "stderr",
     "output_type": "stream",
     "text": [
      "\r",
      " 27%|██▋       | 545/1992 [59:46<3:02:06,  7.55s/it]"
     ]
    },
    {
     "name": "stdout",
     "output_type": "stream",
     "text": [
      "train/covid/subset2/ct_scan_401 covid 105 257 0 157 512 512\n",
      "\n"
     ]
    },
    {
     "name": "stderr",
     "output_type": "stream",
     "text": [
      "\r",
      " 27%|██▋       | 546/1992 [59:59<3:39:55,  9.13s/it]"
     ]
    },
    {
     "name": "stdout",
     "output_type": "stream",
     "text": [
      "train/covid/subset2/ct_scan_361 covid 83 193 0 46 512 386\n",
      "\n"
     ]
    },
    {
     "name": "stderr",
     "output_type": "stream",
     "text": [
      "\r",
      " 27%|██▋       | 547/1992 [1:00:08<3:40:51,  9.17s/it]"
     ]
    },
    {
     "name": "stdout",
     "output_type": "stream",
     "text": [
      "train/covid/subset1/ct_scan_62 covid 21 35 25 112 480 414\n",
      "\n"
     ]
    },
    {
     "name": "stderr",
     "output_type": "stream",
     "text": [
      "\r",
      " 28%|██▊       | 548/1992 [1:00:09<2:43:31,  6.79s/it]"
     ]
    },
    {
     "name": "stdout",
     "output_type": "stream",
     "text": [
      "train/covid/subset1/ct_scan_91 covid 14 32 0 87 512 452\n",
      "\n"
     ]
    },
    {
     "name": "stderr",
     "output_type": "stream",
     "text": [
      "\r",
      " 28%|██▊       | 549/1992 [1:00:11<2:05:50,  5.23s/it]"
     ]
    },
    {
     "name": "stdout",
     "output_type": "stream",
     "text": [
      "train/covid/subset4/ct_scan704 covid 127 228 5 89 512 420\n",
      "\n"
     ]
    },
    {
     "name": "stderr",
     "output_type": "stream",
     "text": [
      "\r",
      " 28%|██▊       | 550/1992 [1:00:19<2:29:31,  6.22s/it]"
     ]
    },
    {
     "name": "stdout",
     "output_type": "stream",
     "text": [
      "train/covid/subset3/ct_scan_669 covid 71 180 0 57 512 421\n",
      "\n"
     ]
    },
    {
     "name": "stderr",
     "output_type": "stream",
     "text": [
      "\r",
      " 28%|██▊       | 551/1992 [1:00:28<2:51:13,  7.13s/it]"
     ]
    },
    {
     "name": "stdout",
     "output_type": "stream",
     "text": [
      "train/covid/subset1/ct_scan_78 covid 102 243 0 94 512 495\n",
      "\n"
     ]
    },
    {
     "name": "stderr",
     "output_type": "stream",
     "text": [
      "\r",
      " 28%|██▊       | 552/1992 [1:00:40<3:25:09,  8.55s/it]"
     ]
    },
    {
     "name": "stdout",
     "output_type": "stream",
     "text": [
      "train/covid/subset1/ct_scan_188 covid 85 188 0 61 512 442\n",
      "\n"
     ]
    },
    {
     "name": "stderr",
     "output_type": "stream",
     "text": [
      "\r",
      " 28%|██▊       | 553/1992 [1:00:49<3:25:55,  8.59s/it]"
     ]
    },
    {
     "name": "stdout",
     "output_type": "stream",
     "text": [
      "train/covid/subset3/ct_scan_682 covid 26 62 10 74 500 398\n",
      "\n"
     ]
    },
    {
     "name": "stderr",
     "output_type": "stream",
     "text": [
      "\r",
      " 28%|██▊       | 554/1992 [1:00:52<2:46:19,  6.94s/it]"
     ]
    },
    {
     "name": "stdout",
     "output_type": "stream",
     "text": [
      "train/covid/subset2/ct_scan_356 covid 151 250 0 123 512 462\n",
      "\n"
     ]
    },
    {
     "name": "stderr",
     "output_type": "stream",
     "text": [
      "\r",
      " 28%|██▊       | 555/1992 [1:01:01<2:57:51,  7.43s/it]"
     ]
    },
    {
     "name": "stdout",
     "output_type": "stream",
     "text": [
      "train/covid/subset1/ct_scan_93 covid 113 195 7 113 495 439\n",
      "\n"
     ]
    },
    {
     "name": "stderr",
     "output_type": "stream",
     "text": [
      "\r",
      " 28%|██▊       | 556/1992 [1:01:08<2:55:40,  7.34s/it]"
     ]
    },
    {
     "name": "stdout",
     "output_type": "stream",
     "text": [
      "train/covid/subset1/ct_scan_138 covid 24 44 22 139 464 423\n",
      "\n"
     ]
    },
    {
     "name": "stderr",
     "output_type": "stream",
     "text": [
      "\r",
      " 28%|██▊       | 557/1992 [1:01:10<2:15:32,  5.67s/it]"
     ]
    },
    {
     "name": "stdout",
     "output_type": "stream",
     "text": [
      "train/covid/subset3/ct_scan_607 covid 22 55 0 98 512 447\n",
      "\n"
     ]
    },
    {
     "name": "stderr",
     "output_type": "stream",
     "text": [
      "\r",
      " 28%|██▊       | 558/1992 [1:01:12<1:55:13,  4.82s/it]"
     ]
    },
    {
     "name": "stdout",
     "output_type": "stream",
     "text": [
      "train/covid/subset3/ct_scan_610 covid 19 46 0 117 512 401\n",
      "\n"
     ]
    },
    {
     "name": "stderr",
     "output_type": "stream",
     "text": [
      "\r",
      " 28%|██▊       | 559/1992 [1:01:15<1:37:28,  4.08s/it]"
     ]
    },
    {
     "name": "stdout",
     "output_type": "stream",
     "text": [
      "train/covid/subset3/ct_scan_531 covid 25 54 101 110 457 367\n",
      "\n"
     ]
    },
    {
     "name": "stderr",
     "output_type": "stream",
     "text": [
      "\r",
      " 28%|██▊       | 560/1992 [1:01:17<1:26:26,  3.62s/it]"
     ]
    },
    {
     "name": "stdout",
     "output_type": "stream",
     "text": [
      "train/covid/subset1/ct_scan_18 covid 116 237 0 100 512 444\n",
      "\n"
     ]
    },
    {
     "name": "stderr",
     "output_type": "stream",
     "text": [
      "\r",
      " 28%|██▊       | 561/1992 [1:01:27<2:13:17,  5.59s/it]"
     ]
    },
    {
     "name": "stdout",
     "output_type": "stream",
     "text": [
      "train/covid/subset1/ct_scan_217 covid 73 251 11 71 512 478\n",
      "\n"
     ]
    },
    {
     "name": "stderr",
     "output_type": "stream",
     "text": [
      "\r",
      " 28%|██▊       | 562/1992 [1:01:42<3:20:21,  8.41s/it]"
     ]
    },
    {
     "name": "stdout",
     "output_type": "stream",
     "text": [
      "train/covid/subset2/ct_scan_342 covid 15 35 0 158 512 512\n",
      "\n"
     ]
    },
    {
     "name": "stderr",
     "output_type": "stream",
     "text": [
      "\r",
      " 28%|██▊       | 563/1992 [1:01:44<2:32:39,  6.41s/it]"
     ]
    },
    {
     "name": "stdout",
     "output_type": "stream",
     "text": [
      "train/covid/subset2/ct_scan_380 covid 100 255 13 133 478 422\n",
      "\n"
     ]
    },
    {
     "name": "stderr",
     "output_type": "stream",
     "text": [
      "\r",
      " 28%|██▊       | 564/1992 [1:01:57<3:19:54,  8.40s/it]"
     ]
    },
    {
     "name": "stdout",
     "output_type": "stream",
     "text": [
      "train/covid/subset3/ct_scan_651 covid 32 67 23 91 474 424\n",
      "\n"
     ]
    },
    {
     "name": "stderr",
     "output_type": "stream",
     "text": [
      "\r",
      " 28%|██▊       | 565/1992 [1:02:00<2:41:17,  6.78s/it]"
     ]
    },
    {
     "name": "stdout",
     "output_type": "stream",
     "text": [
      "train/covid/subset3/ct_scan_596 covid 25 54 0 109 501 398\n",
      "\n"
     ]
    },
    {
     "name": "stderr",
     "output_type": "stream",
     "text": [
      "\r",
      " 28%|██▊       | 566/1992 [1:02:03<2:10:47,  5.50s/it]"
     ]
    },
    {
     "name": "stdout",
     "output_type": "stream",
     "text": [
      "train/covid/subset3/ct_scan_564 covid 30 72 13 102 489 439\n",
      "\n"
     ]
    },
    {
     "name": "stderr",
     "output_type": "stream",
     "text": [
      "\r",
      " 28%|██▊       | 567/1992 [1:02:06<1:57:04,  4.93s/it]"
     ]
    },
    {
     "name": "stdout",
     "output_type": "stream",
     "text": [
      "train/covid/subset3/ct_scan_552 covid 61 112 0 153 512 496\n",
      "\n"
     ]
    },
    {
     "name": "stderr",
     "output_type": "stream",
     "text": [
      "\r",
      " 29%|██▊       | 568/1992 [1:02:11<1:52:58,  4.76s/it]"
     ]
    },
    {
     "name": "stdout",
     "output_type": "stream",
     "text": [
      "train/covid/subset4/ct_scan768 covid 88 190 13 114 512 412\n",
      "\n"
     ]
    },
    {
     "name": "stderr",
     "output_type": "stream",
     "text": [
      "\r",
      " 29%|██▊       | 569/1992 [1:02:19<2:20:03,  5.91s/it]"
     ]
    },
    {
     "name": "stdout",
     "output_type": "stream",
     "text": [
      "train/covid/subset2/ct_scan_242 covid 14 39 0 104 512 472\n",
      "\n"
     ]
    },
    {
     "name": "stderr",
     "output_type": "stream",
     "text": [
      "\r",
      " 29%|██▊       | 570/1992 [1:02:21<1:53:22,  4.78s/it]"
     ]
    },
    {
     "name": "stdout",
     "output_type": "stream",
     "text": [
      "train/covid/subset1/ct_scan_226 covid 11 34 0 171 512 512\n",
      "\n"
     ]
    },
    {
     "name": "stderr",
     "output_type": "stream",
     "text": [
      "\r",
      " 29%|██▊       | 571/1992 [1:02:23<1:33:41,  3.96s/it]"
     ]
    },
    {
     "name": "stdout",
     "output_type": "stream",
     "text": [
      "train/covid/subset2/ct_scan_314 covid 91 229 0 53 502 403\n",
      "\n"
     ]
    },
    {
     "name": "stderr",
     "output_type": "stream",
     "text": [
      "\r",
      " 29%|██▊       | 572/1992 [1:02:35<2:27:47,  6.24s/it]"
     ]
    },
    {
     "name": "stdout",
     "output_type": "stream",
     "text": [
      "train/covid/subset3/ct_scan_512 covid 28 76 0 138 512 401\n",
      "\n"
     ]
    },
    {
     "name": "stderr",
     "output_type": "stream",
     "text": [
      "\r",
      " 29%|██▉       | 573/1992 [1:02:39<2:12:30,  5.60s/it]"
     ]
    },
    {
     "name": "stdout",
     "output_type": "stream",
     "text": [
      "train/covid/subset3/ct_scan_518 covid 57 106 0 75 512 365\n",
      "\n"
     ]
    },
    {
     "name": "stderr",
     "output_type": "stream",
     "text": [
      "\r",
      " 29%|██▉       | 574/1992 [1:02:43<2:02:18,  5.17s/it]"
     ]
    },
    {
     "name": "stdout",
     "output_type": "stream",
     "text": [
      "train/covid/subset1/ct_scan_10 covid 24 38 0 152 512 469\n",
      "\n"
     ]
    },
    {
     "name": "stderr",
     "output_type": "stream",
     "text": [
      "\r",
      " 29%|██▉       | 575/1992 [1:02:45<1:34:31,  4.00s/it]"
     ]
    },
    {
     "name": "stdout",
     "output_type": "stream",
     "text": [
      "train/covid/subset4/ct_scan764 covid 148 261 0 39 512 433\n",
      "\n"
     ]
    },
    {
     "name": "stderr",
     "output_type": "stream",
     "text": [
      "\r",
      " 29%|██▉       | 576/1992 [1:02:54<2:13:45,  5.67s/it]"
     ]
    },
    {
     "name": "stdout",
     "output_type": "stream",
     "text": [
      "train/covid/subset3/ct_scan_527 covid 41 79 0 52 512 447\n",
      "\n"
     ]
    },
    {
     "name": "stderr",
     "output_type": "stream",
     "text": [
      "\r",
      " 29%|██▉       | 577/1992 [1:02:57<1:56:38,  4.95s/it]"
     ]
    },
    {
     "name": "stdout",
     "output_type": "stream",
     "text": [
      "train/covid/subset2/ct_scan_323 covid 104 240 0 113 512 442\n",
      "\n"
     ]
    },
    {
     "name": "stderr",
     "output_type": "stream",
     "text": [
      "\r",
      " 29%|██▉       | 578/1992 [1:03:09<2:42:23,  6.89s/it]"
     ]
    },
    {
     "name": "stdout",
     "output_type": "stream",
     "text": [
      "train/covid/subset3/ct_scan_497 covid 30 73 0 55 508 390\n",
      "\n"
     ]
    },
    {
     "name": "stderr",
     "output_type": "stream",
     "text": [
      "\r",
      " 29%|██▉       | 579/1992 [1:03:13<2:19:38,  5.93s/it]"
     ]
    },
    {
     "name": "stdout",
     "output_type": "stream",
     "text": [
      "train/covid/subset1/ct_scan_121 covid 15 37 26 77 491 400\n",
      "\n"
     ]
    },
    {
     "name": "stderr",
     "output_type": "stream",
     "text": [
      "\r",
      " 29%|██▉       | 580/1992 [1:03:14<1:51:10,  4.72s/it]"
     ]
    },
    {
     "name": "stdout",
     "output_type": "stream",
     "text": [
      "train/covid/subset3/ct_scan_538 covid 129 199 0 150 477 417\n",
      "\n"
     ]
    },
    {
     "name": "stderr",
     "output_type": "stream",
     "text": [
      "\r",
      " 29%|██▉       | 581/1992 [1:03:21<2:03:43,  5.26s/it]"
     ]
    },
    {
     "name": "stdout",
     "output_type": "stream",
     "text": [
      "train/covid/subset4/ct_scan745 covid 70 173 0 112 512 449\n",
      "\n"
     ]
    },
    {
     "name": "stderr",
     "output_type": "stream",
     "text": [
      "\r",
      " 29%|██▉       | 582/1992 [1:03:30<2:28:13,  6.31s/it]"
     ]
    },
    {
     "name": "stdout",
     "output_type": "stream",
     "text": [
      "train/covid/subset1/ct_scan_211 covid 96 202 0 62 512 454\n",
      "\n"
     ]
    },
    {
     "name": "stderr",
     "output_type": "stream",
     "text": [
      "\r",
      " 29%|██▉       | 583/1992 [1:03:39<2:46:18,  7.08s/it]"
     ]
    },
    {
     "name": "stdout",
     "output_type": "stream",
     "text": [
      "train/covid/subset1/ct_scan_173 covid 152 280 0 99 512 439\n",
      "\n"
     ]
    },
    {
     "name": "stderr",
     "output_type": "stream",
     "text": [
      "\r",
      " 29%|██▉       | 584/1992 [1:03:49<3:12:26,  8.20s/it]"
     ]
    },
    {
     "name": "stdout",
     "output_type": "stream",
     "text": [
      "train/covid/subset2/ct_scan_384 covid 92 273 0 72 512 458\n",
      "\n"
     ]
    },
    {
     "name": "stderr",
     "output_type": "stream",
     "text": [
      "\r",
      " 29%|██▉       | 585/1992 [1:04:05<4:01:05, 10.28s/it]"
     ]
    },
    {
     "name": "stdout",
     "output_type": "stream",
     "text": [
      "train/covid/subset1/ct_scan_16 covid 15 33 0 107 512 451\n",
      "\n"
     ]
    },
    {
     "name": "stderr",
     "output_type": "stream",
     "text": [
      "\r",
      " 29%|██▉       | 586/1992 [1:04:06<2:59:49,  7.67s/it]"
     ]
    },
    {
     "name": "stdout",
     "output_type": "stream",
     "text": [
      "train/covid/subset4/ct_scan729 covid 138 233 0 109 512 465\n",
      "\n"
     ]
    },
    {
     "name": "stderr",
     "output_type": "stream",
     "text": [
      "\r",
      " 29%|██▉       | 587/1992 [1:04:14<3:02:14,  7.78s/it]"
     ]
    },
    {
     "name": "stdout",
     "output_type": "stream",
     "text": [
      "train/covid/subset2/ct_scan_447 covid 0 2 0 105 512 419\n",
      "\n"
     ]
    },
    {
     "name": "stderr",
     "output_type": "stream",
     "text": [
      "\r",
      " 30%|██▉       | 588/1992 [1:04:14<2:09:15,  5.52s/it]"
     ]
    },
    {
     "name": "stdout",
     "output_type": "stream",
     "text": [
      "train/covid/subset3/ct_scan_639 covid 97 175 0 147 512 431\n",
      "\n"
     ]
    },
    {
     "name": "stderr",
     "output_type": "stream",
     "text": [
      "\r",
      " 30%|██▉       | 589/1992 [1:04:21<2:16:49,  5.85s/it]"
     ]
    },
    {
     "name": "stdout",
     "output_type": "stream",
     "text": [
      "train/covid/subset3/ct_scan_667 covid 43 94 17 131 437 388\n",
      "\n"
     ]
    },
    {
     "name": "stderr",
     "output_type": "stream",
     "text": [
      "\r",
      " 30%|██▉       | 590/1992 [1:04:25<2:06:10,  5.40s/it]"
     ]
    },
    {
     "name": "stdout",
     "output_type": "stream",
     "text": [
      "train/covid/subset3/ct_scan_608 covid 149 325 0 58 498 409\n",
      "\n"
     ]
    },
    {
     "name": "stderr",
     "output_type": "stream",
     "text": [
      "\r",
      " 30%|██▉       | 591/1992 [1:04:40<3:12:32,  8.25s/it]"
     ]
    },
    {
     "name": "stdout",
     "output_type": "stream",
     "text": [
      "train/covid/subset3/ct_scan_616 covid 25 53 0 95 500 443\n",
      "\n"
     ]
    },
    {
     "name": "stderr",
     "output_type": "stream",
     "text": [
      "\r",
      " 30%|██▉       | 592/1992 [1:04:43<2:31:45,  6.50s/it]"
     ]
    },
    {
     "name": "stdout",
     "output_type": "stream",
     "text": [
      "train/covid/subset2/ct_scan_295 covid 118 185 0 156 512 469\n",
      "\n"
     ]
    },
    {
     "name": "stderr",
     "output_type": "stream",
     "text": [
      "\r",
      " 30%|██▉       | 593/1992 [1:04:48<2:26:27,  6.28s/it]"
     ]
    },
    {
     "name": "stdout",
     "output_type": "stream",
     "text": [
      "train/covid/subset1/ct_scan_109 covid 108 304 0 0 512 474\n",
      "\n"
     ]
    },
    {
     "name": "stderr",
     "output_type": "stream",
     "text": [
      "\r",
      " 30%|██▉       | 594/1992 [1:05:05<3:39:35,  9.42s/it]"
     ]
    },
    {
     "name": "stdout",
     "output_type": "stream",
     "text": [
      "train/covid/subset1/ct_scan_44 covid 150 221 14 95 477 419\n",
      "\n"
     ]
    },
    {
     "name": "stderr",
     "output_type": "stream",
     "text": [
      "\r",
      " 30%|██▉       | 595/1992 [1:05:11<3:15:28,  8.40s/it]"
     ]
    },
    {
     "name": "stdout",
     "output_type": "stream",
     "text": [
      "train/covid/subset4/ct_scan838 covid 13 29 0 94 512 438\n",
      "\n"
     ]
    },
    {
     "name": "stderr",
     "output_type": "stream",
     "text": [
      "\r",
      " 30%|██▉       | 596/1992 [1:05:13<2:26:41,  6.30s/it]"
     ]
    },
    {
     "name": "stdout",
     "output_type": "stream",
     "text": [
      "train/covid/subset3/ct_scan_588 covid 28 62 9 56 490 396\n",
      "\n"
     ]
    },
    {
     "name": "stderr",
     "output_type": "stream",
     "text": [
      "\r",
      " 30%|██▉       | 597/1992 [1:05:16<2:03:01,  5.29s/it]"
     ]
    },
    {
     "name": "stdout",
     "output_type": "stream",
     "text": [
      "train/covid/subset1/ct_scan_86 covid 103 245 0 39 512 403\n",
      "\n"
     ]
    },
    {
     "name": "stderr",
     "output_type": "stream",
     "text": [
      "\r",
      " 30%|███       | 598/1992 [1:05:28<2:49:33,  7.30s/it]"
     ]
    },
    {
     "name": "stdout",
     "output_type": "stream",
     "text": [
      "train/covid/subset4/ct_scan754 covid 84 134 0 63 512 407\n",
      "\n"
     ]
    },
    {
     "name": "stderr",
     "output_type": "stream",
     "text": [
      "\r",
      " 30%|███       | 599/1992 [1:05:32<2:28:23,  6.39s/it]"
     ]
    },
    {
     "name": "stdout",
     "output_type": "stream",
     "text": [
      "train/covid/subset3/ct_scan_612 covid 15 31 0 94 512 412\n",
      "\n"
     ]
    },
    {
     "name": "stderr",
     "output_type": "stream",
     "text": [
      "\r",
      " 30%|███       | 600/1992 [1:05:33<1:53:42,  4.90s/it]"
     ]
    },
    {
     "name": "stdout",
     "output_type": "stream",
     "text": [
      "train/covid/subset4/ct_scan841 covid 20 30 63 105 512 389\n",
      "\n"
     ]
    },
    {
     "name": "stderr",
     "output_type": "stream",
     "text": [
      "\r",
      " 30%|███       | 601/1992 [1:05:34<1:26:02,  3.71s/it]"
     ]
    },
    {
     "name": "stdout",
     "output_type": "stream",
     "text": [
      "train/covid/subset3/ct_scan_626 covid 7 16 0 113 512 444\n",
      "\n"
     ]
    },
    {
     "name": "stderr",
     "output_type": "stream",
     "text": [
      "\r",
      " 30%|███       | 602/1992 [1:05:35<1:06:01,  2.85s/it]"
     ]
    },
    {
     "name": "stdout",
     "output_type": "stream",
     "text": [
      "train/covid/subset3/ct_scan_515 covid 61 203 33 92 484 351\n",
      "\n"
     ]
    },
    {
     "name": "stderr",
     "output_type": "stream",
     "text": [
      "\r",
      " 30%|███       | 603/1992 [1:05:47<2:09:03,  5.58s/it]"
     ]
    },
    {
     "name": "stdout",
     "output_type": "stream",
     "text": [
      "train/covid/subset1/ct_scan_144 covid 16 34 0 61 512 421\n",
      "\n"
     ]
    },
    {
     "name": "stderr",
     "output_type": "stream",
     "text": [
      "\r",
      " 30%|███       | 604/1992 [1:05:49<1:41:16,  4.38s/it]"
     ]
    },
    {
     "name": "stdout",
     "output_type": "stream",
     "text": [
      "train/covid/subset4/ct_scan853 covid 18 56 0 49 512 458\n",
      "\n"
     ]
    },
    {
     "name": "stderr",
     "output_type": "stream",
     "text": [
      "\r",
      " 30%|███       | 605/1992 [1:05:52<1:33:33,  4.05s/it]"
     ]
    },
    {
     "name": "stdout",
     "output_type": "stream",
     "text": [
      "train/covid/subset4/ct_scan778 covid 83 119 0 85 512 460\n",
      "\n"
     ]
    },
    {
     "name": "stderr",
     "output_type": "stream",
     "text": [
      "\r",
      " 30%|███       | 606/1992 [1:05:55<1:27:02,  3.77s/it]"
     ]
    },
    {
     "name": "stdout",
     "output_type": "stream",
     "text": [
      "train/covid/subset4/ct_scan862 covid 11 19 20 111 494 408\n",
      "\n"
     ]
    },
    {
     "name": "stderr",
     "output_type": "stream",
     "text": [
      "\r",
      " 30%|███       | 607/1992 [1:05:56<1:06:08,  2.87s/it]"
     ]
    },
    {
     "name": "stdout",
     "output_type": "stream",
     "text": [
      "train/covid/subset4/ct_scan793 covid 115 260 0 144 505 463\n",
      "\n"
     ]
    },
    {
     "name": "stderr",
     "output_type": "stream",
     "text": [
      "\r",
      " 31%|███       | 608/1992 [1:06:08<2:11:03,  5.68s/it]"
     ]
    },
    {
     "name": "stdout",
     "output_type": "stream",
     "text": [
      "train/covid/subset2/ct_scan_392 covid 18 40 0 0 512 450\n",
      "\n"
     ]
    },
    {
     "name": "stderr",
     "output_type": "stream",
     "text": [
      "\r",
      " 31%|███       | 609/1992 [1:06:10<1:45:43,  4.59s/it]"
     ]
    },
    {
     "name": "stdout",
     "output_type": "stream",
     "text": [
      "train/covid/subset2/ct_scan_442 covid 30 72 13 102 488 439\n",
      "\n"
     ]
    },
    {
     "name": "stderr",
     "output_type": "stream",
     "text": [
      "\r",
      " 31%|███       | 610/1992 [1:06:14<1:38:42,  4.29s/it]"
     ]
    },
    {
     "name": "stdout",
     "output_type": "stream",
     "text": [
      "train/covid/subset2/ct_scan_318 covid 105 261 5 49 512 423\n",
      "\n"
     ]
    },
    {
     "name": "stderr",
     "output_type": "stream",
     "text": [
      "\r",
      " 31%|███       | 611/1992 [1:06:27<2:39:43,  6.94s/it]"
     ]
    },
    {
     "name": "stdout",
     "output_type": "stream",
     "text": [
      "train/covid/subset4/ct_scan792 covid 139 239 0 70 512 461\n",
      "\n"
     ]
    },
    {
     "name": "stderr",
     "output_type": "stream",
     "text": [
      "\r",
      " 31%|███       | 612/1992 [1:06:35<2:50:15,  7.40s/it]"
     ]
    },
    {
     "name": "stdout",
     "output_type": "stream",
     "text": [
      "train/covid/subset1/ct_scan_102 covid 99 225 31 122 495 437\n",
      "\n"
     ]
    },
    {
     "name": "stderr",
     "output_type": "stream",
     "text": [
      "\r",
      " 31%|███       | 613/1992 [1:06:46<3:12:31,  8.38s/it]"
     ]
    },
    {
     "name": "stdout",
     "output_type": "stream",
     "text": [
      "train/covid/subset1/ct_scan_0 covid 115 191 7 72 499 393\n",
      "\n"
     ]
    },
    {
     "name": "stderr",
     "output_type": "stream",
     "text": [
      "\r",
      " 31%|███       | 614/1992 [1:06:52<2:59:17,  7.81s/it]"
     ]
    },
    {
     "name": "stdout",
     "output_type": "stream",
     "text": [
      "train/covid/subset1/ct_scan_1 covid 89 206 0 100 512 478\n",
      "\n"
     ]
    },
    {
     "name": "stderr",
     "output_type": "stream",
     "text": [
      "\r",
      " 31%|███       | 615/1992 [1:07:02<3:13:01,  8.41s/it]"
     ]
    },
    {
     "name": "stdout",
     "output_type": "stream",
     "text": [
      "train/covid/subset1/ct_scan_88 covid 24 37 31 148 474 426\n",
      "\n"
     ]
    },
    {
     "name": "stderr",
     "output_type": "stream",
     "text": [
      "\r",
      " 31%|███       | 616/1992 [1:07:03<2:23:04,  6.24s/it]"
     ]
    },
    {
     "name": "stdout",
     "output_type": "stream",
     "text": [
      "train/covid/subset1/ct_scan_178 covid 28 36 0 121 501 469\n",
      "\n"
     ]
    },
    {
     "name": "stderr",
     "output_type": "stream",
     "text": [
      "\r",
      " 31%|███       | 617/1992 [1:07:04<1:45:15,  4.59s/it]"
     ]
    },
    {
     "name": "stdout",
     "output_type": "stream",
     "text": [
      "train/covid/subset1/ct_scan_228 covid 144 289 44 140 468 437\n",
      "\n"
     ]
    },
    {
     "name": "stderr",
     "output_type": "stream",
     "text": [
      "\r",
      " 31%|███       | 618/1992 [1:07:16<2:37:16,  6.87s/it]"
     ]
    },
    {
     "name": "stdout",
     "output_type": "stream",
     "text": [
      "train/covid/subset1/ct_scan_57 covid 24 49 25 95 497 408\n",
      "\n"
     ]
    },
    {
     "name": "stderr",
     "output_type": "stream",
     "text": [
      "\r",
      " 31%|███       | 619/1992 [1:07:18<2:04:57,  5.46s/it]"
     ]
    },
    {
     "name": "stdout",
     "output_type": "stream",
     "text": [
      "train/covid/subset3/ct_scan_583 covid 27 47 0 72 507 422\n",
      "\n"
     ]
    },
    {
     "name": "stderr",
     "output_type": "stream",
     "text": [
      "\r",
      " 31%|███       | 620/1992 [1:07:20<1:39:31,  4.35s/it]"
     ]
    },
    {
     "name": "stdout",
     "output_type": "stream",
     "text": [
      "train/covid/subset2/ct_scan_268 covid 20 53 0 104 512 458\n",
      "\n"
     ]
    },
    {
     "name": "stderr",
     "output_type": "stream",
     "text": [
      "\r",
      " 31%|███       | 621/1992 [1:07:23<1:30:55,  3.98s/it]"
     ]
    },
    {
     "name": "stdout",
     "output_type": "stream",
     "text": [
      "train/covid/subset4/ct_scan847 covid 18 32 20 59 496 423\n",
      "\n"
     ]
    },
    {
     "name": "stderr",
     "output_type": "stream",
     "text": [
      "\r",
      " 31%|███       | 622/1992 [1:07:25<1:12:12,  3.16s/it]"
     ]
    },
    {
     "name": "stdout",
     "output_type": "stream",
     "text": [
      "train/covid/subset3/ct_scan_544 covid 32 64 0 31 512 397\n",
      "\n"
     ]
    },
    {
     "name": "stderr",
     "output_type": "stream",
     "text": [
      "\r",
      " 31%|███▏      | 623/1992 [1:07:27<1:09:36,  3.05s/it]"
     ]
    },
    {
     "name": "stdout",
     "output_type": "stream",
     "text": [
      "train/covid/subset2/ct_scan_348 covid 104 217 0 70 512 448\n",
      "\n"
     ]
    },
    {
     "name": "stderr",
     "output_type": "stream",
     "text": [
      "\r",
      " 31%|███▏      | 624/1992 [1:07:37<1:53:58,  5.00s/it]"
     ]
    },
    {
     "name": "stdout",
     "output_type": "stream",
     "text": [
      "train/covid/subset4/ct_scan711 covid 84 172 9 137 512 443\n",
      "\n"
     ]
    },
    {
     "name": "stderr",
     "output_type": "stream",
     "text": [
      "\r",
      " 31%|███▏      | 625/1992 [1:07:44<2:10:39,  5.73s/it]"
     ]
    },
    {
     "name": "stdout",
     "output_type": "stream",
     "text": [
      "train/covid/subset4/ct_scan759 covid 99 129 14 102 497 418\n",
      "\n"
     ]
    },
    {
     "name": "stderr",
     "output_type": "stream",
     "text": [
      "\r",
      " 31%|███▏      | 626/1992 [1:07:47<1:49:17,  4.80s/it]"
     ]
    },
    {
     "name": "stdout",
     "output_type": "stream",
     "text": [
      "train/covid/subset2/ct_scan_352 covid 24 48 25 93 497 408\n",
      "\n"
     ]
    },
    {
     "name": "stderr",
     "output_type": "stream",
     "text": [
      "\r",
      " 31%|███▏      | 627/1992 [1:07:49<1:30:59,  4.00s/it]"
     ]
    },
    {
     "name": "stdout",
     "output_type": "stream",
     "text": [
      "train/covid/subset4/ct_scan737 covid 80 174 0 30 512 435\n",
      "\n"
     ]
    },
    {
     "name": "stderr",
     "output_type": "stream",
     "text": [
      "\r",
      " 32%|███▏      | 628/1992 [1:07:57<1:58:20,  5.21s/it]"
     ]
    },
    {
     "name": "stdout",
     "output_type": "stream",
     "text": [
      "train/covid/subset3/ct_scan_602 covid 46 55 46 114 512 374\n",
      "\n"
     ]
    },
    {
     "name": "stderr",
     "output_type": "stream",
     "text": [
      "\r",
      " 32%|███▏      | 629/1992 [1:07:58<1:29:18,  3.93s/it]"
     ]
    },
    {
     "name": "stdout",
     "output_type": "stream",
     "text": [
      "train/covid/subset3/ct_scan_542 covid 130 254 17 81 487 428\n",
      "\n"
     ]
    },
    {
     "name": "stderr",
     "output_type": "stream",
     "text": [
      "\r",
      " 32%|███▏      | 630/1992 [1:08:09<2:16:32,  6.02s/it]"
     ]
    },
    {
     "name": "stdout",
     "output_type": "stream",
     "text": [
      "train/covid/subset4/ct_scan868 covid 28 60 8 92 512 393\n",
      "\n"
     ]
    },
    {
     "name": "stderr",
     "output_type": "stream",
     "text": [
      "\r",
      " 32%|███▏      | 631/1992 [1:08:12<1:54:25,  5.04s/it]"
     ]
    },
    {
     "name": "stdout",
     "output_type": "stream",
     "text": [
      "train/covid/subset4/ct_scan696 covid 57 116 13 82 512 390\n",
      "\n"
     ]
    },
    {
     "name": "stderr",
     "output_type": "stream",
     "text": [
      "\r",
      " 32%|███▏      | 632/1992 [1:08:17<1:54:11,  5.04s/it]"
     ]
    },
    {
     "name": "stdout",
     "output_type": "stream",
     "text": [
      "train/covid/subset2/ct_scan_403 covid 19 39 0 83 512 453\n",
      "\n"
     ]
    },
    {
     "name": "stderr",
     "output_type": "stream",
     "text": [
      "\r",
      " 32%|███▏      | 633/1992 [1:08:19<1:31:50,  4.05s/it]"
     ]
    },
    {
     "name": "stdout",
     "output_type": "stream",
     "text": [
      "train/covid/subset4/ct_scan859 covid 9 19 0 39 512 450\n",
      "\n"
     ]
    },
    {
     "name": "stderr",
     "output_type": "stream",
     "text": [
      "\r",
      " 32%|███▏      | 634/1992 [1:08:19<1:10:33,  3.12s/it]"
     ]
    },
    {
     "name": "stdout",
     "output_type": "stream",
     "text": [
      "train/covid/subset1/ct_scan_100 covid 17 41 0 105 512 427\n",
      "\n"
     ]
    },
    {
     "name": "stderr",
     "output_type": "stream",
     "text": [
      "\r",
      " 32%|███▏      | 635/1992 [1:08:22<1:03:35,  2.81s/it]"
     ]
    },
    {
     "name": "stdout",
     "output_type": "stream",
     "text": [
      "train/covid/subset4/ct_scan849 covid 11 21 0 73 512 460\n",
      "\n"
     ]
    },
    {
     "name": "stderr",
     "output_type": "stream",
     "text": [
      "\r",
      " 32%|███▏      | 636/1992 [1:08:22<50:43,  2.24s/it]  "
     ]
    },
    {
     "name": "stdout",
     "output_type": "stream",
     "text": [
      "train/covid/subset2/ct_scan_350 covid 113 204 0 63 512 428\n",
      "\n"
     ]
    },
    {
     "name": "stderr",
     "output_type": "stream",
     "text": [
      "\r",
      " 32%|███▏      | 637/1992 [1:08:30<1:28:03,  3.90s/it]"
     ]
    },
    {
     "name": "stdout",
     "output_type": "stream",
     "text": [
      "train/covid/subset3/ct_scan_573 covid 71 186 21 31 500 393\n",
      "\n"
     ]
    },
    {
     "name": "stderr",
     "output_type": "stream",
     "text": [
      "\r",
      " 32%|███▏      | 638/1992 [1:08:40<2:07:55,  5.67s/it]"
     ]
    },
    {
     "name": "stdout",
     "output_type": "stream",
     "text": [
      "train/covid/subset2/ct_scan_260 covid 126 240 0 89 512 461\n",
      "\n"
     ]
    },
    {
     "name": "stderr",
     "output_type": "stream",
     "text": [
      "\r",
      " 32%|███▏      | 639/1992 [1:08:50<2:34:55,  6.87s/it]"
     ]
    },
    {
     "name": "stdout",
     "output_type": "stream",
     "text": [
      "train/covid/subset4/ct_scan830 covid 14 29 0 100 512 432\n",
      "\n"
     ]
    },
    {
     "name": "stderr",
     "output_type": "stream",
     "text": [
      "\r",
      " 32%|███▏      | 640/1992 [1:08:51<1:57:27,  5.21s/it]"
     ]
    },
    {
     "name": "stdout",
     "output_type": "stream",
     "text": [
      "train/covid/subset2/ct_scan_297 covid 14 30 0 106 512 465\n",
      "\n"
     ]
    },
    {
     "name": "stderr",
     "output_type": "stream",
     "text": [
      "\r",
      " 32%|███▏      | 641/1992 [1:08:52<1:31:46,  4.08s/it]"
     ]
    },
    {
     "name": "stdout",
     "output_type": "stream",
     "text": [
      "train/covid/subset1/ct_scan_46 covid 103 224 0 104 512 465\n",
      "\n"
     ]
    },
    {
     "name": "stderr",
     "output_type": "stream",
     "text": [
      "\r",
      " 32%|███▏      | 642/1992 [1:09:03<2:13:02,  5.91s/it]"
     ]
    },
    {
     "name": "stdout",
     "output_type": "stream",
     "text": [
      "train/covid/subset3/ct_scan_578 covid 30 73 0 55 508 390\n",
      "\n"
     ]
    },
    {
     "name": "stderr",
     "output_type": "stream",
     "text": [
      "\r",
      " 32%|███▏      | 643/1992 [1:09:06<1:58:02,  5.25s/it]"
     ]
    },
    {
     "name": "stdout",
     "output_type": "stream",
     "text": [
      "train/covid/subset3/ct_scan_523 covid 20 67 66 122 444 426\n",
      "\n"
     ]
    },
    {
     "name": "stderr",
     "output_type": "stream",
     "text": [
      "\r",
      " 32%|███▏      | 644/1992 [1:09:10<1:49:52,  4.89s/it]"
     ]
    },
    {
     "name": "stdout",
     "output_type": "stream",
     "text": [
      "train/covid/subset1/ct_scan_67 covid 106 197 0 100 512 462\n",
      "\n"
     ]
    },
    {
     "name": "stderr",
     "output_type": "stream",
     "text": [
      "\r",
      " 32%|███▏      | 645/1992 [1:09:18<2:09:06,  5.75s/it]"
     ]
    },
    {
     "name": "stdout",
     "output_type": "stream",
     "text": [
      "train/covid/subset2/ct_scan_347 covid 35 38 0 149 512 472\n",
      "\n"
     ]
    },
    {
     "name": "stderr",
     "output_type": "stream",
     "text": [
      "\r",
      " 32%|███▏      | 646/1992 [1:09:19<1:32:34,  4.13s/it]"
     ]
    },
    {
     "name": "stdout",
     "output_type": "stream",
     "text": [
      "train/covid/subset2/ct_scan_417 covid 100 211 0 85 512 485\n",
      "\n"
     ]
    },
    {
     "name": "stderr",
     "output_type": "stream",
     "text": [
      "\r",
      " 32%|███▏      | 647/1992 [1:09:28<2:08:00,  5.71s/it]"
     ]
    },
    {
     "name": "stdout",
     "output_type": "stream",
     "text": [
      "train/covid/subset3/ct_scan_611 covid 77 249 25 60 480 380\n",
      "\n"
     ]
    },
    {
     "name": "stderr",
     "output_type": "stream",
     "text": [
      "\r",
      " 33%|███▎      | 648/1992 [1:09:42<3:07:07,  8.35s/it]"
     ]
    },
    {
     "name": "stdout",
     "output_type": "stream",
     "text": [
      "train/covid/subset2/ct_scan_359 covid 144 224 0 140 512 408\n",
      "\n"
     ]
    },
    {
     "name": "stderr",
     "output_type": "stream",
     "text": [
      "\r",
      " 33%|███▎      | 649/1992 [1:09:49<2:56:31,  7.89s/it]"
     ]
    },
    {
     "name": "stdout",
     "output_type": "stream",
     "text": [
      "train/covid/subset2/ct_scan_378 covid 101 213 0 8 500 422\n",
      "\n"
     ]
    },
    {
     "name": "stderr",
     "output_type": "stream",
     "text": [
      "\r",
      " 33%|███▎      | 650/1992 [1:09:59<3:08:08,  8.41s/it]"
     ]
    },
    {
     "name": "stdout",
     "output_type": "stream",
     "text": [
      "train/covid/subset2/ct_scan_427 covid 22 48 11 94 495 422\n",
      "\n"
     ]
    },
    {
     "name": "stderr",
     "output_type": "stream",
     "text": [
      "\r",
      " 33%|███▎      | 651/1992 [1:10:01<2:26:43,  6.56s/it]"
     ]
    },
    {
     "name": "stdout",
     "output_type": "stream",
     "text": [
      "train/covid/subset2/ct_scan_409 covid 79 262 0 85 512 475\n",
      "\n"
     ]
    },
    {
     "name": "stderr",
     "output_type": "stream",
     "text": [
      "\r",
      " 33%|███▎      | 652/1992 [1:10:17<3:27:21,  9.28s/it]"
     ]
    },
    {
     "name": "stdout",
     "output_type": "stream",
     "text": [
      "train/covid/subset4/ct_scan844 covid 11 30 13 102 499 437\n",
      "\n"
     ]
    },
    {
     "name": "stderr",
     "output_type": "stream",
     "text": [
      "\r",
      " 33%|███▎      | 653/1992 [1:10:18<2:36:15,  7.00s/it]"
     ]
    },
    {
     "name": "stdout",
     "output_type": "stream",
     "text": [
      "train/covid/subset4/ct_scan788 covid 177 268 0 13 512 408\n",
      "\n"
     ]
    },
    {
     "name": "stderr",
     "output_type": "stream",
     "text": [
      "\r",
      " 33%|███▎      | 654/1992 [1:10:26<2:40:57,  7.22s/it]"
     ]
    },
    {
     "name": "stdout",
     "output_type": "stream",
     "text": [
      "train/covid/subset2/ct_scan_282 covid 85 193 0 127 512 479\n",
      "\n"
     ]
    },
    {
     "name": "stderr",
     "output_type": "stream",
     "text": [
      "\r",
      " 33%|███▎      | 655/1992 [1:10:35<2:54:08,  7.81s/it]"
     ]
    },
    {
     "name": "stdout",
     "output_type": "stream",
     "text": [
      "train/covid/subset2/ct_scan_237 covid 23 45 0 126 512 463\n",
      "\n"
     ]
    },
    {
     "name": "stderr",
     "output_type": "stream",
     "text": [
      "\r",
      " 33%|███▎      | 656/1992 [1:10:37<2:14:46,  6.05s/it]"
     ]
    },
    {
     "name": "stdout",
     "output_type": "stream",
     "text": [
      "train/covid/subset1/ct_scan_179 covid 85 227 0 45 512 441\n",
      "\n"
     ]
    },
    {
     "name": "stderr",
     "output_type": "stream",
     "text": [
      "\r",
      " 33%|███▎      | 657/1992 [1:10:49<2:54:39,  7.85s/it]"
     ]
    },
    {
     "name": "stdout",
     "output_type": "stream",
     "text": [
      "train/covid/subset1/ct_scan_158 covid 11 35 0 170 512 512\n",
      "\n"
     ]
    },
    {
     "name": "stderr",
     "output_type": "stream",
     "text": [
      "\r",
      " 33%|███▎      | 658/1992 [1:10:51<2:16:17,  6.13s/it]"
     ]
    },
    {
     "name": "stdout",
     "output_type": "stream",
     "text": [
      "train/covid/subset1/ct_scan_106 covid 109 207 0 148 512 512\n",
      "\n"
     ]
    },
    {
     "name": "stderr",
     "output_type": "stream",
     "text": [
      "\r",
      " 33%|███▎      | 659/1992 [1:11:00<2:30:55,  6.79s/it]"
     ]
    },
    {
     "name": "stdout",
     "output_type": "stream",
     "text": [
      "train/covid/subset2/ct_scan_290 covid 141 253 27 111 512 412\n",
      "\n"
     ]
    },
    {
     "name": "stderr",
     "output_type": "stream",
     "text": [
      "\r",
      " 33%|███▎      | 660/1992 [1:11:09<2:48:33,  7.59s/it]"
     ]
    },
    {
     "name": "stdout",
     "output_type": "stream",
     "text": [
      "train/covid/subset2/ct_scan_365 covid 83 243 0 43 512 389\n",
      "\n"
     ]
    },
    {
     "name": "stderr",
     "output_type": "stream",
     "text": [
      "\r",
      " 33%|███▎      | 661/1992 [1:11:23<3:28:12,  9.39s/it]"
     ]
    },
    {
     "name": "stdout",
     "output_type": "stream",
     "text": [
      "train/covid/subset1/ct_scan_118 covid 113 178 0 55 512 512\n",
      "\n"
     ]
    },
    {
     "name": "stderr",
     "output_type": "stream",
     "text": [
      "\r",
      " 33%|███▎      | 662/1992 [1:11:28<3:02:46,  8.25s/it]"
     ]
    },
    {
     "name": "stdout",
     "output_type": "stream",
     "text": [
      "train/covid/subset1/ct_scan_124 covid 17 34 23 96 512 456\n",
      "\n"
     ]
    },
    {
     "name": "stderr",
     "output_type": "stream",
     "text": [
      "\r",
      " 33%|███▎      | 663/1992 [1:11:30<2:17:54,  6.23s/it]"
     ]
    },
    {
     "name": "stdout",
     "output_type": "stream",
     "text": [
      "train/covid/subset2/ct_scan_371 covid 54 81 0 0 512 400\n",
      "\n"
     ]
    },
    {
     "name": "stderr",
     "output_type": "stream",
     "text": [
      "\r",
      " 33%|███▎      | 664/1992 [1:11:32<1:52:17,  5.07s/it]"
     ]
    },
    {
     "name": "stdout",
     "output_type": "stream",
     "text": [
      "train/covid/subset1/ct_scan_213 covid 89 207 0 103 495 430\n",
      "\n"
     ]
    },
    {
     "name": "stderr",
     "output_type": "stream",
     "text": [
      "\r",
      " 33%|███▎      | 665/1992 [1:11:42<2:25:18,  6.57s/it]"
     ]
    },
    {
     "name": "stdout",
     "output_type": "stream",
     "text": [
      "train/covid/subset1/ct_scan_112 covid 19 25 10 155 484 423\n",
      "\n"
     ]
    },
    {
     "name": "stderr",
     "output_type": "stream",
     "text": [
      "\r",
      " 33%|███▎      | 666/1992 [1:11:43<1:45:33,  4.78s/it]"
     ]
    },
    {
     "name": "stdout",
     "output_type": "stream",
     "text": [
      "train/covid/subset4/ct_scan782 covid 75 169 0 115 512 419\n",
      "\n"
     ]
    },
    {
     "name": "stderr",
     "output_type": "stream",
     "text": [
      "\r",
      " 33%|███▎      | 667/1992 [1:11:51<2:07:45,  5.79s/it]"
     ]
    },
    {
     "name": "stdout",
     "output_type": "stream",
     "text": [
      "train/covid/subset4/ct_scan864 covid 57 133 0 146 499 482\n",
      "\n"
     ]
    },
    {
     "name": "stderr",
     "output_type": "stream",
     "text": [
      "\r",
      " 34%|███▎      | 668/1992 [1:11:58<2:12:53,  6.02s/it]"
     ]
    },
    {
     "name": "stdout",
     "output_type": "stream",
     "text": [
      "train/covid/subset2/ct_scan_336 covid 110 205 0 103 512 451\n",
      "\n"
     ]
    },
    {
     "name": "stderr",
     "output_type": "stream",
     "text": [
      "\r",
      " 34%|███▎      | 669/1992 [1:12:06<2:26:56,  6.66s/it]"
     ]
    },
    {
     "name": "stdout",
     "output_type": "stream",
     "text": [
      "train/covid/subset3/ct_scan_640 covid 14 45 0 100 506 413\n",
      "\n"
     ]
    },
    {
     "name": "stderr",
     "output_type": "stream",
     "text": [
      "\r",
      " 34%|███▎      | 670/1992 [1:12:09<2:00:36,  5.47s/it]"
     ]
    },
    {
     "name": "stdout",
     "output_type": "stream",
     "text": [
      "train/covid/subset1/ct_scan_136 covid 22 36 20 127 512 449\n",
      "\n"
     ]
    },
    {
     "name": "stderr",
     "output_type": "stream",
     "text": [
      "\r",
      " 34%|███▎      | 671/1992 [1:12:10<1:32:48,  4.22s/it]"
     ]
    },
    {
     "name": "stdout",
     "output_type": "stream",
     "text": [
      "train/covid/subset3/ct_scan_487 covid 23 69 0 73 512 418\n",
      "\n"
     ]
    },
    {
     "name": "stderr",
     "output_type": "stream",
     "text": [
      "\r",
      " 34%|███▎      | 672/1992 [1:12:14<1:31:09,  4.14s/it]"
     ]
    },
    {
     "name": "stdout",
     "output_type": "stream",
     "text": [
      "train/covid/subset3/ct_scan_646 covid 36 53 14 158 420 394\n",
      "\n"
     ]
    },
    {
     "name": "stderr",
     "output_type": "stream",
     "text": [
      "\r",
      " 34%|███▍      | 673/1992 [1:12:15<1:13:55,  3.36s/it]"
     ]
    },
    {
     "name": "stdout",
     "output_type": "stream",
     "text": [
      "train/covid/subset1/ct_scan_143 covid 134 269 0 70 512 485\n",
      "\n"
     ]
    },
    {
     "name": "stderr",
     "output_type": "stream",
     "text": [
      "\r",
      " 34%|███▍      | 674/1992 [1:12:27<2:07:44,  5.82s/it]"
     ]
    },
    {
     "name": "stdout",
     "output_type": "stream",
     "text": [
      "train/covid/subset2/ct_scan_341 covid 132 357 0 90 512 482\n",
      "\n"
     ]
    },
    {
     "name": "stderr",
     "output_type": "stream",
     "text": [
      "\r",
      " 34%|███▍      | 675/1992 [1:12:46<3:36:34,  9.87s/it]"
     ]
    },
    {
     "name": "stdout",
     "output_type": "stream",
     "text": [
      "train/covid/subset4/ct_scan797 covid 123 265 13 77 491 391\n",
      "\n",
      "train/covid/subset4/ct_scan789 covid 185 281 0 0 512 360\n",
      "\n"
     ]
    },
    {
     "name": "stderr",
     "output_type": "stream",
     "text": [
      "\r",
      " 34%|███▍      | 677/1992 [1:12:54<2:58:27,  8.14s/it]"
     ]
    },
    {
     "name": "stdout",
     "output_type": "stream",
     "text": [
      "train/covid/subset2/ct_scan_376 covid 26 45 93 182 492 427\n",
      "\n",
      "train/covid/subset2/ct_scan_270 covid 78 237 0 65 512 482\n",
      "\n"
     ]
    },
    {
     "name": "stderr",
     "output_type": "stream",
     "text": [
      "\r",
      " 34%|███▍      | 679/1992 [1:13:08<2:49:12,  7.73s/it]"
     ]
    },
    {
     "name": "stdout",
     "output_type": "stream",
     "text": [
      "train/covid/subset2/ct_scan_239 covid 22 48 11 94 495 422\n",
      "\n",
      "train/covid/subset3/ct_scan_525 covid 19 37 7 135 457 421\n",
      "\n"
     ]
    },
    {
     "name": "stderr",
     "output_type": "stream",
     "text": [
      "\r",
      " 34%|███▍      | 681/1992 [1:13:10<2:03:37,  5.66s/it]"
     ]
    },
    {
     "name": "stdout",
     "output_type": "stream",
     "text": [
      "train/covid/subset1/ct_scan_95 covid 103 218 29 122 512 435\n",
      "\n",
      "train/covid/subset4/ct_scan690 covid 110 218 0 114 512 477\n",
      "\n"
     ]
    },
    {
     "name": "stderr",
     "output_type": "stream",
     "text": [
      "\r",
      " 34%|███▍      | 683/1992 [1:13:19<1:56:36,  5.35s/it]"
     ]
    },
    {
     "name": "stdout",
     "output_type": "stream",
     "text": [
      "train/covid/subset2/ct_scan_280 covid 15 33 0 114 512 442\n",
      "\n",
      "train/covid/subset4/ct_scan813 covid 12 27 0 129 512 457\n",
      "\n"
     ]
    },
    {
     "name": "stderr",
     "output_type": "stream",
     "text": [
      "\r",
      " 34%|███▍      | 685/1992 [1:13:20<1:25:57,  3.95s/it]"
     ]
    },
    {
     "name": "stdout",
     "output_type": "stream",
     "text": [
      "train/covid/subset3/ct_scan_676 covid 92 237 0 55 512 465\n",
      "\n",
      "train/covid/subset3/ct_scan_488 covid 105 176 62 104 485 413\n",
      "\n"
     ]
    },
    {
     "name": "stderr",
     "output_type": "stream",
     "text": [
      "\r",
      " 34%|███▍      | 687/1992 [1:13:26<1:19:54,  3.67s/it]"
     ]
    },
    {
     "name": "stdout",
     "output_type": "stream",
     "text": [
      "train/covid/subset3/ct_scan_568 covid 71 172 11 106 492 402\n",
      "\n",
      "train/covid/subset4/ct_scan727 covid 98 245 0 116 512 492\n",
      "\n"
     ]
    },
    {
     "name": "stderr",
     "output_type": "stream",
     "text": [
      "\r",
      " 35%|███▍      | 689/1992 [1:13:39<1:36:25,  4.44s/it]"
     ]
    },
    {
     "name": "stdout",
     "output_type": "stream",
     "text": [
      "train/covid/subset3/ct_scan_469 covid 76 247 25 61 480 379\n",
      "\n",
      "train/covid/subset3/ct_scan_546 covid 104 176 62 104 485 411\n",
      "\n"
     ]
    },
    {
     "name": "stderr",
     "output_type": "stream",
     "text": [
      "\r",
      " 35%|███▍      | 691/1992 [1:13:45<1:27:19,  4.03s/it]"
     ]
    },
    {
     "name": "stdout",
     "output_type": "stream",
     "text": [
      "train/covid/subset4/ct_scan758 covid 138 296 0 71 512 412\n",
      "\n",
      "train/covid/subset2/ct_scan_298 covid 88 218 23 83 467 419\n",
      "\n"
     ]
    },
    {
     "name": "stderr",
     "output_type": "stream",
     "text": [
      "\r",
      " 35%|███▍      | 693/1992 [1:13:56<1:36:59,  4.48s/it]"
     ]
    },
    {
     "name": "stdout",
     "output_type": "stream",
     "text": [
      "train/covid/subset3/ct_scan_580 covid 26 50 15 106 477 386\n",
      "\n",
      "train/covid/subset1/ct_scan_181 covid 108 186 0 114 512 501\n",
      "\n"
     ]
    },
    {
     "name": "stderr",
     "output_type": "stream",
     "text": [
      "\r",
      " 35%|███▍      | 695/1992 [1:14:03<1:29:39,  4.15s/it]"
     ]
    },
    {
     "name": "stdout",
     "output_type": "stream",
     "text": [
      "train/covid/subset2/ct_scan_397 covid 77 178 0 69 512 460\n",
      "\n",
      "train/covid/subset2/ct_scan_383 covid 80 204 0 53 512 433\n",
      "\n"
     ]
    },
    {
     "name": "stderr",
     "output_type": "stream",
     "text": [
      "\r",
      " 35%|███▍      | 697/1992 [1:14:13<1:37:15,  4.51s/it]"
     ]
    },
    {
     "name": "stdout",
     "output_type": "stream",
     "text": [
      "train/covid/subset4/ct_scan750 covid 73 131 0 145 512 512\n",
      "\n",
      "train/covid/subset2/ct_scan_315 covid 122 279 0 68 512 494\n",
      "\n"
     ]
    },
    {
     "name": "stderr",
     "output_type": "stream",
     "text": [
      "\r",
      " 35%|███▌      | 699/1992 [1:14:27<1:51:32,  5.18s/it]"
     ]
    },
    {
     "name": "stdout",
     "output_type": "stream",
     "text": [
      "train/covid/subset4/ct_scan776 covid 77 193 21 110 496 469\n",
      "\n",
      "train/covid/subset3/ct_scan_659 covid 28 60 0 85 508 451\n",
      "\n"
     ]
    },
    {
     "name": "stderr",
     "output_type": "stream",
     "text": [
      "\r",
      " 35%|███▌      | 701/1992 [1:14:30<1:27:00,  4.04s/it]"
     ]
    },
    {
     "name": "stdout",
     "output_type": "stream",
     "text": [
      "train/covid/subset3/ct_scan_652 covid 67 200 48 188 476 450\n",
      "\n",
      "train/covid/subset2/ct_scan_340 covid 19 35 0 117 497 436\n",
      "\n"
     ]
    },
    {
     "name": "stderr",
     "output_type": "stream",
     "text": [
      "\r",
      " 35%|███▌      | 703/1992 [1:14:31<1:05:49,  3.06s/it]"
     ]
    },
    {
     "name": "stdout",
     "output_type": "stream",
     "text": [
      "train/covid/subset3/ct_scan_650 covid 22 48 39 139 497 419\n",
      "\n",
      "train/covid/subset3/ct_scan_589 covid 138 294 44 98 465 417\n",
      "\n"
     ]
    },
    {
     "name": "stderr",
     "output_type": "stream",
     "text": [
      "\r",
      " 35%|███▌      | 705/1992 [1:14:45<1:30:11,  4.20s/it]"
     ]
    },
    {
     "name": "stdout",
     "output_type": "stream",
     "text": [
      "train/covid/subset3/ct_scan_648 covid 25 58 5 87 504 443\n",
      "\n",
      "train/covid/subset4/ct_scan747 covid 132 258 0 58 512 449\n",
      "\n"
     ]
    },
    {
     "name": "stderr",
     "output_type": "stream",
     "text": [
      "\r",
      " 35%|███▌      | 707/1992 [1:14:56<1:37:15,  4.54s/it]"
     ]
    },
    {
     "name": "stdout",
     "output_type": "stream",
     "text": [
      "train/covid/subset3/ct_scan_500 covid 57 195 0 55 512 441\n",
      "\n",
      "train/covid/subset4/ct_scan804 covid 145 263 0 145 512 512\n",
      "\n"
     ]
    },
    {
     "name": "stderr",
     "output_type": "stream",
     "text": [
      "\r",
      " 36%|███▌      | 709/1992 [1:15:06<1:40:38,  4.71s/it]"
     ]
    },
    {
     "name": "stdout",
     "output_type": "stream",
     "text": [
      "train/covid/subset2/ct_scan_321 covid 96 234 0 21 512 496\n",
      "\n",
      "train/covid/subset3/ct_scan_483 covid 15 46 0 95 507 436\n",
      "\n"
     ]
    },
    {
     "name": "stderr",
     "output_type": "stream",
     "text": [
      "\r",
      " 36%|███▌      | 711/1992 [1:15:08<1:18:59,  3.70s/it]"
     ]
    },
    {
     "name": "stdout",
     "output_type": "stream",
     "text": [
      "train/covid/subset3/ct_scan_619 covid 87 183 0 86 512 417\n",
      "\n",
      "train/covid/subset1/ct_scan_119 covid 119 237 0 78 512 483\n",
      "\n"
     ]
    },
    {
     "name": "stderr",
     "output_type": "stream",
     "text": [
      "\r",
      " 36%|███▌      | 713/1992 [1:15:18<1:27:08,  4.09s/it]"
     ]
    },
    {
     "name": "stdout",
     "output_type": "stream",
     "text": [
      "train/covid/subset3/ct_scan_530 covid 44 56 44 115 512 374\n",
      "\n",
      "train/covid/subset1/ct_scan_81 covid 0 115 0 57 512 458\n",
      "\n"
     ]
    },
    {
     "name": "stderr",
     "output_type": "stream",
     "text": [
      "\r",
      " 36%|███▌      | 715/1992 [1:15:28<1:31:56,  4.32s/it]"
     ]
    },
    {
     "name": "stdout",
     "output_type": "stream",
     "text": [
      "train/covid/subset4/ct_scan744 covid 13 29 16 147 477 406\n",
      "\n",
      "train/covid/subset2/ct_scan_261 covid 113 221 0 45 512 462\n",
      "\n"
     ]
    },
    {
     "name": "stderr",
     "output_type": "stream",
     "text": [
      "\r",
      " 36%|███▌      | 717/1992 [1:15:37<1:33:19,  4.39s/it]"
     ]
    },
    {
     "name": "stdout",
     "output_type": "stream",
     "text": [
      "train/covid/subset1/ct_scan_96 covid 13 37 0 72 512 455\n",
      "\n",
      "train/covid/subset3/ct_scan_510 covid 58 170 0 109 512 442\n",
      "\n"
     ]
    },
    {
     "name": "stderr",
     "output_type": "stream",
     "text": [
      "\r",
      " 36%|███▌      | 719/1992 [1:15:47<1:35:29,  4.50s/it]"
     ]
    },
    {
     "name": "stdout",
     "output_type": "stream",
     "text": [
      "train/covid/subset3/ct_scan_617 covid 14 45 0 100 506 413\n",
      "\n",
      "train/covid/subset1/ct_scan_220 covid 28 41 0 126 512 440\n",
      "\n"
     ]
    },
    {
     "name": "stderr",
     "output_type": "stream",
     "text": [
      "\r",
      " 36%|███▌      | 721/1992 [1:15:48<1:10:30,  3.33s/it]"
     ]
    },
    {
     "name": "stdout",
     "output_type": "stream",
     "text": [
      "train/covid/subset2/ct_scan_273 covid 136 286 0 82 512 410\n",
      "\n",
      "train/covid/subset3/ct_scan_458 covid 110 235 44 98 465 416\n",
      "\n"
     ]
    },
    {
     "name": "stderr",
     "output_type": "stream",
     "text": [
      "\r",
      " 36%|███▋      | 723/1992 [1:15:59<1:25:31,  4.04s/it]"
     ]
    },
    {
     "name": "stdout",
     "output_type": "stream",
     "text": [
      "train/covid/subset4/ct_scan699 covid 163 246 0 102 512 478\n",
      "\n",
      "train/covid/subset1/ct_scan_171 covid 132 356 0 90 512 482\n",
      "\n"
     ]
    },
    {
     "name": "stderr",
     "output_type": "stream",
     "text": [
      "\r",
      " 36%|███▋      | 725/1992 [1:16:19<2:00:19,  5.70s/it]"
     ]
    },
    {
     "name": "stdout",
     "output_type": "stream",
     "text": [
      "train/covid/subset2/ct_scan_430 covid 0 28 30 114 485 447\n",
      "\n",
      "train/covid/subset3/ct_scan_547 covid 25 40 0 114 512 419\n",
      "\n"
     ]
    },
    {
     "name": "stderr",
     "output_type": "stream",
     "text": [
      "\r",
      " 36%|███▋      | 727/1992 [1:16:20<1:28:23,  4.19s/it]"
     ]
    },
    {
     "name": "stdout",
     "output_type": "stream",
     "text": [
      "train/covid/subset4/ct_scan845 covid 13 24 0 58 512 438\n",
      "\n",
      "train/covid/subset3/ct_scan_633 covid 87 220 0 101 512 439\n",
      "\n"
     ]
    },
    {
     "name": "stderr",
     "output_type": "stream",
     "text": [
      "\r",
      " 37%|███▋      | 729/1992 [1:16:31<1:38:05,  4.66s/it]"
     ]
    },
    {
     "name": "stdout",
     "output_type": "stream",
     "text": [
      "train/covid/subset4/ct_scan858 covid 16 24 0 65 512 415\n",
      "\n",
      "train/covid/subset3/ct_scan_501 covid 28 48 0 68 512 389\n",
      "\n"
     ]
    },
    {
     "name": "stderr",
     "output_type": "stream",
     "text": [
      "\r",
      " 37%|███▋      | 731/1992 [1:16:33<1:14:12,  3.53s/it]"
     ]
    },
    {
     "name": "stdout",
     "output_type": "stream",
     "text": [
      "train/covid/subset3/ct_scan_529 covid 19 65 0 55 512 441\n",
      "\n",
      "train/covid/subset1/ct_scan_192 covid 121 339 0 94 501 448\n",
      "\n"
     ]
    },
    {
     "name": "stderr",
     "output_type": "stream",
     "text": [
      "\r",
      " 37%|███▋      | 733/1992 [1:16:52<1:50:11,  5.25s/it]"
     ]
    },
    {
     "name": "stdout",
     "output_type": "stream",
     "text": [
      "train/covid/subset4/ct_scan802 covid 129 265 0 75 512 419\n",
      "\n",
      "train/covid/subset1/ct_scan_20 covid 16 35 0 107 512 490\n",
      "\n"
     ]
    },
    {
     "name": "stderr",
     "output_type": "stream",
     "text": [
      "\r",
      " 37%|███▋      | 735/1992 [1:16:53<1:22:16,  3.93s/it]"
     ]
    },
    {
     "name": "stdout",
     "output_type": "stream",
     "text": [
      "train/covid/subset4/ct_scan817 covid 13 27 37 151 503 397\n",
      "\n",
      "train/covid/subset4/ct_scan743 covid 65 189 0 108 512 437\n",
      "\n"
     ]
    },
    {
     "name": "stderr",
     "output_type": "stream",
     "text": [
      "\r",
      " 37%|███▋      | 737/1992 [1:17:04<1:30:28,  4.33s/it]"
     ]
    },
    {
     "name": "stdout",
     "output_type": "stream",
     "text": [
      "train/covid/subset3/ct_scan_453 covid 28 68 40 85 507 416\n",
      "\n",
      "train/covid/subset1/ct_scan_150 covid 109 207 0 84 512 468\n",
      "\n"
     ]
    },
    {
     "name": "stderr",
     "output_type": "stream",
     "text": [
      "\r",
      " 37%|███▋      | 739/1992 [1:17:12<1:29:22,  4.28s/it]"
     ]
    },
    {
     "name": "stdout",
     "output_type": "stream",
     "text": [
      "train/covid/subset3/ct_scan_480 covid 36 68 36 95 450 380\n",
      "\n",
      "train/covid/subset3/ct_scan_662 covid 25 49 15 109 476 374\n",
      "\n"
     ]
    },
    {
     "name": "stderr",
     "output_type": "stream",
     "text": [
      "\r",
      " 37%|███▋      | 741/1992 [1:17:14<1:09:05,  3.31s/it]"
     ]
    },
    {
     "name": "stdout",
     "output_type": "stream",
     "text": [
      "train/covid/subset1/ct_scan_129 covid 146 286 0 82 512 450\n",
      "\n",
      "train/covid/subset2/ct_scan_404 covid 176 371 4 110 512 451\n",
      "\n"
     ]
    },
    {
     "name": "stderr",
     "output_type": "stream",
     "text": [
      "\r",
      " 37%|███▋      | 743/1992 [1:17:31<1:40:05,  4.81s/it]"
     ]
    },
    {
     "name": "stdout",
     "output_type": "stream",
     "text": [
      "train/covid/subset3/ct_scan_644 covid 100 146 9 109 506 405\n",
      "\n",
      "train/covid/subset3/ct_scan_645 covid 35 67 0 86 500 437\n",
      "\n"
     ]
    },
    {
     "name": "stderr",
     "output_type": "stream",
     "text": [
      "\r",
      " 37%|███▋      | 745/1992 [1:17:34<1:18:34,  3.78s/it]"
     ]
    },
    {
     "name": "stdout",
     "output_type": "stream",
     "text": [
      "train/covid/subset3/ct_scan_621 covid 28 49 0 71 512 373\n",
      "\n",
      "train/covid/subset4/ct_scan787 covid 74 290 0 49 512 463\n",
      "\n"
     ]
    },
    {
     "name": "stderr",
     "output_type": "stream",
     "text": [
      "\r",
      " 38%|███▊      | 747/1992 [1:17:52<1:51:56,  5.39s/it]"
     ]
    },
    {
     "name": "stdout",
     "output_type": "stream",
     "text": [
      "train/covid/subset4/ct_scan698 covid 128 248 0 154 512 475\n",
      "\n",
      "train/covid/subset4/ct_scan840 covid 23 30 10 119 485 425\n",
      "\n"
     ]
    },
    {
     "name": "stderr",
     "output_type": "stream",
     "text": [
      "\r",
      " 38%|███▊      | 749/1992 [1:17:53<1:20:22,  3.88s/it]"
     ]
    },
    {
     "name": "stdout",
     "output_type": "stream",
     "text": [
      "train/covid/subset1/ct_scan_22 covid 19 37 0 86 512 456\n",
      "\n",
      "train/covid/subset2/ct_scan_319 covid 139 285 0 91 503 434\n",
      "\n"
     ]
    },
    {
     "name": "stderr",
     "output_type": "stream",
     "text": [
      "\r",
      " 38%|███▊      | 751/1992 [1:18:05<1:34:23,  4.56s/it]"
     ]
    },
    {
     "name": "stdout",
     "output_type": "stream",
     "text": [
      "train/covid/subset2/ct_scan_390 covid 104 219 15 65 500 403\n",
      "\n",
      "train/covid/subset3/ct_scan_509 covid 18 41 0 95 512 472\n",
      "\n"
     ]
    },
    {
     "name": "stderr",
     "output_type": "stream",
     "text": [
      "\r",
      " 38%|███▊      | 753/1992 [1:18:07<1:12:18,  3.50s/it]"
     ]
    },
    {
     "name": "stdout",
     "output_type": "stream",
     "text": [
      "train/covid/subset3/ct_scan_600 covid 25 56 0 89 512 505\n",
      "\n",
      "train/covid/subset3/ct_scan_635 covid 29 61 30 61 486 401\n",
      "\n"
     ]
    },
    {
     "name": "stderr",
     "output_type": "stream",
     "text": [
      "\r",
      " 38%|███▊      | 755/1992 [1:18:10<59:05,  2.87s/it]  "
     ]
    },
    {
     "name": "stdout",
     "output_type": "stream",
     "text": [
      "train/covid/subset2/ct_scan_369 covid 14 31 31 122 494 437\n",
      "\n",
      "train/covid/subset2/ct_scan_412 covid 62 162 0 49 512 407\n",
      "\n"
     ]
    },
    {
     "name": "stderr",
     "output_type": "stream",
     "text": [
      "\r",
      " 38%|███▊      | 757/1992 [1:18:18<1:07:32,  3.28s/it]"
     ]
    },
    {
     "name": "stdout",
     "output_type": "stream",
     "text": [
      "train/covid/subset3/ct_scan_504 covid 125 174 0 105 512 478\n",
      "\n",
      "train/covid/subset2/ct_scan_405 covid 100 228 0 91 512 465\n",
      "\n"
     ]
    },
    {
     "name": "stderr",
     "output_type": "stream",
     "text": [
      "\r",
      " 38%|███▊      | 759/1992 [1:18:29<1:20:35,  3.92s/it]"
     ]
    },
    {
     "name": "stdout",
     "output_type": "stream",
     "text": [
      "train/covid/subset1/ct_scan_60 covid 12 29 0 92 512 461\n",
      "\n",
      "train/covid/subset2/ct_scan_276 covid 17 38 6 74 485 449\n",
      "\n"
     ]
    },
    {
     "name": "stderr",
     "output_type": "stream",
     "text": [
      "\r",
      " 38%|███▊      | 761/1992 [1:18:31<1:02:01,  3.02s/it]"
     ]
    },
    {
     "name": "stdout",
     "output_type": "stream",
     "text": [
      "train/covid/subset1/ct_scan_98 covid 141 253 27 111 512 413\n",
      "\n",
      "train/covid/subset1/ct_scan_87 covid 117 302 0 0 512 470\n",
      "\n"
     ]
    },
    {
     "name": "stderr",
     "output_type": "stream",
     "text": [
      "\r",
      " 38%|███▊      | 763/1992 [1:18:47<1:31:42,  4.48s/it]"
     ]
    },
    {
     "name": "stdout",
     "output_type": "stream",
     "text": [
      "train/covid/subset2/ct_scan_274 covid 133 354 0 97 512 455\n",
      "\n",
      "train/covid/subset1/ct_scan_45 covid 20 39 44 140 468 438\n",
      "\n"
     ]
    },
    {
     "name": "stderr",
     "output_type": "stream",
     "text": [
      "\r",
      " 38%|███▊      | 765/1992 [1:18:48<1:09:14,  3.39s/it]"
     ]
    },
    {
     "name": "stdout",
     "output_type": "stream",
     "text": [
      "train/covid/subset1/ct_scan_23 covid 21 29 0 91 505 436\n",
      "\n",
      "train/covid/subset1/ct_scan_156 covid 17 41 0 105 512 427\n",
      "\n"
     ]
    },
    {
     "name": "stderr",
     "output_type": "stream",
     "text": [
      "\r",
      " 39%|███▊      | 767/1992 [1:18:51<54:49,  2.69s/it]  "
     ]
    },
    {
     "name": "stdout",
     "output_type": "stream",
     "text": [
      "train/covid/subset2/ct_scan_351 covid 113 204 0 63 512 428\n",
      "\n",
      "train/covid/subset1/ct_scan_104 covid 11 32 0 66 512 481\n",
      "\n"
     ]
    },
    {
     "name": "stderr",
     "output_type": "stream",
     "text": [
      "\r",
      " 39%|███▊      | 769/1992 [1:18:52<43:58,  2.16s/it]"
     ]
    },
    {
     "name": "stdout",
     "output_type": "stream",
     "text": [
      "train/covid/subset2/ct_scan_368 covid 149 249 0 123 512 462\n",
      "\n",
      "train/covid/subset4/ct_scan819 covid 8 16 21 77 512 475\n",
      "\n"
     ]
    },
    {
     "name": "stderr",
     "output_type": "stream",
     "text": [
      "\r",
      " 39%|███▊      | 771/1992 [1:18:53<33:04,  1.63s/it]"
     ]
    },
    {
     "name": "stdout",
     "output_type": "stream",
     "text": [
      "train/covid/subset3/ct_scan_582 covid 22 49 39 139 495 420\n",
      "\n",
      "train/covid/subset1/ct_scan_152 covid 95 169 18 96 512 444\n",
      "\n"
     ]
    },
    {
     "name": "stderr",
     "output_type": "stream",
     "text": [
      "\r",
      " 39%|███▉      | 773/1992 [1:19:00<43:06,  2.12s/it]"
     ]
    },
    {
     "name": "stdout",
     "output_type": "stream",
     "text": [
      "train/covid/subset2/ct_scan_287 covid 182 334 0 94 512 390\n",
      "\n",
      "train/covid/subset1/ct_scan_198 covid 227 429 15 88 473 384\n",
      "\n"
     ]
    },
    {
     "name": "stderr",
     "output_type": "stream",
     "text": [
      "\r",
      " 39%|███▉      | 775/1992 [1:19:17<1:22:11,  4.05s/it]"
     ]
    },
    {
     "name": "stdout",
     "output_type": "stream",
     "text": [
      "train/covid/subset1/ct_scan_7 covid 129 225 0 108 491 438\n",
      "\n",
      "train/covid/subset4/ct_scan693 covid 113 182 22 76 495 400\n",
      "\n"
     ]
    },
    {
     "name": "stderr",
     "output_type": "stream",
     "text": [
      "\r",
      " 39%|███▉      | 777/1992 [1:19:23<1:15:15,  3.72s/it]"
     ]
    },
    {
     "name": "stdout",
     "output_type": "stream",
     "text": [
      "train/covid/subset2/ct_scan_317 covid 25 46 18 100 494 443\n",
      "\n",
      "train/covid/subset3/ct_scan_507 covid 15 43 0 122 512 429\n",
      "\n"
     ]
    },
    {
     "name": "stderr",
     "output_type": "stream",
     "text": [
      "\r",
      " 39%|███▉      | 779/1992 [1:19:25<59:59,  2.97s/it]  "
     ]
    },
    {
     "name": "stdout",
     "output_type": "stream",
     "text": [
      "train/covid/subset4/ct_scan713 covid 62 94 0 97 512 410\n",
      "\n",
      "train/covid/subset3/ct_scan_554 covid 14 24 0 76 512 428\n",
      "\n"
     ]
    },
    {
     "name": "stderr",
     "output_type": "stream",
     "text": [
      "\r",
      " 39%|███▉      | 781/1992 [1:19:26<45:07,  2.24s/it]"
     ]
    },
    {
     "name": "stdout",
     "output_type": "stream",
     "text": [
      "train/covid/subset4/ct_scan823 covid 14 28 0 93 512 423\n",
      "\n",
      "train/covid/subset4/ct_scan738 covid 104 234 25 98 505 447\n",
      "\n"
     ]
    },
    {
     "name": "stderr",
     "output_type": "stream",
     "text": [
      " 53%|█████▎    | 1058/1992 [1:19:35<30:46,  1.98s/it]"
     ]
    },
    {
     "name": "stdout",
     "output_type": "stream",
     "text": [
      "train/covid/subset4/ct_scan843 covid 11 19 0 55 512 512\n",
      "\n",
      "train/covid/subset4/ct_scan816 covid 18 32 8 56 497 427\n",
      "\n",
      "train/covid/subset3/ct_scan_550 covid 106 208 0 121 512 490\n",
      "\n",
      "train/covid/subset1/ct_scan_77 covid 122 331 0 89 512 461\n",
      "\n",
      "train/covid/subset3/ct_scan_673 covid 59 213 0 76 512 426\n",
      "\n",
      "train/covid/subset1/ct_scan_172 covid 91 234 0 93 512 467\n",
      "\n",
      "train/covid/subset2/ct_scan_411 covid 122 168 0 90 512 466\n",
      "\n",
      "train/covid/subset3/ct_scan_516 covid 26 45 0 83 512 457\n",
      "\n",
      "train/covid/subset4/ct_scan831 covid 19 25 0 132 501 450\n",
      "\n",
      "train/covid/subset2/ct_scan_435 covid 0 32 0 0 512 441\n",
      "\n",
      "train/covid/subset4/ct_scan755 covid 97 284 0 56 512 418\n",
      "\n",
      "train/covid/subset2/ct_scan_327 covid 109 206 0 85 512 469\n",
      "\n",
      "train/covid/subset3/ct_scan_628 covid 66 208 0 73 512 419\n",
      "\n",
      "train/covid/subset3/ct_scan_472 covid 90 276 11 44 470 419\n",
      "\n",
      "train/covid/subset1/ct_scan_50 covid 81 192 0 109 512 474\n",
      "\n",
      "train/covid/subset4/ct_scan783 covid 85 263 0 129 512 448\n",
      "\n",
      "train/covid/subset3/ct_scan_560 covid 69 82 0 46 506 384\n",
      "\n",
      "train/covid/subset2/ct_scan_245 covid 103 213 8 83 479 423\n",
      "\n",
      "train/covid/subset4/ct_scan815 covid 8 27 34 100 481 414\n",
      "\n",
      "train/covid/subset3/ct_scan_465 covid 100 243 0 27 512 444\n",
      "\n",
      "train/covid/subset4/ct_scan725 covid 82 180 13 79 491 392\n",
      "\n",
      "train/covid/subset4/ct_scan762 covid 161 279 23 69 495 400\n",
      "\n",
      "train/covid/subset2/ct_scan_440 covid 20 71 0 76 512 426\n",
      "\n",
      "train/covid/subset2/ct_scan_306 covid 0 0 0 135 512 478\n",
      "\n",
      "train/covid/subset1/ct_scan_142 covid 16 36 0 65 512 495\n",
      "\n",
      "train/covid/subset3/ct_scan_609 covid 130 165 0 104 433 406\n",
      "\n",
      "train/covid/subset3/ct_scan_537 covid 28 85 0 79 512 424\n",
      "\n",
      "train/covid/subset2/ct_scan_443 covid 22 49 39 139 497 420\n",
      "\n",
      "train/covid/subset4/ct_scan757 covid 104 198 0 57 512 407\n",
      "\n",
      "train/covid/subset2/ct_scan_386 covid 107 240 0 107 512 451\n",
      "\n",
      "train/covid/subset1/ct_scan_40 covid 101 218 0 85 512 471\n",
      "\n",
      "train/covid/subset3/ct_scan_597 covid 24 49 58 136 470 395\n",
      "\n",
      "train/covid/subset3/ct_scan_675 covid 10 31 0 115 512 405\n",
      "\n",
      "train/covid/subset2/ct_scan_349 covid 111 242 0 116 512 467\n",
      "\n",
      "train/covid/subset2/ct_scan_325 covid 122 296 0 63 512 452\n",
      "\n",
      "train/covid/subset1/ct_scan_168 covid 103 211 0 98 512 454\n",
      "\n",
      "train/covid/subset1/ct_scan_99 covid 78 211 0 9 512 512\n",
      "\n",
      "train/covid/subset1/ct_scan_92 covid 20 39 0 108 512 435\n",
      "\n",
      "train/covid/subset4/ct_scan706 covid 57 204 0 48 512 463\n",
      "\n",
      "train/covid/subset3/ct_scan_499 covid 121 244 51 87 472 394\n",
      "\n",
      "train/covid/subset1/ct_scan_85 covid 122 228 0 107 512 437\n",
      "\n",
      "train/covid/subset2/ct_scan_281 covid 0 34 0 0 512 441\n",
      "\n",
      "train/covid/subset1/ct_scan_135 covid 103 138 0 55 512 412\n",
      "\n",
      "train/covid/subset3/ct_scan_496 covid 20 51 0 77 512 418\n",
      "\n",
      "train/covid/subset3/ct_scan_643 covid 19 64 0 55 508 441\n",
      "\n",
      "train/covid/subset1/ct_scan_54 covid 52 68 17 104 504 439\n",
      "\n",
      "train/covid/subset1/ct_scan_37 covid 100 201 0 135 512 493\n",
      "\n",
      "train/covid/subset4/ct_scan715 covid 131 240 0 70 512 460\n",
      "\n",
      "train/covid/subset1/ct_scan_132 covid 15 37 0 153 512 473\n",
      "\n",
      "train/covid/subset2/ct_scan_308 covid 141 253 27 111 512 412\n",
      "\n",
      "train/covid/subset2/ct_scan_254 covid 109 259 0 90 512 438\n",
      "\n",
      "train/covid/subset1/ct_scan_108 covid 114 225 40 147 505 424\n",
      "\n",
      "train/covid/subset4/ct_scan722 covid 123 264 13 77 491 392\n",
      "\n",
      "train/covid/subset2/ct_scan_266 covid 131 323 0 67 512 422\n",
      "\n",
      "train/covid/subset2/ct_scan_425 covid 16 39 21 142 479 481\n",
      "\n",
      "train/covid/subset1/ct_scan_90 covid 85 320 0 45 512 405\n",
      "\n",
      "train/covid/subset1/ct_scan_140 covid 0 11 0 0 512 396\n",
      "\n",
      "train/covid/subset1/ct_scan_30 covid 150 244 6 94 472 435\n",
      "\n",
      "train/covid/subset2/ct_scan_414 covid 97 189 0 93 512 449\n",
      "\n",
      "train/covid/subset2/ct_scan_313 covid 97 204 0 99 512 473\n",
      "\n",
      "train/covid/subset4/ct_scan748 covid 54 177 0 102 512 404\n",
      "\n",
      "train/covid/subset4/ct_scan701 covid 137 233 0 109 512 469\n",
      "\n",
      "train/covid/subset4/ct_scan687 covid 101 174 16 115 502 432\n",
      "\n",
      "train/covid/subset1/ct_scan_25 covid 18 40 0 0 512 450\n",
      "\n",
      "train/covid/subset3/ct_scan_533 covid 42 72 15 87 500 400\n",
      "\n",
      "train/covid/subset1/ct_scan_196 covid 125 301 0 165 512 489\n",
      "\n",
      "train/covid/subset3/ct_scan_526 covid 34 67 24 91 474 424\n",
      "\n",
      "train/covid/subset1/ct_scan_204 covid 16 34 0 116 512 512\n",
      "\n",
      "train/covid/subset2/ct_scan_450 covid 106 198 0 108 488 398\n",
      "\n",
      "train/covid/subset2/ct_scan_445 covid 36 72 10 101 502 454\n",
      "\n",
      "train/covid/subset2/ct_scan_353 covid 117 302 0 0 512 470\n",
      "\n",
      "train/covid/subset3/ct_scan_620 covid 30 62 0 90 512 436\n",
      "\n",
      "train/covid/subset1/ct_scan_94 covid 14 31 0 87 512 452\n",
      "\n",
      "train/covid/subset2/ct_scan_388 covid 100 261 0 101 512 454\n",
      "\n",
      "train/covid/subset3/ct_scan_478 covid 17 27 12 119 512 441\n",
      "\n",
      "train/covid/subset2/ct_scan_301 covid 103 223 0 104 512 465\n",
      "\n",
      "train/covid/subset4/ct_scan790 covid 43 111 0 87 512 413\n",
      "\n",
      "train/covid/subset4/ct_scan721 covid 114 196 5 97 500 425\n",
      "\n",
      "train/covid/subset4/ct_scan801 covid 116 273 16 67 492 425\n",
      "\n",
      "train/covid/subset1/ct_scan_218 covid 24 48 25 93 497 408\n",
      "\n",
      "train/covid/subset4/ct_scan835 covid 19 25 0 147 512 445\n",
      "\n",
      "train/covid/subset1/ct_scan_229 covid 16 40 13 124 479 437\n",
      "\n",
      "train/covid/subset3/ct_scan_511 covid 20 71 0 76 512 425\n",
      "\n",
      "train/covid/subset4/ct_scan834 covid 34 38 88 134 433 398\n",
      "\n",
      "train/covid/subset2/ct_scan_238 covid 113 220 0 51 512 425\n",
      "\n",
      "train/covid/subset2/ct_scan_316 covid 91 179 0 112 512 467\n",
      "\n",
      "train/covid/subset1/ct_scan_114 covid 116 239 0 19 512 443\n",
      "\n",
      "train/covid/subset3/ct_scan_481 covid 11 32 0 90 512 450\n",
      "\n",
      "train/covid/subset2/ct_scan_346 covid 154 316 0 74 512 501\n",
      "\n",
      "train/covid/subset1/ct_scan_66 covid 19 37 0 131 512 450\n",
      "\n",
      "train/covid/subset1/ct_scan_122 covid 114 246 0 61 512 422\n",
      "\n",
      "train/covid/subset1/ct_scan_58 covid 12 24 0 103 512 499\n",
      "\n",
      "train/covid/subset1/ct_scan_15 covid 105 261 5 49 512 423\n",
      "\n",
      "train/covid/subset1/ct_scan_105 covid 112 193 0 89 512 441\n",
      "\n",
      "train/covid/subset1/ct_scan_183 covid 0 28 30 114 485 447\n",
      "\n",
      "train/covid/subset3/ct_scan_686 covid 18 53 0 116 512 373\n",
      "\n",
      "train/covid/subset1/ct_scan_3 covid 15 32 0 135 512 478\n",
      "\n",
      "train/covid/subset3/ct_scan_627 covid 74 202 0 59 499 441\n",
      "\n",
      "train/covid/subset2/ct_scan_429 covid 148 273 0 93 512 445\n",
      "\n",
      "train/covid/subset2/ct_scan_418 covid 16 34 0 61 512 421\n",
      "\n",
      "train/non-covid/subset4/ct_scan_498 non-covid 17 36 0 53 512 477\n",
      "\n",
      "train/non-covid/subset5/ct_scan1102 non-covid 231 293 85 150 470 374\n",
      "\n",
      "train/non-covid/subset4/ct_scan_849 non-covid 33 76 0 99 505 458\n",
      "\n",
      "train/non-covid/subset5/ct_scan1028 non-covid 30 60 0 126 490 425\n",
      "\n",
      "train/non-covid/subset4/ct_scan_796 non-covid 19 40 0 21 512 512\n",
      "\n",
      "train/non-covid/subset2/ct_scan_332 non-covid 93 252 0 83 512 468\n",
      "\n",
      "train/non-covid/subset5/ct_scan1075 non-covid 48 69 4 94 505 443\n",
      "\n",
      "train/non-covid/subset3/ct_scan_110 non-covid 18 42 9 88 502 477\n",
      "\n",
      "train/non-covid/subset5/ct_scan926 non-covid 105 247 31 74 494 381\n",
      "\n",
      "train/non-covid/subset2/ct_scan_408 non-covid 101 139 0 153 512 463\n",
      "\n",
      "train/non-covid/subset4/ct_scan_804 non-covid 14 33 0 74 483 420\n",
      "\n",
      "train/non-covid/subset4/ct_scan_490 non-covid 30 53 21 144 478 438\n",
      "\n",
      "train/non-covid/subset4/ct_scan_691 non-covid 29 76 0 42 508 460\n",
      "\n",
      "train/non-covid/subset3/ct_scan_84 non-covid 10 31 0 67 512 460\n",
      "\n",
      "train/non-covid/subset5/ct_scan896 non-covid 18 41 45 130 467 441\n",
      "\n",
      "train/non-covid/subset1/ct_scan_234 non-covid 125 299 8 98 502 476\n",
      "\n",
      "train/non-covid/subset3/ct_scan_38 non-covid 113 220 0 71 512 404\n",
      "\n",
      "train/non-covid/subset4/ct_scan_808 non-covid 29 68 0 80 490 401\n",
      "\n",
      "train/non-covid/subset4/ct_scan_818 non-covid 34 62 4 29 496 410\n",
      "\n",
      "train/non-covid/subset5/ct_scan996 non-covid 100 220 0 136 512 479\n",
      "\n",
      "train/non-covid/subset3/ct_scan_47 non-covid 18 45 21 120 497 431\n",
      "\n",
      "train/non-covid/subset5/ct_scan885 non-covid 104 257 0 52 512 395\n",
      "\n",
      "train/non-covid/subset5/ct_scan908 non-covid 19 39 23 106 498 404\n",
      "\n",
      "train/non-covid/subset5/ct_scan965 non-covid 116 197 0 116 512 430\n",
      "\n",
      "train/non-covid/subset5/ct_scan874 non-covid 69 219 54 122 512 448\n",
      "\n",
      "train/non-covid/subset1/ct_scan_223 non-covid 105 228 0 126 512 512\n",
      "\n",
      "train/non-covid/subset4/ct_scan_514 non-covid 245 581 0 24 512 392\n",
      "\n",
      "train/non-covid/subset4/ct_scan_584 non-covid 21 51 4 130 507 476\n",
      "\n",
      "train/non-covid/subset4/ct_scan_862 non-covid 120 188 0 81 504 368\n",
      "\n",
      "train/non-covid/subset4/ct_scan_782 non-covid 141 222 39 186 475 472\n",
      "\n",
      "train/non-covid/subset4/ct_scan_739 non-covid 128 259 0 118 504 385\n",
      "\n",
      "train/non-covid/subset5/ct_scan968 non-covid 136 275 5 50 504 410\n",
      "\n",
      "train/non-covid/subset5/ct_scan878 non-covid 37 61 0 140 512 486\n",
      "\n",
      "train/non-covid/subset3/ct_scan_29 non-covid 137 317 12 92 490 424\n",
      "\n",
      "train/non-covid/subset4/ct_scan_698 non-covid 22 53 0 82 512 499\n",
      "\n",
      "train/non-covid/subset5/ct_scan955 non-covid 83 200 23 52 490 382\n",
      "\n",
      "train/non-covid/subset3/ct_scan_164 non-covid 0 164 0 0 512 462\n",
      "\n",
      "train/non-covid/subset3/ct_scan_61 non-covid 110 257 0 94 512 457\n",
      "\n",
      "train/non-covid/subset3/ct_scan_131 non-covid 16 29 0 49 512 501\n",
      "\n",
      "train/non-covid/subset5/ct_scan907 non-covid 96 221 0 96 512 420\n",
      "\n",
      "train/non-covid/subset4/ct_scan_658 non-covid 12 24 0 74 512 410\n",
      "\n",
      "train/non-covid/subset4/ct_scan_475 non-covid 29 85 0 96 492 411\n",
      "\n",
      "train/non-covid/subset3/ct_scan_71 non-covid 16 34 0 159 512 421\n",
      "\n",
      "train/non-covid/subset4/ct_scan_436 non-covid 24 83 0 83 502 404\n",
      "\n",
      "train/non-covid/subset5/ct_scan1012 non-covid 10 26 0 127 512 384\n",
      "\n",
      "train/non-covid/subset3/ct_scan_191 non-covid 128 346 0 70 512 445\n",
      "\n",
      "train/non-covid/subset5/ct_scan1044 non-covid 31 45 0 45 512 416\n",
      "\n",
      "train/non-covid/subset4/ct_scan_561 non-covid 107 230 0 81 502 427\n",
      "\n",
      "train/non-covid/subset3/ct_scan_8 non-covid 17 34 0 52 512 458\n",
      "\n",
      "train/non-covid/subset4/ct_scan_614 non-covid 10 34 0 72 512 463\n",
      "\n",
      "train/non-covid/subset3/ct_scan_83 non-covid 135 240 0 110 512 401\n",
      "\n",
      "train/non-covid/subset4/ct_scan_715 non-covid 21 41 0 109 503 445\n",
      "\n",
      "train/non-covid/subset4/ct_scan_563 non-covid 30 66 20 96 498 409\n",
      "\n",
      "train/non-covid/subset3/ct_scan_182 non-covid 88 261 14 104 506 428\n",
      "\n",
      "train/non-covid/subset4/ct_scan_771 non-covid 83 230 53 146 462 422\n",
      "\n",
      "train/non-covid/subset4/ct_scan_788 non-covid 91 216 9 90 490 409\n",
      "\n",
      "train/non-covid/subset3/ct_scan_48 non-covid 114 275 0 65 512 459\n",
      "\n",
      "train/non-covid/subset4/ct_scan_474 non-covid 7 13 4 117 502 444\n",
      "\n",
      "train/non-covid/subset4/ct_scan_757 non-covid 41 76 17 101 496 404\n",
      "\n",
      "train/non-covid/subset4/ct_scan_834 non-covid 40 69 49 66 491 395\n",
      "\n",
      "train/non-covid/subset4/ct_scan_718 non-covid 30 54 0 54 512 419\n",
      "\n",
      "train/non-covid/subset5/ct_scan1104 non-covid 125 298 0 66 508 451\n",
      "\n",
      "train/non-covid/subset3/ct_scan_97 non-covid 25 49 12 97 501 399\n",
      "\n",
      "train/non-covid/subset4/ct_scan_519 non-covid 85 206 35 94 488 436\n",
      "\n",
      "train/non-covid/subset4/ct_scan_820 non-covid 20 69 0 19 512 414\n",
      "\n",
      "train/non-covid/subset5/ct_scan989 non-covid 69 173 0 112 512 459\n",
      "\n",
      "train/non-covid/subset5/ct_scan981 non-covid 100 218 0 93 512 443\n",
      "\n",
      "train/non-covid/subset4/ct_scan_736 non-covid 69 190 0 104 490 409\n",
      "\n",
      "train/non-covid/subset4/ct_scan_845 non-covid 82 123 0 149 512 412\n",
      "\n",
      "train/non-covid/subset3/ct_scan_195 non-covid 10 31 0 67 512 460\n",
      "\n",
      "train/non-covid/subset3/ct_scan_148 non-covid 20 49 7 67 512 469\n",
      "\n",
      "train/non-covid/subset3/ct_scan_79 non-covid 15 40 0 52 512 408\n",
      "\n",
      "train/non-covid/subset3/ct_scan_80 non-covid 181 382 0 69 507 424\n",
      "\n",
      "train/non-covid/subset5/ct_scan964 non-covid 131 298 0 133 512 461\n",
      "\n",
      "train/non-covid/subset3/ct_scan_34 non-covid 132 226 0 115 512 481\n",
      "\n",
      "train/non-covid/subset5/ct_scan873 non-covid 133 246 0 53 512 411\n",
      "\n",
      "train/non-covid/subset4/ct_scan_721 non-covid 15 39 0 89 512 482\n",
      "\n",
      "train/non-covid/subset4/ct_scan_438 non-covid 66 181 0 30 512 436\n",
      "\n",
      "train/non-covid/subset4/ct_scan_755 non-covid 119 253 0 23 512 420\n",
      "\n",
      "train/non-covid/subset4/ct_scan_665 non-covid 30 53 20 77 503 386\n",
      "\n",
      "train/non-covid/subset2/ct_scan_344 non-covid 81 187 0 95 512 447\n",
      "\n",
      "train/non-covid/subset3/ct_scan_165 non-covid 55 88 0 127 512 475\n",
      "\n",
      "train/non-covid/subset2/ct_scan_381 non-covid 85 233 0 104 512 473\n",
      "\n",
      "train/non-covid/subset4/ct_scan_641 non-covid 77 135 32 136 454 438\n",
      "\n",
      "train/non-covid/subset4/ct_scan_832 non-covid 33 66 0 68 489 394\n",
      "\n",
      "train/non-covid/subset4/ct_scan_774 non-covid 26 52 50 99 512 330\n",
      "\n",
      "train/non-covid/subset4/ct_scan_760 non-covid 109 291 46 126 471 426\n",
      "\n",
      "train/non-covid/subset4/ct_scan_853 non-covid 43 206 10 0 500 507\n",
      "\n",
      "train/non-covid/subset4/ct_scan_861 non-covid 31 133 5 60 512 426\n",
      "\n",
      "train/non-covid/subset1/ct_scan_235 non-covid 16 45 0 108 512 512\n",
      "\n",
      "train/non-covid/subset4/ct_scan_522 non-covid 18 48 0 90 496 449\n",
      "\n",
      "train/non-covid/subset4/ct_scan_585 non-covid 104 240 14 108 476 433\n",
      "\n",
      "train/non-covid/subset4/ct_scan_661 non-covid 84 212 0 72 512 464\n",
      "\n",
      "train/non-covid/subset5/ct_scan942 non-covid 58 150 16 90 506 424\n",
      "\n",
      "train/non-covid/subset5/ct_scan871 non-covid 93 229 0 106 494 452\n",
      "\n",
      "train/non-covid/subset4/ct_scan_759 non-covid 23 69 0 57 512 452\n",
      "\n",
      "train/non-covid/subset2/ct_scan_413 non-covid 114 211 44 116 498 429\n",
      "\n",
      "train/non-covid/subset5/ct_scan967 non-covid 19 36 24 114 497 405\n",
      "\n",
      "train/non-covid/subset4/ct_scan_534 non-covid 39 60 52 77 433 372\n",
      "\n",
      "train/non-covid/subset2/ct_scan_393 non-covid 82 132 0 127 512 475\n",
      "\n",
      "train/non-covid/subset5/ct_scan1093 non-covid 109 261 0 53 503 426\n",
      "\n",
      "train/non-covid/subset4/ct_scan_431 non-covid 17 30 0 115 512 453\n",
      "\n",
      "train/non-covid/subset5/ct_scan909 non-covid 57 145 0 129 512 429\n",
      "\n",
      "train/non-covid/subset1/ct_scan_311 non-covid 17 37 0 79 512 440\n",
      "\n",
      "train/non-covid/subset4/ct_scan_517 non-covid 18 41 0 95 512 472\n",
      "\n",
      "train/non-covid/subset4/ct_scan_555 non-covid 5 29 0 97 512 410\n",
      "\n",
      "train/non-covid/subset3/ct_scan_75 non-covid 10 24 0 87 512 431\n",
      "\n",
      "train/non-covid/subset3/ct_scan_68 non-covid 125 224 0 110 512 474\n",
      "\n",
      "train/non-covid/subset4/ct_scan_670 non-covid 85 157 0 128 512 421\n",
      "\n",
      "train/non-covid/subset4/ct_scan_570 non-covid 99 207 0 92 507 434\n",
      "\n",
      "train/non-covid/subset4/ct_scan_819 non-covid 56 135 5 124 512 389\n",
      "\n",
      "train/non-covid/subset2/ct_scan_410 non-covid 22 39 8 73 499 448\n",
      "\n",
      "train/non-covid/subset2/ct_scan_375 non-covid 128 189 10 81 447 363\n",
      "\n",
      "train/non-covid/subset4/ct_scan_637 non-covid 25 44 40 100 480 391\n",
      "\n",
      "train/non-covid/subset3/ct_scan_185 non-covid 18 41 0 51 512 466\n",
      "\n",
      "train/non-covid/subset4/ct_scan_569 non-covid 65 190 10 128 501 431\n",
      "\n",
      "train/non-covid/subset4/ct_scan_473 non-covid 7 10 0 150 512 389\n",
      "\n",
      "train/non-covid/subset4/ct_scan_459 non-covid 22 49 0 95 512 434\n",
      "\n",
      "train/non-covid/subset4/ct_scan_860 non-covid 25 67 0 58 512 403\n",
      "\n",
      "train/non-covid/subset4/ct_scan_810 non-covid 108 240 33 110 478 396\n",
      "\n",
      "train/non-covid/subset5/ct_scan1100 non-covid 46 91 21 90 470 398\n",
      "\n",
      "train/non-covid/subset1/ct_scan_269 non-covid 134 218 0 145 418 400\n",
      "\n",
      "train/non-covid/subset4/ct_scan_857 non-covid 100 267 30 109 512 414\n",
      "\n",
      "train/non-covid/subset4/ct_scan_672 non-covid 28 50 0 60 512 472\n",
      "\n",
      "train/non-covid/subset1/ct_scan_232 non-covid 12 34 0 70 512 461\n",
      "\n",
      "train/non-covid/subset4/ct_scan_494 non-covid 31 59 11 51 478 396\n",
      "\n",
      "train/non-covid/subset4/ct_scan_753 non-covid 95 217 34 82 512 438\n",
      "\n",
      "train/non-covid/subset2/ct_scan_354 non-covid 72 90 123 110 439 512\n",
      "\n",
      "train/non-covid/subset4/ct_scan_502 non-covid 34 84 0 47 512 451\n",
      "\n",
      "train/non-covid/subset5/ct_scan1049 non-covid 0 1 0 163 489 415\n",
      "\n",
      "train/non-covid/subset5/ct_scan890 non-covid 105 240 0 81 512 457\n",
      "\n",
      "train/non-covid/subset5/ct_scan1035 non-covid 26 52 12 165 504 469\n",
      "\n",
      "train/non-covid/subset3/ct_scan_163 non-covid 116 331 5 135 483 452\n",
      "\n",
      "train/non-covid/subset1/ct_scan_320 non-covid 145 250 0 8 512 425\n",
      "\n",
      "train/non-covid/subset5/ct_scan1081 non-covid 100 220 0 79 512 412\n",
      "\n",
      "train/non-covid/subset4/ct_scan_769 non-covid 95 258 0 63 512 446\n",
      "\n",
      "train/non-covid/subset1/ct_scan_221 non-covid 61 129 0 56 512 413\n",
      "\n",
      "train/non-covid/subset1/ct_scan_206 non-covid 13 35 7 149 512 482\n",
      "\n",
      "train/non-covid/subset4/ct_scan_632 non-covid 30 66 0 81 512 446\n",
      "\n",
      "train/non-covid/subset5/ct_scan922 non-covid 84 229 0 103 502 458\n",
      "\n",
      "train/non-covid/subset5/ct_scan966 non-covid 123 328 0 96 512 476\n",
      "\n",
      "train/non-covid/subset4/ct_scan_479 non-covid 0 18 60 136 442 341\n",
      "\n",
      "train/non-covid/subset2/ct_scan_419 non-covid 13 68 6 76 501 436\n",
      "\n",
      "train/non-covid/subset3/ct_scan_69 non-covid 175 399 5 125 472 477\n",
      "\n",
      "train/non-covid/subset4/ct_scan_684 non-covid 80 175 0 73 512 512\n",
      "\n",
      "train/non-covid/subset5/ct_scan991 non-covid 93 223 0 58 512 457\n",
      "\n",
      "train/non-covid/subset1/ct_scan_246 non-covid 21 46 30 91 500 405\n",
      "\n",
      "train/non-covid/subset1/ct_scan_210 non-covid 120 230 24 130 512 399\n",
      "\n",
      "train/non-covid/subset4/ct_scan_826 non-covid 0 35 85 116 508 426\n",
      "\n",
      "train/non-covid/subset4/ct_scan_460 non-covid 82 204 16 90 494 405\n",
      "\n",
      "train/non-covid/subset2/ct_scan_362 non-covid 17 38 0 75 512 440\n",
      "\n",
      "train/non-covid/subset3/ct_scan_141 non-covid 20 34 0 112 512 489\n",
      "\n",
      "train/non-covid/subset4/ct_scan_456 non-covid 106 254 11 46 512 458\n",
      "\n",
      "train/non-covid/subset1/ct_scan_219 non-covid 15 29 0 77 512 496\n",
      "\n",
      "train/non-covid/subset4/ct_scan_462 non-covid 76 129 13 141 484 437\n",
      "\n",
      "train/non-covid/subset4/ct_scan_618 non-covid 26 76 21 68 490 406\n",
      "\n",
      "train/non-covid/subset4/ct_scan_828 non-covid 11 28 0 95 512 429\n",
      "\n",
      "train/non-covid/subset5/ct_scan1078 non-covid 26 64 0 40 512 427\n",
      "\n",
      "train/non-covid/subset4/ct_scan_631 non-covid 84 149 49 128 491 410\n",
      "\n",
      "train/non-covid/subset4/ct_scan_649 non-covid 22 63 0 66 512 444\n",
      "\n",
      "train/non-covid/subset1/ct_scan_253 non-covid 20 38 0 91 512 491\n",
      "\n",
      "train/non-covid/subset4/ct_scan_634 non-covid 31 56 0 84 463 415\n",
      "\n",
      "train/non-covid/subset5/ct_scan888 non-covid 27 51 25 119 474 402\n",
      "\n",
      "train/non-covid/subset4/ct_scan_594 non-covid 99 260 7 96 489 456\n",
      "\n",
      "train/non-covid/subset4/ct_scan_681 non-covid 22 50 0 28 512 451\n",
      "\n",
      "train/non-covid/subset4/ct_scan_794 non-covid 76 154 0 78 512 407\n",
      "\n",
      "train/non-covid/subset5/ct_scan975 non-covid 86 312 7 56 512 388\n",
      "\n",
      "train/non-covid/subset5/ct_scan884 non-covid 97 217 0 91 512 443\n",
      "\n",
      "train/non-covid/subset4/ct_scan_813 non-covid 70 133 0 75 512 365\n",
      "\n",
      "train/non-covid/subset5/ct_scan936 non-covid 80 193 0 126 512 433\n",
      "\n",
      "train/non-covid/subset4/ct_scan_521 non-covid 19 59 0 25 512 414\n",
      "\n",
      "train/non-covid/subset4/ct_scan_840 non-covid 32 67 0 37 512 433\n",
      "\n",
      "train/non-covid/subset2/ct_scan_331 non-covid 90 205 0 77 512 402\n",
      "\n",
      "train/non-covid/subset4/ct_scan_505 non-covid 47 83 14 91 476 417\n",
      "\n",
      "train/non-covid/subset4/ct_scan_758 non-covid 16 231 0 97 512 387\n",
      "\n",
      "train/non-covid/subset5/ct_scan1099 non-covid 27 68 0 38 512 427\n",
      "\n",
      "train/non-covid/subset3/ct_scan_52 non-covid 12 37 0 65 512 461\n",
      "\n",
      "train/non-covid/subset3/ct_scan_33 non-covid 124 354 0 48 512 464\n",
      "\n",
      "train/non-covid/subset3/ct_scan_154 non-covid 12 30 0 61 512 407\n",
      "\n",
      "train/non-covid/subset4/ct_scan_622 non-covid 97 233 48 84 465 402\n",
      "\n",
      "train/non-covid/subset3/ct_scan_147 non-covid 17 31 0 59 512 458\n",
      "\n",
      "train/non-covid/subset4/ct_scan_463 non-covid 65 186 0 7 512 412\n",
      "\n",
      "train/non-covid/subset1/ct_scan_244 non-covid 125 299 8 98 502 476\n",
      "\n",
      "train/non-covid/subset4/ct_scan_577 non-covid 24 51 0 86 508 430\n",
      "\n",
      "train/non-covid/subset4/ct_scan_444 non-covid 24 71 0 53 499 422\n",
      "\n",
      "train/non-covid/subset5/ct_scan1059 non-covid 11 29 10 95 512 423\n",
      "\n",
      "train/non-covid/subset3/ct_scan_28 non-covid 87 272 0 141 512 485\n",
      "\n",
      "train/non-covid/subset1/ct_scan_328 non-covid 191 309 0 51 512 434\n",
      "\n",
      "train/non-covid/subset4/ct_scan_636 non-covid 90 197 0 32 512 405\n",
      "\n",
      "train/non-covid/subset4/ct_scan_655 non-covid 32 75 0 42 512 405\n",
      "\n",
      "train/non-covid/subset5/ct_scan992 non-covid 87 224 0 105 503 457\n",
      "\n",
      "train/non-covid/subset5/ct_scan1007 non-covid 121 236 20 71 498 398\n",
      "\n",
      "train/non-covid/subset1/ct_scan_302 non-covid 152 214 0 117 512 493\n",
      "\n",
      "train/non-covid/subset1/ct_scan_303 non-covid 102 207 0 107 512 484\n",
      "\n",
      "train/non-covid/subset2/ct_scan_355 non-covid 0 17 16 72 499 460\n",
      "\n",
      "train/non-covid/subset3/ct_scan_11 non-covid 98 288 0 52 512 407\n",
      "\n",
      "train/non-covid/subset4/ct_scan_815 non-covid 9 202 0 104 512 459\n",
      "\n",
      "train/non-covid/subset1/ct_scan_214 non-covid 47 63 0 109 512 490\n",
      "\n",
      "train/non-covid/subset4/ct_scan_572 non-covid 76 181 0 84 512 494\n",
      "\n",
      "train/non-covid/subset3/ct_scan_193 non-covid 90 218 0 108 512 445\n",
      "\n",
      "train/non-covid/subset4/ct_scan_642 non-covid 69 171 37 53 503 398\n",
      "\n",
      "train/non-covid/subset4/ct_scan_571 non-covid 32 73 33 89 508 417\n",
      "\n",
      "train/non-covid/subset4/ct_scan_541 non-covid 17 51 0 111 512 435\n",
      "\n",
      "train/non-covid/subset4/ct_scan_717 non-covid 46 85 0 103 492 423\n",
      "\n",
      "train/non-covid/subset5/ct_scan869 non-covid 104 263 0 88 512 480\n",
      "\n",
      "train/non-covid/subset4/ct_scan_448 non-covid 31 80 33 67 472 377\n",
      "\n",
      "train/non-covid/subset5/ct_scan1021 non-covid 13 30 42 104 512 452\n",
      "\n",
      "train/non-covid/subset4/ct_scan_798 non-covid 21 41 0 109 503 445\n",
      "\n",
      "train/non-covid/subset3/ct_scan_9 non-covid 66 163 0 168 512 467\n",
      "\n",
      "train/non-covid/subset2/ct_scan_366 non-covid 17 37 0 79 512 440\n",
      "\n",
      "train/non-covid/subset5/ct_scan1025 non-covid 31 60 0 60 512 423\n",
      "\n",
      "train/non-covid/subset5/ct_scan877 non-covid 135 316 17 73 512 458\n",
      "\n",
      "train/non-covid/subset2/ct_scan_372 non-covid 101 221 23 127 512 440\n",
      "\n",
      "train/non-covid/subset4/ct_scan_666 non-covid 12 32 21 95 507 454\n",
      "\n",
      "train/non-covid/subset5/ct_scan872 non-covid 101 300 5 109 503 427\n",
      "\n",
      "train/non-covid/subset4/ct_scan_854 non-covid 29 223 31 131 457 423\n",
      "\n",
      "train/non-covid/subset5/ct_scan902 non-covid 73 207 20 66 512 397\n",
      "\n",
      "train/non-covid/subset3/ct_scan_149 non-covid 119 290 0 85 512 479\n",
      "\n",
      "train/non-covid/subset4/ct_scan_513 non-covid 19 41 42 73 481 373\n",
      "\n",
      "train/non-covid/subset4/ct_scan_457 non-covid 26 57 46 127 501 447\n",
      "\n",
      "train/non-covid/subset4/ct_scan_674 non-covid 63 182 35 101 466 409\n",
      "\n",
      "train/non-covid/subset4/ct_scan_434 non-covid 60 78 32 104 466 434\n",
      "\n",
      "train/non-covid/subset1/ct_scan_275 non-covid 12 29 0 63 512 407\n",
      "\n",
      "train/non-covid/subset1/ct_scan_222 non-covid 11 23 0 66 512 441\n",
      "\n",
      "train/non-covid/subset4/ct_scan_784 non-covid 23 56 0 118 503 406\n",
      "\n",
      "train/non-covid/subset2/ct_scan_416 non-covid 13 21 0 116 512 353\n",
      "\n",
      "train/non-covid/subset4/ct_scan_764 non-covid 8 14 0 75 512 404\n",
      "\n",
      "train/non-covid/subset4/ct_scan_704 non-covid 28 75 10 98 474 410\n",
      "\n",
      "train/non-covid/subset5/ct_scan995 non-covid 120 325 0 124 512 486\n",
      "\n",
      "train/non-covid/subset4/ct_scan_467 non-covid 13 29 23 75 512 455\n",
      "\n",
      "train/non-covid/subset4/ct_scan_741 non-covid 68 210 7 65 494 410\n",
      "\n",
      "train/non-covid/subset1/ct_scan_278 non-covid 125 152 38 134 477 453\n",
      "\n",
      "train/non-covid/subset1/ct_scan_304 non-covid 120 283 0 88 512 494\n",
      "\n",
      "train/non-covid/subset5/ct_scan895 non-covid 125 273 0 154 512 507\n",
      "\n",
      "train/non-covid/subset2/ct_scan_396 non-covid 14 25 0 109 512 406\n",
      "\n",
      "train/non-covid/subset1/ct_scan_285 non-covid 135 365 31 34 512 466\n",
      "\n",
      "train/non-covid/subset5/ct_scan1037 non-covid 25 60 46 117 503 475\n",
      "\n",
      "train/non-covid/subset5/ct_scan1069 non-covid 162 251 0 106 495 417\n",
      "\n",
      "train/non-covid/subset5/ct_scan1107 non-covid 28 74 0 72 512 454\n",
      "\n",
      "train/non-covid/subset3/ct_scan_153 non-covid 23 41 0 116 512 453\n",
      "\n",
      "train/non-covid/subset5/ct_scan1027 non-covid 10 16 0 135 512 444\n",
      "\n",
      "train/non-covid/subset4/ct_scan_751 non-covid 37 73 9 82 499 459\n",
      "\n",
      "train/non-covid/subset1/ct_scan_283 non-covid 65 140 0 62 512 406\n",
      "\n",
      "train/non-covid/subset3/ct_scan_27 non-covid 79 166 0 75 512 413\n",
      "\n",
      "train/non-covid/subset4/ct_scan_803 non-covid 23 49 0 46 512 466\n",
      "\n",
      "train/non-covid/subset4/ct_scan_567 non-covid 0 2 29 112 512 403\n",
      "\n",
      "train/non-covid/subset5/ct_scan1013 non-covid 16 36 16 70 495 414\n",
      "\n",
      "train/non-covid/subset5/ct_scan1009 non-covid 97 217 0 91 512 443\n",
      "\n",
      "train/non-covid/subset5/ct_scan1060 non-covid 23 57 0 19 512 476\n",
      "\n",
      "train/non-covid/subset5/ct_scan941 non-covid 28 55 28 78 492 372\n",
      "\n",
      "train/non-covid/subset4/ct_scan_449 non-covid 69 133 0 70 512 366\n",
      "\n",
      "train/non-covid/subset3/ct_scan_123 non-covid 81 187 0 95 512 447\n",
      "\n",
      "train/non-covid/subset3/ct_scan_111 non-covid 108 194 0 101 512 487\n",
      "\n",
      "train/non-covid/subset4/ct_scan_778 non-covid 27 56 0 122 506 476\n",
      "\n",
      "train/non-covid/subset2/ct_scan_360 non-covid 19 208 0 0 512 458\n",
      "\n",
      "train/non-covid/subset5/ct_scan934 non-covid 74 144 0 107 512 452\n",
      "\n",
      "train/non-covid/subset5/ct_scan1080 non-covid 25 55 43 73 483 422\n",
      "\n",
      "train/non-covid/subset4/ct_scan_660 non-covid 83 205 16 89 493 404\n",
      "\n",
      "train/non-covid/subset4/ct_scan_520 non-covid 99 238 20 147 501 448\n",
      "\n",
      "train/non-covid/subset5/ct_scan1004 non-covid 98 308 10 42 485 402\n",
      "\n",
      "train/non-covid/subset3/ct_scan_43 non-covid 5 12 0 106 512 395\n",
      "\n",
      "train/non-covid/subset4/ct_scan_696 non-covid 73 202 0 58 512 403\n",
      "\n",
      "train/non-covid/subset4/ct_scan_730 non-covid 79 227 20 138 470 401\n",
      "\n",
      "train/non-covid/subset1/ct_scan_267 non-covid 85 226 0 121 512 466\n",
      "\n",
      "train/non-covid/subset4/ct_scan_749 non-covid 23 63 0 66 512 444\n",
      "\n",
      "train/non-covid/subset4/ct_scan_553 non-covid 37 76 0 79 512 433\n",
      "\n",
      "train/non-covid/subset4/ct_scan_664 non-covid 35 72 25 84 512 412\n",
      "\n",
      "train/non-covid/subset4/ct_scan_793 non-covid 25 45 0 61 512 413\n",
      "\n",
      "train/non-covid/subset5/ct_scan1040 non-covid 12 27 0 97 512 402\n",
      "\n",
      "train/non-covid/subset4/ct_scan_716 non-covid 13 30 0 41 485 466\n",
      "\n",
      "train/non-covid/subset5/ct_scan893 non-covid 228 302 39 62 478 431\n",
      "\n",
      "train/non-covid/subset3/ct_scan_117 non-covid 135 267 0 119 512 435\n",
      "\n",
      "train/non-covid/subset1/ct_scan_249 non-covid 107 152 11 123 486 443\n",
      "\n",
      "train/non-covid/subset2/ct_scan_422 non-covid 11 26 13 80 502 440\n",
      "\n",
      "train/non-covid/subset4/ct_scan_486 non-covid 23 70 0 94 507 478\n",
      "\n",
      "train/non-covid/subset5/ct_scan883 non-covid 24 52 20 121 476 401\n",
      "\n",
      "train/non-covid/subset2/ct_scan_389 non-covid 15 35 0 120 512 425\n",
      "\n",
      "train/non-covid/subset1/ct_scan_289 non-covid 20 43 0 53 512 482\n",
      "\n",
      "train/non-covid/subset5/ct_scan958 non-covid 14 38 0 111 476 472\n",
      "\n",
      "train/non-covid/subset4/ct_scan_653 non-covid 66 196 36 135 512 473\n",
      "\n",
      "train/non-covid/subset5/ct_scan1101 non-covid 93 158 0 49 512 409\n",
      "\n",
      "train/non-covid/subset3/ct_scan_55 non-covid 21 47 0 94 512 483\n",
      "\n",
      "train/non-covid/subset3/ct_scan_161 non-covid 175 384 6 126 489 460\n",
      "\n",
      "train/non-covid/subset4/ct_scan_683 non-covid 134 219 37 100 496 410\n",
      "\n",
      "train/non-covid/subset2/ct_scan_339 non-covid 72 173 0 86 512 490\n",
      "\n",
      "train/non-covid/subset4/ct_scan_848 non-covid 26 62 35 102 491 410\n",
      "\n",
      "train/non-covid/subset4/ct_scan_689 non-covid 33 73 12 35 488 395\n",
      "\n",
      "train/non-covid/subset5/ct_scan866 non-covid 87 189 0 65 501 441\n",
      "\n",
      "train/non-covid/subset3/ct_scan_89 non-covid 47 62 0 110 512 490\n",
      "\n",
      "train/non-covid/subset4/ct_scan_657 non-covid 32 55 10 93 493 381\n",
      "\n",
      "train/non-covid/subset1/ct_scan_251 non-covid 14 31 0 67 512 446\n",
      "\n",
      "train/non-covid/subset1/ct_scan_243 non-covid 12 35 7 147 512 482\n",
      "\n",
      "train/non-covid/subset4/ct_scan_829 non-covid 36 166 0 94 512 477\n",
      "\n",
      "train/non-covid/subset5/ct_scan880 non-covid 83 233 32 111 495 396\n",
      "\n",
      "train/non-covid/subset1/ct_scan_258 non-covid 125 243 0 101 504 490\n",
      "\n",
      "train/non-covid/subset5/ct_scan999 non-covid 60 142 0 140 512 512\n",
      "\n",
      "train/non-covid/subset5/ct_scan928 non-covid 122 202 0 106 512 452\n",
      "\n",
      "train/non-covid/subset4/ct_scan_503 non-covid 96 278 59 139 427 385\n",
      "\n",
      "train/non-covid/subset4/ct_scan_545 non-covid 50 153 9 121 482 410\n",
      "\n",
      "train/non-covid/subset5/ct_scan944 non-covid 87 310 7 57 512 388\n",
      "\n",
      "train/non-covid/subset4/ct_scan_679 non-covid 24 77 10 55 487 430\n",
      "\n",
      "train/non-covid/subset2/ct_scan_357 non-covid 145 241 0 91 512 452\n",
      "\n",
      "train/non-covid/subset4/ct_scan_595 non-covid 30 80 23 142 492 400\n",
      "\n",
      "train/non-covid/subset1/ct_scan_324 non-covid 150 368 0 63 503 430\n",
      "\n",
      "train/non-covid/subset2/ct_scan_334 non-covid 28 84 0 144 492 448\n",
      "\n",
      "train/non-covid/subset4/ct_scan_786 non-covid 88 137 0 126 512 473\n",
      "\n",
      "train/non-covid/subset2/ct_scan_402 non-covid 69 163 0 110 512 445\n",
      "\n",
      "train/non-covid/subset3/ct_scan_56 non-covid 99 182 0 61 512 385\n",
      "\n",
      "train/non-covid/subset5/ct_scan961 non-covid 100 234 0 109 512 442\n",
      "\n",
      "train/non-covid/subset3/ct_scan_17 non-covid 22 50 10 128 494 431\n",
      "\n",
      "train/non-covid/subset4/ct_scan_549 non-covid 133 299 19 82 468 435\n",
      "\n",
      "train/non-covid/subset2/ct_scan_423 non-covid 30 69 0 71 512 399\n",
      "\n",
      "train/non-covid/subset1/ct_scan_264 non-covid 61 156 0 73 512 447\n",
      "\n",
      "train/non-covid/subset4/ct_scan_638 non-covid 23 53 15 131 512 463\n",
      "\n",
      "train/non-covid/subset3/ct_scan_74 non-covid 114 243 0 76 512 512\n",
      "\n",
      "train/non-covid/subset4/ct_scan_831 non-covid 87 179 0 80 512 406\n",
      "\n",
      "train/non-covid/subset5/ct_scan929 non-covid 142 304 0 66 512 512\n",
      "\n",
      "train/non-covid/subset2/ct_scan_370 non-covid 21 46 30 91 500 405\n",
      "\n",
      "train/non-covid/subset5/ct_scan881 non-covid 19 39 23 106 498 405\n",
      "\n",
      "train/non-covid/subset5/ct_scan904 non-covid 49 138 20 66 512 397\n",
      "\n",
      "train/non-covid/subset5/ct_scan952 non-covid 101 244 18 64 486 409\n",
      "\n",
      "train/non-covid/subset1/ct_scan_279 non-covid 95 271 0 122 512 465\n",
      "\n",
      "train/non-covid/subset4/ct_scan_824 non-covid 35 61 50 70 473 372\n",
      "\n",
      "train/non-covid/subset4/ct_scan_685 non-covid 25 31 92 149 508 365\n",
      "\n",
      "train/non-covid/subset4/ct_scan_495 non-covid 76 183 33 95 478 392\n",
      "\n",
      "train/non-covid/subset3/ct_scan_120 non-covid 2 10 0 0 512 432\n",
      "\n",
      "train/non-covid/subset4/ct_scan_455 non-covid 0 3 9 126 512 414\n",
      "\n",
      "train/non-covid/subset2/ct_scan_406 non-covid 72 163 0 145 512 496\n",
      "\n",
      "train/non-covid/subset1/ct_scan_284 non-covid 100 224 0 91 512 447\n",
      "\n",
      "train/non-covid/subset5/ct_scan977 non-covid 105 240 0 81 512 457\n",
      "\n",
      "train/non-covid/subset5/ct_scan997 non-covid 27 49 31 89 484 390\n",
      "\n",
      "train/non-covid/subset1/ct_scan_257 non-covid 130 301 45 101 495 432\n",
      "\n",
      "train/non-covid/subset5/ct_scan1086 non-covid 26 53 0 88 512 414\n",
      "\n",
      "train/non-covid/subset3/ct_scan_31 non-covid 115 260 0 64 512 416\n",
      "\n",
      "train/non-covid/subset4/ct_scan_812 non-covid 92 207 42 101 488 416\n",
      "\n",
      "train/non-covid/subset3/ct_scan_42 non-covid 20 50 15 63 505 406\n",
      "\n",
      "train/non-covid/subset1/ct_scan_252 non-covid 13 38 0 124 467 445\n",
      "\n",
      "train/non-covid/subset1/ct_scan_208 non-covid 47 62 0 108 512 490\n",
      "\n",
      "train/non-covid/subset4/ct_scan_863 non-covid 19 124 0 94 512 450\n",
      "\n",
      "train/non-covid/subset3/ct_scan_32 non-covid 23 53 11 131 495 431\n",
      "\n",
      "train/non-covid/subset5/ct_scan1000 non-covid 99 203 0 119 512 505\n",
      "\n",
      "train/non-covid/subset4/ct_scan_437 non-covid 25 75 19 63 489 402\n",
      "\n",
      "train/non-covid/subset3/ct_scan_2 non-covid 16 41 29 110 478 417\n",
      "\n",
      "train/non-covid/subset4/ct_scan_476 non-covid 76 165 0 85 512 407\n",
      "\n",
      "train/non-covid/subset1/ct_scan_202 non-covid 88 180 9 138 505 492\n",
      "\n",
      "train/non-covid/subset5/ct_scan993 non-covid 88 201 9 93 506 460\n",
      "\n",
      "train/non-covid/subset2/ct_scan_394 non-covid 18 43 23 89 500 439\n",
      "\n",
      "train/non-covid/subset5/ct_scan1046 non-covid 14 24 0 120 512 446\n",
      "\n",
      "train/non-covid/subset1/ct_scan_300 non-covid 91 251 7 149 512 482\n",
      "\n",
      "train/non-covid/subset5/ct_scan886 non-covid 27 49 31 90 484 389\n",
      "\n",
      "train/non-covid/subset4/ct_scan_723 non-covid 9 22 0 134 508 421\n",
      "\n",
      "train/non-covid/subset3/ct_scan_12 non-covid 124 295 5 102 504 436\n",
      "\n",
      "train/non-covid/subset4/ct_scan_742 non-covid 109 224 0 80 512 406\n",
      "\n",
      "train/non-covid/subset1/ct_scan_236 non-covid 111 251 0 66 512 453\n",
      "\n",
      "train/non-covid/subset5/ct_scan870 non-covid 87 151 0 183 512 488\n",
      "\n",
      "train/non-covid/subset4/ct_scan_601 non-covid 30 85 5 86 512 384\n",
      "\n",
      "train/non-covid/subset4/ct_scan_838 non-covid 80 170 0 71 502 408\n",
      "\n",
      "train/non-covid/subset4/ct_scan_746 non-covid 45 60 66 166 502 387\n",
      "\n",
      "train/non-covid/subset5/ct_scan1090 non-covid 55 121 0 112 512 428\n",
      "\n",
      "train/non-covid/subset5/ct_scan1109 non-covid 30 43 5 104 497 432\n",
      "\n",
      "train/non-covid/subset5/ct_scan917 non-covid 63 179 24 140 481 454\n",
      "\n",
      "train/non-covid/subset4/ct_scan_493 non-covid 23 54 0 57 512 423\n",
      "\n",
      "train/non-covid/subset1/ct_scan_241 non-covid 81 169 0 129 512 431\n",
      "\n",
      "train/non-covid/subset4/ct_scan_586 non-covid 25 55 65 137 469 439\n",
      "\n",
      "train/non-covid/subset3/ct_scan_53 non-covid 13 32 0 97 499 458\n",
      "\n",
      "train/non-covid/subset1/ct_scan_240 non-covid 16 33 0 75 512 411\n",
      "\n",
      "train/non-covid/subset4/ct_scan_750 non-covid 24 63 0 94 507 478\n",
      "\n",
      "train/non-covid/subset4/ct_scan_466 non-covid 32 69 15 110 500 406\n",
      "\n",
      "train/non-covid/subset2/ct_scan_343 non-covid 132 287 10 93 493 423\n",
      "\n",
      "train/non-covid/subset5/ct_scan876 non-covid 108 285 20 85 494 406\n",
      "\n",
      "train/non-covid/subset3/ct_scan_6 non-covid 10 23 0 96 512 501\n",
      "\n",
      "train/non-covid/subset1/ct_scan_212 non-covid 147 293 0 0 512 508\n",
      "\n",
      "train/non-covid/subset1/ct_scan_255 non-covid 144 278 0 103 512 435\n",
      "\n",
      "train/non-covid/subset2/ct_scan_391 non-covid 13 30 0 101 490 436\n",
      "\n",
      "train/non-covid/subset4/ct_scan_835 non-covid 29 54 22 131 504 442\n",
      "\n",
      "train/non-covid/subset4/ct_scan_728 non-covid 19 43 4 55 497 416\n",
      "\n",
      "train/non-covid/subset3/ct_scan_169 non-covid 16 31 0 70 512 447\n",
      "\n",
      "train/non-covid/subset4/ct_scan_599 non-covid 22 65 46 167 497 468\n",
      "\n",
      "train/non-covid/subset4/ct_scan_839 non-covid 8 14 48 169 440 392\n",
      "\n",
      "train/non-covid/subset3/ct_scan_5 non-covid 212 396 0 109 512 368\n",
      "\n",
      "train/non-covid/subset4/ct_scan_827 non-covid 37 61 22 90 480 390\n",
      "\n",
      "train/non-covid/subset4/ct_scan_654 non-covid 20 39 0 105 508 481\n",
      "\n",
      "train/non-covid/subset5/ct_scan972 non-covid 183 283 44 89 487 415\n",
      "\n",
      "train/non-covid/subset3/ct_scan_200 non-covid 212 311 86 168 408 439\n",
      "\n",
      "train/non-covid/subset4/ct_scan_477 non-covid 33 220 0 28 512 370\n",
      "\n",
      "train/non-covid/subset2/ct_scan_424 non-covid 22 54 18 112 512 407\n",
      "\n",
      "train/non-covid/subset5/ct_scan948 non-covid 49 138 20 66 512 397\n",
      "\n",
      "train/non-covid/subset4/ct_scan_576 non-covid 14 32 12 107 504 424\n",
      "\n",
      "train/non-covid/subset1/ct_scan_247 non-covid 119 255 17 129 508 420\n",
      "\n",
      "train/non-covid/subset2/ct_scan_337 non-covid 13 35 7 149 512 481\n",
      "\n",
      "train/non-covid/subset4/ct_scan_763 non-covid 25 60 0 90 500 434\n",
      "\n",
      "train/non-covid/subset4/ct_scan_464 non-covid 28 64 0 79 512 462\n",
      "\n",
      "train/non-covid/subset5/ct_scan976 non-covid 116 272 16 95 495 426\n",
      "\n",
      "train/non-covid/subset3/ct_scan_73 non-covid 40 167 0 65 512 390\n",
      "\n",
      "train/non-covid/subset4/ct_scan_806 non-covid 125 284 0 64 512 439\n",
      "\n",
      "train/non-covid/subset3/ct_scan_65 non-covid 102 232 29 90 500 405\n",
      "\n",
      "train/non-covid/subset4/ct_scan_535 non-covid 26 52 12 116 484 478\n",
      "\n",
      "train/non-covid/subset1/ct_scan_250 non-covid 107 213 0 105 512 481\n",
      "\n",
      "train/non-covid/subset3/ct_scan_187 non-covid 99 328 0 31 512 473\n",
      "\n",
      "train/non-covid/subset4/ct_scan_439 non-covid 32 74 6 49 512 447\n",
      "\n",
      "train/non-covid/subset4/ct_scan_606 non-covid 80 242 5 122 512 428\n",
      "\n",
      "train/non-covid/subset1/ct_scan_263 non-covid 94 281 60 134 445 417\n",
      "\n",
      "train/non-covid/subset4/ct_scan_678 non-covid 18 42 0 89 512 435\n",
      "\n",
      "train/non-covid/subset4/ct_scan_773 non-covid 20 32 0 81 512 418\n",
      "\n",
      "train/non-covid/subset3/ct_scan_189 non-covid 107 225 0 58 512 469\n",
      "\n",
      "train/non-covid/subset4/ct_scan_656 non-covid 35 93 0 72 503 418\n",
      "\n",
      "train/non-covid/subset3/ct_scan_72 non-covid 201 428 21 105 496 439\n",
      "\n",
      "train/non-covid/subset5/ct_scan1068 non-covid 28 81 0 94 512 424\n",
      "\n",
      "train/non-covid/subset4/ct_scan_471 non-covid 7 23 0 167 512 429\n",
      "\n",
      "train/non-covid/subset5/ct_scan933 non-covid 82 200 22 52 490 381\n",
      "\n",
      "train/non-covid/subset3/ct_scan_63 non-covid 21 48 0 148 512 512\n",
      "\n",
      "train/non-covid/subset5/ct_scan1045 non-covid 15 28 0 97 512 392\n",
      "\n",
      "train/non-covid/subset5/ct_scan1082 non-covid 117 264 9 88 506 413\n",
      "\n",
      "train/non-covid/subset3/ct_scan_151 non-covid 15 51 0 153 512 494\n",
      "\n",
      "train/non-covid/subset4/ct_scan_762 non-covid 37 85 7 89 507 440\n",
      "\n",
      "train/non-covid/subset2/ct_scan_407 non-covid 20 43 0 87 512 482\n",
      "\n",
      "train/non-covid/subset5/ct_scan1108 non-covid 15 27 0 116 507 424\n",
      "\n",
      "train/non-covid/subset4/ct_scan_446 non-covid 23 51 0 109 500 436\n",
      "\n",
      "train/non-covid/subset5/ct_scan1091 non-covid 107 173 57 105 505 395\n",
      "\n",
      "train/non-covid/subset1/ct_scan_225 non-covid 120 254 0 108 512 400\n",
      "\n",
      "train/non-covid/subset3/ct_scan_177 non-covid 107 277 0 30 512 463\n",
      "\n",
      "train/non-covid/subset5/ct_scan1083 non-covid 28 58 0 41 512 379\n",
      "\n",
      "train/non-covid/subset5/ct_scan899 non-covid 0 185 0 0 512 512\n",
      "\n",
      "train/non-covid/subset1/ct_scan_205 non-covid 14 47 0 85 512 476\n",
      "\n",
      "train/non-covid/subset4/ct_scan_452 non-covid 71 139 0 68 512 402\n",
      "\n",
      "train/non-covid/subset4/ct_scan_719 non-covid 250 295 0 72 512 391\n",
      "\n",
      "train/non-covid/subset3/ct_scan_199 non-covid 125 271 0 49 512 485\n",
      "\n",
      "train/non-covid/subset4/ct_scan_598 non-covid 14 33 0 67 512 416\n",
      "\n",
      "train/non-covid/subset5/ct_scan1031 non-covid 12 30 0 55 512 450\n",
      "\n",
      "train/non-covid/subset4/ct_scan_775 non-covid 91 208 66 88 512 417\n",
      "\n",
      "train/non-covid/subset4/ct_scan_690 non-covid 102 238 4 77 501 416\n",
      "\n",
      "train/non-covid/subset3/ct_scan_14 non-covid 110 256 0 94 512 459\n",
      "\n",
      "train/non-covid/subset4/ct_scan_557 non-covid 14 31 0 81 512 404\n",
      "\n",
      "train/non-covid/subset4/ct_scan_592 non-covid 68 208 0 90 512 512\n",
      "\n",
      "train/non-covid/subset4/ct_scan_823 non-covid 49 93 49 77 491 340\n",
      "\n",
      "train/non-covid/subset5/ct_scan1106 non-covid 87 173 6 97 477 435\n",
      "\n",
      "train/non-covid/subset3/ct_scan_82 non-covid 224 324 51 109 461 392\n",
      "\n",
      "train/non-covid/subset5/ct_scan918 non-covid 103 193 0 119 512 462\n",
      "\n",
      "train/non-covid/subset5/ct_scan974 non-covid 142 273 0 120 512 505\n",
      "\n",
      "train/non-covid/subset2/ct_scan_399 non-covid 13 30 0 101 490 436\n",
      "\n",
      "train/non-covid/subset5/ct_scan903 non-covid 98 184 0 101 512 479\n",
      "\n",
      "train/non-covid/subset4/ct_scan_816 non-covid 26 60 0 80 512 394\n",
      "\n",
      "train/non-covid/subset4/ct_scan_677 non-covid 20 47 0 42 512 442\n",
      "\n",
      "train/non-covid/subset1/ct_scan_227 non-covid 94 258 0 75 512 490\n",
      "\n",
      "train/non-covid/subset5/ct_scan1088 non-covid 32 52 0 57 512 410\n",
      "\n",
      "train/non-covid/subset3/ct_scan_116 non-covid 183 398 0 53 512 483\n",
      "\n",
      "train/non-covid/subset1/ct_scan_272 non-covid 174 302 0 166 507 468\n",
      "\n",
      "train/non-covid/subset5/ct_scan951 non-covid 111 223 0 96 512 457\n",
      "\n",
      "train/non-covid/subset5/ct_scan875 non-covid 96 220 0 96 512 421\n",
      "\n",
      "train/non-covid/subset4/ct_scan_524 non-covid 94 223 0 125 512 436\n",
      "\n",
      "train/non-covid/subset4/ct_scan_625 non-covid 20 41 0 39 512 479\n",
      "\n"
     ]
    },
    {
     "name": "stderr",
     "output_type": "stream",
     "text": [
      " 78%|███████▊  | 1556/1992 [1:19:35<07:02,  1.03it/s]"
     ]
    },
    {
     "name": "stdout",
     "output_type": "stream",
     "text": [
      "train/non-covid/subset3/ct_scan_13 non-covid 49 113 0 44 512 443\n",
      "\n",
      "train/non-covid/subset5/ct_scan1030 non-covid 11 24 0 118 512 442\n",
      "\n",
      "train/non-covid/subset5/ct_scan945 non-covid 230 305 40 63 477 432\n",
      "\n",
      "train/non-covid/subset4/ct_scan_556 non-covid 28 55 0 53 512 416\n",
      "\n",
      "train/non-covid/subset5/ct_scan963 non-covid 129 263 0 88 512 512\n",
      "\n",
      "train/non-covid/subset5/ct_scan1092 non-covid 16 69 0 69 508 440\n",
      "\n",
      "train/non-covid/subset2/ct_scan_335 non-covid 94 297 14 107 466 442\n",
      "\n",
      "train/non-covid/subset4/ct_scan_461 non-covid 10 17 0 138 512 402\n",
      "\n",
      "train/non-covid/subset1/ct_scan_207 non-covid 91 185 5 73 512 455\n",
      "\n",
      "train/non-covid/subset1/ct_scan_292 non-covid 92 196 0 27 512 482\n",
      "\n",
      "train/non-covid/subset4/ct_scan_593 non-covid 0 81 0 65 512 434\n",
      "\n",
      "train/non-covid/subset4/ct_scan_864 non-covid 25 50 0 7 512 408\n",
      "\n",
      "train/non-covid/subset4/ct_scan_539 non-covid 18 27 6 137 512 380\n",
      "\n",
      "train/non-covid/subset3/ct_scan_175 non-covid 22 41 0 116 512 453\n",
      "\n",
      "train/non-covid/subset4/ct_scan_731 non-covid 61 210 0 97 512 489\n",
      "\n",
      "train/non-covid/subset3/ct_scan_24 non-covid 88 231 0 118 512 466\n",
      "\n",
      "train/non-covid/subset4/ct_scan_508 non-covid 19 28 0 100 512 414\n",
      "\n",
      "train/non-covid/subset5/ct_scan937 non-covid 94 229 0 105 492 452\n",
      "\n",
      "train/non-covid/subset4/ct_scan_703 non-covid 111 258 9 54 491 456\n",
      "\n",
      "train/non-covid/subset4/ct_scan_817 non-covid 29 77 0 81 512 454\n",
      "\n",
      "train/non-covid/subset1/ct_scan_294 non-covid 16 32 0 77 512 412\n",
      "\n",
      "train/non-covid/subset1/ct_scan_248 non-covid 13 41 14 107 466 442\n",
      "\n",
      "train/non-covid/subset3/ct_scan_103 non-covid 17 36 0 109 512 435\n",
      "\n",
      "train/non-covid/subset4/ct_scan_722 non-covid 18 43 0 98 512 439\n",
      "\n",
      "train/non-covid/subset5/ct_scan1072 non-covid 58 115 0 71 512 449\n",
      "\n",
      "train/non-covid/subset5/ct_scan911 non-covid 17 41 44 130 468 441\n",
      "\n",
      "train/non-covid/subset2/ct_scan_395 non-covid 80 170 0 62 512 417\n",
      "\n",
      "train/non-covid/subset1/ct_scan_233 non-covid 13 18 0 134 497 407\n",
      "\n",
      "train/non-covid/subset1/ct_scan_262 non-covid 104 256 0 75 512 496\n",
      "\n",
      "train/non-covid/subset1/ct_scan_286 non-covid 79 213 0 52 512 451\n",
      "\n",
      "train/non-covid/subset4/ct_scan_694 non-covid 35 76 11 101 505 408\n",
      "\n",
      "train/non-covid/subset4/ct_scan_482 non-covid 102 233 21 94 485 435\n",
      "\n",
      "train/non-covid/subset4/ct_scan_590 non-covid 92 233 48 157 435 427\n",
      "\n",
      "train/non-covid/subset1/ct_scan_326 non-covid 15 33 25 132 498 410\n",
      "\n",
      "train/non-covid/subset5/ct_scan1058 non-covid 21 39 0 15 512 456\n",
      "\n",
      "train/non-covid/subset3/ct_scan_130 non-covid 106 232 30 90 499 405\n",
      "\n",
      "train/non-covid/subset4/ct_scan_825 non-covid 21 49 27 42 505 400\n",
      "\n",
      "train/non-covid/subset1/ct_scan_201 non-covid 74 102 41 175 463 391\n",
      "\n",
      "train/non-covid/subset4/ct_scan_767 non-covid 11 127 0 125 512 466\n",
      "\n",
      "train/non-covid/subset3/ct_scan_146 non-covid 107 213 0 105 512 481\n",
      "\n",
      "train/non-covid/subset4/ct_scan_776 non-covid 97 227 0 63 512 439\n",
      "\n",
      "train/non-covid/subset4/ct_scan_579 non-covid 25 45 59 149 470 367\n",
      "\n",
      "train/non-covid/subset5/ct_scan914 non-covid 78 142 0 153 512 489\n",
      "\n",
      "train/non-covid/subset5/ct_scan986 non-covid 91 204 0 142 512 512\n",
      "\n",
      "train/non-covid/subset3/ct_scan_49 non-covid 4 11 0 0 512 431\n",
      "\n",
      "train/non-covid/subset3/ct_scan_39 non-covid 12 40 0 146 512 498\n",
      "\n",
      "train/non-covid/subset4/ct_scan_663 non-covid 49 83 58 88 456 392\n",
      "\n",
      "train/non-covid/subset5/ct_scan1077 non-covid 55 128 0 111 512 425\n",
      "\n",
      "train/non-covid/subset5/ct_scan912 non-covid 83 208 0 91 512 478\n",
      "\n",
      "train/non-covid/subset2/ct_scan_387 non-covid 17 25 0 40 512 482\n",
      "\n",
      "train/non-covid/subset2/ct_scan_385 non-covid 9 15 19 14 504 407\n",
      "\n",
      "train/non-covid/subset3/ct_scan_197 non-covid 138 359 0 96 512 455\n",
      "\n",
      "train/non-covid/subset4/ct_scan_484 non-covid 23 42 0 36 512 408\n",
      "\n",
      "train/non-covid/subset2/ct_scan_382 non-covid 19 38 0 94 512 478\n",
      "\n",
      "train/non-covid/subset2/ct_scan_421 non-covid 70 214 39 121 461 398\n",
      "\n",
      "train/non-covid/subset5/ct_scan906 non-covid 86 312 7 56 512 388\n",
      "\n",
      "train/non-covid/subset4/ct_scan_433 non-covid 36 61 21 90 485 390\n",
      "\n",
      "train/non-covid/subset4/ct_scan_470 non-covid 27 67 14 87 475 420\n",
      "\n",
      "train/non-covid/subset5/ct_scan923 non-covid 107 262 5 55 512 416\n",
      "\n",
      "train/non-covid/subset3/ct_scan_180 non-covid 206 272 49 174 487 457\n",
      "\n",
      "train/non-covid/subset2/ct_scan_379 non-covid 110 133 0 80 512 430\n",
      "\n",
      "train/non-covid/subset2/ct_scan_364 non-covid 69 257 0 83 494 367\n",
      "\n",
      "train/non-covid/subset1/ct_scan_310 non-covid 0 80 0 48 499 474\n",
      "\n",
      "train/non-covid/subset3/ct_scan_134 non-covid 12 29 0 63 512 407\n",
      "\n",
      "train/non-covid/subset4/ct_scan_768 non-covid 91 188 39 110 480 426\n",
      "\n",
      "train/non-covid/subset4/ct_scan_724 non-covid 41 78 0 73 508 456\n",
      "\n",
      "train/non-covid/subset5/ct_scan925 non-covid 123 226 0 77 512 512\n",
      "\n",
      "train/non-covid/subset3/ct_scan_21 non-covid 91 252 7 148 512 482\n",
      "\n",
      "train/non-covid/subset1/ct_scan_230 non-covid 125 274 0 121 512 427\n",
      "\n",
      "train/non-covid/subset1/ct_scan_329 non-covid 101 311 8 85 490 438\n",
      "\n",
      "train/non-covid/subset4/ct_scan_713 non-covid 38 88 0 81 512 408\n",
      "\n",
      "train/non-covid/subset2/ct_scan_400 non-covid 118 228 6 185 500 464\n",
      "\n",
      "train/non-covid/subset2/ct_scan_338 non-covid 68 165 8 66 512 469\n",
      "\n",
      "train/non-covid/subset2/ct_scan_345 non-covid 148 315 0 86 512 482\n",
      "\n",
      "train/non-covid/subset3/ct_scan_64 non-covid 96 250 4 118 512 464\n",
      "\n",
      "train/non-covid/subset1/ct_scan_312 non-covid 13 34 0 72 512 461\n",
      "\n",
      "train/non-covid/subset3/ct_scan_157 non-covid 85 170 36 144 464 455\n",
      "\n",
      "train/non-covid/subset4/ct_scan_822 non-covid 14 31 14 101 496 440\n",
      "\n",
      "train/non-covid/subset2/ct_scan_374 non-covid 73 270 0 121 512 501\n",
      "\n",
      "train/non-covid/subset1/ct_scan_259 non-covid 107 196 8 73 499 448\n",
      "\n",
      "train/non-covid/subset4/ct_scan_692 non-covid 18 42 12 103 507 415\n",
      "\n",
      "train/non-covid/subset1/ct_scan_215 non-covid 85 220 0 65 512 469\n",
      "\n",
      "train/non-covid/subset4/ct_scan_725 non-covid 38 82 30 83 493 414\n",
      "\n",
      "train/non-covid/subset4/ct_scan_809 non-covid 18 70 0 118 512 419\n",
      "\n",
      "train/non-covid/subset4/ct_scan_491 non-covid 30 58 0 36 512 386\n",
      "\n",
      "train/non-covid/subset4/ct_scan_468 non-covid 158 287 30 88 467 429\n",
      "\n",
      "train/non-covid/subset4/ct_scan_615 non-covid 37 73 9 82 499 459\n",
      "\n",
      "train/non-covid/subset1/ct_scan_265 non-covid 108 205 0 125 512 494\n",
      "\n",
      "train/non-covid/subset1/ct_scan_309 non-covid 12 27 0 91 512 476\n",
      "\n",
      "train/non-covid/subset4/ct_scan_693 non-covid 20 68 0 68 508 449\n",
      "\n",
      "train/non-covid/subset4/ct_scan_574 non-covid 24 58 15 96 474 422\n",
      "\n",
      "train/non-covid/subset5/ct_scan915 non-covid 27 49 31 90 484 389\n",
      "\n",
      "train/non-covid/subset4/ct_scan_489 non-covid 158 258 22 101 481 438\n",
      "\n",
      "train/non-covid/subset5/ct_scan1062 non-covid 96 271 31 106 485 438\n",
      "\n",
      "train/non-covid/subset2/ct_scan_420 non-covid 13 29 0 18 512 456\n",
      "\n",
      "train/non-covid/subset4/ct_scan_591 non-covid 10 18 0 147 512 421\n",
      "\n",
      "train/non-covid/subset4/ct_scan_856 non-covid 97 243 94 120 423 402\n",
      "\n",
      "train/non-covid/subset4/ct_scan_720 non-covid 34 54 25 90 512 394\n",
      "\n",
      "train/non-covid/subset2/ct_scan_398 non-covid 18 44 0 109 512 507\n",
      "\n",
      "train/non-covid/subset3/ct_scan_170 non-covid 16 34 0 87 512 449\n",
      "\n",
      "train/non-covid/subset3/ct_scan_41 non-covid 127 254 0 65 512 512\n",
      "\n",
      "train/non-covid/subset4/ct_scan_833 non-covid 81 167 0 51 508 391\n",
      "\n",
      "train/non-covid/subset2/ct_scan_428 non-covid 22 52 31 86 512 447\n",
      "\n",
      "train/non-covid/subset4/ct_scan_566 non-covid 94 209 0 95 512 365\n",
      "\n",
      "train/non-covid/subset4/ct_scan_705 non-covid 27 63 5 77 501 416\n",
      "\n",
      "train/non-covid/subset1/ct_scan_203 non-covid 12 35 7 147 512 481\n",
      "\n",
      "train/non-covid/subset4/ct_scan_807 non-covid 91 187 0 89 490 412\n",
      "\n",
      "train/non-covid/subset4/ct_scan_851 non-covid 30 66 0 48 505 412\n",
      "\n",
      "train/non-covid/subset1/ct_scan_322 non-covid 88 207 12 80 499 445\n",
      "\n",
      "train/non-covid/subset4/ct_scan_581 non-covid 49 92 49 77 491 340\n",
      "\n",
      "train/non-covid/subset1/ct_scan_224 non-covid 16 31 0 70 512 446\n",
      "\n",
      "train/non-covid/subset4/ct_scan_671 non-covid 20 55 17 126 490 486\n",
      "\n",
      "train/non-covid/subset3/ct_scan_36 non-covid 12 36 23 101 483 391\n",
      "\n",
      "train/non-covid/subset3/ct_scan_101 non-covid 16 33 0 64 512 417\n",
      "\n",
      "train/non-covid/subset5/ct_scan1014 non-covid 11 26 72 131 429 420\n",
      "\n",
      "train/non-covid/subset3/ct_scan_76 non-covid 20 49 7 67 512 469\n",
      "\n",
      "train/non-covid/subset4/ct_scan_548 non-covid 27 56 0 113 512 380\n",
      "\n",
      "train/non-covid/subset1/ct_scan_256 non-covid 13 25 5 74 512 455\n",
      "\n",
      "train/non-covid/subset4/ct_scan_575 non-covid 26 68 7 104 507 443\n",
      "\n",
      "train/non-covid/subset4/ct_scan_540 non-covid 149 235 0 81 504 368\n",
      "\n",
      "train/non-covid/subset5/ct_scan879 non-covid 248 309 14 156 481 471\n",
      "\n",
      "train/non-covid/subset5/ct_scan891 non-covid 104 239 0 81 512 458\n",
      "\n",
      "train/non-covid/subset3/ct_scan_176 non-covid 108 210 0 36 512 441\n",
      "\n",
      "train/non-covid/subset1/ct_scan_296 non-covid 104 285 29 68 512 420\n",
      "\n",
      "train/non-covid/subset3/ct_scan_133 non-covid 108 211 0 85 512 427\n",
      "\n",
      "train/non-covid/subset1/ct_scan_291 non-covid 80 161 0 77 512 412\n",
      "\n",
      "train/non-covid/subset5/ct_scan1026 non-covid 31 61 0 109 512 467\n",
      "\n",
      "train/non-covid/subset4/ct_scan_668 non-covid 12 63 18 99 497 403\n",
      "\n",
      "train/non-covid/subset5/ct_scan1008 non-covid 28 55 28 78 492 373\n",
      "\n",
      "train/non-covid/subset4/ct_scan_604 non-covid 20 49 0 48 512 464\n",
      "\n",
      "train/non-covid/subset4/ct_scan_485 non-covid 95 204 40 126 474 423\n",
      "\n",
      "train/non-covid/subset4/ct_scan_781 non-covid 22 76 85 75 430 437\n",
      "\n",
      "train/non-covid/subset5/ct_scan1067 non-covid 83 229 0 0 512 473\n",
      "\n",
      "train/non-covid/subset3/ct_scan_113 non-covid 95 264 0 100 512 420\n",
      "\n",
      "train/non-covid/subset3/ct_scan_51 non-covid 23 27 0 102 512 485\n",
      "\n",
      "train/non-covid/subset4/ct_scan_432 non-covid 30 46 0 96 507 428\n",
      "\n",
      "train/non-covid/subset5/ct_scan1064 non-covid 35 74 35 108 466 418\n",
      "\n",
      "train/non-covid/subset4/ct_scan_451 non-covid 76 175 19 121 502 421\n",
      "\n",
      "train/non-covid/subset3/ct_scan_155 non-covid 0 41 0 40 512 504\n",
      "\n",
      "train/non-covid/subset5/ct_scan1065 non-covid 30 76 52 52 496 373\n",
      "\n",
      "train/non-covid/subset5/ct_scan980 non-covid 27 51 25 120 474 401\n",
      "\n",
      "train/non-covid/subset1/ct_scan_277 non-covid 107 165 0 80 512 464\n",
      "\n",
      "train/non-covid/subset4/ct_scan_852 non-covid 19 51 0 57 512 482\n",
      "\n",
      "train/non-covid/subset2/ct_scan_373 non-covid 106 262 0 116 512 496\n",
      "\n",
      "train/non-covid/subset3/ct_scan_126 non-covid 23 45 16 122 502 438\n",
      "\n",
      "train/non-covid/subset5/ct_scan971 non-covid 184 283 44 89 487 416\n",
      "\n",
      "train/non-covid/subset4/ct_scan_454 non-covid 78 177 0 126 512 436\n",
      "\n",
      "train/non-covid/subset3/ct_scan_145 non-covid 126 252 0 66 512 512\n",
      "\n",
      "train/non-covid/subset2/ct_scan_333 non-covid 183 398 0 53 512 483\n",
      "\n",
      "train/non-covid/subset3/ct_scan_190 non-covid 14 47 0 86 512 476\n",
      "\n",
      "train/non-covid/subset3/ct_scan_26 non-covid 135 258 14 87 497 426\n",
      "\n",
      "train/non-covid/subset1/ct_scan_299 non-covid 78 162 0 127 512 512\n",
      "\n",
      "train/non-covid/subset4/ct_scan_613 non-covid 73 141 0 123 507 470\n",
      "\n",
      "train/non-covid/subset1/ct_scan_209 non-covid 12 37 0 65 512 461\n",
      "\n",
      "train/non-covid/subset4/ct_scan_795 non-covid 25 60 0 100 512 507\n",
      "\n",
      "train/non-covid/subset5/ct_scan949 non-covid 74 145 0 107 512 451\n",
      "\n",
      "train/non-covid/subset3/ct_scan_194 non-covid 89 160 0 0 512 494\n",
      "\n",
      "train/non-covid/subset3/ct_scan_137 non-covid 15 32 0 139 512 439\n",
      "\n",
      "train/non-covid/subset5/ct_scan919 non-covid 58 151 16 90 506 425\n",
      "\n",
      "train/non-covid/subset4/ct_scan_772 non-covid 35 74 5 38 512 392\n",
      "\n",
      "train/non-covid/subset5/ct_scan887 non-covid 113 235 0 79 512 512\n",
      "\n",
      "train/non-covid/subset3/ct_scan_186 non-covid 47 61 0 113 512 490\n",
      "\n",
      "train/non-covid/subset5/ct_scan969 non-covid 94 231 0 105 492 447\n",
      "\n",
      "train/non-covid/subset3/ct_scan_162 non-covid 17 43 30 107 478 417\n",
      "\n",
      "train/non-covid/subset5/ct_scan1095 non-covid 19 71 0 67 512 440\n",
      "\n",
      "train/non-covid/subset4/ct_scan_630 non-covid 140 230 74 89 435 366\n",
      "\n",
      "train/non-covid/subset3/ct_scan_4 non-covid 134 231 12 59 512 419\n",
      "\n",
      "train/non-covid/subset1/ct_scan_305 non-covid 78 207 29 110 478 417\n",
      "\n",
      "train/non-covid/subset3/ct_scan_59 non-covid 21 47 12 91 469 425\n",
      "\n",
      "train/non-covid/subset1/ct_scan_307 non-covid 155 360 0 101 512 450\n",
      "\n",
      "train/non-covid/subset1/ct_scan_216 non-covid 86 182 0 143 482 448\n",
      "\n",
      "train/non-covid/subset4/ct_scan_680 non-covid 91 243 71 134 448 396\n",
      "\n",
      "train/non-covid/subset4/ct_scan_729 non-covid 5 40 23 109 512 402\n",
      "\n",
      "train/non-covid/subset1/ct_scan_288 non-covid 74 210 41 126 481 452\n",
      "\n",
      "train/non-covid/subset4/ct_scan_565 non-covid 23 48 40 129 492 464\n",
      "\n",
      "train/non-covid/subset5/ct_scan1002 non-covid 127 253 0 89 512 512\n",
      "\n",
      "train/non-covid/subset3/ct_scan_174 non-covid 20 28 0 50 477 395\n",
      "\n",
      "train/non-covid/subset1/ct_scan_293 non-covid 148 352 26 82 512 430\n",
      "\n",
      "train/non-covid/subset5/ct_scan1034 non-covid 27 39 0 16 512 448\n",
      "\n",
      "train/non-covid/subset5/ct_scan1066 non-covid 27 68 0 38 512 427\n",
      "\n",
      "train/non-covid/subset5/ct_scan1003 non-covid 84 223 0 58 512 457\n",
      "\n",
      "train/non-covid/subset5/ct_scan1063 non-covid 32 74 41 90 475 391\n",
      "\n",
      "train/non-covid/subset3/ct_scan_19 non-covid 51 108 0 146 512 496\n",
      "\n",
      "train/non-covid/subset3/ct_scan_35 non-covid 40 47 103 189 505 410\n",
      "\n",
      "train/non-covid/subset3/ct_scan_160 non-covid 19 35 0 110 512 512\n",
      "\n",
      "train/non-covid/subset4/ct_scan_629 non-covid 22 51 13 30 502 343\n",
      "\n",
      "train/non-covid/subset2/ct_scan_377 non-covid 205 396 12 96 501 399\n",
      "\n",
      "train/non-covid/subset3/ct_scan_70 non-covid 107 152 11 123 486 442\n",
      "\n",
      "train/non-covid/subset2/ct_scan_363 non-covid 100 311 8 85 490 438\n",
      "\n",
      "train/non-covid/subset3/ct_scan_159 non-covid 80 218 5 113 512 443\n",
      "\n",
      "train/non-covid/subset4/ct_scan_441 non-covid 31 57 21 96 489 427\n",
      "\n",
      "train/non-covid/subset4/ct_scan_726 non-covid 85 191 0 76 512 389\n",
      "\n",
      "train/non-covid/subset4/ct_scan_783 non-covid 26 48 0 85 500 390\n",
      "\n",
      "train/non-covid/subset2/ct_scan_367 non-covid 123 379 0 116 512 426\n",
      "\n",
      "train/non-covid/subset4/ct_scan_842 non-covid 22 75 0 53 506 451\n",
      "\n",
      "train/non-covid/subset4/ct_scan_624 non-covid 15 33 13 96 499 417\n",
      "\n",
      "train/non-covid/subset5/ct_scan1079 non-covid 21 61 0 98 441 390\n",
      "\n",
      "train/non-covid/subset5/ct_scan920 non-covid 106 222 0 91 508 463\n",
      "\n",
      "train/non-covid/subset1/ct_scan_330 non-covid 123 394 23 78 486 448\n",
      "\n",
      "train/non-covid/subset4/ct_scan_492 non-covid 12 26 0 55 512 421\n",
      "\n",
      "train/non-covid/subset4/ct_scan_700 non-covid 12 33 54 171 506 375\n",
      "\n",
      "train/non-covid/subset5/ct_scan943 non-covid 51 96 0 139 512 504\n",
      "\n",
      "train/non-covid/subset4/ct_scan_551 non-covid 59 195 12 91 485 373\n",
      "\n",
      "train/non-covid/subset4/ct_scan_858 non-covid 70 140 0 42 512 440\n",
      "\n",
      "train/non-covid/subset3/ct_scan_128 non-covid 73 202 0 105 508 466\n",
      "\n",
      "train/non-covid/subset5/ct_scan1015 non-covid 26 55 11 145 499 466\n",
      "\n",
      "train/non-covid/subset5/ct_scan865 non-covid 36 41 0 167 512 428\n",
      "\n",
      "train/non-covid/subset5/ct_scan1105 non-covid 134 216 57 105 505 396\n",
      "\n",
      "train/non-covid/subset2/ct_scan_358 non-covid 86 272 0 70 512 440\n",
      "\n",
      "train/non-covid/subset3/ct_scan_167 non-covid 12 36 0 114 512 512\n",
      "\n",
      "train/non-covid/subset3/ct_scan_166 non-covid 175 405 6 125 476 478\n",
      "\n",
      "train/non-covid/subset4/ct_scan_623 non-covid 49 83 58 88 457 393\n",
      "\n",
      "train/non-covid/subset4/ct_scan_506 non-covid 78 191 0 137 473 408\n",
      "\n",
      "train/non-covid/subset2/ct_scan_415 non-covid 48 144 10 222 501 502\n",
      "\n",
      "train/non-covid/subset4/ct_scan_587 non-covid 99 165 45 129 478 423\n",
      "\n",
      "train/non-covid/subset4/ct_scan_532 non-covid 22 48 0 139 512 490\n",
      "\n",
      "train/non-covid/subset5/ct_scan982 non-covid 120 276 17 128 500 453\n",
      "\n",
      "train/non-covid/subset5/ct_scan1023 non-covid 21 52 0 34 512 469\n",
      "\n",
      "train/non-covid/subset5/ct_scan954 non-covid 16 33 0 120 512 475\n",
      "\n",
      "train/non-covid/subset1/ct_scan_231 non-covid 79 239 17 52 512 445\n",
      "\n",
      "train/non-covid/subset5/ct_scan1053 non-covid 14 49 0 136 512 465\n",
      "\n",
      "train/non-covid/subset3/ct_scan_184 non-covid 188 397 46 111 485 430\n",
      "\n",
      "train/non-covid/subset4/ct_scan_558 non-covid 28 58 48 124 505 381\n",
      "\n",
      "train/non-covid/subset4/ct_scan_789 non-covid 33 77 30 133 444 392\n",
      "\n",
      "train/non-covid/subset5/ct_scan892 non-covid 119 331 17 100 504 414\n",
      "\n",
      "train/non-covid/subset5/ct_scan1039 non-covid 16 31 25 105 505 426\n",
      "\n",
      "train/non-covid/subset5/ct_scan913 non-covid 87 189 0 65 501 441\n",
      "\n",
      "train/non-covid/subset3/ct_scan_125 non-covid 110 252 0 66 512 453\n",
      "\n",
      "train/non-covid/subset1/ct_scan_271 non-covid 97 166 0 90 512 453\n",
      "\n",
      "train/non-covid/subset5/ct_scan921 non-covid 100 266 0 122 512 505\n",
      "\n",
      "train/non-covid/subset5/ct_scan1038 non-covid 8 24 0 57 512 512\n",
      "\n",
      "train/non-covid/subset4/ct_scan_528 non-covid 24 59 0 41 512 432\n",
      "\n",
      "train/non-covid/subset4/ct_scan_543 non-covid 10 22 0 96 512 446\n",
      "\n",
      "train/non-covid/subset4/ct_scan_603 non-covid 90 218 30 98 491 393\n",
      "\n",
      "train/non-covid/subset4/ct_scan_847 non-covid 103 230 70 113 451 410\n",
      "\n",
      "train/non-covid/subset5/ct_scan905 non-covid 109 188 13 89 499 418\n",
      "\n",
      "train/non-covid/subset5/ct_scan1056 non-covid 17 35 0 100 507 439\n",
      "\n",
      "train/non-covid/subset5/ct_scan957 non-covid 108 200 0 128 512 476\n",
      "\n",
      "train/non-covid/subset5/ct_scan867 non-covid 17 41 44 130 468 441\n",
      "\n",
      "train/non-covid/subset2/ct_scan_426 non-covid 35 67 0 86 500 437\n",
      "\n",
      "train/non-covid/subset3/ct_scan_127 non-covid 122 326 0 101 487 435\n",
      "\n",
      "train/non-covid/subset4/ct_scan_536 non-covid 152 269 0 103 474 386\n",
      "\n",
      "train/non-covid/subset4/ct_scan_559 non-covid 89 197 0 32 512 405\n",
      "\n",
      "train/non-covid/subset4/ct_scan_562 non-covid 98 210 0 88 506 413\n",
      "\n",
      "train/non-covid/subset3/ct_scan_115 non-covid 113 216 0 49 512 506\n",
      "\n",
      "train/non-covid/subset4/ct_scan_647 non-covid 0 161 0 0 512 478\n",
      "\n",
      "train/non-covid/subset4/ct_scan_605 non-covid 24 47 9 131 498 485\n",
      "\n",
      "train/non-covid/subset5/ct_scan1019 non-covid 33 48 73 152 502 391\n",
      "\n",
      "train/non-covid/subset5/ct_scan1094 non-covid 98 193 0 53 481 464\n",
      "\n",
      "train/non-covid/subset3/ct_scan_139 non-covid 13 22 0 0 512 494\n",
      "\n",
      "train/non-covid/subset2/ct_scan_401 non-covid 94 232 0 97 499 458\n",
      "\n",
      "train/non-covid/subset2/ct_scan_361 non-covid 131 170 0 104 512 467\n",
      "\n",
      "train/non-covid/subset3/ct_scan_62 non-covid 27 47 11 57 506 419\n",
      "\n",
      "train/non-covid/subset3/ct_scan_91 non-covid 86 259 0 104 512 512\n",
      "\n",
      "train/non-covid/subset4/ct_scan_805 non-covid 102 266 0 62 481 425\n",
      "\n",
      "train/non-covid/subset4/ct_scan_669 non-covid 28 46 0 66 512 457\n",
      "\n",
      "train/non-covid/subset3/ct_scan_78 non-covid 18 48 0 57 512 438\n",
      "\n",
      "train/non-covid/subset3/ct_scan_188 non-covid 97 176 0 81 512 471\n",
      "\n",
      "train/non-covid/subset5/ct_scan959 non-covid 87 189 0 65 501 441\n",
      "\n",
      "train/non-covid/subset4/ct_scan_714 non-covid 26 50 12 162 512 439\n",
      "\n",
      "train/non-covid/subset5/ct_scan946 non-covid 24 52 20 121 476 401\n",
      "\n",
      "train/non-covid/subset4/ct_scan_682 non-covid 21 52 31 13 477 367\n",
      "\n",
      "train/non-covid/subset2/ct_scan_356 non-covid 79 239 17 52 512 445\n",
      "\n",
      "train/non-covid/subset3/ct_scan_93 non-covid 106 204 0 108 488 412\n",
      "\n",
      "train/non-covid/subset4/ct_scan_699 non-covid 22 45 0 25 512 406\n",
      "\n",
      "train/non-covid/subset5/ct_scan900 non-covid 87 213 0 46 512 413\n",
      "\n",
      "train/non-covid/subset3/ct_scan_138 non-covid 144 280 0 102 499 468\n",
      "\n",
      "train/non-covid/subset4/ct_scan_836 non-covid 27 50 0 8 512 414\n",
      "\n",
      "train/non-covid/subset4/ct_scan_607 non-covid 10 28 0 127 493 396\n",
      "\n",
      "train/non-covid/subset4/ct_scan_610 non-covid 14 32 0 55 512 431\n",
      "\n",
      "train/non-covid/subset3/ct_scan_18 non-covid 132 225 0 115 512 481\n",
      "\n",
      "train/non-covid/subset4/ct_scan_531 non-covid 28 55 4 74 512 416\n",
      "\n",
      "train/non-covid/subset1/ct_scan_217 non-covid 96 176 0 81 512 471\n",
      "\n",
      "train/non-covid/subset2/ct_scan_342 non-covid 25 49 12 97 501 399\n",
      "\n",
      "train/non-covid/subset2/ct_scan_380 non-covid 166 335 0 94 500 418\n",
      "\n",
      "train/non-covid/subset5/ct_scan916 non-covid 120 276 17 128 500 453\n",
      "\n",
      "train/non-covid/subset4/ct_scan_651 non-covid 48 92 0 15 512 512\n",
      "\n",
      "train/non-covid/subset4/ct_scan_596 non-covid 17 91 80 101 479 358\n",
      "\n",
      "train/non-covid/subset4/ct_scan_564 non-covid 114 218 16 122 502 390\n",
      "\n",
      "train/non-covid/subset4/ct_scan_552 non-covid 32 55 11 93 493 381\n",
      "\n",
      "train/non-covid/subset5/ct_scan1096 non-covid 30 69 0 53 503 426\n",
      "\n",
      "train/non-covid/subset5/ct_scan1005 non-covid 126 252 0 89 512 512\n",
      "\n",
      "train/non-covid/subset1/ct_scan_242 non-covid 91 194 0 56 512 413\n",
      "\n",
      "train/non-covid/subset1/ct_scan_226 non-covid 126 274 0 106 512 446\n",
      "\n",
      "train/non-covid/subset1/ct_scan_314 non-covid 103 268 0 114 512 456\n",
      "\n",
      "train/non-covid/subset5/ct_scan1084 non-covid 26 46 0 44 512 410\n",
      "\n",
      "train/non-covid/subset3/ct_scan_10 non-covid 15 32 0 116 512 454\n",
      "\n",
      "train/non-covid/subset4/ct_scan_512 non-covid 17 35 25 79 480 418\n",
      "\n",
      "train/non-covid/subset4/ct_scan_518 non-covid 18 46 13 75 512 437\n",
      "\n",
      "train/non-covid/subset5/ct_scan889 non-covid 19 42 22 103 498 405\n",
      "\n",
      "train/non-covid/subset5/ct_scan1001 non-covid 140 244 32 112 489 391\n",
      "\n",
      "train/non-covid/subset4/ct_scan_527 non-covid 32 83 36 68 474 425\n",
      "\n",
      "train/non-covid/subset1/ct_scan_323 non-covid 100 248 7 66 512 469\n",
      "\n",
      "train/non-covid/subset4/ct_scan_761 non-covid 17 37 6 128 504 446\n",
      "\n",
      "train/non-covid/subset3/ct_scan_121 non-covid 20 41 0 0 512 479\n",
      "\n",
      "train/non-covid/subset4/ct_scan_497 non-covid 108 255 9 125 506 385\n",
      "\n",
      "train/non-covid/subset4/ct_scan_538 non-covid 56 140 11 113 512 435\n",
      "\n",
      "train/non-covid/subset1/ct_scan_211 non-covid 18 44 23 88 500 438\n",
      "\n",
      "train/non-covid/subset3/ct_scan_173 non-covid 142 244 0 102 512 411\n",
      "\n",
      "train/non-covid/subset4/ct_scan_844 non-covid 65 77 59 82 471 394\n",
      "\n",
      "train/non-covid/subset2/ct_scan_384 non-covid 77 219 0 108 512 441\n",
      "\n",
      "train/non-covid/subset3/ct_scan_16 non-covid 18 40 0 59 512 441\n",
      "\n",
      "train/non-covid/subset5/ct_scan1103 non-covid 30 55 0 104 478 396\n",
      "\n",
      "train/non-covid/subset5/ct_scan1085 non-covid 21 34 0 125 512 423\n",
      "\n",
      "train/non-covid/subset4/ct_scan_727 non-covid 71 179 16 93 459 399\n",
      "\n",
      "train/non-covid/subset5/ct_scan1018 non-covid 10 22 0 87 512 419\n",
      "\n",
      "train/non-covid/subset5/ct_scan994 non-covid 32 60 0 92 512 461\n",
      "\n",
      "train/non-covid/subset5/ct_scan1054 non-covid 21 25 0 135 445 411\n",
      "\n",
      "train/non-covid/subset4/ct_scan_748 non-covid 72 175 0 105 512 458\n",
      "\n",
      "train/non-covid/subset4/ct_scan_639 non-covid 28 77 0 42 512 379\n",
      "\n",
      "train/non-covid/subset4/ct_scan_447 non-covid 30 56 84 127 428 367\n",
      "\n",
      "train/non-covid/subset4/ct_scan_710 non-covid 43 68 20 83 463 401\n",
      "\n",
      "train/non-covid/subset5/ct_scan973 non-covid 84 229 0 103 502 457\n",
      "\n",
      "train/non-covid/subset4/ct_scan_667 non-covid 29 59 10 139 491 424\n",
      "\n",
      "train/non-covid/subset4/ct_scan_702 non-covid 103 277 0 78 507 432\n",
      "\n",
      "train/non-covid/subset4/ct_scan_608 non-covid 18 79 0 125 512 405\n",
      "\n",
      "train/non-covid/subset5/ct_scan1032 non-covid 17 28 12 93 512 411\n",
      "\n",
      "train/non-covid/subset5/ct_scan984 non-covid 139 244 31 112 489 390\n",
      "\n",
      "train/non-covid/subset3/ct_scan_109 non-covid 70 162 0 109 512 460\n",
      "\n",
      "train/non-covid/subset1/ct_scan_295 non-covid 28 35 0 23 512 422\n",
      "\n",
      "train/non-covid/subset4/ct_scan_616 non-covid 29 61 11 128 507 456\n",
      "\n",
      "train/non-covid/subset3/ct_scan_44 non-covid 91 245 17 132 491 459\n",
      "\n",
      "train/non-covid/subset4/ct_scan_588 non-covid 133 258 62 102 433 374\n",
      "\n",
      "train/non-covid/subset5/ct_scan1016 non-covid 9 18 10 130 512 423\n",
      "\n",
      "train/non-covid/subset4/ct_scan_732 non-covid 25 72 10 81 497 419\n",
      "\n",
      "train/non-covid/subset3/ct_scan_86 non-covid 70 260 0 39 512 501\n",
      "\n",
      "train/non-covid/subset4/ct_scan_612 non-covid 111 216 40 94 497 435\n",
      "\n",
      "train/non-covid/subset4/ct_scan_626 non-covid 27 60 0 14 512 422\n",
      "\n",
      "train/non-covid/subset3/ct_scan_144 non-covid 205 396 12 96 501 399\n",
      "\n",
      "train/non-covid/subset4/ct_scan_515 non-covid 77 147 0 87 512 421\n",
      "\n",
      "train/non-covid/subset4/ct_scan_707 non-covid 19 55 11 145 499 484\n",
      "\n",
      "train/non-covid/subset2/ct_scan_392 non-covid 100 232 14 82 512 405\n",
      "\n",
      "train/non-covid/subset4/ct_scan_442 non-covid 27 66 0 71 512 463\n",
      "\n",
      "train/non-covid/subset1/ct_scan_318 non-covid 14 47 0 86 512 476\n",
      "\n",
      "train/non-covid/subset3/ct_scan_102 non-covid 123 271 0 87 512 407\n",
      "\n",
      "train/non-covid/subset3/ct_scan_0 non-covid 49 278 0 68 512 490\n",
      "\n",
      "train/non-covid/subset3/ct_scan_1 non-covid 231 317 41 148 450 447\n",
      "\n",
      "train/non-covid/subset3/ct_scan_88 non-covid 108 233 0 139 512 439\n",
      "\n",
      "train/non-covid/subset5/ct_scan910 non-covid 91 260 9 61 505 461\n",
      "\n",
      "train/non-covid/subset3/ct_scan_178 non-covid 113 195 0 89 497 429\n",
      "\n",
      "train/non-covid/subset1/ct_scan_228 non-covid 2 34 0 0 480 437\n",
      "\n",
      "train/non-covid/subset3/ct_scan_57 non-covid 126 271 0 49 512 485\n",
      "\n",
      "train/non-covid/subset4/ct_scan_583 non-covid 28 69 0 79 490 401\n",
      "\n",
      "train/non-covid/subset5/ct_scan1076 non-covid 83 226 0 0 512 472\n",
      "\n",
      "train/non-covid/subset1/ct_scan_268 non-covid 114 326 0 108 512 512\n",
      "\n",
      "train/non-covid/subset5/ct_scan1036 non-covid 9 28 0 116 482 395\n",
      "\n",
      "train/non-covid/subset4/ct_scan_544 non-covid 29 66 8 135 487 425\n",
      "\n",
      "train/non-covid/subset4/ct_scan_837 non-covid 17 32 36 91 467 419\n",
      "\n",
      "train/non-covid/subset2/ct_scan_348 non-covid 18 41 45 103 495 432\n",
      "\n",
      "train/non-covid/subset4/ct_scan_855 non-covid 27 48 0 95 477 388\n",
      "\n",
      "train/non-covid/subset5/ct_scan1089 non-covid 28 81 0 94 512 424\n",
      "\n",
      "train/non-covid/subset4/ct_scan_802 non-covid 116 249 42 100 485 383\n",
      "\n",
      "train/non-covid/subset2/ct_scan_352 non-covid 106 263 0 116 512 496\n",
      "\n",
      "train/non-covid/subset4/ct_scan_602 non-covid 34 73 0 95 512 450\n",
      "\n",
      "train/non-covid/subset4/ct_scan_790 non-covid 119 215 15 64 503 402\n",
      "\n",
      "train/non-covid/subset4/ct_scan_542 non-covid 32 85 0 64 512 446\n",
      "\n",
      "train/non-covid/subset4/ct_scan_843 non-covid 108 227 17 101 487 417\n",
      "\n",
      "train/non-covid/subset5/ct_scan882 non-covid 99 219 0 137 512 479\n",
      "\n",
      "train/non-covid/subset5/ct_scan868 non-covid 120 281 0 87 512 412\n",
      "\n",
      "train/non-covid/subset2/ct_scan_403 non-covid 146 205 0 50 477 395\n",
      "\n",
      "train/non-covid/subset3/ct_scan_100 non-covid 137 285 0 77 507 447\n",
      "\n",
      "train/non-covid/subset2/ct_scan_350 non-covid 20 37 0 69 512 482\n",
      "\n",
      "train/non-covid/subset5/ct_scan901 non-covid 28 54 28 117 474 402\n",
      "\n",
      "train/non-covid/subset4/ct_scan_573 non-covid 21 57 0 100 512 512\n",
      "\n",
      "train/non-covid/subset1/ct_scan_260 non-covid 153 392 0 106 512 395\n",
      "\n",
      "train/non-covid/subset5/ct_scan927 non-covid 66 152 0 46 512 413\n",
      "\n",
      "train/non-covid/subset4/ct_scan_800 non-covid 23 50 0 32 512 431\n",
      "\n",
      "train/non-covid/subset1/ct_scan_297 non-covid 161 224 27 55 473 409\n",
      "\n",
      "train/non-covid/subset5/ct_scan932 non-covid 131 246 0 53 512 412\n",
      "\n",
      "train/non-covid/subset3/ct_scan_46 non-covid 19 40 0 135 512 484\n",
      "\n",
      "train/non-covid/subset5/ct_scan898 non-covid 81 178 0 129 512 498\n",
      "\n",
      "train/non-covid/subset4/ct_scan_578 non-covid 38 83 29 83 492 414\n",
      "\n",
      "train/non-covid/subset4/ct_scan_523 non-covid 51 149 0 24 512 449\n",
      "\n",
      "train/non-covid/subset3/ct_scan_67 non-covid 160 399 29 150 474 446\n",
      "\n",
      "train/non-covid/subset2/ct_scan_347 non-covid 82 285 34 103 481 437\n",
      "\n",
      "train/non-covid/subset2/ct_scan_417 non-covid 18 59 0 25 512 414\n",
      "\n",
      "train/non-covid/subset4/ct_scan_611 non-covid 33 71 5 86 501 451\n",
      "\n",
      "train/non-covid/subset2/ct_scan_359 non-covid 19 44 7 76 508 447\n",
      "\n",
      "train/non-covid/subset2/ct_scan_378 non-covid 2 34 0 0 480 437\n",
      "\n",
      "train/non-covid/subset2/ct_scan_427 non-covid 23 53 4 82 512 499\n",
      "\n",
      "train/non-covid/subset2/ct_scan_409 non-covid 104 285 29 68 512 420\n",
      "\n",
      "train/non-covid/subset1/ct_scan_282 non-covid 89 231 0 118 512 466\n",
      "\n",
      "train/non-covid/subset4/ct_scan_770 non-covid 17 48 6 71 512 439\n",
      "\n",
      "train/non-covid/subset1/ct_scan_237 non-covid 131 333 16 103 471 402\n",
      "\n",
      "train/non-covid/subset3/ct_scan_179 non-covid 99 207 0 107 512 484\n",
      "\n",
      "train/non-covid/subset3/ct_scan_158 non-covid 7 10 51 110 461 391\n",
      "\n",
      "train/non-covid/subset3/ct_scan_106 non-covid 102 210 0 160 512 492\n",
      "\n",
      "train/non-covid/subset1/ct_scan_290 non-covid 84 219 0 65 512 469\n",
      "\n",
      "train/non-covid/subset2/ct_scan_365 non-covid 66 164 0 168 512 467\n",
      "\n",
      "train/non-covid/subset5/ct_scan1073 non-covid 7 14 187 0 325 512\n",
      "\n",
      "train/non-covid/subset3/ct_scan_118 non-covid 107 195 8 73 499 448\n",
      "\n",
      "train/non-covid/subset5/ct_scan924 non-covid 81 184 0 126 512 483\n",
      "\n",
      "train/non-covid/subset5/ct_scan956 non-covid 85 141 0 125 512 434\n",
      "\n"
     ]
    },
    {
     "name": "stderr",
     "output_type": "stream",
     "text": [
      " 97%|█████████▋| 1930/1992 [1:19:35<00:29,  2.10it/s]"
     ]
    },
    {
     "name": "stdout",
     "output_type": "stream",
     "text": [
      "train/non-covid/subset4/ct_scan_737 non-covid 40 83 11 70 508 422\n",
      "\n",
      "train/non-covid/subset5/ct_scan953 non-covid 73 220 0 41 512 442\n",
      "\n",
      "train/non-covid/subset4/ct_scan_830 non-covid 20 62 0 51 512 432\n",
      "\n",
      "train/non-covid/subset3/ct_scan_124 non-covid 15 35 0 75 512 490\n",
      "\n",
      "train/non-covid/subset2/ct_scan_371 non-covid 20 38 0 25 512 464\n",
      "\n",
      "train/non-covid/subset3/ct_scan_112 non-covid 13 24 0 69 512 442\n",
      "\n",
      "train/non-covid/subset1/ct_scan_213 non-covid 14 39 0 114 512 483\n",
      "\n",
      "train/non-covid/subset2/ct_scan_336 non-covid 10 20 0 116 512 505\n",
      "\n",
      "train/non-covid/subset5/ct_scan988 non-covid 49 81 0 78 512 434\n",
      "\n",
      "train/non-covid/subset4/ct_scan_640 non-covid 17 25 13 133 512 406\n",
      "\n",
      "train/non-covid/subset4/ct_scan_734 non-covid 74 209 0 110 512 478\n",
      "\n",
      "train/non-covid/subset3/ct_scan_136 non-covid 95 144 0 90 512 467\n",
      "\n",
      "train/non-covid/subset5/ct_scan960 non-covid 166 269 0 83 512 479\n",
      "\n",
      "train/non-covid/subset3/ct_scan_143 non-covid 104 173 0 8 512 417\n",
      "\n",
      "train/non-covid/subset4/ct_scan_487 non-covid 33 70 16 90 488 442\n",
      "\n",
      "train/non-covid/subset4/ct_scan_740 non-covid 106 239 19 82 468 435\n",
      "\n",
      "train/non-covid/subset2/ct_scan_341 non-covid 102 191 0 107 500 440\n",
      "\n",
      "train/non-covid/subset4/ct_scan_779 non-covid 71 187 11 100 487 417\n",
      "\n",
      "train/non-covid/subset4/ct_scan_646 non-covid 21 40 26 94 507 410\n",
      "\n",
      "train/non-covid/subset5/ct_scan1052 non-covid 11 23 0 103 512 442\n",
      "\n",
      "train/non-covid/subset1/ct_scan_239 non-covid 109 201 0 109 512 406\n",
      "\n",
      "train/non-covid/subset1/ct_scan_270 non-covid 20 43 0 87 512 482\n",
      "\n",
      "train/non-covid/subset2/ct_scan_376 non-covid 119 372 22 79 491 448\n",
      "\n",
      "train/non-covid/subset4/ct_scan_712 non-covid 12 45 51 108 435 399\n",
      "\n",
      "train/non-covid/subset4/ct_scan_799 non-covid 19 52 0 72 508 512\n",
      "\n",
      "train/non-covid/subset4/ct_scan_525 non-covid 20 40 10 134 494 474\n",
      "\n",
      "train/non-covid/subset5/ct_scan935 non-covid 19 44 18 115 512 434\n",
      "\n",
      "train/non-covid/subset3/ct_scan_95 non-covid 144 280 0 25 512 464\n",
      "\n",
      "train/non-covid/subset5/ct_scan1070 non-covid 26 76 10 41 497 441\n",
      "\n",
      "train/non-covid/subset1/ct_scan_280 non-covid 23 53 11 131 495 431\n",
      "\n",
      "train/non-covid/subset4/ct_scan_676 non-covid 9 17 0 129 512 423\n",
      "\n",
      "train/non-covid/subset4/ct_scan_488 non-covid 33 135 0 69 512 459\n",
      "\n",
      "train/non-covid/subset4/ct_scan_568 non-covid 12 29 23 160 453 356\n",
      "\n",
      "train/non-covid/subset5/ct_scan1074 non-covid 34 72 12 110 460 417\n",
      "\n",
      "train/non-covid/subset4/ct_scan_469 non-covid 30 83 9 118 428 379\n",
      "\n",
      "train/non-covid/subset4/ct_scan_546 non-covid 50 75 0 86 512 466\n",
      "\n",
      "train/non-covid/subset5/ct_scan970 non-covid 92 243 13 53 507 436\n",
      "\n",
      "train/non-covid/subset1/ct_scan_298 non-covid 154 352 14 109 512 456\n",
      "\n",
      "train/non-covid/subset5/ct_scan983 non-covid 46 91 27 78 493 372\n",
      "\n",
      "train/non-covid/subset3/ct_scan_181 non-covid 228 441 0 112 472 459\n",
      "\n",
      "train/non-covid/subset4/ct_scan_580 non-covid 66 148 0 90 512 428\n",
      "\n",
      "train/non-covid/subset2/ct_scan_397 non-covid 18 45 21 120 497 431\n",
      "\n",
      "train/non-covid/subset2/ct_scan_383 non-covid 107 177 0 148 512 486\n",
      "\n",
      "train/non-covid/subset4/ct_scan_797 non-covid 28 53 36 117 488 417\n",
      "\n",
      "train/non-covid/subset4/ct_scan_733 non-covid 98 227 44 122 470 389\n",
      "\n",
      "train/non-covid/subset1/ct_scan_315 non-covid 136 290 0 85 497 459\n",
      "\n",
      "train/non-covid/subset4/ct_scan_659 non-covid 90 188 0 30 512 425\n",
      "\n",
      "train/non-covid/subset5/ct_scan1010 non-covid 20 31 0 87 512 426\n",
      "\n",
      "train/non-covid/subset4/ct_scan_652 non-covid 58 196 0 62 501 439\n",
      "\n",
      "train/non-covid/subset2/ct_scan_340 non-covid 18 28 0 125 512 494\n",
      "\n",
      "train/non-covid/subset4/ct_scan_695 non-covid 23 48 0 88 512 456\n",
      "\n",
      "train/non-covid/subset4/ct_scan_650 non-covid 24 71 0 53 500 417\n",
      "\n",
      "train/non-covid/subset4/ct_scan_589 non-covid 18 34 57 139 436 384\n",
      "\n",
      "train/non-covid/subset4/ct_scan_648 non-covid 52 71 20 117 470 399\n",
      "\n",
      "train/non-covid/subset4/ct_scan_841 non-covid 25 79 0 50 512 433\n",
      "\n",
      "train/non-covid/subset4/ct_scan_500 non-covid 184 265 0 96 512 428\n",
      "\n",
      "train/non-covid/subset5/ct_scan1055 non-covid 16 26 13 116 512 404\n",
      "\n",
      "train/non-covid/subset1/ct_scan_321 non-covid 15 35 0 75 512 496\n",
      "\n",
      "train/non-covid/subset4/ct_scan_483 non-covid 90 164 0 103 512 422\n",
      "\n",
      "train/non-covid/subset3/ct_scan_81 non-covid 89 210 0 87 512 475\n",
      "\n",
      "train/non-covid/subset3/ct_scan_119 non-covid 27 45 0 91 512 512\n",
      "\n",
      "train/non-covid/subset4/ct_scan_530 non-covid 92 200 0 93 507 434\n",
      "\n",
      "train/non-covid/subset4/ct_scan_619 non-covid 82 190 4 77 501 416\n",
      "\n",
      "train/non-covid/subset4/ct_scan_735 non-covid 12 42 0 61 499 413\n",
      "\n",
      "train/non-covid/subset1/ct_scan_261 non-covid 126 357 19 137 500 452\n",
      "\n",
      "train/non-covid/subset5/ct_scan1042 non-covid 32 47 0 136 508 462\n",
      "\n",
      "train/non-covid/subset3/ct_scan_96 non-covid 108 233 0 139 512 439\n",
      "\n",
      "train/non-covid/subset4/ct_scan_510 non-covid 87 233 0 81 512 455\n",
      "\n",
      "train/non-covid/subset5/ct_scan938 non-covid 130 241 0 141 512 499\n",
      "\n",
      "train/non-covid/subset4/ct_scan_617 non-covid 76 160 30 128 480 390\n",
      "\n",
      "train/non-covid/subset1/ct_scan_220 non-covid 19 39 0 103 512 442\n",
      "\n",
      "train/non-covid/subset1/ct_scan_273 non-covid 197 265 0 85 512 438\n",
      "\n",
      "train/non-covid/subset4/ct_scan_458 non-covid 18 49 4 85 512 488\n",
      "\n",
      "train/non-covid/subset3/ct_scan_171 non-covid 13 25 0 65 512 440\n",
      "\n",
      "train/non-covid/subset2/ct_scan_430 non-covid 14 45 0 16 512 467\n",
      "\n",
      "train/non-covid/subset4/ct_scan_547 non-covid 29 76 33 89 483 416\n",
      "\n",
      "train/non-covid/subset5/ct_scan1048 non-covid 28 52 0 79 512 432\n",
      "\n",
      "train/non-covid/subset4/ct_scan_747 non-covid 17 41 0 141 512 397\n",
      "\n",
      "train/non-covid/subset4/ct_scan_633 non-covid 27 49 0 19 512 470\n",
      "\n",
      "train/non-covid/subset4/ct_scan_501 non-covid 32 61 49 146 473 432\n",
      "\n",
      "train/non-covid/subset3/ct_scan_192 non-covid 12 32 0 104 512 473\n",
      "\n",
      "train/non-covid/subset5/ct_scan1050 non-covid 7 17 0 140 479 396\n",
      "\n",
      "train/non-covid/subset3/ct_scan_20 non-covid 20 47 5 114 502 450\n",
      "\n",
      "train/non-covid/subset4/ct_scan_529 non-covid 32 39 48 108 508 392\n",
      "\n",
      "train/non-covid/subset4/ct_scan_708 non-covid 94 237 19 39 485 451\n",
      "\n",
      "train/non-covid/subset3/ct_scan_150 non-covid 101 223 0 91 512 447\n",
      "\n",
      "train/non-covid/subset4/ct_scan_453 non-covid 101 243 83 133 414 367\n",
      "\n",
      "train/non-covid/subset5/ct_scan1017 non-covid 12 28 0 73 505 446\n",
      "\n",
      "train/non-covid/subset4/ct_scan_801 non-covid 25 54 0 46 512 387\n",
      "\n",
      "train/non-covid/subset4/ct_scan_480 non-covid 26 54 0 113 512 452\n",
      "\n",
      "train/non-covid/subset4/ct_scan_662 non-covid 38 91 10 16 512 420\n",
      "\n",
      "train/non-covid/subset3/ct_scan_129 non-covid 123 273 0 87 512 449\n",
      "\n",
      "train/non-covid/subset4/ct_scan_697 non-covid 31 61 0 77 496 423\n",
      "\n",
      "train/non-covid/subset2/ct_scan_404 non-covid 127 247 0 65 512 416\n",
      "\n",
      "train/non-covid/subset4/ct_scan_645 non-covid 22 47 0 134 512 446\n",
      "\n",
      "train/non-covid/subset4/ct_scan_644 non-covid 32 72 9 30 487 395\n",
      "\n",
      "train/non-covid/subset4/ct_scan_744 non-covid 18 37 0 107 512 497\n",
      "\n",
      "train/non-covid/subset4/ct_scan_621 non-covid 56 168 52 97 461 416\n",
      "\n",
      "train/non-covid/subset5/ct_scan1051 non-covid 23 63 52 114 503 465\n",
      "\n",
      "train/non-covid/subset5/ct_scan931 non-covid 174 341 13 127 488 480\n",
      "\n",
      "train/non-covid/subset4/ct_scan_766 non-covid 26 73 5 83 504 453\n",
      "\n",
      "train/non-covid/subset4/ct_scan_814 non-covid 66 130 0 95 512 377\n",
      "\n",
      "train/non-covid/subset3/ct_scan_22 non-covid 90 256 0 76 512 462\n",
      "\n",
      "train/non-covid/subset1/ct_scan_319 non-covid 161 292 18 83 512 483\n",
      "\n",
      "train/non-covid/subset5/ct_scan1061 non-covid 88 243 0 46 512 452\n",
      "\n",
      "train/non-covid/subset4/ct_scan_821 non-covid 15 46 6 84 512 462\n",
      "\n",
      "train/non-covid/subset5/ct_scan1057 non-covid 22 55 0 33 508 442\n",
      "\n",
      "train/non-covid/subset5/ct_scan1024 non-covid 11 28 0 94 512 420\n",
      "\n",
      "train/non-covid/subset2/ct_scan_390 non-covid 181 398 44 110 486 430\n",
      "\n",
      "train/non-covid/subset5/ct_scan978 non-covid 151 246 8 65 504 456\n",
      "\n",
      "train/non-covid/subset4/ct_scan_792 non-covid 11 20 0 90 512 445\n",
      "\n",
      "train/non-covid/subset4/ct_scan_509 non-covid 83 180 0 97 512 384\n",
      "\n",
      "train/non-covid/subset5/ct_scan947 non-covid 104 257 0 52 512 395\n",
      "\n",
      "train/non-covid/subset4/ct_scan_600 non-covid 163 212 54 63 449 391\n",
      "\n",
      "train/non-covid/subset4/ct_scan_635 non-covid 21 65 6 104 493 407\n",
      "\n",
      "train/non-covid/subset2/ct_scan_369 non-covid 159 320 0 68 512 376\n",
      "\n",
      "train/non-covid/subset2/ct_scan_412 non-covid 145 280 0 25 512 464\n",
      "\n",
      "train/non-covid/subset4/ct_scan_504 non-covid 26 58 15 139 501 461\n",
      "\n",
      "train/non-covid/subset2/ct_scan_405 non-covid 145 205 0 50 478 395\n",
      "\n",
      "train/non-covid/subset5/ct_scan1098 non-covid 187 240 18 65 483 426\n",
      "\n",
      "train/non-covid/subset4/ct_scan_738 non-covid 92 192 22 110 473 434\n",
      "\n",
      "train/non-covid/subset3/ct_scan_60 non-covid 0 17 16 72 499 460\n",
      "\n",
      "train/non-covid/subset1/ct_scan_276 non-covid 74 155 0 150 512 444\n",
      "\n",
      "train/non-covid/subset4/ct_scan_752 non-covid 22 39 0 45 512 434\n",
      "\n",
      "train/non-covid/subset3/ct_scan_87 non-covid 15 41 0 78 512 401\n",
      "\n",
      "train/non-covid/subset3/ct_scan_98 non-covid 106 273 16 148 505 453\n",
      "\n",
      "train/non-covid/subset1/ct_scan_274 non-covid 18 38 0 56 512 413\n",
      "\n",
      "train/non-covid/subset4/ct_scan_711 non-covid 88 216 38 89 482 417\n",
      "\n",
      "train/non-covid/subset3/ct_scan_45 non-covid 20 28 0 50 477 395\n",
      "\n",
      "train/non-covid/subset3/ct_scan_23 non-covid 15 38 0 31 512 462\n",
      "\n",
      "train/non-covid/subset3/ct_scan_156 non-covid 12 25 0 142 512 436\n",
      "\n",
      "train/non-covid/subset5/ct_scan979 non-covid 104 221 0 91 508 463\n",
      "\n",
      "train/non-covid/subset2/ct_scan_351 non-covid 16 33 0 75 512 413\n",
      "\n",
      "train/non-covid/subset3/ct_scan_104 non-covid 27 47 11 57 507 420\n",
      "\n",
      "train/non-covid/subset2/ct_scan_368 non-covid 103 270 0 114 502 439\n",
      "\n",
      "train/non-covid/subset5/ct_scan1029 non-covid 13 25 67 107 512 376\n",
      "\n",
      "train/non-covid/subset4/ct_scan_582 non-covid 23 61 0 126 512 449\n",
      "\n",
      "train/non-covid/subset3/ct_scan_152 non-covid 2 10 0 0 512 432\n",
      "\n",
      "train/non-covid/subset1/ct_scan_287 non-covid 208 243 11 107 512 444\n",
      "\n",
      "train/non-covid/subset3/ct_scan_198 non-covid 14 40 0 81 512 469\n",
      "\n",
      "train/non-covid/subset3/ct_scan_7 non-covid 77 213 0 52 512 451\n",
      "\n",
      "train/non-covid/subset1/ct_scan_317 non-covid 73 270 0 121 512 503\n",
      "\n",
      "train/non-covid/subset5/ct_scan1006 non-covid 119 279 0 18 512 450\n",
      "\n",
      "train/non-covid/subset4/ct_scan_507 non-covid 28 67 0 81 492 401\n",
      "\n",
      "train/non-covid/subset4/ct_scan_785 non-covid 22 48 0 96 512 434\n",
      "\n",
      "train/non-covid/subset5/ct_scan939 non-covid 61 140 0 130 512 484\n",
      "\n",
      "train/non-covid/subset4/ct_scan_554 non-covid 0 81 0 65 512 436\n",
      "\n",
      "train/non-covid/subset5/ct_scan1047 non-covid 17 48 0 88 512 447\n",
      "\n",
      "train/non-covid/subset5/ct_scan1087 non-covid 44 175 6 122 512 421\n",
      "\n",
      "train/non-covid/subset5/ct_scan1033 non-covid 10 24 0 137 508 422\n",
      "\n",
      "train/non-covid/subset3/ct_scan_77 non-covid 18 41 45 103 495 432\n",
      "\n",
      "train/non-covid/subset4/ct_scan_756 non-covid 23 44 0 70 512 366\n",
      "\n",
      "train/non-covid/subset4/ct_scan_550 non-covid 122 271 38 105 506 415\n",
      "\n",
      "train/non-covid/subset4/ct_scan_688 non-covid 36 62 21 90 480 390\n",
      "\n",
      "train/non-covid/subset3/ct_scan_172 non-covid 125 373 0 47 512 434\n",
      "\n",
      "train/non-covid/subset4/ct_scan_673 non-covid 9 24 0 73 512 459\n",
      "\n",
      "train/non-covid/subset5/ct_scan930 non-covid 83 233 32 111 495 395\n",
      "\n",
      "train/non-covid/subset2/ct_scan_411 non-covid 16 28 0 125 512 494\n",
      "\n",
      "train/non-covid/subset5/ct_scan1043 non-covid 27 51 0 53 504 410\n",
      "\n",
      "train/non-covid/subset4/ct_scan_516 non-covid 53 75 31 71 483 426\n",
      "\n",
      "train/non-covid/subset4/ct_scan_435 non-covid 34 62 4 29 496 410\n",
      "\n",
      "train/non-covid/subset1/ct_scan_327 non-covid 188 362 0 72 489 385\n",
      "\n",
      "train/non-covid/subset5/ct_scan1071 non-covid 81 195 0 42 512 430\n",
      "\n",
      "train/non-covid/subset4/ct_scan_628 non-covid 178 227 56 160 435 445\n",
      "\n",
      "train/non-covid/subset4/ct_scan_472 non-covid 27 47 0 66 512 422\n",
      "\n",
      "train/non-covid/subset3/ct_scan_50 non-covid 136 254 7 123 512 421\n",
      "\n",
      "train/non-covid/subset4/ct_scan_745 non-covid 25 48 0 58 512 401\n",
      "\n",
      "train/non-covid/subset4/ct_scan_859 non-covid 111 244 37 107 462 395\n",
      "\n",
      "train/non-covid/subset4/ct_scan_560 non-covid 26 43 88 153 445 407\n",
      "\n",
      "train/non-covid/subset1/ct_scan_245 non-covid 189 320 0 61 512 434\n",
      "\n",
      "train/non-covid/subset4/ct_scan_465 non-covid 24 51 16 96 479 427\n",
      "\n",
      "train/non-covid/subset4/ct_scan_846 non-covid 40 77 24 87 501 418\n",
      "\n",
      "train/non-covid/subset4/ct_scan_440 non-covid 31 61 24 151 488 429\n",
      "\n",
      "train/non-covid/subset1/ct_scan_306 non-covid 147 294 0 0 512 507\n",
      "\n",
      "train/non-covid/subset3/ct_scan_142 non-covid 136 248 6 122 512 420\n",
      "\n",
      "train/non-covid/subset4/ct_scan_609 non-covid 99 228 62 88 484 416\n",
      "\n",
      "train/non-covid/subset4/ct_scan_537 non-covid 34 166 83 0 444 512\n",
      "\n",
      "train/non-covid/subset5/ct_scan894 non-covid 106 222 0 91 508 463\n",
      "\n",
      "train/non-covid/subset4/ct_scan_811 non-covid 24 70 7 106 493 440\n",
      "\n",
      "train/non-covid/subset4/ct_scan_443 non-covid 11 45 4 80 508 466\n",
      "\n",
      "train/non-covid/subset4/ct_scan_850 non-covid 43 73 40 98 465 406\n",
      "\n",
      "train/non-covid/subset4/ct_scan_743 non-covid 0 93 0 65 512 436\n",
      "\n",
      "train/non-covid/subset2/ct_scan_386 non-covid 134 300 0 49 512 466\n",
      "\n",
      "train/non-covid/subset5/ct_scan1097 non-covid 38 84 0 65 508 451\n",
      "\n",
      "train/non-covid/subset3/ct_scan_40 non-covid 91 184 5 74 512 454\n",
      "\n",
      "train/non-covid/subset5/ct_scan987 non-covid 47 128 0 73 512 439\n",
      "\n",
      "train/non-covid/subset1/ct_scan_325 non-covid 100 310 0 90 512 452\n",
      "\n",
      "train/non-covid/subset4/ct_scan_675 non-covid 32 60 48 146 473 432\n",
      "\n",
      "train/non-covid/subset2/ct_scan_349 non-covid 16 31 0 150 512 444\n",
      "\n",
      "train/non-covid/subset4/ct_scan_597 non-covid 37 66 4 90 500 446\n",
      "\n",
      "train/non-covid/subset3/ct_scan_168 non-covid 10 34 0 122 512 502\n",
      "\n",
      "train/non-covid/subset3/ct_scan_99 non-covid 84 215 30 107 478 417\n",
      "\n",
      "train/non-covid/subset3/ct_scan_92 non-covid 19 40 0 76 456 404\n",
      "\n",
      "train/non-covid/subset4/ct_scan_499 non-covid 68 153 0 69 512 398\n",
      "\n",
      "train/non-covid/subset5/ct_scan998 non-covid 90 260 9 61 505 460\n",
      "\n",
      "train/non-covid/subset4/ct_scan_777 non-covid 77 212 6 42 512 414\n",
      "\n",
      "train/non-covid/subset3/ct_scan_85 non-covid 80 166 0 75 512 411\n",
      "\n",
      "train/non-covid/subset1/ct_scan_281 non-covid 70 162 0 109 512 460\n",
      "\n",
      "train/non-covid/subset5/ct_scan1020 non-covid 0 8 0 32 484 428\n",
      "\n",
      "train/non-covid/subset3/ct_scan_135 non-covid 153 215 0 118 512 492\n",
      "\n",
      "train/non-covid/subset4/ct_scan_496 non-covid 9 51 0 73 512 461\n",
      "\n",
      "train/non-covid/subset3/ct_scan_54 non-covid 15 35 0 83 512 476\n",
      "\n",
      "train/non-covid/subset4/ct_scan_643 non-covid 142 175 14 71 512 417\n",
      "\n",
      "train/non-covid/subset3/ct_scan_37 non-covid 131 305 12 113 500 408\n",
      "\n",
      "train/non-covid/subset3/ct_scan_132 non-covid 16 34 0 159 512 421\n",
      "\n",
      "train/non-covid/subset4/ct_scan_754 non-covid 55 87 0 70 484 413\n",
      "\n",
      "train/non-covid/subset3/ct_scan_107 non-covid 107 194 0 101 512 486\n",
      "\n",
      "train/non-covid/subset1/ct_scan_308 non-covid 107 321 0 130 512 512\n",
      "\n",
      "train/non-covid/subset1/ct_scan_254 non-covid 107 210 0 36 512 441\n",
      "\n",
      "train/non-covid/subset3/ct_scan_108 non-covid 18 51 0 168 512 478\n",
      "\n",
      "train/non-covid/subset5/ct_scan950 non-covid 123 329 0 96 512 475\n",
      "\n",
      "train/non-covid/subset1/ct_scan_266 non-covid 14 42 0 88 512 471\n",
      "\n",
      "train/non-covid/subset2/ct_scan_425 non-covid 27 68 15 87 475 420\n",
      "\n",
      "train/non-covid/subset4/ct_scan_787 non-covid 150 240 5 82 503 367\n",
      "\n",
      "train/non-covid/subset4/ct_scan_791 non-covid 110 226 44 72 457 391\n",
      "\n",
      "train/non-covid/subset3/ct_scan_90 non-covid 132 254 0 125 512 466\n",
      "\n",
      "train/non-covid/subset5/ct_scan897 non-covid 217 366 6 57 512 416\n",
      "\n",
      "train/non-covid/subset3/ct_scan_140 non-covid 121 151 77 129 427 379\n",
      "\n",
      "train/non-covid/subset4/ct_scan_765 non-covid 80 229 18 51 512 413\n",
      "\n",
      "train/non-covid/subset3/ct_scan_30 non-covid 10 35 0 122 512 501\n",
      "\n",
      "train/non-covid/subset2/ct_scan_414 non-covid 18 35 0 67 512 512\n",
      "\n",
      "train/non-covid/subset1/ct_scan_313 non-covid 9 17 0 109 512 445\n",
      "\n",
      "train/non-covid/subset3/ct_scan_25 non-covid 12 36 0 114 512 512\n",
      "\n",
      "train/non-covid/subset4/ct_scan_533 non-covid 125 208 36 114 477 403\n",
      "\n",
      "train/non-covid/subset4/ct_scan_687 non-covid 0 100 0 55 512 432\n",
      "\n",
      "train/non-covid/subset5/ct_scan962 non-covid 91 241 0 154 512 488\n",
      "\n",
      "train/non-covid/subset3/ct_scan_196 non-covid 12 34 0 70 512 461\n",
      "\n",
      "train/non-covid/subset1/ct_scan_204 non-covid 78 207 29 110 479 417\n",
      "\n",
      "train/non-covid/subset4/ct_scan_709 non-covid 11 25 40 98 482 353\n",
      "\n",
      "train/non-covid/subset4/ct_scan_526 non-covid 27 58 4 92 512 505\n",
      "\n",
      "train/non-covid/subset4/ct_scan_450 non-covid 85 133 0 99 500 352\n",
      "\n",
      "train/non-covid/subset5/ct_scan940 non-covid 93 272 0 76 512 435\n",
      "\n",
      "train/non-covid/subset4/ct_scan_445 non-covid 22 48 0 96 512 434\n",
      "\n",
      "train/non-covid/subset2/ct_scan_353 non-covid 158 316 0 68 503 426\n",
      "\n",
      "train/non-covid/subset4/ct_scan_620 non-covid 95 198 0 81 512 446\n",
      "\n",
      "train/non-covid/subset3/ct_scan_94 non-covid 91 179 0 65 512 445\n",
      "\n",
      "train/non-covid/subset4/ct_scan_780 non-covid 19 29 54 130 413 344\n",
      "\n",
      "train/non-covid/subset5/ct_scan1022 non-covid 36 69 0 77 462 420\n",
      "\n",
      "train/non-covid/subset2/ct_scan_388 non-covid 141 253 0 111 512 489\n",
      "\n",
      "train/non-covid/subset1/ct_scan_301 non-covid 114 302 9 130 512 375\n",
      "\n",
      "train/non-covid/subset4/ct_scan_478 non-covid 23 61 0 76 512 418\n",
      "\n",
      "train/non-covid/subset1/ct_scan_218 non-covid 21 50 15 63 503 406\n",
      "\n",
      "train/non-covid/subset5/ct_scan990 non-covid 28 54 28 118 473 401\n",
      "\n",
      "train/non-covid/subset1/ct_scan_229 non-covid 109 205 0 125 512 494\n",
      "\n",
      "train/non-covid/subset5/ct_scan1041 non-covid 15 25 80 98 512 385\n",
      "\n",
      "train/non-covid/subset1/ct_scan_316 non-covid 177 320 6 106 478 416\n",
      "\n",
      "train/non-covid/subset1/ct_scan_238 non-covid 15 37 16 148 504 452\n",
      "\n",
      "train/non-covid/subset4/ct_scan_511 non-covid 68 222 42 115 455 388\n",
      "\n",
      "train/non-covid/subset5/ct_scan1011 non-covid 7 16 0 89 512 471\n",
      "\n",
      "train/non-covid/subset3/ct_scan_114 non-covid 27 53 37 161 474 429\n",
      "\n",
      "train/non-covid/subset4/ct_scan_481 non-covid 70 208 86 169 417 433\n",
      "\n",
      "train/non-covid/subset2/ct_scan_346 non-covid 126 373 0 168 512 478\n",
      "\n",
      "train/non-covid/subset3/ct_scan_66 non-covid 31 50 0 53 512 425\n",
      "\n",
      "train/non-covid/subset3/ct_scan_122 non-covid 143 280 0 102 500 468\n",
      "\n",
      "train/non-covid/subset3/ct_scan_15 non-covid 164 335 0 94 501 418\n",
      "\n",
      "train/non-covid/subset3/ct_scan_58 non-covid 132 195 0 104 512 429\n",
      "\n",
      "train/non-covid/subset3/ct_scan_105 non-covid 13 30 0 109 512 445\n",
      "\n",
      "train/non-covid/subset4/ct_scan_706 non-covid 40 88 51 67 503 413\n",
      "\n",
      "train/non-covid/subset3/ct_scan_183 non-covid 135 267 0 119 512 435\n",
      "\n",
      "train/non-covid/subset4/ct_scan_686 non-covid 30 84 0 86 497 419\n",
      "\n",
      "train/non-covid/subset3/ct_scan_3 non-covid 53 142 0 0 512 478\n",
      "\n",
      "train/non-covid/subset5/ct_scan985 non-covid 63 174 16 74 512 397\n",
      "\n",
      "train/non-covid/subset4/ct_scan_627 non-covid 48 75 27 71 485 426\n",
      "\n",
      "train/non-covid/subset4/ct_scan_701 non-covid 22 46 10 21 487 378\n",
      "\n",
      "train/non-covid/subset2/ct_scan_429 non-covid 26 47 0 99 497 425\n",
      "\n",
      "train/non-covid/subset2/ct_scan_418 non-covid 21 44 0 0 512 438\n",
      "\n"
     ]
    },
    {
     "name": "stderr",
     "output_type": "stream",
     "text": [
      "\r",
      "100%|██████████| 1992/1992 [1:19:50<00:00,  2.10it/s]"
     ]
    }
   ],
   "source": [
    "#subsets = ['val','train']  #for test dataset, UNet segmentation and refinement are combined. \n",
    "subsets = ['train']\n",
    "\n",
    "from tqdm import tqdm\n",
    "\n",
    "debug = False\n",
    "split = 1 \n",
    "\n",
    "for subset in subsets:     \n",
    "\n",
    "    list_file = data_list_dir + '{}_rgb_split{}.txt'.format(subset,split) \n",
    "    lines = open(list_file,\"r\").readlines() \n",
    "\n",
    "    pbar = tqdm(total = len(lines))\n",
    "    \n",
    "    for ind in range(len(lines)-1,-1,-1):\n",
    "        \n",
    "        l = lines[ind]\n",
    "       \n",
    "        print(l)\n",
    "        \n",
    "        pbar.update()\n",
    "        \n",
    "        l_splits = l.split()  \n",
    "                \n",
    "        l_path = l_splits[0]        \n",
    "        c = l_splits[1]\n",
    "        first_slice = int(l_splits[2])\n",
    "        last_slice = int(l_splits[3])\n",
    "\n",
    "        count = 0 \n",
    "        for f in range(first_slice,last_slice+1):\n",
    "            \n",
    "            count +=1 \n",
    "            \n",
    "            #if count>10:\n",
    "            #    break \n",
    "            \n",
    "            fn = \"{}/{}.jpg\".format(l_path,f)\n",
    "            f_full = covidx_img_dir + fn\n",
    "            m_full = covidx_img_dir + 'mask/' + fn\n",
    "            m_full_new = m_full+'_refined.jpg'            \n",
    "            #print(f_full,m_full,m_full_new)\n",
    "            \n",
    "            if not os.path.exists(m_full_new) :\n",
    "                mask0,mask = refine_mask(m_full)                \n",
    "                cv2.imwrite(m_full_new, (mask*255).astype(np.uint8) )\n",
    "\n",
    "                if False: \n",
    "                    fig, (ax1,ax2) = plt.subplots(1,2)\n",
    "                    ax1.imshow(mask0*255,cmap='gray')\n",
    "                    ax2.imshow(mask*255,cmap='gray')                \n",
    "                \n"
   ]
  },
  {
   "cell_type": "code",
   "execution_count": null,
   "metadata": {},
   "outputs": [],
   "source": []
  }
 ],
 "metadata": {
  "kernelspec": {
   "display_name": "Python 3",
   "language": "python",
   "name": "python3"
  },
  "language_info": {
   "codemirror_mode": {
    "name": "ipython",
    "version": 3
   },
   "file_extension": ".py",
   "mimetype": "text/x-python",
   "name": "python",
   "nbconvert_exporter": "python",
   "pygments_lexer": "ipython3",
   "version": "3.7.6"
  }
 },
 "nbformat": 4,
 "nbformat_minor": 5
}
