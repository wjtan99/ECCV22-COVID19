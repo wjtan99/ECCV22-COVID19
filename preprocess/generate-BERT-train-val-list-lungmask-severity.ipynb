{
 "cells": [
  {
   "cell_type": "code",
   "execution_count": 1,
   "metadata": {},
   "outputs": [],
   "source": [
    "import os\n",
    "import cv2\n",
    "import numpy as np\n",
    "import matplotlib.pyplot as plt\n",
    "import shutil\n",
    "from tqdm import tqdm"
   ]
  },
  {
   "cell_type": "code",
   "execution_count": 9,
   "metadata": {},
   "outputs": [
    {
     "name": "stdout",
     "output_type": "stream",
     "text": [
      "['train/non-covid/subset2/ct_scan_418 non-covid 21 44 0 0 512 438', 'train/non-covid/subset2/ct_scan_429 non-covid 26 47 0 99 497 425', 'train/non-covid/subset4/ct_scan_701 non-covid 22 46 10 21 487 378', 'train/non-covid/subset4/ct_scan_627 non-covid 48 75 27 71 485 426', 'train/non-covid/subset5/ct_scan985 non-covid 63 174 16 74 512 397', 'train/non-covid/subset3/ct_scan_3 non-covid 53 142 0 0 512 478', 'train/non-covid/subset4/ct_scan_686 non-covid 30 84 0 86 497 419', 'train/non-covid/subset3/ct_scan_183 non-covid 135 267 0 119 512 435', 'train/non-covid/subset4/ct_scan_706 non-covid 40 88 51 67 503 413', 'train/non-covid/subset3/ct_scan_105 non-covid 13 30 0 109 512 445']\n",
      "['validation/non-covid/non-covid/ct_scan_21 non-covid 111 308 0 23 512 442', 'validation/non-covid/val_non_covid/ct_scan214 non-covid 154 313 0 84 512 512', 'validation/non-covid/non-covid/ct_scan_161 non-covid 26 68 7 104 507 443', 'validation/non-covid/non-covid/ct_scan_134 non-covid 31 73 32 89 508 417', 'validation/non-covid/non-covid/ct_scan_100 non-covid 60 73 52 95 492 407', 'validation/non-covid/non-covid/ct_scan_55 non-covid 30 36 0 87 463 438', 'validation/non-covid/non-covid/ct_scan_180 non-covid 93 206 0 107 512 424', 'validation/non-covid/non-covid/ct_scan_3 non-covid 114 264 0 123 507 483', 'validation/non-covid/non-covid/ct_scan_183 non-covid 22 61 0 93 512 488', 'validation/non-covid/non-covid/ct_scan_105 non-covid 28 67 50 81 480 427']\n"
     ]
    }
   ],
   "source": [
    "dataset_dir = '/media/ubuntu/MyHDataStor2/products/COVID-19/ICCV-MAI/3D-CNN-BERT/BERT/datasets/settings/covid/'\n",
    "\n",
    "train_list_file = dataset_dir + 'train_feature_split1.txt'\n",
    "train_lines = open(train_list_file).readlines() \n",
    "train_lines = [x.strip() for x in train_lines]\n",
    "print(train_lines[:10])\n",
    "\n",
    "val_list_file = dataset_dir + 'val_feature_split1.txt'\n",
    "val_lines = open(val_list_file).readlines() \n",
    "val_lines = [x.strip() for x in val_lines]\n",
    "print(val_lines[:10])\n",
    "\n"
   ]
  },
  {
   "cell_type": "code",
   "execution_count": 10,
   "metadata": {},
   "outputs": [
    {
     "name": "stdout",
     "output_type": "stream",
     "text": [
      "['ct_scan_1;4', 'ct_scan_5;1', 'ct_scan_6;3', 'ct_scan_7;3', 'ct_scan_9;2', 'ct_scan_11;3', 'ct_scan_12;2', 'ct_scan_15;1', 'ct_scan_16;1', 'ct_scan_18;1']\n",
      "['ct_scan_0;2', 'ct_scan_5;1', 'ct_scan_7;3', 'ct_scan_13;3', 'ct_scan_14;3', 'ct_scan_16;2', 'ct_scan_19;4', 'ct_scan_21;1', 'ct_scan_25;3', 'ct_scan_26;1']\n"
     ]
    }
   ],
   "source": [
    "covid_dir = '/media/ubuntu/MyHDataStor3/datasets/COV19D/'\n",
    "\n",
    "train_annot_file = covid_dir + 'train_partition_covid_categories.csv' \n",
    "train_annot = open(train_annot_file,'r').readlines() \n",
    "train_annot = train_annot[1:]\n",
    "train_annot = [x.strip() for x in train_annot]\n",
    "print(train_annot[:10])\n",
    "\n",
    "val_annot_file = covid_dir + 'val_partition_covid_categories.csv' \n",
    "val_annot = open(val_annot_file,'r').readlines() \n",
    "val_annot = val_annot[1:]\n",
    "val_annot = [x.strip() for x in val_annot]\n",
    "print(val_annot[:10])\n"
   ]
  },
  {
   "cell_type": "code",
   "execution_count": 22,
   "metadata": {},
   "outputs": [
    {
     "name": "stdout",
     "output_type": "stream",
     "text": [
      "[('train/covid/subset1/ct_scan_1 covid 89 206 0 100 512 478', '4'), ('train/covid/subset1/ct_scan_5 covid 113 308 0 55 512 442', '1'), ('train/covid/subset1/ct_scan_6 covid 17 42 21 149 461 425', '3'), ('train/covid/subset1/ct_scan_7 covid 129 225 0 108 491 438', '3'), ('train/covid/subset1/ct_scan_9 covid 123 185 0 124 512 489', '2'), ('train/covid/subset1/ct_scan_11 covid 121 168 0 90 512 466', '3'), ('train/covid/subset1/ct_scan_12 covid 116 236 0 82 512 476', '2'), ('train/covid/subset1/ct_scan_15 covid 105 261 5 49 512 423', '1'), ('train/covid/subset1/ct_scan_16 covid 15 33 0 107 512 451', '1'), ('train/covid/subset1/ct_scan_18 covid 116 237 0 100 512 444', '1')] 258\n"
     ]
    }
   ],
   "source": [
    "train_lines_new = [] \n",
    "for a in train_annot:\n",
    "    #print(a)\n",
    "    a_tmp = a.split(';')\n",
    "    scan = a_tmp[0]\n",
    "    cls = a_tmp[1]\n",
    "    #print(scan,cls)\n",
    "    lines = [x for x in train_lines if scan==x.split(' ')[0].split('/')[-1] and x.split(' ')[1]=='covid'][0]\n",
    "    train_lines_new.append((lines,cls))\n",
    "\n",
    "print(train_lines_new[:10],len(train_lines_new))    "
   ]
  },
  {
   "cell_type": "code",
   "execution_count": 23,
   "metadata": {},
   "outputs": [
    {
     "name": "stdout",
     "output_type": "stream",
     "text": [
      "[('validation/covid/covid/ct_scan_0 covid 112 189 0 89 512 441', '2'), ('validation/covid/covid/ct_scan_5 covid 129 249 0 115 512 492', '1'), ('validation/covid/covid/ct_scan_7 covid 18 42 39 63 512 463', '3'), ('validation/covid/covid/ct_scan_13 covid 71 188 0 88 512 461', '3'), ('validation/covid/covid/ct_scan_14 covid 70 86 46 128 435 355', '3'), ('validation/covid/covid/ct_scan_16 covid 109 261 0 90 512 439', '2'), ('validation/covid/covid/ct_scan_19 covid 103 213 8 83 479 423', '4'), ('validation/covid/covid/ct_scan_21 covid 129 219 0 75 512 454', '1'), ('validation/covid/covid/ct_scan_25 covid 92 196 30 104 512 460', '3'), ('validation/covid/covid/ct_scan_26 covid 111 273 26 75 490 400', '1')] 61\n"
     ]
    }
   ],
   "source": [
    "val_lines_new = [] \n",
    "for a in val_annot:\n",
    "    #print(a)\n",
    "    a_tmp = a.split(';')\n",
    "    scan = a_tmp[0]\n",
    "    cls = a_tmp[1]\n",
    "    #print(scan,cls)\n",
    "    lines = [x for x in val_lines if scan==x.split(' ')[0].split('/')[-1] and x.split(' ')[1]=='covid'][0]\n",
    "    val_lines_new.append((lines,cls))\n",
    "\n",
    "print(val_lines_new[:10],len(val_lines_new))    "
   ]
  },
  {
   "cell_type": "code",
   "execution_count": 24,
   "metadata": {},
   "outputs": [],
   "source": [
    "split =2 \n",
    "train_split_file = dataset_dir + 'train_feature_split{}.txt'.format(split)\n",
    "\n",
    "fp = open(train_split_file,'w') \n",
    "for line in train_lines_new:\n",
    "    l = line[0].split(' ')\n",
    "    cls = line[1]\n",
    "    fp.write(\"{} {} {} {} {} {} {} {}\\n\".format(l[0],cls,l[2],l[3],l[4],l[5],l[6],l[7]))\n",
    "fp.close()"
   ]
  },
  {
   "cell_type": "code",
   "execution_count": 25,
   "metadata": {},
   "outputs": [],
   "source": [
    "val_split_file = dataset_dir + 'val_feature_split{}.txt'.format(split)\n",
    "fp = open(val_split_file,'w') \n",
    "for line in val_lines_new:\n",
    "    l = line[0].split(' ')\n",
    "    cls = line[1]\n",
    "    fp.write(\"{} {} {} {} {} {} {} {}\\n\".format(l[0],cls,l[2],l[3],l[4],l[5],l[6],l[7]))\n",
    "fp.close()"
   ]
  },
  {
   "cell_type": "code",
   "execution_count": null,
   "metadata": {},
   "outputs": [],
   "source": []
  }
 ],
 "metadata": {
  "kernelspec": {
   "display_name": "Python 3",
   "language": "python",
   "name": "python3"
  },
  "language_info": {
   "codemirror_mode": {
    "name": "ipython",
    "version": 3
   },
   "file_extension": ".py",
   "mimetype": "text/x-python",
   "name": "python",
   "nbconvert_exporter": "python",
   "pygments_lexer": "ipython3",
   "version": "3.7.6"
  }
 },
 "nbformat": 4,
 "nbformat_minor": 5
}
