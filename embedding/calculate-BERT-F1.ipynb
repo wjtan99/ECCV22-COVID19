{
 "cells": [
  {
   "cell_type": "code",
   "execution_count": 2,
   "id": "adaptive-server",
   "metadata": {},
   "outputs": [],
   "source": [
    "import os\n",
    "import cv2\n",
    "import numpy as np\n",
    "import matplotlib.pyplot as plt\n",
    "import shutil\n",
    "import tqdm "
   ]
  },
  {
   "cell_type": "code",
   "execution_count": 3,
   "id": "floppy-immunology",
   "metadata": {},
   "outputs": [],
   "source": [
    "from sklearn.metrics import f1_score, precision_recall_curve\n"
   ]
  },
  {
   "cell_type": "code",
   "execution_count": 13,
   "id": "grave-toilet",
   "metadata": {},
   "outputs": [
    {
     "name": "stdout",
     "output_type": "stream",
     "text": [
      "['val/covid/ct_scan_0,0,0,2.545,-2.029', 'val/covid/ct_scan_1,0,0,2.522,-2.174', 'val/covid/ct_scan_2,0,0,1.184,-1.170', 'val/covid/ct_scan_3,0,0,2.243,-1.944', 'val/covid/ct_scan_4,0,0,2.168,-1.934', 'val/covid/ct_scan_5,0,0,1.935,-1.823', 'val/covid/ct_scan_6,0,0,2.751,-2.275', 'val/covid/ct_scan_7,0,0,2.886,-2.336', 'val/covid/ct_scan_8,0,0,2.409,-2.249', 'val/covid/ct_scan_9,0,0,1.933,-1.656']\n",
      "0.9144385026737968 0.9134484653880645\n",
      "['test/subset1/3ea85c05-2cd1-4b5a-822f-3985b0e06867,0,1,-0.853,0.927', 'test/subset1/2c442cd2-0abd-4ebd-9223-ff7ee8e9953c,0,1,-4.329,4.130', 'test/subset1/3c5a2a48-0a9b-42f1-9e1c-e90fe209d179,0,1,-2.163,1.977', 'test/subset1/0c000b69-41de-41cd-b498-37d993c94366,0,1,-0.690,0.361', 'test/subset1/4a81f8d8-e255-44ff-81d1-717868e7b381,0,1,-2.243,2.251', 'test/subset1/4a1509c1-a588-4f95-a167-96a724f2ce22,0,0,0.771,-0.432', 'test/subset1/2f9fe28a-9c06-4604-847a-4830163650f6,0,0,0.202,-0.304', 'test/subset1/03c094cc-b595-4fc9-b21d-66a7d5d7bee9,0,1,-1.902,1.904', 'test/subset1/2b662269-06f5-4ab6-9f74-4b0f1c30e104,0,1,-3.084,3.346', 'test/subset1/2ff9dd43-c4b1-4bf5-820b-7f21b895c80c,0,1,-3.864,3.961']\n",
      "0.2121562952243126 0.17502387774594078\n"
     ]
    }
   ],
   "source": [
    "subsets = ['validate','test']\n",
    "threshold = 0.5\n",
    "\n",
    "for subset in subsets: \n",
    "    result_file = '../BERT/BERT-{}-results-split5.txt'.format(subset)\n",
    "    fp = open(result_file)\n",
    "    lines = fp.readlines() \n",
    "    lines = [x.strip() for x in lines]\n",
    "    fp.close()\n",
    "    print(lines[:10])\n",
    "    \n",
    "    y_true = []\n",
    "    y_pred = [] \n",
    "    y_prob = [] \n",
    "    \n",
    "    covid_ids = [] \n",
    "    non_covid_ids = [] \n",
    "\n",
    "    for l in lines: \n",
    "        l_splits = l.split(',') \n",
    "        #print(l_splits)\n",
    "        \n",
    "        #change covid class label to 1 \n",
    "        y_true.append(int(l_splits[1]))    \n",
    "        \n",
    "        prob0 = float(l_splits[3])\n",
    "        prob1 = float(l_splits[4])\n",
    "\n",
    "        score = np.exp(prob0)/(np.exp(prob0)+np.exp(prob1))        \n",
    "        pred2 = (score < threshold).astype(np.uint8)\n",
    "        \n",
    "        #y_pred.append(int(l_splits[2])) \n",
    "        y_pred.append(pred2) \n",
    "        y_prob.append(score)\n",
    "        \n",
    "        if pred2==0:\n",
    "            covid_ids.append(l_splits[0])\n",
    "        else: \n",
    "            non_covid_ids.append(l_splits[0])\n",
    "            \n",
    "    y_pred = np.asarray(y_pred)\n",
    "    y_true = np.asarray(y_true)\n",
    "    y_prob = np.asarray(y_prob)\n",
    "\n",
    "    F1_1 = f1_score(y_true, y_pred, average='micro')\n",
    "    F1_2 = f1_score(y_true, y_pred, average='macro')\n",
    "    print(F1_1,F1_2)\n",
    "    \n",
    "    fp = open('BERT-{}-{}-covid.csv'.format(threshold,subset),'w')    \n",
    "    len_covid = len(covid_ids) \n",
    "    for i in range(len_covid): \n",
    "        ids = covid_ids[i].split(',')[0].split('_')[-1].split('.')[0]        \n",
    "        if i<len_covid-1:\n",
    "            fp.write('{},'.format(ids))\n",
    "        else:\n",
    "            fp.write('{}'.format(ids))\n",
    "    fp.close() \n",
    "\n",
    "    fp = open('BERT-{}-{}-non-covid.csv'.format(threshold,subset),'w')\n",
    "    len_non_covid = len(non_covid_ids) \n",
    "    for i in range(len_non_covid):\n",
    "        ids = non_covid_ids[i].split(',')[0].split('_')[-1].split('.')[0]\n",
    "        if i<len_non_covid-1:\n",
    "            fp.write('{},'.format(ids))\n",
    "        else:\n",
    "            fp.write('{}'.format(ids))\n",
    "    fp.close() \n",
    "    \n",
    "    "
   ]
  },
  {
   "cell_type": "code",
   "execution_count": null,
   "id": "continuing-salmon",
   "metadata": {},
   "outputs": [],
   "source": []
  }
 ],
 "metadata": {
  "kernelspec": {
   "display_name": "Python 3",
   "language": "python",
   "name": "python3"
  },
  "language_info": {
   "codemirror_mode": {
    "name": "ipython",
    "version": 3
   },
   "file_extension": ".py",
   "mimetype": "text/x-python",
   "name": "python",
   "nbconvert_exporter": "python",
   "pygments_lexer": "ipython3",
   "version": "3.7.6"
  }
 },
 "nbformat": 4,
 "nbformat_minor": 5
}
