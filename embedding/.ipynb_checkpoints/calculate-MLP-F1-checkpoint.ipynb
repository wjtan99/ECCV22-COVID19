{
 "cells": [
  {
   "cell_type": "code",
   "execution_count": 1,
   "id": "adaptive-server",
   "metadata": {},
   "outputs": [],
   "source": [
    "import os\n",
    "import cv2\n",
    "import numpy as np\n",
    "import matplotlib.pyplot as plt\n",
    "import shutil\n",
    "import tqdm "
   ]
  },
  {
   "cell_type": "code",
   "execution_count": 2,
   "id": "floppy-immunology",
   "metadata": {},
   "outputs": [],
   "source": [
    "from sklearn.metrics import f1_score, precision_recall_curve\n"
   ]
  },
  {
   "cell_type": "code",
   "execution_count": 25,
   "id": "athletic-cornwall",
   "metadata": {},
   "outputs": [],
   "source": [
    "subsets = ['validate','test']\n",
    "threshold = 0.5"
   ]
  },
  {
   "cell_type": "code",
   "execution_count": 28,
   "id": "grave-toilet",
   "metadata": {},
   "outputs": [
    {
     "name": "stdout",
     "output_type": "stream",
     "text": [
      "['features_val_non-covid_ct_scan_32.pkl,1,1,-3.046,2.548', 'features_val_non-covid_ct_scan_134.pkl,1,1,-2.223,1.886', 'features_val_non-covid_ct_scan_193.pkl,1,1,-2.026,1.733', 'features_val_non-covid_ct_scan_156.pkl,1,1,-0.093,0.139', 'features_val_covid_ct_scan_3.pkl,0,0,4.302,-4.387', 'features_val_covid_ct_scan_68.pkl,0,0,1.167,-1.100', 'features_val_non-covid_ct_scan_55.pkl,1,1,-2.775,2.383', 'features_val_non-covid_ct_scan_50.pkl,1,1,-1.633,1.332', 'features_val_non-covid_ct_scan_173.pkl,1,1,-1.232,1.069', 'features_val_non-covid_ct_scan_84.pkl,1,1,-2.386,2.085']\n",
      "0.9197860962566845 0.9179464677490127\n",
      "['features_test_subset7_a442e0ea-acf6-450f-8476-50a6b0aab1e8.pkl,0,0,4.648,-4.720', 'features_test_subset1_3d1265e7-cd86-4c77-bbf4-4bb24a3223dc.pkl,0,1,-2.211,1.862', 'features_test_subset8_cf37ec9e-98e9-4bc2-aa68-248edc41ddd6.pkl,0,1,-1.520,1.245', 'features_test_subset6_28318d31-b51c-4e22-bd8f-c3be69640ffd.pkl,0,1,-2.531,2.165', 'features_test_subset3_9d3e899d-fbc7-4868-a354-69f55afac83d.pkl,0,0,0.578,-0.500', 'features_test_subset1_3ff96eec-a9e9-4c20-9d3a-a218cce5d278.pkl,0,1,-2.029,1.654', 'features_test_subset5_732e2951-59e5-4a87-acfa-8b4e2c0a15f4.pkl,0,1,-2.617,2.247', 'features_test_subset2_5c80335f-a9a6-4b81-99f3-6690e5697465.pkl,0,1,-2.142,1.855', 'features_test_subset8_c6242e0b-6273-4942-95f6-982abe17e89d.pkl,0,1,-1.371,1.129', 'features_test_subset5_6526e24e-b411-4e03-999c-fc6990fa2e18.pkl,0,1,-3.058,2.565']\n",
      "0.16034732272069466 0.1381890745821901\n"
     ]
    }
   ],
   "source": [
    "for subset in subsets: \n",
    "    result_file = 'MLP-{}-results.txt'.format(subset)\n",
    "    fp = open(result_file)\n",
    "    lines = fp.readlines() \n",
    "    lines = [x.strip() for x in lines]\n",
    "    fp.close()\n",
    "    print(lines[:10])\n",
    "    \n",
    "    y_true = []\n",
    "    y_pred = [] \n",
    "    y_prob = [] \n",
    "    \n",
    "    covid_ids = [] \n",
    "    non_covid_ids = [] \n",
    "\n",
    "    for l in lines: \n",
    "        l_splits = l.split(',') \n",
    "        #print(l_splits)\n",
    "        \n",
    "        #change covid class label to 1 \n",
    "        y_true.append(int(l_splits[1]))    \n",
    "        \n",
    "        prob0 = float(l_splits[3])\n",
    "        prob1 = float(l_splits[4])\n",
    "\n",
    "        score = np.exp(prob0)/(np.exp(prob0)+np.exp(prob1))        \n",
    "        pred2 = (score < threshold).astype(np.uint8)\n",
    "        \n",
    "        #y_pred.append(int(l_splits[2])) \n",
    "        y_pred.append(pred2) \n",
    "        y_prob.append(score)\n",
    "        \n",
    "        if pred2==0:\n",
    "            covid_ids.append(l_splits[0])\n",
    "        else: \n",
    "            non_covid_ids.append(l_splits[0])\n",
    "            \n",
    "    y_pred = np.asarray(y_pred)\n",
    "    y_true = np.asarray(y_true)\n",
    "    y_prob = np.asarray(y_prob)\n",
    "\n",
    "    F1_1 = f1_score(y_true, y_pred, average='micro')\n",
    "    F1_2 = f1_score(y_true, y_pred, average='macro')\n",
    "    print(F1_1,F1_2)\n",
    "    \n",
    "    fp = open('covid-MLP-{}-{}.csv'.format(subset,threshold),'w')    \n",
    "    len_covid = len(covid_ids) \n",
    "    for i in range(len_covid): \n",
    "        ids = covid_ids[i].split(',')[0].split('_')[-1].split('.')[0]        \n",
    "        if i<len_covid-1:\n",
    "            fp.write('{},'.format(ids))\n",
    "        else:\n",
    "            fp.write('{}'.format(ids))\n",
    "    fp.close() \n",
    "\n",
    "    fp = open('non-covid-MLP-{}-{}.csv'.format(subset,threshold),'w')\n",
    "    len_non_covid = len(non_covid_ids) \n",
    "    for i in range(len_non_covid):\n",
    "        ids = non_covid_ids[i].split(',')[0].split('_')[-1].split('.')[0]\n",
    "        if i<len_non_covid-1:\n",
    "            fp.write('{},'.format(ids))\n",
    "        else:\n",
    "            fp.write('{}'.format(ids))\n",
    "    fp.close() \n",
    "    \n",
    "    "
   ]
  },
  {
   "cell_type": "code",
   "execution_count": null,
   "id": "planned-hartford",
   "metadata": {},
   "outputs": [],
   "source": []
  }
 ],
 "metadata": {
  "kernelspec": {
   "display_name": "Python 3",
   "language": "python",
   "name": "python3"
  },
  "language_info": {
   "codemirror_mode": {
    "name": "ipython",
    "version": 3
   },
   "file_extension": ".py",
   "mimetype": "text/x-python",
   "name": "python",
   "nbconvert_exporter": "python",
   "pygments_lexer": "ipython3",
   "version": "3.7.6"
  }
 },
 "nbformat": 4,
 "nbformat_minor": 5
}
