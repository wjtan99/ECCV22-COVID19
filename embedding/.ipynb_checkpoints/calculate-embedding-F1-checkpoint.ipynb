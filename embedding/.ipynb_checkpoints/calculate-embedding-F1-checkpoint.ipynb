{
 "cells": [
  {
   "cell_type": "code",
   "execution_count": 1,
   "id": "greenhouse-greeting",
   "metadata": {},
   "outputs": [],
   "source": [
    "import os\n",
    "import cv2\n",
    "import numpy as np\n",
    "import matplotlib.pyplot as plt\n",
    "import shutil\n",
    "import tqdm "
   ]
  },
  {
   "cell_type": "code",
   "execution_count": 2,
   "id": "aggregate-neighborhood",
   "metadata": {},
   "outputs": [],
   "source": [
    "from sklearn.metrics import f1_score, precision_recall_curve"
   ]
  },
  {
   "cell_type": "code",
   "execution_count": 19,
   "id": "interested-fishing",
   "metadata": {},
   "outputs": [],
   "source": [
    "subsets = ['validate','test']\n",
    "threshold = 0.5"
   ]
  },
  {
   "cell_type": "code",
   "execution_count": 20,
   "id": "capital-annotation",
   "metadata": {},
   "outputs": [
    {
     "name": "stdout",
     "output_type": "stream",
     "text": [
      "['features_val_non-covid_ct_scan_32.pkl,1,1,-0.794,1.007', 'features_val_non-covid_ct_scan_134.pkl,1,1,-0.780,0.995', 'features_val_non-covid_ct_scan_193.pkl,1,1,-0.803,1.015', 'features_val_non-covid_ct_scan_156.pkl,1,1,0.027,0.196', 'features_val_covid_ct_scan_3.pkl,0,0,0.747,-0.659', 'features_val_covid_ct_scan_68.pkl,0,0,0.710,-0.612', 'features_val_non-covid_ct_scan_55.pkl,1,1,-0.806,1.018', 'features_val_non-covid_ct_scan_50.pkl,1,1,-0.669,0.899', 'features_val_non-covid_ct_scan_173.pkl,1,1,0.041,0.176', 'features_val_non-covid_ct_scan_84.pkl,1,1,-0.798,1.011']\n",
      "374 374\n",
      "0.9278074866310161 0.9260907434108925\n",
      "['test_subset1_3ea85c05-2cd1-4b5a-822f-3985b0e06867,0,1,-2.777404308319092,2.362680673599243,1,-2.5587868690490723,2.1435887813568115,1,-2.8992555141448975,2.508297920227051,1,-2.8314685821533203,2.4312245845794678,1,-3.4977035522460938,3.156949996948242', 'test_subset1_2c442cd2-0abd-4ebd-9223-ff7ee8e9953c,0,1,-4.048405647277832,3.64801287651062,1,-4.048405647277832,3.64801287651062', 'test_subset1_3c5a2a48-0a9b-42f1-9e1c-e90fe209d179,0,1,-3.4013521671295166,2.98014760017395', 'test_subset1_0c000b69-41de-41cd-b498-37d993c94366,0,1,-3.46069598197937,2.8364815711975098,1,-3.4401695728302,2.7512223720550537,1,-3.5884597301483154,2.7455060482025146,1,-3.1931989192962646,2.577336311340332,1,-3.601233959197998,3.093653917312622,1,-3.2043118476867676,3.0260632038116455', 'test_subset1_4a81f8d8-e255-44ff-81d1-717868e7b381,0,1,-3.189343214035034,3.020735263824463,1,-3.1706199645996094,2.9398975372314453,1,-3.113614797592163,2.9541590213775635,1,-3.276165246963501,2.9547088146209717,1,-3.7984297275543213,3.679563522338867', 'test_subset1_4a1509c1-a588-4f95-a167-96a724f2ce22,0,0,0.8897727727890015,-0.7613912224769592,0,0.5663400292396545,-0.4278216063976288,0,0.424216091632843,-0.3386091887950897,0,0.3558094799518585,-0.29303237795829773,1,-0.8933588266372681,0.5256490111351013', 'test_subset1_2f9fe28a-9c06-4604-847a-4830163650f6,0,1,-1.3834842443466187,1.1581467390060425,1,-1.578325867652893,1.3057271242141724,1,-1.540171504020691,1.3506814241409302,1,-1.4840600490570068,1.4090797901153564,1,-1.4818236827850342,1.2698321342468262,1,-3.697420120239258,3.5566766262054443', 'test_subset1_03c094cc-b595-4fc9-b21d-66a7d5d7bee9,0,1,-3.442979335784912,3.240213394165039,1,-3.558767795562744,3.4053454399108887,1,-3.6467647552490234,3.478372812271118,1,-3.5086493492126465,3.440614700317383,1,-3.9052412509918213,3.6301283836364746', 'test_subset1_2b662269-06f5-4ab6-9f74-4b0f1c30e104,0,1,-3.5212864875793457,3.429995536804199,1,-3.430321455001831,3.2798776626586914,1,-3.450281858444214,3.3976917266845703,1,-3.725541591644287,3.259641647338867', 'test_subset1_2ff9dd43-c4b1-4bf5-820b-7f21b895c80c,0,1,-2.9095189571380615,2.9359631538391113,1,-2.674389362335205,2.509517192840576,1,-2.9127020835876465,3.0366318225860596']\n",
      "3455 3455\n",
      "0.1455861070911722 0.1270843860535624\n"
     ]
    }
   ],
   "source": [
    "for subset in subsets: \n",
    "    result_file = 'Emdedding-{}-results.txt'.format(subset)\n",
    "    fp = open(result_file)\n",
    "    lines = fp.readlines() \n",
    "    lines = [x.strip() for x in lines]\n",
    "    fp.close()\n",
    "    print(lines[:10])\n",
    "    \n",
    "    y_true = []\n",
    "    y_pred = [] \n",
    "    y_prob = [] \n",
    "\n",
    "    covid_ids = [] \n",
    "    non_covid_ids = []     \n",
    "    for l in lines: \n",
    "        l_splits = l.split(',') \n",
    "        #print(l_splits)    \n",
    "        #change covid class label to 1 \n",
    "        truth = int(l_splits[1])\n",
    "        #print(truth)\n",
    "        y_true.append(truth)\n",
    "        \n",
    "        num_preds = int((len(l_splits)-2)/3)\n",
    "        prob0s = [] \n",
    "        preds = [] \n",
    "        for i in range(num_preds):        \n",
    "            pred = int(l_splits[2+3*i])        \n",
    "            s0 = float(l_splits[2+3*i+1])\n",
    "            s1 = float(l_splits[2+3*i+2])        \n",
    "            prob0 = np.exp(s0)/(np.exp(s0)+np.exp(s1)) \n",
    "            preds.append(pred)\n",
    "            prob0s.append(prob0)\n",
    "        \n",
    "        prob0s = np.asarray(prob0s)    \n",
    "        prob0s_avg = np.mean(prob0s)    \n",
    "        pred2 = (prob0s_avg < threshold).astype(np.uint8) \n",
    "        #print(true, pred2, preds, prob0s)\n",
    "        y_pred.append(pred2) \n",
    "        y_prob.append(prob0s_avg)   \n",
    "        #input('dbg')\n",
    "        if pred2==0:\n",
    "            covid_ids.append(l_splits[0])\n",
    "        else: \n",
    "            non_covid_ids.append(l_splits[0])\n",
    "    \n",
    "    y_pred = np.asarray(y_pred)\n",
    "    y_true = np.asarray(y_true)\n",
    "    y_prob = np.asarray(y_prob)\n",
    "        \n",
    "    print(len(y_true),len(y_pred))\n",
    "        \n",
    "    F1_1 = f1_score(y_true, y_pred, average='micro')\n",
    "    F1_2 = f1_score(y_true, y_pred, average='macro')\n",
    "    print(F1_1,F1_2)\n",
    "    \n",
    "    fp = open('covid-embedding-{}-{}.csv'.format(subset,threshold),'w') \n",
    "    len_covid = len(covid_ids) \n",
    "    for i in range(len_covid):\n",
    "        if i<len_covid-1:\n",
    "            fp.write('{},'.format(covid_ids[i]))\n",
    "        else:\n",
    "            fp.write('{}'.format(covid_ids[i]))\n",
    "    fp.close() \n",
    "    \n",
    "    fp = open('non-covid-embedding-{}-{}.csv'.format(subset,threshold),'w') \n",
    "    len_non_covid = len(non_covid_ids) \n",
    "    for i in range(len_non_covid):\n",
    "        if i<len_non_covid-1:\n",
    "            fp.write('{},'.format(non_covid_ids[i]))\n",
    "        else:\n",
    "            fp.write('{}'.format(non_covid_ids[i]))\n",
    "    fp.close()  \n",
    "    "
   ]
  },
  {
   "cell_type": "code",
   "execution_count": null,
   "id": "suited-oakland",
   "metadata": {},
   "outputs": [],
   "source": []
  }
 ],
 "metadata": {
  "kernelspec": {
   "display_name": "Python 3",
   "language": "python",
   "name": "python3"
  },
  "language_info": {
   "codemirror_mode": {
    "name": "ipython",
    "version": 3
   },
   "file_extension": ".py",
   "mimetype": "text/x-python",
   "name": "python",
   "nbconvert_exporter": "python",
   "pygments_lexer": "ipython3",
   "version": "3.7.6"
  }
 },
 "nbformat": 4,
 "nbformat_minor": 5
}
