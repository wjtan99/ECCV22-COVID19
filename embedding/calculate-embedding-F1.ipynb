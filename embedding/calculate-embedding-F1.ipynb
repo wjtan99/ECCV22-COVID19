{
 "cells": [
  {
   "cell_type": "code",
   "execution_count": 1,
   "id": "greenhouse-greeting",
   "metadata": {},
   "outputs": [],
   "source": [
    "import os\n",
    "import cv2\n",
    "import numpy as np\n",
    "import matplotlib.pyplot as plt\n",
    "import shutil\n",
    "import tqdm "
   ]
  },
  {
   "cell_type": "code",
   "execution_count": 2,
   "id": "aggregate-neighborhood",
   "metadata": {},
   "outputs": [],
   "source": [
    "from sklearn.metrics import f1_score, precision_recall_curve"
   ]
  },
  {
   "cell_type": "code",
   "execution_count": 44,
   "id": "capital-annotation",
   "metadata": {},
   "outputs": [
    {
     "name": "stdout",
     "output_type": "stream",
     "text": [
      "['val_covid_ct_scan_0,0,0,2.498,-1.985,0,2.507,-1.994,0,2.518,-2.020,0,2.545,-2.029,0,2.459,-2.133', 'val_covid_ct_scan_1,0,0,2.485,-2.129,0,2.422,-2.062,0,2.501,-2.130,0,2.522,-2.174,0,2.011,-1.827', 'val_covid_ct_scan_2,0,0,1.184,-1.170', 'val_covid_ct_scan_3,0,0,2.243,-1.944', 'val_covid_ct_scan_4,0,0,2.168,-1.934,0,2.060,-1.838', 'val_covid_ct_scan_5,0,0,1.991,-1.824,0,1.958,-1.843,0,2.140,-1.946,0,1.935,-1.823,0,0.619,-0.570', 'val_covid_ct_scan_6,0,0,2.793,-2.319,0,2.803,-2.306,0,2.830,-2.345,0,2.777,-2.292,0,2.751,-2.275,0,2.808,-2.372', 'val_covid_ct_scan_7,0,0,2.886,-2.336', 'val_covid_ct_scan_8,0,0,2.409,-2.249', 'val_covid_ct_scan_9,0,0,1.849,-1.707,0,1.951,-1.689,0,1.864,-1.610,0,1.933,-1.656,1,-0.131,0.641']\n",
      "374 374\n",
      "0.9064171122994652 0.9049154844661393\n",
      "['test_subset1_3ea85c05-2cd1-4b5a-822f-3985b0e06867,0,1,-0.489,0.341,0,0.191,-0.353,1,-0.364,0.436,1,-0.853,0.927,1,-2.605,2.107', 'test_subset1_2c442cd2-0abd-4ebd-9223-ff7ee8e9953c,0,1,-4.329,4.130,1,-4.329,4.130', 'test_subset1_3c5a2a48-0a9b-42f1-9e1c-e90fe209d179,0,1,-2.163,1.977', 'test_subset1_0c000b69-41de-41cd-b498-37d993c94366,0,1,-1.647,1.302,1,-1.801,1.470,1,-0.845,0.471,1,-1.129,0.883,1,-0.690,0.361,1,-1.730,1.799', 'test_subset1_4a81f8d8-e255-44ff-81d1-717868e7b381,0,1,-1.164,1.293,1,-1.217,1.225,1,-2.217,2.167,1,-2.243,2.251,1,-3.538,3.680', 'test_subset1_4a1509c1-a588-4f95-a167-96a724f2ce22,0,0,1.023,-0.701,0,0.974,-0.509,0,0.906,-0.529,0,0.771,-0.432,1,-0.247,0.287', 'test_subset1_2f9fe28a-9c06-4604-847a-4830163650f6,0,1,-0.261,-0.045,0,0.048,-0.247,0,0.268,-0.485,0,0.229,-0.279,0,0.202,-0.304,1,-3.861,3.691', 'test_subset1_03c094cc-b595-4fc9-b21d-66a7d5d7bee9,0,1,-3.009,3.261,1,-3.585,3.661,1,-3.204,3.383,1,-1.902,1.904,1,-4.407,4.051', 'test_subset1_2b662269-06f5-4ab6-9f74-4b0f1c30e104,0,1,-3.048,3.311,1,-2.941,3.143,1,-3.084,3.346,1,-3.680,3.802', 'test_subset1_2ff9dd43-c4b1-4bf5-820b-7f21b895c80c,0,1,-3.842,3.789,1,-3.864,3.961,1,-3.922,4.008']\n",
      "3455 3455\n",
      "0.19652677279305356 0.16424770198355104\n"
     ]
    }
   ],
   "source": [
    "subsets = ['val','test']\n",
    "threshold = 0.5\n",
    "\n",
    "for subset in subsets: \n",
    "    result_file = 'Embedding-{}-results.txt'.format(subset)\n",
    "    fp = open(result_file)\n",
    "    lines = fp.readlines() \n",
    "    lines = [x.strip() for x in lines]\n",
    "    fp.close()\n",
    "    print(lines[:10])\n",
    "    \n",
    "    y_true = []\n",
    "    y_pred = [] \n",
    "    y_prob = [] \n",
    "\n",
    "    covid_ids = [] \n",
    "    non_covid_ids = []     \n",
    "    for l in lines: \n",
    "        l_splits = l.split(',') \n",
    "        #print(l_splits)    \n",
    "        #change covid class label to 1 \n",
    "        truth = int(l_splits[1])\n",
    "        #print(truth)\n",
    "        y_true.append(truth)\n",
    "        \n",
    "        num_preds = int((len(l_splits)-2)/3)\n",
    "        prob0s = [] \n",
    "        preds = [] \n",
    "        for i in range(num_preds):        \n",
    "            pred = int(l_splits[2+3*i])        \n",
    "            s0 = float(l_splits[2+3*i+1])\n",
    "            s1 = float(l_splits[2+3*i+2])        \n",
    "            prob0 = np.exp(s0)/(np.exp(s0)+np.exp(s1)) \n",
    "            preds.append(pred)\n",
    "            prob0s.append(prob0)\n",
    "        \n",
    "        prob0s = np.asarray(prob0s)    \n",
    "        prob0s_avg = np.mean(prob0s)    \n",
    "        pred2 = (prob0s_avg < threshold).astype(np.uint8) \n",
    "        #print(true, pred2, preds, prob0s)\n",
    "        y_pred.append(pred2) \n",
    "        y_prob.append(prob0s_avg)   \n",
    "        #input('dbg')\n",
    "        if pred2==0:\n",
    "            covid_ids.append(l_splits[0])\n",
    "        else: \n",
    "            non_covid_ids.append(l_splits[0])\n",
    "    \n",
    "    y_pred = np.asarray(y_pred)\n",
    "    y_true = np.asarray(y_true)\n",
    "    y_prob = np.asarray(y_prob)\n",
    "        \n",
    "    print(len(y_true),len(y_pred))\n",
    "        \n",
    "    F1_1 = f1_score(y_true, y_pred, average='micro')\n",
    "    F1_2 = f1_score(y_true, y_pred, average='macro')\n",
    "    print(F1_1,F1_2)\n",
    "    \n",
    "    fp = open('Embedding-{}-{}-covid.csv'.format(threshold,subset),'w')    \n",
    "    len_covid = len(covid_ids) \n",
    "    for i in range(len_covid): \n",
    "        \n",
    "        if subset==\"test\":\n",
    "            ids = covid_ids[i].split(',')[0].split('_')[-1].split('.')[0]        \n",
    "        else:\n",
    "            ids = covid_ids[i][4:]        \n",
    "        #print(covid_ids[i],ids)   \n",
    "            \n",
    "        if i<len_covid-1:\n",
    "            fp.write('{},'.format(ids))\n",
    "        else:\n",
    "            fp.write('{}'.format(ids))\n",
    "    fp.close() \n",
    "\n",
    "    fp = open('Embedding-{}-{}-non-covid.csv'.format(threshold,subset),'w')\n",
    "    len_non_covid = len(non_covid_ids) \n",
    "    for i in range(len_non_covid):\n",
    "        if subset==\"test\":\n",
    "            ids = non_covid_ids[i].split(',')[0].split('_')[-1].split('.')[0]        \n",
    "        else:\n",
    "            ids = non_covid_ids[i][4:]\n",
    "\n",
    "        if i<len_non_covid-1:\n",
    "            fp.write('{},'.format(ids))\n",
    "        else:\n",
    "            fp.write('{}'.format(ids))\n",
    "    fp.close() \n",
    "    "
   ]
  },
  {
   "cell_type": "code",
   "execution_count": null,
   "id": "suited-oakland",
   "metadata": {},
   "outputs": [],
   "source": []
  }
 ],
 "metadata": {
  "kernelspec": {
   "display_name": "Python 3",
   "language": "python",
   "name": "python3"
  },
  "language_info": {
   "codemirror_mode": {
    "name": "ipython",
    "version": 3
   },
   "file_extension": ".py",
   "mimetype": "text/x-python",
   "name": "python",
   "nbconvert_exporter": "python",
   "pygments_lexer": "ipython3",
   "version": "3.7.6"
  }
 },
 "nbformat": 4,
 "nbformat_minor": 5
}
