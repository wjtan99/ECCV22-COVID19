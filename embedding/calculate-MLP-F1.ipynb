{
 "cells": [
  {
   "cell_type": "code",
   "execution_count": 1,
   "id": "adaptive-server",
   "metadata": {},
   "outputs": [],
   "source": [
    "import os\n",
    "import cv2\n",
    "import numpy as np\n",
    "import matplotlib.pyplot as plt\n",
    "import shutil\n",
    "import tqdm "
   ]
  },
  {
   "cell_type": "code",
   "execution_count": 2,
   "id": "floppy-immunology",
   "metadata": {},
   "outputs": [],
   "source": [
    "from sklearn.metrics import f1_score, precision_recall_curve\n"
   ]
  },
  {
   "cell_type": "code",
   "execution_count": 44,
   "id": "grave-toilet",
   "metadata": {},
   "outputs": [
    {
     "name": "stdout",
     "output_type": "stream",
     "text": [
      "['features_val_non-covid_ct_scan_32.pkl,1,1,-1.788,2.226', 'features_val_non-covid_ct_scan_134.pkl,1,1,-1.252,1.683', 'features_val_non-covid_ct_scan_193.pkl,1,1,-1.790,2.228', 'features_val_non-covid_ct_scan_156.pkl,1,0,1.814,-1.348', 'features_val_covid_ct_scan_3.pkl,0,0,2.452,-2.020', 'features_val_covid_ct_scan_68.pkl,0,0,2.445,-2.013', 'features_val_non-covid_ct_scan_55.pkl,1,1,-1.794,2.232', 'features_val_non-covid_ct_scan_50.pkl,1,1,-1.165,1.580', 'features_val_non-covid_ct_scan_173.pkl,1,0,0.379,0.073', 'features_val_non-covid_ct_scan_84.pkl,1,1,-1.770,2.208']\n",
      "0.9197860962566845 0.9185540069686411\n",
      "['features_test_subset7_a442e0ea-acf6-450f-8476-50a6b0aab1e8.pkl,0,0,2.489,-2.058', 'features_test_subset1_3d1265e7-cd86-4c77-bbf4-4bb24a3223dc.pkl,0,1,-1.780,2.218', 'features_test_subset8_cf37ec9e-98e9-4bc2-aa68-248edc41ddd6.pkl,0,1,-1.726,2.165', 'features_test_subset6_28318d31-b51c-4e22-bd8f-c3be69640ffd.pkl,0,1,-1.781,2.219', 'features_test_subset3_9d3e899d-fbc7-4868-a354-69f55afac83d.pkl,0,0,0.727,-0.253', 'features_test_subset1_3ff96eec-a9e9-4c20-9d3a-a218cce5d278.pkl,0,1,-1.756,2.194', 'features_test_subset5_732e2951-59e5-4a87-acfa-8b4e2c0a15f4.pkl,0,1,-1.264,1.704', 'features_test_subset2_5c80335f-a9a6-4b81-99f3-6690e5697465.pkl,0,1,-1.724,2.162', 'features_test_subset8_c6242e0b-6273-4942-95f6-982abe17e89d.pkl,0,1,-1.149,1.577', 'features_test_subset5_6526e24e-b411-4e03-999c-fc6990fa2e18.pkl,0,1,-1.794,2.232']\n",
      "0.1777134587554269 0.1508970262963873\n"
     ]
    }
   ],
   "source": [
    "subsets = ['validate','test']\n",
    "threshold = 0.5\n",
    "\n",
    "for subset in subsets: \n",
    "    result_file = 'MLP-{}-results.txt'.format(subset)\n",
    "    fp = open(result_file)\n",
    "    lines = fp.readlines() \n",
    "    lines = [x.strip() for x in lines]\n",
    "    fp.close()\n",
    "    print(lines[:10])\n",
    "    \n",
    "    y_true = []\n",
    "    y_pred = [] \n",
    "    y_prob = [] \n",
    "    \n",
    "    covid_ids = [] \n",
    "    non_covid_ids = [] \n",
    "\n",
    "    for l in lines: \n",
    "        l_splits = l.split(',') \n",
    "        #print(l_splits)\n",
    "        \n",
    "        #change covid class label to 1 \n",
    "        y_true.append(int(l_splits[1]))    \n",
    "        \n",
    "        prob0 = float(l_splits[3])\n",
    "        prob1 = float(l_splits[4])\n",
    "\n",
    "        score = np.exp(prob0)/(np.exp(prob0)+np.exp(prob1))        \n",
    "        pred2 = (score < threshold).astype(np.uint8)\n",
    "        \n",
    "        #y_pred.append(int(l_splits[2])) \n",
    "        y_pred.append(pred2) \n",
    "        y_prob.append(score)\n",
    "        \n",
    "        if pred2==0:\n",
    "            covid_ids.append(l_splits[0])\n",
    "        else: \n",
    "            non_covid_ids.append(l_splits[0])\n",
    "            \n",
    "    y_pred = np.asarray(y_pred)\n",
    "    y_true = np.asarray(y_true)\n",
    "    y_prob = np.asarray(y_prob)\n",
    "\n",
    "    F1_1 = f1_score(y_true, y_pred, average='micro')\n",
    "    F1_2 = f1_score(y_true, y_pred, average='macro')\n",
    "    print(F1_1,F1_2)\n",
    "    \n",
    "    fp = open('MLP-{}-{}-covid.csv'.format(threshold,subset),'w')    \n",
    "    len_covid = len(covid_ids) \n",
    "    for i in range(len_covid): \n",
    "        if subset==\"test\":\n",
    "            ids = covid_ids[i].split(',')[0].split('_')[-1].split('.')[0]        \n",
    "        else:\n",
    "            ids = covid_ids[i][13:-4]\n",
    "        if i<len_covid-1:\n",
    "            fp.write('{},'.format(ids))\n",
    "        else:\n",
    "            fp.write('{}'.format(ids))\n",
    "    fp.close() \n",
    "\n",
    "    fp = open('MLP-{}-{}-non-covid.csv'.format(threshold,subset),'w')\n",
    "    len_non_covid = len(non_covid_ids) \n",
    "    for i in range(len_non_covid):\n",
    "        if subset==\"test\":\n",
    "            ids = non_covid_ids[i].split(',')[0].split('_')[-1].split('.')[0]        \n",
    "        else:\n",
    "            ids = non_covid_ids[i][13:-4]\n",
    "\n",
    "        if i<len_non_covid-1:\n",
    "            fp.write('{},'.format(ids))\n",
    "        else:\n",
    "            fp.write('{}'.format(ids))\n",
    "    fp.close() \n",
    "    \n",
    "    "
   ]
  },
  {
   "cell_type": "code",
   "execution_count": null,
   "id": "loaded-sensitivity",
   "metadata": {},
   "outputs": [],
   "source": []
  }
 ],
 "metadata": {
  "kernelspec": {
   "display_name": "Python 3",
   "language": "python",
   "name": "python3"
  },
  "language_info": {
   "codemirror_mode": {
    "name": "ipython",
    "version": 3
   },
   "file_extension": ".py",
   "mimetype": "text/x-python",
   "name": "python",
   "nbconvert_exporter": "python",
   "pygments_lexer": "ipython3",
   "version": "3.7.6"
  }
 },
 "nbformat": 4,
 "nbformat_minor": 5
}
