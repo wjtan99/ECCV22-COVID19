{
 "cells": [
  {
   "cell_type": "code",
   "execution_count": 1,
   "metadata": {},
   "outputs": [],
   "source": [
    "import os\n",
    "import cv2\n",
    "import numpy as np\n",
    "import matplotlib.pyplot as plt\n",
    "import shutil\n",
    "import tqdm \n",
    "from sklearn.metrics import f1_score, precision_recall_curve"
   ]
  },
  {
   "cell_type": "code",
   "execution_count": 10,
   "metadata": {},
   "outputs": [],
   "source": [
    "def F1_validate(fn):  \n",
    "\n",
    "    fp = open(fn)\n",
    "    lines = fp.readlines() \n",
    "    lines = [x.strip() for x in lines]\n",
    "    fp.close()\n",
    "    #print(lines[:10])\n",
    "    \n",
    "    y_true = []\n",
    "    y_pred = [] \n",
    "    y_prob = [] \n",
    "    \n",
    "    covid_ids = [] \n",
    "    non_covid_ids = [] \n",
    "\n",
    "    for l in lines: \n",
    "        l_splits = l.split(',') \n",
    "        #print(l_splits)\n",
    "        \n",
    "        #covid class label is 0 \n",
    "        y_true.append(int(l_splits[1]))  \n",
    "        pred = int(l_splits[2])\n",
    "        y_pred.append(pred)   \n",
    "               \n",
    "        prob_tmp = l_splits[3][1:-1].split(' ')         \n",
    "        prob_tmp = [x for x in prob_tmp if x!= '']        \n",
    "        #print(prob_tmp)        \n",
    "        prob = (float(prob_tmp[0]),float(prob_tmp[1]),float(prob_tmp[2]),float(prob_tmp[3]))\n",
    "        \n",
    "        y_prob.append(prob)\n",
    "\n",
    "    y_true = np.asarray(y_true)\n",
    "    y_pred = np.asarray(y_pred)\n",
    "\n",
    "\n",
    "    F1 = f1_score(y_true, y_pred, average='macro')\n",
    "    print(F1)\n",
    "    \n",
    "    return F1, y_true, y_pred, y_prob \n"
   ]
  },
  {
   "cell_type": "code",
   "execution_count": 11,
   "metadata": {},
   "outputs": [
    {
     "name": "stdout",
     "output_type": "stream",
     "text": [
      "0.6871091871091871\n"
     ]
    }
   ],
   "source": [
    "fn1 = 'BERT-feature-validate-results-split1-122_68.217054_68.852458_checkpoint.pth.tar.txt'\n",
    "F1, y_true,y_pred,y_prob = F1_validate(fn1)\n",
    "\n"
   ]
  },
  {
   "cell_type": "code",
   "execution_count": 14,
   "metadata": {},
   "outputs": [],
   "source": [
    "def predict_test(fn):  \n",
    "\n",
    "    fp = open(fn)\n",
    "    lines = fp.readlines() \n",
    "    lines = [x.strip() for x in lines]\n",
    "    fp.close()\n",
    "    #print(lines[:10])\n",
    "\n",
    "    y_ids = [] \n",
    "    y_true = []\n",
    "    y_pred = [] \n",
    "    y_prob = [] \n",
    "    \n",
    "\n",
    "    for l in lines: \n",
    "        l_splits = l.split(',') \n",
    "        #print(l_splits)\n",
    "        \n",
    "        y_ids.append(l_splits[0].split('/')[-1])\n",
    "        \n",
    "        pred = int(l_splits[2])\n",
    "        y_pred.append(pred)   \n",
    "               \n",
    "        prob_tmp = l_splits[3][1:-1].split(' ')         \n",
    "        prob_tmp = [x for x in prob_tmp if x!= '']        \n",
    "        #print(prob_tmp)        \n",
    "        prob = (float(prob_tmp[0]),float(prob_tmp[1]),float(prob_tmp[2]),float(prob_tmp[3]))\n",
    "        \n",
    "        y_prob.append(prob)\n",
    "\n",
    "\n",
    "    y_pred = np.asarray(y_pred)\n",
    "\n",
    "   \n",
    "    return  y_ids, y_pred, y_prob "
   ]
  },
  {
   "cell_type": "code",
   "execution_count": 15,
   "metadata": {},
   "outputs": [],
   "source": [
    "fn1 = 'BERT-feature-test-results-split1-122_68.217054_68.852458_checkpoint.pth.tar.txt'\n",
    "y_ids, y_pred,y_prob = predict_test(fn1)\n"
   ]
  },
  {
   "cell_type": "code",
   "execution_count": 17,
   "metadata": {},
   "outputs": [],
   "source": [
    "mild_ids = [] \n",
    "moderate_ids = [] \n",
    "severe_ids = [] \n",
    "critical_ids = [] \n",
    "for i in range(len(y_ids)):\n",
    "    if y_pred[i] == 0:\n",
    "        mild_ids.append(y_ids[i])\n",
    "    elif y_pred[i] == 1:\n",
    "        moderate_ids.append(y_ids[i])\n",
    "    elif y_pred[i] == 2:\n",
    "        severe_ids.append(y_ids[i])\n",
    "    else :\n",
    "        critical_ids.append(y_ids[i])        \n"
   ]
  },
  {
   "cell_type": "code",
   "execution_count": 18,
   "metadata": {},
   "outputs": [],
   "source": [
    "fp = open('submission/mild.csv','w')\n",
    "for id in mild_ids:\n",
    "    fp.write(\"{}\\n\".format(id))\n",
    "fp.close()\n",
    "\n",
    "fp = open('submission/moderate.csv','w')\n",
    "for id in moderate_ids:\n",
    "    fp.write(\"{}\\n\".format(id))\n",
    "fp.close()\n",
    "\n",
    "fp = open('submission/severe.csv','w')\n",
    "for id in severe_ids:\n",
    "    fp.write(\"{}\\n\".format(id))\n",
    "fp.close()\n",
    "\n",
    "fp = open('submission/critical.csv','w')\n",
    "for id in critical_ids:\n",
    "    fp.write(\"{}\\n\".format(id))\n",
    "fp.close()\n",
    "\n"
   ]
  },
  {
   "cell_type": "code",
   "execution_count": null,
   "metadata": {},
   "outputs": [],
   "source": []
  }
 ],
 "metadata": {
  "kernelspec": {
   "display_name": "Python 3",
   "language": "python",
   "name": "python3"
  },
  "language_info": {
   "codemirror_mode": {
    "name": "ipython",
    "version": 3
   },
   "file_extension": ".py",
   "mimetype": "text/x-python",
   "name": "python",
   "nbconvert_exporter": "python",
   "pygments_lexer": "ipython3",
   "version": "3.7.6"
  }
 },
 "nbformat": 4,
 "nbformat_minor": 5
}
